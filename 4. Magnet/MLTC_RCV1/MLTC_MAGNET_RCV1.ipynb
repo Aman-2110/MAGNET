{
  "cells": [
    {
      "cell_type": "code",
      "execution_count": null,
      "metadata": {
        "id": "0pwlCadyhSVh"
      },
      "outputs": [],
      "source": [
        "import os\n",
        "import csv\n",
        "import pandas as pd\n",
        "import numpy as np\n",
        "import matplotlib.pyplot as plt\n",
        "import seaborn as sns\n",
        "import csv\n",
        "import pickle\n",
        "import time\n",
        "import re\n",
        "from tqdm import tqdm\n",
        "from sklearn import metrics\n",
        "from sklearn.model_selection import train_test_split\n",
        "from sklearn.metrics import classification_report, confusion_matrix, roc_curve, auc\n",
        "from torch.nn.utils import clip_grad_norm_\n",
        "import torch\n",
        "import torch.nn as nn\n",
        "import torch.optim as optim\n",
        "from torch.utils.data import DataLoader, Dataset"
      ]
    },
    {
      "cell_type": "code",
      "source": [
        "from google.colab import drive\n",
        "drive.mount('/content/drive')"
      ],
      "metadata": {
        "colab": {
          "base_uri": "https://localhost:8080/"
        },
        "id": "c2drFDq7n1K3",
        "outputId": "57a6b5fa-6453-4548-aafb-3a523e346f17"
      },
      "execution_count": null,
      "outputs": [
        {
          "output_type": "stream",
          "name": "stdout",
          "text": [
            "Drive already mounted at /content/drive; to attempt to forcibly remount, call drive.mount(\"/content/drive\", force_remount=True).\n"
          ]
        }
      ]
    },
    {
      "cell_type": "code",
      "execution_count": null,
      "metadata": {
        "colab": {
          "base_uri": "https://localhost:8080/"
        },
        "id": "1feTDbxBhSVk",
        "outputId": "afcb132f-514a-44f4-b641-9832f5215bb6"
      },
      "outputs": [
        {
          "output_type": "stream",
          "name": "stdout",
          "text": [
            "Using cuda device\n"
          ]
        }
      ],
      "source": [
        "device = \"cuda\" if torch.cuda.is_available() else \"cpu\"\n",
        "print(f\"Using {device} device\")"
      ]
    },
    {
      "cell_type": "code",
      "execution_count": null,
      "metadata": {
        "id": "JSQMLVazhSVm"
      },
      "outputs": [],
      "source": [
        "SEED = 1234\n",
        "\n",
        "np.random.seed(SEED)\n",
        "torch.manual_seed(SEED)\n",
        "torch.cuda.manual_seed(SEED)\n",
        "\n",
        "torch.backends.cudnn.deterministic = True"
      ]
    },
    {
      "cell_type": "code",
      "source": [
        "with open('/content/drive/MyDrive/rcv1_X_train.pickle', 'rb') as f:\n",
        "    X_train = pickle.load(f)\n",
        "\n",
        "with open('/content/drive/MyDrive/rcv1_y_train.pickle', 'rb') as f:\n",
        "    y_train = pickle.load(f)"
      ],
      "metadata": {
        "id": "TspBrLQrl17F"
      },
      "execution_count": null,
      "outputs": []
    },
    {
      "cell_type": "code",
      "source": [
        "X_train, X_test, y_train, y_test = train_test_split(X_train, y_train, test_size=0.2, random_state=42)\n",
        "X_train, X_val, y_train, y_val = train_test_split(X_train, y_train, test_size=0.2, random_state=42)"
      ],
      "metadata": {
        "id": "Sw633s8nm2CB"
      },
      "execution_count": null,
      "outputs": []
    },
    {
      "cell_type": "code",
      "execution_count": null,
      "metadata": {
        "colab": {
          "base_uri": "https://localhost:8080/"
        },
        "id": "27pMMUljhSVs",
        "outputId": "dc4fb991-3917-4d40-845f-5604c36e25e3"
      },
      "outputs": [
        {
          "output_type": "stream",
          "name": "stdout",
          "text": [
            "(514824, 200) (514824, 103)\n",
            "(128707, 200) (128707, 103)\n",
            "(160883, 200) (160883, 103)\n"
          ]
        }
      ],
      "source": [
        "print(X_train.shape, y_train.shape)\n",
        "print(X_val.shape, y_val.shape)\n",
        "print(X_test.shape, y_test.shape)"
      ]
    },
    {
      "cell_type": "code",
      "execution_count": null,
      "metadata": {
        "id": "QCallH4QhSVt"
      },
      "outputs": [],
      "source": [
        "class CustomDataset(Dataset):\n",
        "    def __init__(self, sequence, labels):\n",
        "        self.sequence = sequence\n",
        "        self.labels = labels\n",
        "\n",
        "    def __len__(self):\n",
        "        return len(self.sequence)\n",
        "\n",
        "    def __getitem__(self, idx):\n",
        "        sequence_in = torch.tensor(self.sequence[idx])\n",
        "        output_label = torch.tensor(self.labels[idx]).float()\n",
        "        return sequence_in, output_label"
      ]
    },
    {
      "cell_type": "code",
      "execution_count": null,
      "metadata": {
        "id": "9LX4l5sdhSVt"
      },
      "outputs": [],
      "source": [
        "batch_size = 128\n",
        "\n",
        "dataset_train = CustomDataset(X_train, y_train)\n",
        "dataloader_train = DataLoader(dataset_train, batch_size=batch_size, shuffle=True)\n",
        "\n",
        "dataset_val = CustomDataset(X_val, y_val)\n",
        "dataloader_val = DataLoader(dataset_val, batch_size=batch_size, shuffle=True)\n",
        "\n",
        "dataset_test = CustomDataset(X_test, y_test)\n",
        "dataloader_test = DataLoader(dataset_test, batch_size=batch_size, shuffle=True)"
      ]
    },
    {
      "cell_type": "code",
      "execution_count": null,
      "metadata": {
        "id": "tGqpKCmAhSVu"
      },
      "outputs": [],
      "source": [
        "class GraphAttentionLayer(nn.Module):\n",
        "    def __init__(self, in_features, out_features, slope):\n",
        "        super(GraphAttentionLayer, self).__init__()\n",
        "        self.W = nn.Linear(in_features, out_features, bias=False)\n",
        "        self.a = nn.Linear(out_features * 2, 1, bias=False)\n",
        "        self.leakyrelu = nn.LeakyReLU(slope)\n",
        "        self.softmax = nn.Softmax(dim=1)\n",
        "\n",
        "    def forward(self, h, adj):\n",
        "        Wh = self.W(h)\n",
        "        num_nodes = Wh.size(0)\n",
        "        Whi = Wh.repeat_interleave(num_nodes, dim=0)\n",
        "        Whj = Wh.repeat(num_nodes, 1)\n",
        "        WhiWhj = torch.cat([Whi, Whj], dim=1)\n",
        "        Whcat = WhiWhj.view(num_nodes, num_nodes, Wh.size(1) * 2)\n",
        "        e = self.leakyrelu(self.a(Whcat).squeeze(2))\n",
        "        zero_vec = -9e15 * torch.ones_like(e)\n",
        "        attention = torch.where(adj > 0, e, zero_vec)\n",
        "        attention = self.softmax(attention)\n",
        "        h_hat = torch.mm(attention, Wh)\n",
        "        return h_hat\n",
        "\n",
        "\n",
        "class MAGNET(nn.Module):\n",
        "    def __init__(\n",
        "        self,\n",
        "        input_size,\n",
        "        hidden_size,\n",
        "        adjacency_matrix,\n",
        "        num_heads=4,\n",
        "        slope=0.01,\n",
        "        dropout=0.5,\n",
        "    ):\n",
        "\n",
        "        super(MAGNET, self).__init__()\n",
        "        \n",
        "        self.rnn = nn.LSTM(\n",
        "            input_size, hidden_size, batch_first=True, bidirectional=True\n",
        "        )\n",
        "\n",
        "        self.attentions1 = nn.ModuleList(\n",
        "            [\n",
        "                GraphAttentionLayer(input_size, hidden_size * 2, slope)\n",
        "                for _ in range(num_heads)\n",
        "            ]\n",
        "        )\n",
        "\n",
        "        self.tanh1 = nn.Tanh()\n",
        "\n",
        "        self.attentions2 = nn.ModuleList(\n",
        "            [\n",
        "                GraphAttentionLayer(hidden_size * 2, hidden_size * 2, slope)\n",
        "                for _ in range(num_heads)\n",
        "            ]\n",
        "        )\n",
        "\n",
        "        self.tanh2 = nn.Tanh()\n",
        "\n",
        "        self.adjacency_matrix = nn.Parameter(adjacency_matrix)\n",
        "\n",
        "        self.dropout = nn.Dropout(dropout)\n",
        "\n",
        "    def forward(self, tokens, label_embedding):\n",
        "\n",
        "        tokens = tokens.unsqueeze(1)\n",
        "\n",
        "        lstm_output, (hidden, _) = self.rnn(tokens)\n",
        "\n",
        "        hidden_state = torch.cat([hidden[-2, :, :], hidden[-1, :, :]], dim=1)\n",
        "\n",
        "        hidden_state = self.dropout(hidden_state)\n",
        "\n",
        "        heads_out1 = [\n",
        "            att(label_embedding, self.adjacency_matrix) for att in self.attentions1\n",
        "        ]\n",
        "\n",
        "        head_out1_mean = self.tanh1(torch.stack(heads_out1, dim=0).mean(0))\n",
        "\n",
        "        heads_out2 = [\n",
        "            att(head_out1_mean, self.adjacency_matrix) for att in self.attentions2\n",
        "        ]\n",
        "\n",
        "        head_out2_mean = self.tanh2(torch.stack(heads_out2, dim=0).mean(0))\n",
        "\n",
        "        attention = self.dropout(head_out2_mean)\n",
        "\n",
        "        attention = attention.transpose(0, 1)\n",
        "\n",
        "        output = torch.mm(hidden_state, attention)\n",
        "\n",
        "        return output"
      ]
    },
    {
      "cell_type": "code",
      "execution_count": null,
      "metadata": {
        "id": "EU-2g0i2hSVu"
      },
      "outputs": [],
      "source": [
        "def train_model(model, label_embedding, loss_function, optimizer, epochs, device, model_path):\n",
        "\n",
        "    train_loss, val_loss = [], []\n",
        "    total_time = 0\n",
        "    min_average_loss = float('inf')\n",
        "    \n",
        "    for epoch in range(epochs):\n",
        "        start_time = time.time()\n",
        "\n",
        "        print(\"Epoch : \", epoch + 1)\n",
        "\n",
        "        model.to(device)\n",
        "        model.train()\n",
        "        total_train_loss = 0\n",
        "        y_true_train, y_pred_train = [], []\n",
        "        for batch in tqdm(dataloader_train, desc='Training'):\n",
        "            sequence_in, output_label = batch\n",
        "            sequence_in, output_label = sequence_in.to(device).float(), output_label.to(device)\n",
        "\n",
        "            model.zero_grad()\n",
        "            pred_batch = model(sequence_in, label_embedding)\n",
        "            loss = loss_function(pred_batch, output_label)\n",
        "            total_train_loss += loss.item()\n",
        "            \n",
        "            y_true_train.extend(output_label.cpu().detach().numpy().tolist())\n",
        "            y_pred_train.extend(torch.sigmoid(pred_batch.cpu().detach()).numpy().tolist())\n",
        "\n",
        "            loss.backward()\n",
        "            clip_grad_norm_(model.parameters(), max_norm=10)\n",
        "            optimizer.step()\n",
        "        \n",
        "        model.eval()    \n",
        "\n",
        "        total_val_loss = 0\n",
        "        y_true_val, y_pred_val = [], []\n",
        "        with torch.no_grad():\n",
        "            for batch in tqdm(dataloader_val, desc='Evaluate'):\n",
        "                sequence_in, output_label = batch\n",
        "                sequence_in, output_label = sequence_in.to(device).float(), output_label.to(device)\n",
        "\n",
        "                pred_batch = model(sequence_in, label_embedding)\n",
        "                loss = loss_function(pred_batch, output_label)\n",
        "                total_val_loss += loss.item()\n",
        "\n",
        "                y_true_val.extend(output_label.cpu().detach().numpy().tolist())\n",
        "                y_pred_val.extend(torch.sigmoid(pred_batch.cpu().detach()).numpy().tolist())\n",
        "\n",
        "        y_true_train = np.array(y_true_train)\n",
        "        y_pred_train = np.array(y_pred_train)\n",
        "        y_true_val = np.array(y_true_val)\n",
        "        y_pred_val = np.array(y_pred_val)\n",
        "\n",
        "        y_pred_train = y_pred_train >= 0.5\n",
        "        y_pred_val = y_pred_val >= 0.5\n",
        "\n",
        "        train_f1_score_micro = metrics.f1_score(y_true_train, y_pred_train, average='micro')\n",
        "        val_f1_score_micro = metrics.f1_score(y_true_val, y_pred_val, average='micro')\n",
        "\n",
        "        average_train_loss = float(total_train_loss / len(dataloader_train))\n",
        "        average_val_loss = float(total_val_loss / len(dataloader_val))\n",
        "\n",
        "        print('Train F1 Score (Micro)', train_f1_score_micro)\n",
        "        print('Val F1 Score (Micro)', val_f1_score_micro)\n",
        "        print('Train loss', average_train_loss)\n",
        "        print('Val loss', average_val_loss)\n",
        "\n",
        "        train_loss.append(average_train_loss)\n",
        "        val_loss.append(average_val_loss)\n",
        "\n",
        "        if average_val_loss < min_average_loss:\n",
        "            min_average_loss = average_val_loss\n",
        "            torch.save(model,\"/content/drive/MyDrive/MLTC_RCV1/\" + model_path)\n",
        "            print(\"Best model saved\")\n",
        "            \n",
        "        print(\"------------------------------------------------\")\n",
        "\n",
        "        end_time = time.time()\n",
        "        epoch_time = end_time - start_time\n",
        "        total_time += epoch_time\n",
        "\n",
        "    avg_epoch_time = total_time / epochs\n",
        "    return train_loss, val_loss, avg_epoch_time"
      ]
    },
    {
      "cell_type": "code",
      "source": [
        "def buildAdjacencyCOOC(data_label):\n",
        "  adj = data_label.T.dot(data_label).astype('float')\n",
        "  \n",
        "  for i in range(len(adj)):\n",
        "    adj[i] = adj[i] / adj[i,i]\n",
        "  \n",
        "  return torch.from_numpy(adj.astype('float32'))"
      ],
      "metadata": {
        "id": "gHm3b4clqU-D"
      },
      "execution_count": null,
      "outputs": []
    },
    {
      "cell_type": "code",
      "source": [
        "adjacency = buildAdjacencyCOOC(y_train)"
      ],
      "metadata": {
        "id": "_yvEueb7qZWF",
        "colab": {
          "base_uri": "https://localhost:8080/"
        },
        "outputId": "bb619f69-9445-4f6a-96ec-ec5f690ec67f"
      },
      "execution_count": null,
      "outputs": [
        {
          "output_type": "stream",
          "name": "stderr",
          "text": [
            "<ipython-input-44-7a3abe70c02c>:5: RuntimeWarning: divide by zero encountered in true_divide\n",
            "  adj[i] = adj[i] / adj[i,i]\n",
            "<ipython-input-44-7a3abe70c02c>:5: RuntimeWarning: invalid value encountered in true_divide\n",
            "  adj[i] = adj[i] / adj[i,i]\n"
          ]
        }
      ]
    },
    {
      "cell_type": "code",
      "source": [
        "# import zipfile\n",
        "\n",
        "# with zipfile.ZipFile('/content/drive/MyDrive/glove.6B.200d.txt.zip', 'r') as zip_ref:\n",
        "#     zip_ref.extractall('/content/drive/MyDrive/')"
      ],
      "metadata": {
        "id": "g0RoHNRr8FPx"
      },
      "execution_count": null,
      "outputs": []
    },
    {
      "cell_type": "code",
      "source": [
        "def load_embeddings(embeddings_file):\n",
        "    embeddings_index = {}\n",
        "    with open(embeddings_file, encoding='utf-8') as f:\n",
        "        for line in f:\n",
        "            values = line.split()\n",
        "            word = values[0]\n",
        "            coefs = np.asarray(values[1:], dtype='float32')\n",
        "            embeddings_index[word] = coefs\n",
        "    return embeddings_index\n",
        "\n",
        "embeddings_file = '/content/drive/MyDrive/glove.6B.200d.txt'\n",
        "embeddings_index = load_embeddings(embeddings_file)"
      ],
      "metadata": {
        "id": "IhI1PGFxoLru"
      },
      "execution_count": null,
      "outputs": []
    },
    {
      "cell_type": "code",
      "source": [
        "with open('/content/drive/MyDrive/rcv1_labels.pickle', 'rb') as f:\n",
        "    labels = pickle.load(f).values()"
      ],
      "metadata": {
        "id": "fDwon32uoSSW"
      },
      "execution_count": null,
      "outputs": []
    },
    {
      "cell_type": "code",
      "source": [
        "label_embedding = torch.zeros(103, 200)\n",
        "\n",
        "for index, label in enumerate(labels):\n",
        "  words = re.split('[ /]', label.lower())\n",
        "  num_of_words = len(words)\n",
        "  \n",
        "  for sublabel in words:\n",
        "    if sublabel in embeddings_index.keys():\n",
        "      label_embedding[index] +=  torch.from_numpy(embeddings_index[sublabel])\n",
        "  label_embedding[index] = label_embedding[index]/num_of_words\n",
        "\n",
        "label_embedding = label_embedding.float().to(device)\n",
        "print(label_embedding, label_embedding.shape)"
      ],
      "metadata": {
        "colab": {
          "base_uri": "https://localhost:8080/"
        },
        "id": "-wz8zZcqnwo0",
        "outputId": "dd404ab0-3cf6-4583-cb20-75f12983d23f"
      },
      "execution_count": null,
      "outputs": [
        {
          "output_type": "stream",
          "name": "stdout",
          "text": [
            "tensor([[-0.2194, -0.1308, -0.1012,  ..., -0.2043,  0.5274,  0.3297],\n",
            "        [-0.2067,  0.1685,  0.1049,  ..., -0.2648,  0.2501,  0.2149],\n",
            "        [-0.2471,  0.2324,  0.3084,  ...,  0.0961, -0.2690, -0.0032],\n",
            "        ...,\n",
            "        [ 0.2882,  0.8046, -0.2550,  ...,  0.0651,  0.6155,  0.0928],\n",
            "        [ 0.4567,  0.4979,  0.1550,  ...,  0.2110, -0.0525,  0.3304],\n",
            "        [ 0.6686,  0.8821,  0.0706,  ...,  0.2025,  0.1855,  0.5253]],\n",
            "       device='cuda:0') torch.Size([103, 200])\n"
          ]
        }
      ]
    },
    {
      "cell_type": "code",
      "source": [
        "with open('/content/drive/MyDrive/MLTC_RCV1/label_embedding.pkl', 'wb') as f:\n",
        "    pickle.dump(label_embedding, f)"
      ],
      "metadata": {
        "id": "I8V_7tzAymte"
      },
      "execution_count": null,
      "outputs": []
    },
    {
      "cell_type": "code",
      "execution_count": null,
      "metadata": {
        "colab": {
          "base_uri": "https://localhost:8080/"
        },
        "id": "UzzPEMUfhSVu",
        "outputId": "c1d37ff1-f936-4273-8879-fb18a3a250ba"
      },
      "outputs": [
        {
          "output_type": "stream",
          "name": "stdout",
          "text": [
            "Epoch :  1\n"
          ]
        },
        {
          "output_type": "stream",
          "name": "stderr",
          "text": [
            "Training: 100%|██████████| 4023/4023 [01:39<00:00, 40.36it/s]\n",
            "Evaluate: 100%|██████████| 1006/1006 [00:15<00:00, 65.45it/s]\n"
          ]
        },
        {
          "output_type": "stream",
          "name": "stdout",
          "text": [
            "Train F1 Score (Micro) 0.40843729994082106\n",
            "Val F1 Score (Micro) 0.5945115995214563\n",
            "Train loss 0.08591950068534117\n",
            "Val loss 0.05792215867542012\n",
            "Best model saved\n",
            "------------------------------------------------\n",
            "Epoch :  2\n"
          ]
        },
        {
          "output_type": "stream",
          "name": "stderr",
          "text": [
            "Training: 100%|██████████| 4023/4023 [01:38<00:00, 40.65it/s]\n",
            "Evaluate: 100%|██████████| 1006/1006 [00:16<00:00, 60.34it/s]\n"
          ]
        },
        {
          "output_type": "stream",
          "name": "stdout",
          "text": [
            "Train F1 Score (Micro) 0.6005908019146817\n",
            "Val F1 Score (Micro) 0.6513249501114703\n",
            "Train loss 0.06248360764575099\n",
            "Val loss 0.04945943650472946\n",
            "Best model saved\n",
            "------------------------------------------------\n",
            "Epoch :  3\n"
          ]
        },
        {
          "output_type": "stream",
          "name": "stderr",
          "text": [
            "Training: 100%|██████████| 4023/4023 [01:37<00:00, 41.37it/s]\n",
            "Evaluate: 100%|██████████| 1006/1006 [00:16<00:00, 60.68it/s]\n"
          ]
        },
        {
          "output_type": "stream",
          "name": "stdout",
          "text": [
            "Train F1 Score (Micro) 0.6470836459623399\n",
            "Val F1 Score (Micro) 0.7379630171163165\n",
            "Train loss 0.05727929555540828\n",
            "Val loss 0.04074227452744724\n",
            "Best model saved\n",
            "------------------------------------------------\n",
            "Epoch :  4\n"
          ]
        },
        {
          "output_type": "stream",
          "name": "stderr",
          "text": [
            "Training: 100%|██████████| 4023/4023 [01:38<00:00, 41.02it/s]\n",
            "Evaluate: 100%|██████████| 1006/1006 [00:16<00:00, 60.99it/s]\n"
          ]
        },
        {
          "output_type": "stream",
          "name": "stdout",
          "text": [
            "Train F1 Score (Micro) 0.7141155144009819\n",
            "Val F1 Score (Micro) 0.7565402392855168\n",
            "Train loss 0.04757531692965867\n",
            "Val loss 0.03697212216505414\n",
            "Best model saved\n",
            "------------------------------------------------\n",
            "Epoch :  5\n"
          ]
        },
        {
          "output_type": "stream",
          "name": "stderr",
          "text": [
            "Training: 100%|██████████| 4023/4023 [01:38<00:00, 40.70it/s]\n",
            "Evaluate: 100%|██████████| 1006/1006 [00:16<00:00, 60.35it/s]\n"
          ]
        },
        {
          "output_type": "stream",
          "name": "stdout",
          "text": [
            "Train F1 Score (Micro) 0.7174160405989493\n",
            "Val F1 Score (Micro) 0.7561837756926524\n",
            "Train loss 0.047163379211242654\n",
            "Val loss 0.036994467669020356\n",
            "------------------------------------------------\n",
            "Epoch :  6\n"
          ]
        },
        {
          "output_type": "stream",
          "name": "stderr",
          "text": [
            "Training: 100%|██████████| 4023/4023 [01:37<00:00, 41.44it/s]\n",
            "Evaluate: 100%|██████████| 1006/1006 [00:16<00:00, 60.83it/s]\n"
          ]
        },
        {
          "output_type": "stream",
          "name": "stdout",
          "text": [
            "Train F1 Score (Micro) 0.7318130128357905\n",
            "Val F1 Score (Micro) 0.7571140927129226\n",
            "Train loss 0.04502218625670993\n",
            "Val loss 0.03620650581682238\n",
            "Best model saved\n",
            "------------------------------------------------\n",
            "Epoch :  7\n"
          ]
        },
        {
          "output_type": "stream",
          "name": "stderr",
          "text": [
            "Training: 100%|██████████| 4023/4023 [01:37<00:00, 41.15it/s]\n",
            "Evaluate: 100%|██████████| 1006/1006 [00:16<00:00, 60.77it/s]\n"
          ]
        },
        {
          "output_type": "stream",
          "name": "stdout",
          "text": [
            "Train F1 Score (Micro) 0.7430423618508681\n",
            "Val F1 Score (Micro) 0.774494083628838\n",
            "Train loss 0.04317480305928793\n",
            "Val loss 0.034236572801355815\n",
            "Best model saved\n",
            "------------------------------------------------\n",
            "Epoch :  8\n"
          ]
        },
        {
          "output_type": "stream",
          "name": "stderr",
          "text": [
            "Training: 100%|██████████| 4023/4023 [01:37<00:00, 41.39it/s]\n",
            "Evaluate: 100%|██████████| 1006/1006 [00:16<00:00, 60.96it/s]\n"
          ]
        },
        {
          "output_type": "stream",
          "name": "stdout",
          "text": [
            "Train F1 Score (Micro) 0.7481118525631199\n",
            "Val F1 Score (Micro) 0.7863102002081257\n",
            "Train loss 0.04229222447570879\n",
            "Val loss 0.03313277851582818\n",
            "Best model saved\n",
            "------------------------------------------------\n",
            "Epoch :  9\n"
          ]
        },
        {
          "output_type": "stream",
          "name": "stderr",
          "text": [
            "Training: 100%|██████████| 4023/4023 [01:37<00:00, 41.16it/s]\n",
            "Evaluate: 100%|██████████| 1006/1006 [00:16<00:00, 59.57it/s]\n"
          ]
        },
        {
          "output_type": "stream",
          "name": "stdout",
          "text": [
            "Train F1 Score (Micro) 0.7524985097901509\n",
            "Val F1 Score (Micro) 0.7879560622761846\n",
            "Train loss 0.041590172674283735\n",
            "Val loss 0.03264598598959254\n",
            "Best model saved\n",
            "------------------------------------------------\n",
            "Epoch :  10\n"
          ]
        },
        {
          "output_type": "stream",
          "name": "stderr",
          "text": [
            "Training: 100%|██████████| 4023/4023 [01:37<00:00, 41.29it/s]\n",
            "Evaluate: 100%|██████████| 1006/1006 [00:16<00:00, 59.53it/s]\n"
          ]
        },
        {
          "output_type": "stream",
          "name": "stdout",
          "text": [
            "Train F1 Score (Micro) 0.755543949702223\n",
            "Val F1 Score (Micro) 0.7893492651399295\n",
            "Train loss 0.04112412195894409\n",
            "Val loss 0.03226640221346207\n",
            "Best model saved\n",
            "------------------------------------------------\n",
            "Epoch :  11\n"
          ]
        },
        {
          "output_type": "stream",
          "name": "stderr",
          "text": [
            "Training: 100%|██████████| 4023/4023 [01:38<00:00, 40.97it/s]\n",
            "Evaluate: 100%|██████████| 1006/1006 [00:17<00:00, 58.89it/s]\n"
          ]
        },
        {
          "output_type": "stream",
          "name": "stdout",
          "text": [
            "Train F1 Score (Micro) 0.7579520143767948\n",
            "Val F1 Score (Micro) 0.7913935133565462\n",
            "Train loss 0.04072843652367666\n",
            "Val loss 0.03199834908149529\n",
            "Best model saved\n",
            "------------------------------------------------\n",
            "Epoch :  12\n"
          ]
        },
        {
          "output_type": "stream",
          "name": "stderr",
          "text": [
            "Training: 100%|██████████| 4023/4023 [01:36<00:00, 41.55it/s]\n",
            "Evaluate: 100%|██████████| 1006/1006 [00:16<00:00, 60.96it/s]\n"
          ]
        },
        {
          "output_type": "stream",
          "name": "stdout",
          "text": [
            "Train F1 Score (Micro) 0.7599599439481872\n",
            "Val F1 Score (Micro) 0.796352236949825\n",
            "Train loss 0.04039321848837899\n",
            "Val loss 0.03155264609621071\n",
            "Best model saved\n",
            "------------------------------------------------\n",
            "Epoch :  13\n"
          ]
        },
        {
          "output_type": "stream",
          "name": "stderr",
          "text": [
            "Training: 100%|██████████| 4023/4023 [01:37<00:00, 41.29it/s]\n",
            "Evaluate: 100%|██████████| 1006/1006 [00:16<00:00, 60.24it/s]\n"
          ]
        },
        {
          "output_type": "stream",
          "name": "stdout",
          "text": [
            "Train F1 Score (Micro) 0.7609589599889446\n",
            "Val F1 Score (Micro) 0.7912017860209515\n",
            "Train loss 0.0402962222024928\n",
            "Val loss 0.03182868186428876\n",
            "------------------------------------------------\n",
            "Epoch :  14\n"
          ]
        },
        {
          "output_type": "stream",
          "name": "stderr",
          "text": [
            "Training: 100%|██████████| 4023/4023 [01:36<00:00, 41.51it/s]\n",
            "Evaluate: 100%|██████████| 1006/1006 [00:16<00:00, 61.37it/s]\n"
          ]
        },
        {
          "output_type": "stream",
          "name": "stdout",
          "text": [
            "Train F1 Score (Micro) 0.7626095170936475\n",
            "Val F1 Score (Micro) 0.7999864715869504\n",
            "Train loss 0.03995468092815158\n",
            "Val loss 0.031049711396454818\n",
            "Best model saved\n",
            "------------------------------------------------\n",
            "Epoch :  15\n"
          ]
        },
        {
          "output_type": "stream",
          "name": "stderr",
          "text": [
            "Training: 100%|██████████| 4023/4023 [01:36<00:00, 41.59it/s]\n",
            "Evaluate: 100%|██████████| 1006/1006 [00:16<00:00, 61.49it/s]\n"
          ]
        },
        {
          "output_type": "stream",
          "name": "stdout",
          "text": [
            "Train F1 Score (Micro) 0.7644269617469679\n",
            "Val F1 Score (Micro) 0.7948608007978115\n",
            "Train loss 0.0396955262600131\n",
            "Val loss 0.03132796129415452\n",
            "------------------------------------------------\n",
            "Epoch :  16\n"
          ]
        },
        {
          "output_type": "stream",
          "name": "stderr",
          "text": [
            "Training: 100%|██████████| 4023/4023 [01:37<00:00, 41.16it/s]\n",
            "Evaluate: 100%|██████████| 1006/1006 [00:16<00:00, 60.26it/s]\n"
          ]
        },
        {
          "output_type": "stream",
          "name": "stdout",
          "text": [
            "Train F1 Score (Micro) 0.7648146930894754\n",
            "Val F1 Score (Micro) 0.7987768231318266\n",
            "Train loss 0.03966323683964815\n",
            "Val loss 0.031001346985666936\n",
            "Best model saved\n",
            "------------------------------------------------\n",
            "Epoch :  17\n"
          ]
        },
        {
          "output_type": "stream",
          "name": "stderr",
          "text": [
            "Training: 100%|██████████| 4023/4023 [01:36<00:00, 41.75it/s]\n",
            "Evaluate: 100%|██████████| 1006/1006 [00:16<00:00, 61.17it/s]\n"
          ]
        },
        {
          "output_type": "stream",
          "name": "stdout",
          "text": [
            "Train F1 Score (Micro) 0.7651108643954443\n",
            "Val F1 Score (Micro) 0.7978007233455895\n",
            "Train loss 0.039569737092438335\n",
            "Val loss 0.03090010688382814\n",
            "Best model saved\n",
            "------------------------------------------------\n",
            "Epoch :  18\n"
          ]
        },
        {
          "output_type": "stream",
          "name": "stderr",
          "text": [
            "Training: 100%|██████████| 4023/4023 [01:37<00:00, 41.32it/s]\n",
            "Evaluate: 100%|██████████| 1006/1006 [00:16<00:00, 60.76it/s]\n"
          ]
        },
        {
          "output_type": "stream",
          "name": "stdout",
          "text": [
            "Train F1 Score (Micro) 0.7667658738383227\n",
            "Val F1 Score (Micro) 0.7994329143684369\n",
            "Train loss 0.039373153697939145\n",
            "Val loss 0.03077089836150704\n",
            "Best model saved\n",
            "------------------------------------------------\n",
            "Epoch :  19\n"
          ]
        },
        {
          "output_type": "stream",
          "name": "stderr",
          "text": [
            "Training: 100%|██████████| 4023/4023 [01:37<00:00, 41.17it/s]\n",
            "Evaluate: 100%|██████████| 1006/1006 [00:16<00:00, 60.77it/s]\n"
          ]
        },
        {
          "output_type": "stream",
          "name": "stdout",
          "text": [
            "Train F1 Score (Micro) 0.7668354162583882\n",
            "Val F1 Score (Micro) 0.8016804810044953\n",
            "Train loss 0.03937234325283963\n",
            "Val loss 0.030573683833447888\n",
            "Best model saved\n",
            "------------------------------------------------\n",
            "Epoch :  20\n"
          ]
        },
        {
          "output_type": "stream",
          "name": "stderr",
          "text": [
            "Training: 100%|██████████| 4023/4023 [01:36<00:00, 41.81it/s]\n",
            "Evaluate: 100%|██████████| 1006/1006 [00:16<00:00, 60.19it/s]\n"
          ]
        },
        {
          "output_type": "stream",
          "name": "stdout",
          "text": [
            "Train F1 Score (Micro) 0.767977316404149\n",
            "Val F1 Score (Micro) 0.8028342533723848\n",
            "Train loss 0.03920322521991348\n",
            "Val loss 0.030439095119862387\n",
            "Best model saved\n",
            "------------------------------------------------\n",
            "Epoch :  21\n"
          ]
        },
        {
          "output_type": "stream",
          "name": "stderr",
          "text": [
            "Training: 100%|██████████| 4023/4023 [01:36<00:00, 41.71it/s]\n",
            "Evaluate: 100%|██████████| 1006/1006 [00:16<00:00, 60.34it/s]\n"
          ]
        },
        {
          "output_type": "stream",
          "name": "stdout",
          "text": [
            "Train F1 Score (Micro) 0.768640873373956\n",
            "Val F1 Score (Micro) 0.8038924441981631\n",
            "Train loss 0.039069280248267745\n",
            "Val loss 0.030316111181768225\n",
            "Best model saved\n",
            "------------------------------------------------\n",
            "Epoch :  22\n"
          ]
        },
        {
          "output_type": "stream",
          "name": "stderr",
          "text": [
            "Training: 100%|██████████| 4023/4023 [01:36<00:00, 41.76it/s]\n",
            "Evaluate: 100%|██████████| 1006/1006 [00:16<00:00, 61.36it/s]\n"
          ]
        },
        {
          "output_type": "stream",
          "name": "stdout",
          "text": [
            "Train F1 Score (Micro) 0.7691528810071961\n",
            "Val F1 Score (Micro) 0.803916179355707\n",
            "Train loss 0.0389757676046826\n",
            "Val loss 0.030331141335767496\n",
            "------------------------------------------------\n",
            "Epoch :  23\n"
          ]
        },
        {
          "output_type": "stream",
          "name": "stderr",
          "text": [
            "Training: 100%|██████████| 4023/4023 [01:36<00:00, 41.84it/s]\n",
            "Evaluate: 100%|██████████| 1006/1006 [00:16<00:00, 61.83it/s]\n"
          ]
        },
        {
          "output_type": "stream",
          "name": "stdout",
          "text": [
            "Train F1 Score (Micro) 0.7698488982800645\n",
            "Val F1 Score (Micro) 0.8044851175521734\n",
            "Train loss 0.038929175333636865\n",
            "Val loss 0.030178653950216044\n",
            "Best model saved\n",
            "------------------------------------------------\n",
            "Epoch :  24\n"
          ]
        },
        {
          "output_type": "stream",
          "name": "stderr",
          "text": [
            "Training: 100%|██████████| 4023/4023 [01:37<00:00, 41.31it/s]\n",
            "Evaluate: 100%|██████████| 1006/1006 [00:16<00:00, 60.07it/s]\n"
          ]
        },
        {
          "output_type": "stream",
          "name": "stdout",
          "text": [
            "Train F1 Score (Micro) 0.7695640259159136\n",
            "Val F1 Score (Micro) 0.805639924944991\n",
            "Train loss 0.03895961921203723\n",
            "Val loss 0.030078180663835694\n",
            "Best model saved\n",
            "------------------------------------------------\n",
            "Epoch :  25\n"
          ]
        },
        {
          "output_type": "stream",
          "name": "stderr",
          "text": [
            "Training: 100%|██████████| 4023/4023 [01:35<00:00, 41.97it/s]\n",
            "Evaluate: 100%|██████████| 1006/1006 [00:16<00:00, 61.38it/s]\n"
          ]
        },
        {
          "output_type": "stream",
          "name": "stdout",
          "text": [
            "Train F1 Score (Micro) 0.7706857370904159\n",
            "Val F1 Score (Micro) 0.8055959675718357\n",
            "Train loss 0.038763145009380294\n",
            "Val loss 0.030035652959012015\n",
            "Best model saved\n",
            "------------------------------------------------\n",
            "Epoch :  26\n"
          ]
        },
        {
          "output_type": "stream",
          "name": "stderr",
          "text": [
            "Training: 100%|██████████| 4023/4023 [01:37<00:00, 41.39it/s]\n",
            "Evaluate: 100%|██████████| 1006/1006 [00:16<00:00, 61.21it/s]\n"
          ]
        },
        {
          "output_type": "stream",
          "name": "stdout",
          "text": [
            "Train F1 Score (Micro) 0.7709806968957963\n",
            "Val F1 Score (Micro) 0.8086815619508411\n",
            "Train loss 0.03867020057488845\n",
            "Val loss 0.02983155185041975\n",
            "Best model saved\n",
            "------------------------------------------------\n",
            "Epoch :  27\n"
          ]
        },
        {
          "output_type": "stream",
          "name": "stderr",
          "text": [
            "Training: 100%|██████████| 4023/4023 [01:36<00:00, 41.48it/s]\n",
            "Evaluate: 100%|██████████| 1006/1006 [00:17<00:00, 58.93it/s]\n"
          ]
        },
        {
          "output_type": "stream",
          "name": "stdout",
          "text": [
            "Train F1 Score (Micro) 0.7708192300683868\n",
            "Val F1 Score (Micro) 0.8038058686701174\n",
            "Train loss 0.03875858338631684\n",
            "Val loss 0.030135317914795214\n",
            "------------------------------------------------\n",
            "Epoch :  28\n"
          ]
        },
        {
          "output_type": "stream",
          "name": "stderr",
          "text": [
            "Training: 100%|██████████| 4023/4023 [01:36<00:00, 41.54it/s]\n",
            "Evaluate: 100%|██████████| 1006/1006 [00:16<00:00, 59.72it/s]\n"
          ]
        },
        {
          "output_type": "stream",
          "name": "stdout",
          "text": [
            "Train F1 Score (Micro) 0.7723413048570144\n",
            "Val F1 Score (Micro) 0.8037887640266025\n",
            "Train loss 0.03853196613147962\n",
            "Val loss 0.03007445532910037\n",
            "------------------------------------------------\n",
            "Epoch :  29\n"
          ]
        },
        {
          "output_type": "stream",
          "name": "stderr",
          "text": [
            "Training: 100%|██████████| 4023/4023 [01:36<00:00, 41.86it/s]\n",
            "Evaluate: 100%|██████████| 1006/1006 [00:16<00:00, 61.37it/s]\n"
          ]
        },
        {
          "output_type": "stream",
          "name": "stdout",
          "text": [
            "Train F1 Score (Micro) 0.7721515389100506\n",
            "Val F1 Score (Micro) 0.804049054386385\n",
            "Train loss 0.038569859582990994\n",
            "Val loss 0.03001737491659094\n",
            "------------------------------------------------\n",
            "Epoch :  30\n"
          ]
        },
        {
          "output_type": "stream",
          "name": "stderr",
          "text": [
            "Training: 100%|██████████| 4023/4023 [01:36<00:00, 41.78it/s]\n",
            "Evaluate: 100%|██████████| 1006/1006 [00:16<00:00, 61.24it/s]\n"
          ]
        },
        {
          "output_type": "stream",
          "name": "stdout",
          "text": [
            "Train F1 Score (Micro) 0.7723422328372963\n",
            "Val F1 Score (Micro) 0.806063174082733\n",
            "Train loss 0.03852545125713225\n",
            "Val loss 0.029873476298914754\n",
            "------------------------------------------------\n"
          ]
        }
      ],
      "source": [
        "epochs = 30\n",
        "learning_rate = 0.001\n",
        "\n",
        "magnet_model_4 = MAGNET(200, 250, adjacency.to(device), num_heads=4)\n",
        "loss_function = nn.BCEWithLogitsLoss()\n",
        "optimizer = optim.Adam(magnet_model_4.parameters(), lr = learning_rate)\n",
        "train_loss_4, val_loss_4, avg_epoch_time_4 = train_model(magnet_model_4, label_embedding, loss_function, optimizer, epochs, device, \"rcv1_head4.pth\")"
      ]
    },
    {
      "cell_type": "code",
      "source": [
        "epochs = 30\n",
        "learning_rate = 0.001\n",
        "\n",
        "magnet_model_2 = MAGNET(200, 250, adjacency.to(device), num_heads=2)\n",
        "loss_function = nn.BCEWithLogitsLoss()\n",
        "optimizer = optim.Adam(magnet_model_2.parameters(), lr = learning_rate)\n",
        "train_loss_2, val_loss_2, avg_epoch_time_2 = train_model(magnet_model_2, label_embedding, loss_function, optimizer, epochs, device, \"rcv1_head2.pth\")"
      ],
      "metadata": {
        "colab": {
          "base_uri": "https://localhost:8080/"
        },
        "id": "W7KRfxh9yxkp",
        "outputId": "4f4626ec-687c-41f0-e444-9ee828a99b45"
      },
      "execution_count": null,
      "outputs": [
        {
          "output_type": "stream",
          "name": "stdout",
          "text": [
            "Epoch :  1\n"
          ]
        },
        {
          "output_type": "stream",
          "name": "stderr",
          "text": [
            "Training: 100%|██████████| 4023/4023 [01:02<00:00, 63.92it/s]\n",
            "Evaluate: 100%|██████████| 1006/1006 [00:11<00:00, 84.36it/s] \n"
          ]
        },
        {
          "output_type": "stream",
          "name": "stdout",
          "text": [
            "Train F1 Score (Micro) 0.19090004706907643\n",
            "Val F1 Score (Micro) 0.08419766494705402\n",
            "Train loss 0.1044898838927104\n",
            "Val loss 0.10193263760825275\n",
            "Best model saved\n",
            "------------------------------------------------\n",
            "Epoch :  2\n"
          ]
        },
        {
          "output_type": "stream",
          "name": "stderr",
          "text": [
            "Training: 100%|██████████| 4023/4023 [01:02<00:00, 64.13it/s]\n",
            "Evaluate: 100%|██████████| 1006/1006 [00:11<00:00, 85.55it/s] \n"
          ]
        },
        {
          "output_type": "stream",
          "name": "stdout",
          "text": [
            "Train F1 Score (Micro) 0.2537130156474012\n",
            "Val F1 Score (Micro) 0.45135401109985324\n",
            "Train loss 0.09567498278475625\n",
            "Val loss 0.0721416587480316\n",
            "Best model saved\n",
            "------------------------------------------------\n",
            "Epoch :  3\n"
          ]
        },
        {
          "output_type": "stream",
          "name": "stderr",
          "text": [
            "Training: 100%|██████████| 4023/4023 [01:03<00:00, 63.42it/s]\n",
            "Evaluate: 100%|██████████| 1006/1006 [00:11<00:00, 87.02it/s]\n"
          ]
        },
        {
          "output_type": "stream",
          "name": "stdout",
          "text": [
            "Train F1 Score (Micro) 0.5504524807778655\n",
            "Val F1 Score (Micro) 0.6023014581381203\n",
            "Train loss 0.06921081227351562\n",
            "Val loss 0.05563873562880349\n",
            "Best model saved\n",
            "------------------------------------------------\n",
            "Epoch :  4\n"
          ]
        },
        {
          "output_type": "stream",
          "name": "stderr",
          "text": [
            "Training: 100%|██████████| 4023/4023 [01:06<00:00, 60.48it/s]\n",
            "Evaluate: 100%|██████████| 1006/1006 [00:10<00:00, 94.42it/s]\n"
          ]
        },
        {
          "output_type": "stream",
          "name": "stdout",
          "text": [
            "Train F1 Score (Micro) 0.643708903760078\n",
            "Val F1 Score (Micro) 0.7006742319998922\n",
            "Train loss 0.057853707694130216\n",
            "Val loss 0.04489887663520591\n",
            "Best model saved\n",
            "------------------------------------------------\n",
            "Epoch :  5\n"
          ]
        },
        {
          "output_type": "stream",
          "name": "stderr",
          "text": [
            "Training: 100%|██████████| 4023/4023 [01:03<00:00, 62.92it/s]\n",
            "Evaluate: 100%|██████████| 1006/1006 [00:12<00:00, 81.12it/s]\n"
          ]
        },
        {
          "output_type": "stream",
          "name": "stdout",
          "text": [
            "Train F1 Score (Micro) 0.5955097955740473\n",
            "Val F1 Score (Micro) 0.6714182907349467\n",
            "Train loss 0.06497542082470743\n",
            "Val loss 0.04800832400442829\n",
            "------------------------------------------------\n",
            "Epoch :  6\n"
          ]
        },
        {
          "output_type": "stream",
          "name": "stderr",
          "text": [
            "Training: 100%|██████████| 4023/4023 [01:03<00:00, 63.42it/s]\n",
            "Evaluate: 100%|██████████| 1006/1006 [00:12<00:00, 80.76it/s] \n"
          ]
        },
        {
          "output_type": "stream",
          "name": "stdout",
          "text": [
            "Train F1 Score (Micro) 0.6544077304357142\n",
            "Val F1 Score (Micro) 0.3965896358441912\n",
            "Train loss 0.05618950119739796\n",
            "Val loss 0.09115186125543671\n",
            "------------------------------------------------\n",
            "Epoch :  7\n"
          ]
        },
        {
          "output_type": "stream",
          "name": "stderr",
          "text": [
            "Training: 100%|██████████| 4023/4023 [01:04<00:00, 62.49it/s]\n",
            "Evaluate: 100%|██████████| 1006/1006 [00:10<00:00, 99.74it/s]\n"
          ]
        },
        {
          "output_type": "stream",
          "name": "stdout",
          "text": [
            "Train F1 Score (Micro) 0.5683135745576691\n",
            "Val F1 Score (Micro) 0.6783250460885331\n",
            "Train loss 0.06647510916316891\n",
            "Val loss 0.04587328433620171\n",
            "------------------------------------------------\n",
            "Epoch :  8\n"
          ]
        },
        {
          "output_type": "stream",
          "name": "stderr",
          "text": [
            "Training: 100%|██████████| 4023/4023 [01:03<00:00, 63.56it/s]\n",
            "Evaluate: 100%|██████████| 1006/1006 [00:11<00:00, 85.12it/s]\n"
          ]
        },
        {
          "output_type": "stream",
          "name": "stdout",
          "text": [
            "Train F1 Score (Micro) 0.6548411081599148\n",
            "Val F1 Score (Micro) 0.6712515612669099\n",
            "Train loss 0.05583798603842041\n",
            "Val loss 0.04465797464279958\n",
            "Best model saved\n",
            "------------------------------------------------\n",
            "Epoch :  9\n"
          ]
        },
        {
          "output_type": "stream",
          "name": "stderr",
          "text": [
            "Training: 100%|██████████| 4023/4023 [01:04<00:00, 62.79it/s]\n",
            "Evaluate: 100%|██████████| 1006/1006 [00:12<00:00, 83.60it/s]\n"
          ]
        },
        {
          "output_type": "stream",
          "name": "stdout",
          "text": [
            "Train F1 Score (Micro) 0.6851957553946461\n",
            "Val F1 Score (Micro) 0.752284727934921\n",
            "Train loss 0.05184697100983874\n",
            "Val loss 0.03872012674334509\n",
            "Best model saved\n",
            "------------------------------------------------\n",
            "Epoch :  10\n"
          ]
        },
        {
          "output_type": "stream",
          "name": "stderr",
          "text": [
            "Training: 100%|██████████| 4023/4023 [01:02<00:00, 64.31it/s]\n",
            "Evaluate: 100%|██████████| 1006/1006 [00:11<00:00, 84.37it/s]\n"
          ]
        },
        {
          "output_type": "stream",
          "name": "stdout",
          "text": [
            "Train F1 Score (Micro) 0.6893284848450913\n",
            "Val F1 Score (Micro) 0.7292727798635389\n",
            "Train loss 0.051291116687631005\n",
            "Val loss 0.039517167218725675\n",
            "------------------------------------------------\n",
            "Epoch :  11\n"
          ]
        },
        {
          "output_type": "stream",
          "name": "stderr",
          "text": [
            "Training: 100%|██████████| 4023/4023 [01:03<00:00, 63.70it/s]\n",
            "Evaluate: 100%|██████████| 1006/1006 [00:11<00:00, 84.91it/s]\n"
          ]
        },
        {
          "output_type": "stream",
          "name": "stdout",
          "text": [
            "Train F1 Score (Micro) 0.7023843351301803\n",
            "Val F1 Score (Micro) 0.25702264279798887\n",
            "Train loss 0.049403898311459894\n",
            "Val loss 0.08156152445060122\n",
            "------------------------------------------------\n",
            "Epoch :  12\n"
          ]
        },
        {
          "output_type": "stream",
          "name": "stderr",
          "text": [
            "Training: 100%|██████████| 4023/4023 [01:02<00:00, 63.87it/s]\n",
            "Evaluate: 100%|██████████| 1006/1006 [00:11<00:00, 85.68it/s]\n"
          ]
        },
        {
          "output_type": "stream",
          "name": "stdout",
          "text": [
            "Train F1 Score (Micro) 0.6916593173548327\n",
            "Val F1 Score (Micro) 0.7531789001083967\n",
            "Train loss 0.050604011777352256\n",
            "Val loss 0.03720384816015158\n",
            "Best model saved\n",
            "------------------------------------------------\n",
            "Epoch :  13\n"
          ]
        },
        {
          "output_type": "stream",
          "name": "stderr",
          "text": [
            "Training: 100%|██████████| 4023/4023 [01:04<00:00, 62.58it/s]\n",
            "Evaluate: 100%|██████████| 1006/1006 [00:09<00:00, 101.61it/s]\n"
          ]
        },
        {
          "output_type": "stream",
          "name": "stdout",
          "text": [
            "Train F1 Score (Micro) 0.6935270057995467\n",
            "Val F1 Score (Micro) 0.7340823097290229\n",
            "Train loss 0.05031855812742139\n",
            "Val loss 0.039780479429982175\n",
            "------------------------------------------------\n",
            "Epoch :  14\n"
          ]
        },
        {
          "output_type": "stream",
          "name": "stderr",
          "text": [
            "Training: 100%|██████████| 4023/4023 [01:04<00:00, 62.65it/s]\n",
            "Evaluate: 100%|██████████| 1006/1006 [00:12<00:00, 82.84it/s]\n"
          ]
        },
        {
          "output_type": "stream",
          "name": "stdout",
          "text": [
            "Train F1 Score (Micro) 0.6897433896098648\n",
            "Val F1 Score (Micro) 0.7187434269581369\n",
            "Train loss 0.050916915933994875\n",
            "Val loss 0.039600201606543116\n",
            "------------------------------------------------\n",
            "Epoch :  15\n"
          ]
        },
        {
          "output_type": "stream",
          "name": "stderr",
          "text": [
            "Training: 100%|██████████| 4023/4023 [01:02<00:00, 64.55it/s]\n",
            "Evaluate: 100%|██████████| 1006/1006 [00:11<00:00, 87.21it/s]\n"
          ]
        },
        {
          "output_type": "stream",
          "name": "stdout",
          "text": [
            "Train F1 Score (Micro) 0.7051576526663669\n",
            "Val F1 Score (Micro) 0.7581086771924254\n",
            "Train loss 0.04876598979876819\n",
            "Val loss 0.03744699147753936\n",
            "------------------------------------------------\n",
            "Epoch :  16\n"
          ]
        },
        {
          "output_type": "stream",
          "name": "stderr",
          "text": [
            "Training: 100%|██████████| 4023/4023 [01:03<00:00, 63.23it/s]\n",
            "Evaluate: 100%|██████████| 1006/1006 [00:11<00:00, 84.89it/s]\n"
          ]
        },
        {
          "output_type": "stream",
          "name": "stdout",
          "text": [
            "Train F1 Score (Micro) 0.71245876302652\n",
            "Val F1 Score (Micro) 0.7703276294787675\n",
            "Train loss 0.04773301235023954\n",
            "Val loss 0.03584026146650492\n",
            "Best model saved\n",
            "------------------------------------------------\n",
            "Epoch :  17\n"
          ]
        },
        {
          "output_type": "stream",
          "name": "stderr",
          "text": [
            "Training: 100%|██████████| 4023/4023 [01:03<00:00, 63.32it/s]\n",
            "Evaluate: 100%|██████████| 1006/1006 [00:11<00:00, 84.94it/s]\n"
          ]
        },
        {
          "output_type": "stream",
          "name": "stdout",
          "text": [
            "Train F1 Score (Micro) 0.7130638151337652\n",
            "Val F1 Score (Micro) 0.7421897308290746\n",
            "Train loss 0.047739429128516704\n",
            "Val loss 0.037316781463134836\n",
            "------------------------------------------------\n",
            "Epoch :  18\n"
          ]
        },
        {
          "output_type": "stream",
          "name": "stderr",
          "text": [
            "Training: 100%|██████████| 4023/4023 [01:03<00:00, 63.46it/s]\n",
            "Evaluate: 100%|██████████| 1006/1006 [00:11<00:00, 83.95it/s]\n"
          ]
        },
        {
          "output_type": "stream",
          "name": "stdout",
          "text": [
            "Train F1 Score (Micro) 0.7187207327618211\n",
            "Val F1 Score (Micro) 0.7700613263182076\n",
            "Train loss 0.04687710409081607\n",
            "Val loss 0.035230488379376666\n",
            "Best model saved\n",
            "------------------------------------------------\n",
            "Epoch :  19\n"
          ]
        },
        {
          "output_type": "stream",
          "name": "stderr",
          "text": [
            "Training: 100%|██████████| 4023/4023 [01:02<00:00, 64.56it/s]\n",
            "Evaluate: 100%|██████████| 1006/1006 [00:11<00:00, 87.32it/s]\n"
          ]
        },
        {
          "output_type": "stream",
          "name": "stdout",
          "text": [
            "Train F1 Score (Micro) 0.7217306520247833\n",
            "Val F1 Score (Micro) 0.7632406996460802\n",
            "Train loss 0.0464850456585583\n",
            "Val loss 0.0356644176846559\n",
            "------------------------------------------------\n",
            "Epoch :  20\n"
          ]
        },
        {
          "output_type": "stream",
          "name": "stderr",
          "text": [
            "Training: 100%|██████████| 4023/4023 [01:03<00:00, 63.30it/s]\n",
            "Evaluate: 100%|██████████| 1006/1006 [00:11<00:00, 84.93it/s]\n"
          ]
        },
        {
          "output_type": "stream",
          "name": "stdout",
          "text": [
            "Train F1 Score (Micro) 0.7048938756531447\n",
            "Val F1 Score (Micro) 0.7701940980287648\n",
            "Train loss 0.049235950711871035\n",
            "Val loss 0.03513445854409196\n",
            "Best model saved\n",
            "------------------------------------------------\n",
            "Epoch :  21\n"
          ]
        },
        {
          "output_type": "stream",
          "name": "stderr",
          "text": [
            "Training: 100%|██████████| 4023/4023 [01:03<00:00, 63.77it/s]\n",
            "Evaluate: 100%|██████████| 1006/1006 [00:11<00:00, 86.25it/s]\n"
          ]
        },
        {
          "output_type": "stream",
          "name": "stdout",
          "text": [
            "Train F1 Score (Micro) 0.7248179829005246\n",
            "Val F1 Score (Micro) 0.7789822095803973\n",
            "Train loss 0.046108659540180126\n",
            "Val loss 0.034217605304350675\n",
            "Best model saved\n",
            "------------------------------------------------\n",
            "Epoch :  22\n"
          ]
        },
        {
          "output_type": "stream",
          "name": "stderr",
          "text": [
            "Training: 100%|██████████| 4023/4023 [01:04<00:00, 61.96it/s]\n",
            "Evaluate: 100%|██████████| 1006/1006 [00:10<00:00, 99.58it/s]\n"
          ]
        },
        {
          "output_type": "stream",
          "name": "stdout",
          "text": [
            "Train F1 Score (Micro) 0.725898242723797\n",
            "Val F1 Score (Micro) 0.7568093694266135\n",
            "Train loss 0.04596633326031662\n",
            "Val loss 0.03573925134949905\n",
            "------------------------------------------------\n",
            "Epoch :  23\n"
          ]
        },
        {
          "output_type": "stream",
          "name": "stderr",
          "text": [
            "Training: 100%|██████████| 4023/4023 [01:03<00:00, 63.18it/s]\n",
            "Evaluate: 100%|██████████| 1006/1006 [00:11<00:00, 85.20it/s]\n"
          ]
        },
        {
          "output_type": "stream",
          "name": "stdout",
          "text": [
            "Train F1 Score (Micro) 0.7218909960302893\n",
            "Val F1 Score (Micro) 0.7505834724878597\n",
            "Train loss 0.04648004386508284\n",
            "Val loss 0.03777405349111877\n",
            "------------------------------------------------\n",
            "Epoch :  24\n"
          ]
        },
        {
          "output_type": "stream",
          "name": "stderr",
          "text": [
            "Training: 100%|██████████| 4023/4023 [01:04<00:00, 62.49it/s]\n",
            "Evaluate: 100%|██████████| 1006/1006 [00:09<00:00, 102.34it/s]\n"
          ]
        },
        {
          "output_type": "stream",
          "name": "stdout",
          "text": [
            "Train F1 Score (Micro) 0.7081601802338628\n",
            "Val F1 Score (Micro) 0.7679780099702478\n",
            "Train loss 0.048132667450867216\n",
            "Val loss 0.035221975759619745\n",
            "------------------------------------------------\n",
            "Epoch :  25\n"
          ]
        },
        {
          "output_type": "stream",
          "name": "stderr",
          "text": [
            "Training: 100%|██████████| 4023/4023 [01:04<00:00, 62.07it/s]\n",
            "Evaluate: 100%|██████████| 1006/1006 [00:12<00:00, 82.46it/s]\n"
          ]
        },
        {
          "output_type": "stream",
          "name": "stdout",
          "text": [
            "Train F1 Score (Micro) 0.7220550403624776\n",
            "Val F1 Score (Micro) 0.786023200857513\n",
            "Train loss 0.046393882858273165\n",
            "Val loss 0.03350792427882404\n",
            "Best model saved\n",
            "------------------------------------------------\n",
            "Epoch :  26\n"
          ]
        },
        {
          "output_type": "stream",
          "name": "stderr",
          "text": [
            "Training: 100%|██████████| 4023/4023 [01:02<00:00, 64.67it/s]\n",
            "Evaluate: 100%|██████████| 1006/1006 [00:11<00:00, 84.36it/s]\n"
          ]
        },
        {
          "output_type": "stream",
          "name": "stdout",
          "text": [
            "Train F1 Score (Micro) 0.729284180498525\n",
            "Val F1 Score (Micro) 0.7703576447213689\n",
            "Train loss 0.045483148156515024\n",
            "Val loss 0.03469116792682684\n",
            "------------------------------------------------\n",
            "Epoch :  27\n"
          ]
        },
        {
          "output_type": "stream",
          "name": "stderr",
          "text": [
            "Training: 100%|██████████| 4023/4023 [01:04<00:00, 62.65it/s]\n",
            "Evaluate: 100%|██████████| 1006/1006 [00:12<00:00, 82.75it/s]\n"
          ]
        },
        {
          "output_type": "stream",
          "name": "stdout",
          "text": [
            "Train F1 Score (Micro) 0.7341342421589877\n",
            "Val F1 Score (Micro) 0.7785563834974307\n",
            "Train loss 0.04475895538620545\n",
            "Val loss 0.03362723611569251\n",
            "------------------------------------------------\n",
            "Epoch :  28\n"
          ]
        },
        {
          "output_type": "stream",
          "name": "stderr",
          "text": [
            "Training: 100%|██████████| 4023/4023 [01:05<00:00, 61.63it/s]\n",
            "Evaluate: 100%|██████████| 1006/1006 [00:12<00:00, 82.95it/s]\n"
          ]
        },
        {
          "output_type": "stream",
          "name": "stdout",
          "text": [
            "Train F1 Score (Micro) 0.7358084585160426\n",
            "Val F1 Score (Micro) 0.7847926049090793\n",
            "Train loss 0.04445766795471981\n",
            "Val loss 0.033087064076963046\n",
            "Best model saved\n",
            "------------------------------------------------\n",
            "Epoch :  29\n"
          ]
        },
        {
          "output_type": "stream",
          "name": "stderr",
          "text": [
            "Training: 100%|██████████| 4023/4023 [01:03<00:00, 63.57it/s]\n",
            "Evaluate: 100%|██████████| 1006/1006 [00:12<00:00, 82.56it/s]\n"
          ]
        },
        {
          "output_type": "stream",
          "name": "stdout",
          "text": [
            "Train F1 Score (Micro) 0.7384392809578216\n",
            "Val F1 Score (Micro) 0.7888888888888889\n",
            "Train loss 0.04403806493388178\n",
            "Val loss 0.032616127869317946\n",
            "Best model saved\n",
            "------------------------------------------------\n",
            "Epoch :  30\n"
          ]
        },
        {
          "output_type": "stream",
          "name": "stderr",
          "text": [
            "Training: 100%|██████████| 4023/4023 [01:03<00:00, 62.91it/s]\n",
            "Evaluate: 100%|██████████| 1006/1006 [00:12<00:00, 83.76it/s] \n"
          ]
        },
        {
          "output_type": "stream",
          "name": "stdout",
          "text": [
            "Train F1 Score (Micro) 0.7388341663868804\n",
            "Val F1 Score (Micro) 0.7934195696229608\n",
            "Train loss 0.04396584071450467\n",
            "Val loss 0.03247134307506781\n",
            "Best model saved\n",
            "------------------------------------------------\n"
          ]
        }
      ]
    },
    {
      "cell_type": "code",
      "source": [
        "epochs = 30\n",
        "learning_rate = 0.001\n",
        "\n",
        "magnet_model_8 = MAGNET(200, 250, adjacency.to(device), num_heads=8)\n",
        "loss_function = nn.BCEWithLogitsLoss()\n",
        "optimizer = optim.Adam(magnet_model_8.parameters(), lr = learning_rate)\n",
        "train_loss_8, val_loss_8, avg_epoch_time_8 = train_model(magnet_model_8, label_embedding, loss_function, optimizer, epochs, device, \"rcv1_head8.pth\")"
      ],
      "metadata": {
        "colab": {
          "base_uri": "https://localhost:8080/"
        },
        "id": "d8AukaYayyUq",
        "outputId": "1d163ffa-7e3d-4f3a-b273-4c9b9227f989"
      },
      "execution_count": null,
      "outputs": [
        {
          "output_type": "stream",
          "name": "stdout",
          "text": [
            "Epoch :  1\n"
          ]
        },
        {
          "output_type": "stream",
          "name": "stderr",
          "text": [
            "Training: 100%|██████████| 4023/4023 [02:41<00:00, 24.89it/s]\n",
            "Evaluate: 100%|██████████| 1006/1006 [00:25<00:00, 39.34it/s]\n"
          ]
        },
        {
          "output_type": "stream",
          "name": "stdout",
          "text": [
            "Train F1 Score (Micro) 0.44462559614200525\n",
            "Val F1 Score (Micro) 0.6154930549098534\n",
            "Train loss 0.08109416040468506\n",
            "Val loss 0.05433122795926885\n",
            "Best model saved\n",
            "------------------------------------------------\n",
            "Epoch :  2\n"
          ]
        },
        {
          "output_type": "stream",
          "name": "stderr",
          "text": [
            "Training: 100%|██████████| 4023/4023 [02:43<00:00, 24.58it/s]\n",
            "Evaluate: 100%|██████████| 1006/1006 [00:25<00:00, 39.28it/s]\n"
          ]
        },
        {
          "output_type": "stream",
          "name": "stdout",
          "text": [
            "Train F1 Score (Micro) 0.6330605130893617\n",
            "Val F1 Score (Micro) 0.7108403801275965\n",
            "Train loss 0.05722859088843538\n",
            "Val loss 0.04228966843122042\n",
            "Best model saved\n",
            "------------------------------------------------\n",
            "Epoch :  3\n"
          ]
        },
        {
          "output_type": "stream",
          "name": "stderr",
          "text": [
            "Training: 100%|██████████| 4023/4023 [02:43<00:00, 24.65it/s]\n",
            "Evaluate: 100%|██████████| 1006/1006 [00:23<00:00, 42.17it/s]\n"
          ]
        },
        {
          "output_type": "stream",
          "name": "stdout",
          "text": [
            "Train F1 Score (Micro) 0.6996851792225242\n",
            "Val F1 Score (Micro) 0.7467181401949686\n",
            "Train loss 0.04959624591152703\n",
            "Val loss 0.038987573786133205\n",
            "Best model saved\n",
            "------------------------------------------------\n",
            "Epoch :  4\n"
          ]
        },
        {
          "output_type": "stream",
          "name": "stderr",
          "text": [
            "Training: 100%|██████████| 4023/4023 [02:42<00:00, 24.74it/s]\n",
            "Evaluate: 100%|██████████| 1006/1006 [00:25<00:00, 39.68it/s]\n"
          ]
        },
        {
          "output_type": "stream",
          "name": "stdout",
          "text": [
            "Train F1 Score (Micro) 0.7282984030607264\n",
            "Val F1 Score (Micro) 0.7704613364345054\n",
            "Train loss 0.04533741987867569\n",
            "Val loss 0.03511123477886792\n",
            "Best model saved\n",
            "------------------------------------------------\n",
            "Epoch :  5\n"
          ]
        },
        {
          "output_type": "stream",
          "name": "stderr",
          "text": [
            "Training: 100%|██████████| 4023/4023 [02:43<00:00, 24.60it/s]\n",
            "Evaluate: 100%|██████████| 1006/1006 [00:25<00:00, 39.16it/s]\n"
          ]
        },
        {
          "output_type": "stream",
          "name": "stdout",
          "text": [
            "Train F1 Score (Micro) 0.7402957489253849\n",
            "Val F1 Score (Micro) 0.7634629113571649\n",
            "Train loss 0.04332278649758602\n",
            "Val loss 0.03536539005808103\n",
            "------------------------------------------------\n",
            "Epoch :  6\n"
          ]
        },
        {
          "output_type": "stream",
          "name": "stderr",
          "text": [
            "Training: 100%|██████████| 4023/4023 [02:41<00:00, 24.91it/s]\n",
            "Evaluate: 100%|██████████| 1006/1006 [00:25<00:00, 39.39it/s]\n"
          ]
        },
        {
          "output_type": "stream",
          "name": "stdout",
          "text": [
            "Train F1 Score (Micro) 0.6941912048413318\n",
            "Val F1 Score (Micro) 0.7770750221631205\n",
            "Train loss 0.04823422100623686\n",
            "Val loss 0.034311198536862084\n",
            "Best model saved\n",
            "------------------------------------------------\n",
            "Epoch :  7\n"
          ]
        },
        {
          "output_type": "stream",
          "name": "stderr",
          "text": [
            "Training: 100%|██████████| 4023/4023 [02:41<00:00, 24.85it/s]\n",
            "Evaluate: 100%|██████████| 1006/1006 [00:25<00:00, 39.51it/s]\n"
          ]
        },
        {
          "output_type": "stream",
          "name": "stdout",
          "text": [
            "Train F1 Score (Micro) 0.7333180254133983\n",
            "Val F1 Score (Micro) 0.7601905975565837\n",
            "Train loss 0.04439304198022435\n",
            "Val loss 0.035810462560201026\n",
            "------------------------------------------------\n",
            "Epoch :  8\n"
          ]
        },
        {
          "output_type": "stream",
          "name": "stderr",
          "text": [
            "Training: 100%|██████████| 4023/4023 [02:42<00:00, 24.80it/s]\n",
            "Evaluate: 100%|██████████| 1006/1006 [00:25<00:00, 39.31it/s]\n"
          ]
        },
        {
          "output_type": "stream",
          "name": "stdout",
          "text": [
            "Train F1 Score (Micro) 0.7334071227895105\n",
            "Val F1 Score (Micro) 0.76125462288468\n",
            "Train loss 0.04387536352968412\n",
            "Val loss 0.03476395449095644\n",
            "------------------------------------------------\n",
            "Epoch :  9\n"
          ]
        },
        {
          "output_type": "stream",
          "name": "stderr",
          "text": [
            "Training: 100%|██████████| 4023/4023 [02:42<00:00, 24.81it/s]\n",
            "Evaluate: 100%|██████████| 1006/1006 [00:25<00:00, 39.27it/s]\n"
          ]
        },
        {
          "output_type": "stream",
          "name": "stdout",
          "text": [
            "Train F1 Score (Micro) 0.7281668804737269\n",
            "Val F1 Score (Micro) 0.7300984182826784\n",
            "Train loss 0.044296916297366304\n",
            "Val loss 0.03774745134122033\n",
            "------------------------------------------------\n",
            "Epoch :  10\n"
          ]
        },
        {
          "output_type": "stream",
          "name": "stderr",
          "text": [
            "Training: 100%|██████████| 4023/4023 [02:40<00:00, 24.99it/s]\n",
            "Evaluate: 100%|██████████| 1006/1006 [00:25<00:00, 39.72it/s]\n"
          ]
        },
        {
          "output_type": "stream",
          "name": "stdout",
          "text": [
            "Train F1 Score (Micro) 0.7103963955327612\n",
            "Val F1 Score (Micro) 0.670190059413097\n",
            "Train loss 0.04598147705430686\n",
            "Val loss 0.04252868430470496\n",
            "------------------------------------------------\n",
            "Epoch :  11\n"
          ]
        },
        {
          "output_type": "stream",
          "name": "stderr",
          "text": [
            "Training: 100%|██████████| 4023/4023 [02:41<00:00, 24.89it/s]\n",
            "Evaluate: 100%|██████████| 1006/1006 [00:25<00:00, 39.64it/s]\n"
          ]
        },
        {
          "output_type": "stream",
          "name": "stdout",
          "text": [
            "Train F1 Score (Micro) 0.635132937996736\n",
            "Val F1 Score (Micro) 0.6584024386432916\n",
            "Train loss 0.05272500439941246\n",
            "Val loss 0.041913525888300086\n",
            "------------------------------------------------\n",
            "Epoch :  12\n"
          ]
        },
        {
          "output_type": "stream",
          "name": "stderr",
          "text": [
            "Training: 100%|██████████| 4023/4023 [02:43<00:00, 24.67it/s]\n",
            "Evaluate: 100%|██████████| 1006/1006 [00:23<00:00, 42.51it/s]\n"
          ]
        },
        {
          "output_type": "stream",
          "name": "stdout",
          "text": [
            "Train F1 Score (Micro) 0.6468783200075391\n",
            "Val F1 Score (Micro) 0.7756543381248543\n",
            "Train loss 0.051254430341759104\n",
            "Val loss 0.03422719656784184\n",
            "Best model saved\n",
            "------------------------------------------------\n",
            "Epoch :  13\n"
          ]
        },
        {
          "output_type": "stream",
          "name": "stderr",
          "text": [
            "Training: 100%|██████████| 4023/4023 [02:42<00:00, 24.69it/s]\n",
            "Evaluate: 100%|██████████| 1006/1006 [00:25<00:00, 39.76it/s]\n"
          ]
        },
        {
          "output_type": "stream",
          "name": "stdout",
          "text": [
            "Train F1 Score (Micro) 0.7441050903557466\n",
            "Val F1 Score (Micro) 0.7927577716346054\n",
            "Train loss 0.042130613576860654\n",
            "Val loss 0.03191247444866488\n",
            "Best model saved\n",
            "------------------------------------------------\n",
            "Epoch :  14\n"
          ]
        },
        {
          "output_type": "stream",
          "name": "stderr",
          "text": [
            "Training: 100%|██████████| 4023/4023 [02:42<00:00, 24.81it/s]\n",
            "Evaluate: 100%|██████████| 1006/1006 [00:25<00:00, 39.32it/s]\n"
          ]
        },
        {
          "output_type": "stream",
          "name": "stdout",
          "text": [
            "Train F1 Score (Micro) 0.7495187177174497\n",
            "Val F1 Score (Micro) 0.7820948722372172\n",
            "Train loss 0.041558914155549534\n",
            "Val loss 0.03248290233239976\n",
            "------------------------------------------------\n",
            "Epoch :  15\n"
          ]
        },
        {
          "output_type": "stream",
          "name": "stderr",
          "text": [
            "Training: 100%|██████████| 4023/4023 [02:49<00:00, 23.73it/s]\n",
            "Evaluate: 100%|██████████| 1006/1006 [00:25<00:00, 38.94it/s]\n"
          ]
        },
        {
          "output_type": "stream",
          "name": "stdout",
          "text": [
            "Train F1 Score (Micro) 0.7486392633132232\n",
            "Val F1 Score (Micro) 0.7797594099556378\n",
            "Train loss 0.04134783691678241\n",
            "Val loss 0.03278793707660309\n",
            "------------------------------------------------\n",
            "Epoch :  16\n"
          ]
        },
        {
          "output_type": "stream",
          "name": "stderr",
          "text": [
            "Training: 100%|██████████| 4023/4023 [02:42<00:00, 24.81it/s]\n",
            "Evaluate: 100%|██████████| 1006/1006 [00:25<00:00, 39.65it/s]\n"
          ]
        },
        {
          "output_type": "stream",
          "name": "stdout",
          "text": [
            "Train F1 Score (Micro) 0.6556829327583834\n",
            "Val F1 Score (Micro) 0.6536182029767341\n",
            "Train loss 0.05073737324102731\n",
            "Val loss 0.04234929128770326\n",
            "------------------------------------------------\n",
            "Epoch :  17\n"
          ]
        },
        {
          "output_type": "stream",
          "name": "stderr",
          "text": [
            "Training: 100%|██████████| 4023/4023 [02:44<00:00, 24.49it/s]\n",
            "Evaluate: 100%|██████████| 1006/1006 [00:23<00:00, 42.37it/s]\n"
          ]
        },
        {
          "output_type": "stream",
          "name": "stdout",
          "text": [
            "Train F1 Score (Micro) 0.628831616820405\n",
            "Val F1 Score (Micro) 0.6664279392742869\n",
            "Train loss 0.05317241102901526\n",
            "Val loss 0.04221449460219555\n",
            "------------------------------------------------\n",
            "Epoch :  18\n"
          ]
        },
        {
          "output_type": "stream",
          "name": "stderr",
          "text": [
            "Training: 100%|██████████| 4023/4023 [02:43<00:00, 24.58it/s]\n",
            "Evaluate: 100%|██████████| 1006/1006 [00:25<00:00, 39.47it/s]\n"
          ]
        },
        {
          "output_type": "stream",
          "name": "stdout",
          "text": [
            "Train F1 Score (Micro) 0.6405723292167732\n",
            "Val F1 Score (Micro) 0.6778894397506091\n",
            "Train loss 0.05161995057821304\n",
            "Val loss 0.04105025909981777\n",
            "------------------------------------------------\n",
            "Epoch :  19\n"
          ]
        },
        {
          "output_type": "stream",
          "name": "stderr",
          "text": [
            "Training: 100%|██████████| 4023/4023 [02:44<00:00, 24.48it/s]\n",
            "Evaluate: 100%|██████████| 1006/1006 [00:23<00:00, 42.73it/s]\n"
          ]
        },
        {
          "output_type": "stream",
          "name": "stdout",
          "text": [
            "Train F1 Score (Micro) 0.6344149723431848\n",
            "Val F1 Score (Micro) 0.6811004038878535\n",
            "Train loss 0.0523588364421136\n",
            "Val loss 0.04098965327772006\n",
            "------------------------------------------------\n",
            "Epoch :  20\n"
          ]
        },
        {
          "output_type": "stream",
          "name": "stderr",
          "text": [
            "Training: 100%|██████████| 4023/4023 [02:43<00:00, 24.61it/s]\n",
            "Evaluate: 100%|██████████| 1006/1006 [00:25<00:00, 39.23it/s]\n"
          ]
        },
        {
          "output_type": "stream",
          "name": "stdout",
          "text": [
            "Train F1 Score (Micro) 0.6734002119098154\n",
            "Val F1 Score (Micro) 0.7784257434110619\n",
            "Train loss 0.04857264482051601\n",
            "Val loss 0.03332296727969502\n",
            "------------------------------------------------\n",
            "Epoch :  21\n"
          ]
        },
        {
          "output_type": "stream",
          "name": "stderr",
          "text": [
            "Training: 100%|██████████| 4023/4023 [02:41<00:00, 24.91it/s]\n",
            "Evaluate: 100%|██████████| 1006/1006 [00:25<00:00, 39.56it/s]\n"
          ]
        },
        {
          "output_type": "stream",
          "name": "stdout",
          "text": [
            "Train F1 Score (Micro) 0.7431782164718044\n",
            "Val F1 Score (Micro) 0.7839455517006968\n",
            "Train loss 0.0422378296521938\n",
            "Val loss 0.03243611005892159\n",
            "------------------------------------------------\n",
            "Epoch :  22\n"
          ]
        },
        {
          "output_type": "stream",
          "name": "stderr",
          "text": [
            "Training: 100%|██████████| 4023/4023 [02:42<00:00, 24.72it/s]\n",
            "Evaluate: 100%|██████████| 1006/1006 [00:25<00:00, 39.35it/s]\n"
          ]
        },
        {
          "output_type": "stream",
          "name": "stdout",
          "text": [
            "Train F1 Score (Micro) 0.7480186970036666\n",
            "Val F1 Score (Micro) 0.7854805238433238\n",
            "Train loss 0.04159332182663029\n",
            "Val loss 0.032048688297924656\n",
            "------------------------------------------------\n",
            "Epoch :  23\n"
          ]
        },
        {
          "output_type": "stream",
          "name": "stderr",
          "text": [
            "Training: 100%|██████████| 4023/4023 [02:43<00:00, 24.58it/s]\n",
            "Evaluate: 100%|██████████| 1006/1006 [00:25<00:00, 39.64it/s]\n"
          ]
        },
        {
          "output_type": "stream",
          "name": "stdout",
          "text": [
            "Train F1 Score (Micro) 0.7500586209957223\n",
            "Val F1 Score (Micro) 0.7827500954536961\n",
            "Train loss 0.041334104698994935\n",
            "Val loss 0.032772116620412045\n",
            "------------------------------------------------\n",
            "Epoch :  24\n"
          ]
        },
        {
          "output_type": "stream",
          "name": "stderr",
          "text": [
            "Training: 100%|██████████| 4023/4023 [02:43<00:00, 24.54it/s]\n",
            "Evaluate: 100%|██████████| 1006/1006 [00:25<00:00, 39.34it/s]\n"
          ]
        },
        {
          "output_type": "stream",
          "name": "stdout",
          "text": [
            "Train F1 Score (Micro) 0.7450350550723059\n",
            "Val F1 Score (Micro) 0.7845947689174771\n",
            "Train loss 0.042138745298499404\n",
            "Val loss 0.032244385460810085\n",
            "------------------------------------------------\n",
            "Epoch :  25\n"
          ]
        },
        {
          "output_type": "stream",
          "name": "stderr",
          "text": [
            "Training: 100%|██████████| 4023/4023 [02:42<00:00, 24.68it/s]\n",
            "Evaluate: 100%|██████████| 1006/1006 [00:25<00:00, 39.46it/s]\n"
          ]
        },
        {
          "output_type": "stream",
          "name": "stdout",
          "text": [
            "Train F1 Score (Micro) 0.7496088466592755\n",
            "Val F1 Score (Micro) 0.7839407011163391\n",
            "Train loss 0.041349773078308664\n",
            "Val loss 0.03216752614900025\n",
            "------------------------------------------------\n",
            "Epoch :  26\n"
          ]
        },
        {
          "output_type": "stream",
          "name": "stderr",
          "text": [
            "Training: 100%|██████████| 4023/4023 [02:43<00:00, 24.57it/s]\n",
            "Evaluate: 100%|██████████| 1006/1006 [00:25<00:00, 39.04it/s]\n"
          ]
        },
        {
          "output_type": "stream",
          "name": "stdout",
          "text": [
            "Train F1 Score (Micro) 0.7510329798438111\n",
            "Val F1 Score (Micro) 0.7828915728494918\n",
            "Train loss 0.0411769156553742\n",
            "Val loss 0.032136140904106034\n",
            "------------------------------------------------\n",
            "Epoch :  27\n"
          ]
        },
        {
          "output_type": "stream",
          "name": "stderr",
          "text": [
            "Training: 100%|██████████| 4023/4023 [02:42<00:00, 24.78it/s]\n",
            "Evaluate: 100%|██████████| 1006/1006 [00:25<00:00, 39.81it/s]\n"
          ]
        },
        {
          "output_type": "stream",
          "name": "stdout",
          "text": [
            "Train F1 Score (Micro) 0.7362056809058704\n",
            "Val F1 Score (Micro) 0.7836238892041366\n",
            "Train loss 0.04363810378810881\n",
            "Val loss 0.032393990728863425\n",
            "------------------------------------------------\n",
            "Epoch :  28\n"
          ]
        },
        {
          "output_type": "stream",
          "name": "stderr",
          "text": [
            "Training: 100%|██████████| 4023/4023 [02:43<00:00, 24.57it/s]\n",
            "Evaluate: 100%|██████████| 1006/1006 [00:25<00:00, 39.33it/s]\n"
          ]
        },
        {
          "output_type": "stream",
          "name": "stdout",
          "text": [
            "Train F1 Score (Micro) 0.7435088483463174\n",
            "Val F1 Score (Micro) 0.7790352768626249\n",
            "Train loss 0.04234621816426108\n",
            "Val loss 0.03281694092597094\n",
            "------------------------------------------------\n",
            "Epoch :  29\n"
          ]
        },
        {
          "output_type": "stream",
          "name": "stderr",
          "text": [
            "Training: 100%|██████████| 4023/4023 [02:43<00:00, 24.61it/s]\n",
            "Evaluate: 100%|██████████| 1006/1006 [00:23<00:00, 42.88it/s]\n"
          ]
        },
        {
          "output_type": "stream",
          "name": "stdout",
          "text": [
            "Train F1 Score (Micro) 0.7420202988891553\n",
            "Val F1 Score (Micro) 0.7871967355951098\n",
            "Train loss 0.042456661046603235\n",
            "Val loss 0.03179983783579963\n",
            "Best model saved\n",
            "------------------------------------------------\n",
            "Epoch :  30\n"
          ]
        },
        {
          "output_type": "stream",
          "name": "stderr",
          "text": [
            "Training: 100%|██████████| 4023/4023 [02:42<00:00, 24.69it/s]\n",
            "Evaluate: 100%|██████████| 1006/1006 [00:25<00:00, 39.59it/s]\n"
          ]
        },
        {
          "output_type": "stream",
          "name": "stdout",
          "text": [
            "Train F1 Score (Micro) 0.7496573876442031\n",
            "Val F1 Score (Micro) 0.7884625763692494\n",
            "Train loss 0.04132763312200305\n",
            "Val loss 0.03164360289152704\n",
            "Best model saved\n",
            "------------------------------------------------\n"
          ]
        }
      ]
    },
    {
      "cell_type": "markdown",
      "metadata": {
        "id": "bwZfUS12hSVv"
      },
      "source": [
        "# Evaluation"
      ]
    },
    {
      "cell_type": "code",
      "execution_count": null,
      "metadata": {
        "id": "v4P3KQ3_hSVw"
      },
      "outputs": [],
      "source": [
        "def test_scores(model, device, label_embedding):\n",
        "\n",
        "    model.eval()\n",
        "\n",
        "    y_true = []\n",
        "    y_pred = []\n",
        "    with torch.no_grad():\n",
        "        for batch in tqdm(dataloader_test, desc='Evaluate'):\n",
        "            sequence_in, output_label = batch\n",
        "            sequence_in, output_label = sequence_in.float().to(device), output_label.to(device)\n",
        "\n",
        "            pred_batch = model(sequence_in, label_embedding)\n",
        "\n",
        "            y_true.extend(output_label.cpu().detach().numpy().tolist())\n",
        "            y_pred.extend(torch.sigmoid(pred_batch.cpu().detach()).numpy().tolist())\n",
        "\n",
        "\n",
        "    y_true = np.array(y_true)\n",
        "    y_pred = np.array(y_pred)\n",
        "\n",
        "    y_pred = y_pred >= 0.5\n",
        "\n",
        "    accuracy = metrics.accuracy_score(y_true, y_pred)\n",
        "    f1_score_micro = metrics.f1_score(y_true, y_pred, average='micro')\n",
        "\n",
        "    print('Test Accuracy', accuracy)\n",
        "    print('Test F1 Score (Micro)', f1_score_micro)\n",
        "\n",
        "    print('Classification report')\n",
        "    print(classification_report(y_true, y_pred, zero_division=0))"
      ]
    },
    {
      "cell_type": "code",
      "execution_count": null,
      "metadata": {
        "id": "004v7xzmhSVw",
        "colab": {
          "base_uri": "https://localhost:8080/"
        },
        "outputId": "40bf561c-172b-42b6-9fbd-0eea220b6ef4"
      },
      "outputs": [
        {
          "output_type": "stream",
          "name": "stderr",
          "text": [
            "Evaluate: 100%|██████████| 1257/1257 [00:24<00:00, 50.31it/s]\n"
          ]
        },
        {
          "output_type": "stream",
          "name": "stdout",
          "text": [
            "Test Accuracy 0.5042732917710386\n",
            "Test F1 Score (Micro) 0.8076744031389239\n",
            "Classification report\n",
            "              precision    recall  f1-score   support\n",
            "\n",
            "           0       0.82      0.13      0.23      4880\n",
            "           1       0.88      0.44      0.59      2353\n",
            "           2       0.76      0.21      0.33      7468\n",
            "           3       0.63      0.11      0.19      1412\n",
            "           4       0.95      0.89      0.92     30358\n",
            "           5       0.96      0.85      0.90     16478\n",
            "           6       0.93      0.69      0.79      4642\n",
            "           7       0.90      0.73      0.81     14554\n",
            "           8       0.00      0.00      0.00       416\n",
            "           9       0.90      0.64      0.75      8427\n",
            "          10       0.91      0.47      0.62      3615\n",
            "          11       0.91      0.54      0.68      2353\n",
            "          12       1.00      0.01      0.02       493\n",
            "          13       0.99      0.44      0.61      1184\n",
            "          14       0.88      0.73      0.80     10633\n",
            "          15       0.84      0.68      0.75      8742\n",
            "          16       1.00      0.01      0.03       958\n",
            "          17       0.94      0.20      0.34      1499\n",
            "          18       0.83      0.29      0.42      5132\n",
            "          19       0.56      0.01      0.02      1256\n",
            "          20       0.00      0.00      0.00       526\n",
            "          21       0.79      0.38      0.51      6434\n",
            "          22       0.83      0.27      0.41      8017\n",
            "          23       0.71      0.01      0.01       849\n",
            "          24       0.75      0.01      0.01      1300\n",
            "          25       0.00      0.00      0.00       221\n",
            "          26       0.00      0.00      0.00       427\n",
            "          27       0.92      0.26      0.40      3108\n",
            "          28       0.00      0.00      0.00       269\n",
            "          29       0.86      0.15      0.26       987\n",
            "          30       0.96      0.61      0.75      2216\n",
            "          31       0.95      0.67      0.78      2011\n",
            "          32       0.92      0.50      0.65      2456\n",
            "          33       0.95      0.93      0.94     76361\n",
            "          34       0.91      0.20      0.32      1764\n",
            "          35       0.80      0.43      0.56      5386\n",
            "          36       1.00      0.00      0.01       428\n",
            "          37       0.98      0.50      0.67      1303\n",
            "          38       0.90      0.54      0.67      1119\n",
            "          39       0.00      0.00      0.00       187\n",
            "          40       0.50      0.00      0.00       449\n",
            "          41       0.00      0.00      0.00        83\n",
            "          42       0.00      0.00      0.00        50\n",
            "          43       0.00      0.00      0.00       235\n",
            "          44       0.93      0.72      0.81      8658\n",
            "          45       0.88      0.51      0.64      3114\n",
            "          46       0.96      0.73      0.83      5602\n",
            "          47       1.00      0.00      0.00       517\n",
            "          48       1.00      0.00      0.01       363\n",
            "          49       0.00      0.00      0.00        11\n",
            "          50       0.00      0.00      0.00        24\n",
            "          51       0.90      0.67      0.77      3442\n",
            "          52       0.72      0.20      0.32       415\n",
            "          53       0.88      0.40      0.55      4241\n",
            "          54       0.33      0.00      0.00       584\n",
            "          55       0.88      0.36      0.51      2559\n",
            "          56       0.95      0.04      0.08       466\n",
            "          57       0.00      0.00      0.00        81\n",
            "          58       0.99      0.83      0.90      1067\n",
            "          59       0.90      0.77      0.83     24159\n",
            "          60       0.93      0.71      0.80      4059\n",
            "          61       0.37      0.06      0.10       643\n",
            "          62       0.12      0.00      0.00       418\n",
            "          63       0.00      0.00      0.00       442\n",
            "          64       0.95      0.53      0.68      1707\n",
            "          65       0.00      0.00      0.00       409\n",
            "          66       0.00      0.00      0.00        48\n",
            "          67       0.93      0.11      0.20       390\n",
            "          68       0.91      0.05      0.09       823\n",
            "          69       0.00      0.00      0.00         8\n",
            "          70       0.95      0.92      0.93     47602\n",
            "          71       0.87      0.62      0.73      6341\n",
            "          72       0.86      0.22      0.35      1756\n",
            "          73       0.61      0.47      0.53      7486\n",
            "          74       0.94      0.39      0.55      1719\n",
            "          75       1.00      0.00      0.00       748\n",
            "          76       0.52      0.03      0.05      1287\n",
            "          77       0.00      0.00      0.00        54\n",
            "          78       0.84      0.19      0.30      1182\n",
            "          79       0.91      0.67      0.77      3466\n",
            "          80       0.00      0.00      0.00         1\n",
            "          81       0.00      0.00      0.00       168\n",
            "          82       0.00      0.00      0.00       563\n",
            "          83       0.84      0.65      0.73     11277\n",
            "          84       0.87      0.03      0.06      1084\n",
            "          85       0.00      0.00      0.00       579\n",
            "          86       0.00      0.00      0.00       501\n",
            "          87       0.98      0.95      0.97      7068\n",
            "          88       0.00      0.00      0.00       137\n",
            "          89       0.60      0.53      0.56      6482\n",
            "          90       0.85      0.52      0.65      2331\n",
            "          91       0.97      0.30      0.46       792\n",
            "          92       0.00      0.00      0.00       363\n",
            "          93       0.95      0.85      0.90      9721\n",
            "          94       0.91      0.71      0.80      5281\n",
            "          95       0.96      0.61      0.74     10749\n",
            "          96       0.93      0.79      0.86      5696\n",
            "          97       0.65      0.82      0.72      5343\n",
            "          98       0.95      0.92      0.93     17034\n",
            "          99       0.95      0.92      0.93      9485\n",
            "         100       0.94      0.77      0.85      2445\n",
            "         101       0.96      0.83      0.89      4367\n",
            "         102       0.95      0.92      0.94     41007\n",
            "\n",
            "   micro avg       0.92      0.72      0.81    521404\n",
            "   macro avg       0.66      0.34      0.40    521404\n",
            "weighted avg       0.89      0.72      0.78    521404\n",
            " samples avg       0.92      0.77      0.81    521404\n",
            "\n"
          ]
        }
      ],
      "source": [
        "best_model_4 = torch.load('/content/drive/MyDrive/MLTC_RCV1rcv1_head4.pth')\n",
        "test_scores(best_model_4, device, label_embedding)"
      ]
    },
    {
      "cell_type": "code",
      "source": [
        "best_model_2 = torch.load('/content/drive/MyDrive/MLTC_RCV1rcv1_head2.pth')\n",
        "test_scores(best_model_2, device, label_embedding)"
      ],
      "metadata": {
        "colab": {
          "base_uri": "https://localhost:8080/"
        },
        "id": "19PEZeT_zKUm",
        "outputId": "c4ddb4d2-b214-4fdf-ec2b-0dd2c8470ebc"
      },
      "execution_count": null,
      "outputs": [
        {
          "output_type": "stream",
          "name": "stderr",
          "text": [
            "Evaluate: 100%|██████████| 1257/1257 [00:13<00:00, 91.93it/s] \n"
          ]
        },
        {
          "output_type": "stream",
          "name": "stdout",
          "text": [
            "Test Accuracy 0.4863410055754803\n",
            "Test F1 Score (Micro) 0.792486189297815\n",
            "Classification report\n",
            "              precision    recall  f1-score   support\n",
            "\n",
            "           0       0.78      0.06      0.11      4880\n",
            "           1       0.90      0.35      0.50      2353\n",
            "           2       0.74      0.14      0.23      7468\n",
            "           3       0.56      0.01      0.01      1412\n",
            "           4       0.95      0.88      0.91     30358\n",
            "           5       0.96      0.84      0.90     16478\n",
            "           6       0.91      0.68      0.78      4642\n",
            "           7       0.88      0.73      0.80     14554\n",
            "           8       0.00      0.00      0.00       416\n",
            "           9       0.92      0.55      0.69      8427\n",
            "          10       0.92      0.43      0.58      3615\n",
            "          11       0.95      0.30      0.46      2353\n",
            "          12       0.00      0.00      0.00       493\n",
            "          13       0.99      0.16      0.28      1184\n",
            "          14       0.90      0.66      0.76     10633\n",
            "          15       0.82      0.69      0.75      8742\n",
            "          16       1.00      0.00      0.00       958\n",
            "          17       0.93      0.06      0.12      1499\n",
            "          18       0.82      0.23      0.36      5132\n",
            "          19       0.00      0.00      0.00      1256\n",
            "          20       0.00      0.00      0.00       526\n",
            "          21       0.77      0.30      0.43      6434\n",
            "          22       0.84      0.24      0.37      8017\n",
            "          23       0.75      0.01      0.01       849\n",
            "          24       0.50      0.00      0.00      1300\n",
            "          25       0.00      0.00      0.00       221\n",
            "          26       0.00      0.00      0.00       427\n",
            "          27       0.96      0.17      0.29      3108\n",
            "          28       0.00      0.00      0.00       269\n",
            "          29       0.93      0.03      0.05       987\n",
            "          30       0.98      0.49      0.65      2216\n",
            "          31       0.97      0.53      0.69      2011\n",
            "          32       0.94      0.40      0.56      2456\n",
            "          33       0.95      0.93      0.94     76361\n",
            "          34       0.93      0.16      0.27      1764\n",
            "          35       0.82      0.29      0.43      5386\n",
            "          36       0.00      0.00      0.00       428\n",
            "          37       0.99      0.37      0.54      1303\n",
            "          38       0.92      0.40      0.55      1119\n",
            "          39       0.00      0.00      0.00       187\n",
            "          40       0.94      0.04      0.07       449\n",
            "          41       0.00      0.00      0.00        83\n",
            "          42       0.00      0.00      0.00        50\n",
            "          43       0.00      0.00      0.00       235\n",
            "          44       0.95      0.64      0.76      8658\n",
            "          45       0.64      0.18      0.28      3114\n",
            "          46       0.98      0.68      0.80      5602\n",
            "          47       1.00      0.02      0.03       517\n",
            "          48       1.00      0.03      0.05       363\n",
            "          49       0.00      0.00      0.00        11\n",
            "          50       0.00      0.00      0.00        24\n",
            "          51       0.87      0.69      0.77      3442\n",
            "          52       0.62      0.49      0.55       415\n",
            "          53       0.84      0.42      0.56      4241\n",
            "          54       0.00      0.00      0.00       584\n",
            "          55       0.88      0.32      0.47      2559\n",
            "          56       0.00      0.00      0.00       466\n",
            "          57       0.00      0.00      0.00        81\n",
            "          58       0.99      0.68      0.81      1067\n",
            "          59       0.91      0.73      0.81     24159\n",
            "          60       0.95      0.59      0.73      4059\n",
            "          61       0.00      0.00      0.00       643\n",
            "          62       0.00      0.00      0.00       418\n",
            "          63       0.00      0.00      0.00       442\n",
            "          64       0.59      0.31      0.41      1707\n",
            "          65       0.00      0.00      0.00       409\n",
            "          66       0.00      0.00      0.00        48\n",
            "          67       1.00      0.01      0.01       390\n",
            "          68       0.00      0.00      0.00       823\n",
            "          69       0.00      0.00      0.00         8\n",
            "          70       0.95      0.91      0.93     47602\n",
            "          71       0.86      0.61      0.71      6341\n",
            "          72       0.93      0.08      0.15      1756\n",
            "          73       0.83      0.59      0.69      7486\n",
            "          74       0.95      0.18      0.30      1719\n",
            "          75       0.00      0.00      0.00       748\n",
            "          76       0.45      0.01      0.02      1287\n",
            "          77       0.00      0.00      0.00        54\n",
            "          78       0.91      0.09      0.16      1182\n",
            "          79       0.87      0.72      0.79      3466\n",
            "          80       0.00      0.00      0.00         1\n",
            "          81       0.00      0.00      0.00       168\n",
            "          82       0.00      0.00      0.00       563\n",
            "          83       0.86      0.58      0.69     11277\n",
            "          84       0.00      0.00      0.00      1084\n",
            "          85       0.00      0.00      0.00       579\n",
            "          86       0.00      0.00      0.00       501\n",
            "          87       0.99      0.93      0.96      7068\n",
            "          88       0.00      0.00      0.00       137\n",
            "          89       0.85      0.64      0.73      6482\n",
            "          90       0.83      0.50      0.62      2331\n",
            "          91       0.96      0.30      0.45       792\n",
            "          92       0.00      0.00      0.00       363\n",
            "          93       0.95      0.83      0.89      9721\n",
            "          94       0.92      0.65      0.76      5281\n",
            "          95       0.96      0.60      0.74     10749\n",
            "          96       0.94      0.76      0.84      5696\n",
            "          97       0.64      0.81      0.72      5343\n",
            "          98       0.94      0.91      0.93     17034\n",
            "          99       0.95      0.90      0.92      9485\n",
            "         100       0.95      0.71      0.81      2445\n",
            "         101       0.96      0.83      0.89      4367\n",
            "         102       0.95      0.90      0.93     41007\n",
            "\n",
            "   micro avg       0.92      0.69      0.79    521404\n",
            "   macro avg       0.59      0.30      0.36    521404\n",
            "weighted avg       0.89      0.69      0.75    521404\n",
            " samples avg       0.92      0.74      0.79    521404\n",
            "\n"
          ]
        }
      ]
    },
    {
      "cell_type": "code",
      "source": [
        "best_model_8 = torch.load('/content/drive/MyDrive/MLTC_RCV1rcv1_head8.pth')\n",
        "test_scores(best_model_8, device, label_embedding)"
      ],
      "metadata": {
        "colab": {
          "base_uri": "https://localhost:8080/"
        },
        "id": "oH9OE2WNzK9c",
        "outputId": "b1ad8c08-a36d-43f8-9491-c6d5ee0f3870"
      },
      "execution_count": null,
      "outputs": [
        {
          "output_type": "stream",
          "name": "stderr",
          "text": [
            "Evaluate: 100%|██████████| 1257/1257 [00:29<00:00, 41.97it/s]\n"
          ]
        },
        {
          "output_type": "stream",
          "name": "stdout",
          "text": [
            "Test Accuracy 0.42227581534406994\n",
            "Test F1 Score (Micro) 0.7869712461442223\n",
            "Classification report\n",
            "              precision    recall  f1-score   support\n",
            "\n",
            "           0       0.83      0.10      0.18      4880\n",
            "           1       0.89      0.40      0.55      2353\n",
            "           2       0.75      0.20      0.32      7468\n",
            "           3       0.65      0.10      0.18      1412\n",
            "           4       0.97      0.66      0.79     30358\n",
            "           5       0.95      0.85      0.90     16478\n",
            "           6       0.95      0.64      0.76      4642\n",
            "           7       0.55      0.78      0.64     14554\n",
            "           8       0.00      0.00      0.00       416\n",
            "           9       0.90      0.63      0.74      8427\n",
            "          10       0.88      0.54      0.67      3615\n",
            "          11       0.91      0.55      0.68      2353\n",
            "          12       1.00      0.01      0.03       493\n",
            "          13       0.98      0.57      0.72      1184\n",
            "          14       0.90      0.69      0.78     10633\n",
            "          15       0.83      0.69      0.76      8742\n",
            "          16       0.92      0.01      0.02       958\n",
            "          17       0.93      0.16      0.28      1499\n",
            "          18       0.82      0.26      0.40      5132\n",
            "          19       0.57      0.00      0.01      1256\n",
            "          20       0.00      0.00      0.00       526\n",
            "          21       0.81      0.30      0.43      6434\n",
            "          22       0.79      0.30      0.44      8017\n",
            "          23       1.00      0.01      0.01       849\n",
            "          24       0.58      0.01      0.02      1300\n",
            "          25       0.00      0.00      0.00       221\n",
            "          26       0.00      0.00      0.00       427\n",
            "          27       0.94      0.22      0.36      3108\n",
            "          28       1.00      0.03      0.05       269\n",
            "          29       0.85      0.18      0.30       987\n",
            "          30       0.98      0.56      0.71      2216\n",
            "          31       0.97      0.59      0.73      2011\n",
            "          32       0.91      0.54      0.68      2456\n",
            "          33       0.95      0.93      0.94     76361\n",
            "          34       0.89      0.22      0.35      1764\n",
            "          35       0.81      0.34      0.48      5386\n",
            "          36       1.00      0.03      0.05       428\n",
            "          37       0.96      0.53      0.69      1303\n",
            "          38       0.89      0.58      0.70      1119\n",
            "          39       0.00      0.00      0.00       187\n",
            "          40       0.94      0.04      0.07       449\n",
            "          41       0.00      0.00      0.00        83\n",
            "          42       0.00      0.00      0.00        50\n",
            "          43       1.00      0.02      0.03       235\n",
            "          44       0.93      0.71      0.80      8658\n",
            "          45       0.92      0.38      0.54      3114\n",
            "          46       0.96      0.73      0.83      5602\n",
            "          47       1.00      0.05      0.10       517\n",
            "          48       0.96      0.07      0.13       363\n",
            "          49       0.00      0.00      0.00        11\n",
            "          50       0.00      0.00      0.00        24\n",
            "          51       0.90      0.65      0.76      3442\n",
            "          52       0.00      0.00      0.00       415\n",
            "          53       0.87      0.37      0.52      4241\n",
            "          54       0.00      0.00      0.00       584\n",
            "          55       0.87      0.38      0.53      2559\n",
            "          56       0.99      0.30      0.46       466\n",
            "          57       0.00      0.00      0.00        81\n",
            "          58       0.99      0.84      0.91      1067\n",
            "          59       0.91      0.75      0.82     24159\n",
            "          60       0.94      0.66      0.77      4059\n",
            "          61       0.00      0.00      0.00       643\n",
            "          62       0.00      0.00      0.00       418\n",
            "          63       0.00      0.00      0.00       442\n",
            "          64       0.96      0.41      0.57      1707\n",
            "          65       0.33      0.00      0.01       409\n",
            "          66       0.00      0.00      0.00        48\n",
            "          67       0.88      0.23      0.36       390\n",
            "          68       0.93      0.06      0.12       823\n",
            "          69       0.00      0.00      0.00         8\n",
            "          70       0.95      0.91      0.93     47602\n",
            "          71       0.88      0.60      0.71      6341\n",
            "          72       0.86      0.22      0.35      1756\n",
            "          73       0.61      0.39      0.48      7486\n",
            "          74       0.94      0.36      0.52      1719\n",
            "          75       1.00      0.00      0.00       748\n",
            "          76       0.57      0.01      0.02      1287\n",
            "          77       0.00      0.00      0.00        54\n",
            "          78       0.86      0.15      0.26      1182\n",
            "          79       0.91      0.66      0.76      3466\n",
            "          80       0.00      0.00      0.00         1\n",
            "          81       0.00      0.00      0.00       168\n",
            "          82       0.00      0.00      0.00       563\n",
            "          83       0.86      0.61      0.71     11277\n",
            "          84       1.00      0.01      0.01      1084\n",
            "          85       0.00      0.00      0.00       579\n",
            "          86       0.00      0.00      0.00       501\n",
            "          87       0.99      0.94      0.96      7068\n",
            "          88       0.00      0.00      0.00       137\n",
            "          89       0.63      0.46      0.53      6482\n",
            "          90       0.86      0.47      0.61      2331\n",
            "          91       0.96      0.34      0.50       792\n",
            "          92       0.00      0.00      0.00       363\n",
            "          93       0.95      0.84      0.89      9721\n",
            "          94       0.92      0.70      0.79      5281\n",
            "          95       0.96      0.70      0.81     10749\n",
            "          96       0.94      0.78      0.85      5696\n",
            "          97       0.57      0.83      0.67      5343\n",
            "          98       0.95      0.91      0.93     17034\n",
            "          99       0.95      0.90      0.93      9485\n",
            "         100       0.94      0.77      0.84      2445\n",
            "         101       0.96      0.83      0.89      4367\n",
            "         102       0.95      0.91      0.93     41007\n",
            "\n",
            "   micro avg       0.90      0.70      0.79    521404\n",
            "   macro avg       0.67      0.33      0.39    521404\n",
            "weighted avg       0.89      0.70      0.76    521404\n",
            " samples avg       0.91      0.75      0.78    521404\n",
            "\n"
          ]
        }
      ]
    },
    {
      "cell_type": "code",
      "execution_count": null,
      "metadata": {
        "id": "XHG38p3zhSVw",
        "colab": {
          "base_uri": "https://localhost:8080/"
        },
        "outputId": "133fe114-571d-4cf1-b01d-e8bf77854167"
      },
      "outputs": [
        {
          "output_type": "stream",
          "name": "stdout",
          "text": [
            "MAGNET(\n",
            "  (rnn): LSTM(200, 250, batch_first=True, bidirectional=True)\n",
            "  (attentions1): ModuleList(\n",
            "    (0-3): 4 x GraphAttentionLayer(\n",
            "      (W): Linear(in_features=200, out_features=500, bias=False)\n",
            "      (a): Linear(in_features=1000, out_features=1, bias=False)\n",
            "      (leakyrelu): LeakyReLU(negative_slope=0.01)\n",
            "      (softmax): Softmax(dim=1)\n",
            "    )\n",
            "  )\n",
            "  (tanh1): Tanh()\n",
            "  (attentions2): ModuleList(\n",
            "    (0-3): 4 x GraphAttentionLayer(\n",
            "      (W): Linear(in_features=500, out_features=500, bias=False)\n",
            "      (a): Linear(in_features=1000, out_features=1, bias=False)\n",
            "      (leakyrelu): LeakyReLU(negative_slope=0.01)\n",
            "      (softmax): Softmax(dim=1)\n",
            "    )\n",
            "  )\n",
            "  (tanh2): Tanh()\n",
            "  (dropout): Dropout(p=0.5, inplace=False)\n",
            ")\n",
            "The model has 2,322,609 trainable parameters\n"
          ]
        }
      ],
      "source": [
        "num_params = sum(p.numel() for p in best_model_4.parameters() if p.requires_grad) \n",
        "\n",
        "print(best_model_4)\n",
        "print(f'The model has {num_params:,} trainable parameters')"
      ]
    },
    {
      "cell_type": "code",
      "execution_count": null,
      "metadata": {
        "id": "zFg0zqM1hSVx"
      },
      "outputs": [],
      "source": [
        "# print('Train loss', train_loss)\n",
        "# print('Val loss', val_loss)"
      ]
    },
    {
      "cell_type": "code",
      "execution_count": null,
      "metadata": {
        "id": "SKg6aRlihSVx"
      },
      "outputs": [],
      "source": [
        "# print('Avg epoch time', round(avg_epoch_time, 2), 'secs')"
      ]
    },
    {
      "cell_type": "code",
      "source": [
        "print('Train loss', train_loss_2)\n",
        "print('Val loss', val_loss_2)"
      ],
      "metadata": {
        "colab": {
          "base_uri": "https://localhost:8080/"
        },
        "id": "fR1JkKxbbJmf",
        "outputId": "3901775f-964c-4396-adcb-6805b11532e7"
      },
      "execution_count": null,
      "outputs": [
        {
          "output_type": "stream",
          "name": "stdout",
          "text": [
            "Train loss [0.1044898838927104, 0.09567498278475625, 0.06921081227351562, 0.057853707694130216, 0.06497542082470743, 0.05618950119739796, 0.06647510916316891, 0.05583798603842041, 0.05184697100983874, 0.051291116687631005, 0.049403898311459894, 0.050604011777352256, 0.05031855812742139, 0.050916915933994875, 0.04876598979876819, 0.04773301235023954, 0.047739429128516704, 0.04687710409081607, 0.0464850456585583, 0.049235950711871035, 0.046108659540180126, 0.04596633326031662, 0.04648004386508284, 0.048132667450867216, 0.046393882858273165, 0.045483148156515024, 0.04475895538620545, 0.04445766795471981, 0.04403806493388178, 0.04396584071450467]\n",
            "Val loss [0.10193263760825275, 0.0721416587480316, 0.05563873562880349, 0.04489887663520591, 0.04800832400442829, 0.09115186125543671, 0.04587328433620171, 0.04465797464279958, 0.03872012674334509, 0.039517167218725675, 0.08156152445060122, 0.03720384816015158, 0.039780479429982175, 0.039600201606543116, 0.03744699147753936, 0.03584026146650492, 0.037316781463134836, 0.035230488379376666, 0.0356644176846559, 0.03513445854409196, 0.034217605304350675, 0.03573925134949905, 0.03777405349111877, 0.035221975759619745, 0.03350792427882404, 0.03469116792682684, 0.03362723611569251, 0.033087064076963046, 0.032616127869317946, 0.03247134307506781]\n"
          ]
        }
      ]
    },
    {
      "cell_type": "code",
      "source": [
        "print('Train loss', train_loss_4)\n",
        "print('Val loss', val_loss_4)"
      ],
      "metadata": {
        "colab": {
          "base_uri": "https://localhost:8080/"
        },
        "id": "36AQvrUObNEU",
        "outputId": "583d7953-8792-43ef-bcae-07a292f4b0e9"
      },
      "execution_count": null,
      "outputs": [
        {
          "output_type": "stream",
          "name": "stdout",
          "text": [
            "Train loss [0.08591950068534117, 0.06248360764575099, 0.05727929555540828, 0.04757531692965867, 0.047163379211242654, 0.04502218625670993, 0.04317480305928793, 0.04229222447570879, 0.041590172674283735, 0.04112412195894409, 0.04072843652367666, 0.04039321848837899, 0.0402962222024928, 0.03995468092815158, 0.0396955262600131, 0.03966323683964815, 0.039569737092438335, 0.039373153697939145, 0.03937234325283963, 0.03920322521991348, 0.039069280248267745, 0.0389757676046826, 0.038929175333636865, 0.03895961921203723, 0.038763145009380294, 0.03867020057488845, 0.03875858338631684, 0.03853196613147962, 0.038569859582990994, 0.03852545125713225]\n",
            "Val loss [0.05792215867542012, 0.04945943650472946, 0.04074227452744724, 0.03697212216505414, 0.036994467669020356, 0.03620650581682238, 0.034236572801355815, 0.03313277851582818, 0.03264598598959254, 0.03226640221346207, 0.03199834908149529, 0.03155264609621071, 0.03182868186428876, 0.031049711396454818, 0.03132796129415452, 0.031001346985666936, 0.03090010688382814, 0.03077089836150704, 0.030573683833447888, 0.030439095119862387, 0.030316111181768225, 0.030331141335767496, 0.030178653950216044, 0.030078180663835694, 0.030035652959012015, 0.02983155185041975, 0.030135317914795214, 0.03007445532910037, 0.03001737491659094, 0.029873476298914754]\n"
          ]
        }
      ]
    },
    {
      "cell_type": "code",
      "source": [
        "print('Train loss', train_loss_8)\n",
        "print('Val loss', val_loss_8)"
      ],
      "metadata": {
        "colab": {
          "base_uri": "https://localhost:8080/"
        },
        "id": "l-ophYvQbNjC",
        "outputId": "462c3f85-b1ee-481c-8cee-253e473b7d5e"
      },
      "execution_count": null,
      "outputs": [
        {
          "output_type": "stream",
          "name": "stdout",
          "text": [
            "Train loss [0.08109416040468506, 0.05722859088843538, 0.04959624591152703, 0.04533741987867569, 0.04332278649758602, 0.04823422100623686, 0.04439304198022435, 0.04387536352968412, 0.044296916297366304, 0.04598147705430686, 0.05272500439941246, 0.051254430341759104, 0.042130613576860654, 0.041558914155549534, 0.04134783691678241, 0.05073737324102731, 0.05317241102901526, 0.05161995057821304, 0.0523588364421136, 0.04857264482051601, 0.0422378296521938, 0.04159332182663029, 0.041334104698994935, 0.042138745298499404, 0.041349773078308664, 0.0411769156553742, 0.04363810378810881, 0.04234621816426108, 0.042456661046603235, 0.04132763312200305]\n",
            "Val loss [0.05433122795926885, 0.04228966843122042, 0.038987573786133205, 0.03511123477886792, 0.03536539005808103, 0.034311198536862084, 0.035810462560201026, 0.03476395449095644, 0.03774745134122033, 0.04252868430470496, 0.041913525888300086, 0.03422719656784184, 0.03191247444866488, 0.03248290233239976, 0.03278793707660309, 0.04234929128770326, 0.04221449460219555, 0.04105025909981777, 0.04098965327772006, 0.03332296727969502, 0.03243611005892159, 0.032048688297924656, 0.032772116620412045, 0.032244385460810085, 0.03216752614900025, 0.032136140904106034, 0.032393990728863425, 0.03281694092597094, 0.03179983783579963, 0.03164360289152704]\n"
          ]
        }
      ]
    },
    {
      "cell_type": "code",
      "source": [
        "import matplotlib.pyplot as plt\n",
        "\n",
        "plt.plot(val_loss_2, label='2 heads')\n",
        "plt.plot(val_loss_4, label='4 heads')\n",
        "plt.plot(val_loss_8, label='8 heads')\n",
        "\n",
        "# add title and labels to the plot\n",
        "plt.title('Validation Loss for different number of heads')\n",
        "plt.xlabel('Epochs')\n",
        "plt.ylabel('Validation Loss')\n",
        "\n",
        "# add legend to the plot\n",
        "plt.legend()\n",
        "\n",
        "# show the plot\n",
        "plt.show()\n"
      ],
      "metadata": {
        "colab": {
          "base_uri": "https://localhost:8080/",
          "height": 472
        },
        "id": "-JubZVJQogP1",
        "outputId": "6b5b234c-77a2-494e-db38-0507f6481365"
      },
      "execution_count": null,
      "outputs": [
        {
          "output_type": "display_data",
          "data": {
            "text/plain": [
              "<Figure size 640x480 with 1 Axes>"
            ],
            "image/png": "[encoded data removed]"
          },
          "metadata": {}
        }
      ]
    }
  ],
  "metadata": {
    "kernelspec": {
      "display_name": "Python 3",
      "language": "python",
      "name": "python3"
    },
    "language_info": {
      "codemirror_mode": {
        "name": "ipython",
        "version": 3
      },
      "file_extension": ".py",
      "mimetype": "text/x-python",
      "name": "python",
      "nbconvert_exporter": "python",
      "pygments_lexer": "ipython3",
      "version": "3.10.11"
    },
    "orig_nbformat": 4,
    "vscode": {
      "interpreter": {
        "hash": "7a755c3486a199bb280be05c1d30ef5249180d4344c9bdb63523ed58db47fcbc"
      }
    },
    "colab": {
      "provenance": []
    },
    "accelerator": "GPU",
    "gpuClass": "standard"
  },
  "nbformat": 4,
  "nbformat_minor": 0
}