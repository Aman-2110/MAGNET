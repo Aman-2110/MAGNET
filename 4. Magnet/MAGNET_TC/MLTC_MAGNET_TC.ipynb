{
  "cells": [
    {
      "cell_type": "code",
      "execution_count": null,
      "metadata": {
        "colab": {
          "base_uri": "https://localhost:8080/"
        },
        "id": "0pwlCadyhSVh",
        "outputId": "bbaf1e75-d167-48e0-d8b5-b1949a72217f"
      },
      "outputs": [
        {
          "output_type": "stream",
          "name": "stderr",
          "text": [
            "[nltk_data] Downloading package punkt to /root/nltk_data...\n",
            "[nltk_data]   Package punkt is already up-to-date!\n",
            "[nltk_data] Downloading package stopwords to /root/nltk_data...\n",
            "[nltk_data]   Package stopwords is already up-to-date!\n",
            "[nltk_data] Downloading package wordnet to /root/nltk_data...\n",
            "[nltk_data]   Package wordnet is already up-to-date!\n"
          ]
        }
      ],
      "source": [
        "import os\n",
        "import csv\n",
        "import pandas as pd\n",
        "import numpy as np\n",
        "import matplotlib.pyplot as plt\n",
        "import seaborn as sns\n",
        "import nltk\n",
        "from nltk.corpus import stopwords\n",
        "from nltk.stem import WordNetLemmatizer\n",
        "nltk.download('punkt')\n",
        "nltk.download('stopwords')\n",
        "nltk.download('wordnet')\n",
        "import csv\n",
        "import re\n",
        "import pickle\n",
        "import time\n",
        "from tqdm import tqdm\n",
        "from sklearn import metrics\n",
        "from sklearn.model_selection import train_test_split\n",
        "from sklearn.metrics import classification_report, confusion_matrix, roc_curve, auc\n",
        "from torch.nn.utils import clip_grad_norm_\n",
        "\n",
        "import torch\n",
        "import torch.nn as nn\n",
        "import torch.optim as optim\n",
        "from torch.utils.data import DataLoader, Dataset"
      ]
    },
    {
      "cell_type": "code",
      "source": [
        "from google.colab import drive\n",
        "drive.mount('/content/drive')"
      ],
      "metadata": {
        "colab": {
          "base_uri": "https://localhost:8080/"
        },
        "id": "c2drFDq7n1K3",
        "outputId": "04284300-3e86-43e0-fd5c-7d8970dbe175"
      },
      "execution_count": null,
      "outputs": [
        {
          "output_type": "stream",
          "name": "stdout",
          "text": [
            "Drive already mounted at /content/drive; to attempt to forcibly remount, call drive.mount(\"/content/drive\", force_remount=True).\n"
          ]
        }
      ]
    },
    {
      "cell_type": "code",
      "execution_count": null,
      "metadata": {
        "colab": {
          "base_uri": "https://localhost:8080/"
        },
        "id": "1feTDbxBhSVk",
        "outputId": "58dce259-ef23-46c2-f315-166a05e47d83"
      },
      "outputs": [
        {
          "output_type": "stream",
          "name": "stdout",
          "text": [
            "Using cuda device\n"
          ]
        }
      ],
      "source": [
        "device = \"cuda\" if torch.cuda.is_available() else \"cpu\"\n",
        "print(f\"Using {device} device\")"
      ]
    },
    {
      "cell_type": "code",
      "execution_count": null,
      "metadata": {
        "id": "JSQMLVazhSVm"
      },
      "outputs": [],
      "source": [
        "SEED = 1234\n",
        "\n",
        "np.random.seed(SEED)\n",
        "torch.manual_seed(SEED)\n",
        "torch.cuda.manual_seed(SEED)\n",
        "\n",
        "torch.backends.cudnn.deterministic = True"
      ]
    },
    {
      "cell_type": "code",
      "execution_count": null,
      "metadata": {
        "colab": {
          "base_uri": "https://localhost:8080/",
          "height": 206
        },
        "id": "xGwgcGjOhSVm",
        "outputId": "77389e19-2ff5-48c3-fe8b-d3d483dc9acb"
      },
      "outputs": [
        {
          "output_type": "execute_result",
          "data": {
            "text/plain": [
              "                 id                                       comment_text  toxic  \\\n",
              "0  0000997932d777bf  Explanation\\nWhy the edits made under my usern...      0   \n",
              "1  000103f0d9cfb60f  D'aww! He matches this background colour I'm s...      0   \n",
              "2  000113f07ec002fd  Hey man, I'm really not trying to edit war. It...      0   \n",
              "3  0001b41b1c6bb37e  \"\\nMore\\nI can't make any real suggestions on ...      0   \n",
              "4  0001d958c54c6e35  You, sir, are my hero. Any chance you remember...      0   \n",
              "\n",
              "   severe_toxic  obscene  threat  insult  identity_hate  \n",
              "0             0        0       0       0              0  \n",
              "1             0        0       0       0              0  \n",
              "2             0        0       0       0              0  \n",
              "3             0        0       0       0              0  \n",
              "4             0        0       0       0              0  "
            ],
            "text/html": [
              "\n",
              "  <div id=\"df-c3e404e9-62e4-4e6b-b7a3-78a1e280db0a\">\n",
              "    <div class=\"colab-df-container\">\n",
              "      <div>\n",
              "<style scoped>\n",
              "    .dataframe tbody tr th:only-of-type {\n",
              "        vertical-align: middle;\n",
              "    }\n",
              "\n",
              "    .dataframe tbody tr th {\n",
              "        vertical-align: top;\n",
              "    }\n",
              "\n",
              "    .dataframe thead th {\n",
              "        text-align: right;\n",
              "    }\n",
              "</style>\n",
              "<table border=\"1\" class=\"dataframe\">\n",
              "  <thead>\n",
              "    <tr style=\"text-align: right;\">\n",
              "      <th></th>\n",
              "      <th>id</th>\n",
              "      <th>comment_text</th>\n",
              "      <th>toxic</th>\n",
              "      <th>severe_toxic</th>\n",
              "      <th>obscene</th>\n",
              "      <th>threat</th>\n",
              "      <th>insult</th>\n",
              "      <th>identity_hate</th>\n",
              "    </tr>\n",
              "  </thead>\n",
              "  <tbody>\n",
              "    <tr>\n",
              "      <th>0</th>\n",
              "      <td>0000997932d777bf</td>\n",
              "      <td>Explanation\\nWhy the edits made under my usern...</td>\n",
              "      <td>0</td>\n",
              "      <td>0</td>\n",
              "      <td>0</td>\n",
              "      <td>0</td>\n",
              "      <td>0</td>\n",
              "      <td>0</td>\n",
              "    </tr>\n",
              "    <tr>\n",
              "      <th>1</th>\n",
              "      <td>000103f0d9cfb60f</td>\n",
              "      <td>D'aww! He matches this background colour I'm s...</td>\n",
              "      <td>0</td>\n",
              "      <td>0</td>\n",
              "      <td>0</td>\n",
              "      <td>0</td>\n",
              "      <td>0</td>\n",
              "      <td>0</td>\n",
              "    </tr>\n",
              "    <tr>\n",
              "      <th>2</th>\n",
              "      <td>000113f07ec002fd</td>\n",
              "      <td>Hey man, I'm really not trying to edit war. It...</td>\n",
              "      <td>0</td>\n",
              "      <td>0</td>\n",
              "      <td>0</td>\n",
              "      <td>0</td>\n",
              "      <td>0</td>\n",
              "      <td>0</td>\n",
              "    </tr>\n",
              "    <tr>\n",
              "      <th>3</th>\n",
              "      <td>0001b41b1c6bb37e</td>\n",
              "      <td>\"\\nMore\\nI can't make any real suggestions on ...</td>\n",
              "      <td>0</td>\n",
              "      <td>0</td>\n",
              "      <td>0</td>\n",
              "      <td>0</td>\n",
              "      <td>0</td>\n",
              "      <td>0</td>\n",
              "    </tr>\n",
              "    <tr>\n",
              "      <th>4</th>\n",
              "      <td>0001d958c54c6e35</td>\n",
              "      <td>You, sir, are my hero. Any chance you remember...</td>\n",
              "      <td>0</td>\n",
              "      <td>0</td>\n",
              "      <td>0</td>\n",
              "      <td>0</td>\n",
              "      <td>0</td>\n",
              "      <td>0</td>\n",
              "    </tr>\n",
              "  </tbody>\n",
              "</table>\n",
              "</div>\n",
              "      <button class=\"colab-df-convert\" onclick=\"convertToInteractive('df-c3e404e9-62e4-4e6b-b7a3-78a1e280db0a')\"\n",
              "              title=\"Convert this dataframe to an interactive table.\"\n",
              "              style=\"display:none;\">\n",
              "        \n",
              "  <svg xmlns=\"http://www.w3.org/2000/svg\" height=\"24px\"viewBox=\"0 0 24 24\"\n",
              "       width=\"24px\">\n",
              "    <path d=\"M0 0h24v24H0V0z\" fill=\"none\"/>\n",
              "    <path d=\"M18.56 5.44l.94 2.06.94-2.06 2.06-.94-2.06-.94-.94-2.06-.94 2.06-2.06.94zm-11 1L8.5 8.5l.94-2.06 2.06-.94-2.06-.94L8.5 2.5l-.94 2.06-2.06.94zm10 10l.94 2.06.94-2.06 2.06-.94-2.06-.94-.94-2.06-.94 2.06-2.06.94z\"/><path d=\"M17.41 7.96l-1.37-1.37c-.4-.4-.92-.59-1.43-.59-.52 0-1.04.2-1.43.59L10.3 9.45l-7.72 7.72c-.78.78-.78 2.05 0 2.83L4 21.41c.39.39.9.59 1.41.59.51 0 1.02-.2 1.41-.59l7.78-7.78 2.81-2.81c.8-.78.8-2.07 0-2.86zM5.41 20L4 18.59l7.72-7.72 1.47 1.35L5.41 20z\"/>\n",
              "  </svg>\n",
              "      </button>\n",
              "      \n",
              "  <style>\n",
              "    .colab-df-container {\n",
              "      display:flex;\n",
              "      flex-wrap:wrap;\n",
              "      gap: 12px;\n",
              "    }\n",
              "\n",
              "    .colab-df-convert {\n",
              "      background-color: #E8F0FE;\n",
              "      border: none;\n",
              "      border-radius: 50%;\n",
              "      cursor: pointer;\n",
              "      display: none;\n",
              "      fill: #1967D2;\n",
              "      height: 32px;\n",
              "      padding: 0 0 0 0;\n",
              "      width: 32px;\n",
              "    }\n",
              "\n",
              "    .colab-df-convert:hover {\n",
              "      background-color: #E2EBFA;\n",
              "      box-shadow: 0px 1px 2px rgba(60, 64, 67, 0.3), 0px 1px 3px 1px rgba(60, 64, 67, 0.15);\n",
              "      fill: #174EA6;\n",
              "    }\n",
              "\n",
              "    [theme=dark] .colab-df-convert {\n",
              "      background-color: #3B4455;\n",
              "      fill: #D2E3FC;\n",
              "    }\n",
              "\n",
              "    [theme=dark] .colab-df-convert:hover {\n",
              "      background-color: #434B5C;\n",
              "      box-shadow: 0px 1px 3px 1px rgba(0, 0, 0, 0.15);\n",
              "      filter: drop-shadow(0px 1px 2px rgba(0, 0, 0, 0.3));\n",
              "      fill: #FFFFFF;\n",
              "    }\n",
              "  </style>\n",
              "\n",
              "      <script>\n",
              "        const buttonEl =\n",
              "          document.querySelector('#df-c3e404e9-62e4-4e6b-b7a3-78a1e280db0a button.colab-df-convert');\n",
              "        buttonEl.style.display =\n",
              "          google.colab.kernel.accessAllowed ? 'block' : 'none';\n",
              "\n",
              "        async function convertToInteractive(key) {\n",
              "          const element = document.querySelector('#df-c3e404e9-62e4-4e6b-b7a3-78a1e280db0a');\n",
              "          const dataTable =\n",
              "            await google.colab.kernel.invokeFunction('convertToInteractive',\n",
              "                                                     [key], {});\n",
              "          if (!dataTable) return;\n",
              "\n",
              "          const docLinkHtml = 'Like what you see? Visit the ' +\n",
              "            '<a target=\"_blank\" href=https://colab.research.google.com/notebooks/data_table.ipynb>data table notebook</a>'\n",
              "            + ' to learn more about interactive tables.';\n",
              "          element.innerHTML = '';\n",
              "          dataTable['output_type'] = 'display_data';\n",
              "          await google.colab.output.renderOutput(dataTable, element);\n",
              "          const docLink = document.createElement('div');\n",
              "          docLink.innerHTML = docLinkHtml;\n",
              "          element.appendChild(docLink);\n",
              "        }\n",
              "      </script>\n",
              "    </div>\n",
              "  </div>\n",
              "  "
            ]
          },
          "metadata": {},
          "execution_count": 11
        }
      ],
      "source": [
        "data_path = \"/content/drive/MyDrive/train.csv\"\n",
        "df = pd.read_csv(data_path)\n",
        "df.head()"
      ]
    },
    {
      "cell_type": "code",
      "source": [
        "LABEL_COLUMNS = df.columns.tolist()[2:]\n",
        "df['good'] = 1\n",
        "df.loc[df[LABEL_COLUMNS].sum(axis=1) != 0, 'good'] = 0"
      ],
      "metadata": {
        "id": "FJKj88Try_yW"
      },
      "execution_count": null,
      "outputs": []
    },
    {
      "cell_type": "code",
      "execution_count": null,
      "metadata": {
        "id": "diZRo16uhSVn"
      },
      "outputs": [],
      "source": [
        "train_df, test_df = train_test_split(df, test_size = 0.2)\n",
        "train_df, val_df = train_test_split(train_df, test_size = 0.1)"
      ]
    },
    {
      "cell_type": "code",
      "source": [
        "train_df['comment_text'][80]"
      ],
      "metadata": {
        "colab": {
          "base_uri": "https://localhost:8080/",
          "height": 140
        },
        "id": "vI4dIeO8i20K",
        "outputId": "95284a26-d501-4111-917c-de9753f472c9"
      },
      "execution_count": null,
      "outputs": [
        {
          "output_type": "execute_result",
          "data": {
            "text/plain": [
              "'\"\\n\\nMinimization of textile effluent\\n\\nA proposed deletion template has been added to the article Minimization of textile effluent, suggesting that it be deleted according to the proposed deletion process. All contributions are appreciated, but this article may not satisfy Wikipedia\\'s criteria for inclusion, and the deletion notice should explain why (see also \"\"What Wikipedia is not\"\" and Wikipedia\\'s deletion policy).  You may prevent the proposed deletion by removing the  notice, but please explain why you disagree with the proposed deletion in your edit summary or on its talk page. Also, please consider improving the article to address the issues raised. Even though removing the deletion notice will prevent deletion through the proposed deletion process, the article may still be deleted if it matches any of the speedy deletion criteria or it can be sent to Articles for Deletion, where it may be deleted if consensus to delete is reached. If you agree with the deletion of the article, and you are the only person who has made substantial edits to the page, please add  to the top of Minimization of textile effluent.    \"'"
            ],
            "application/vnd.google.colaboratory.intrinsic+json": {
              "type": "string"
            }
          },
          "metadata": {},
          "execution_count": 14
        }
      ]
    },
    {
      "cell_type": "code",
      "execution_count": null,
      "metadata": {
        "colab": {
          "base_uri": "https://localhost:8080/",
          "height": 447
        },
        "id": "81nfL3FLhSVn",
        "outputId": "3b39ef16-398a-4594-9a78-a8ce8f1222e8"
      },
      "outputs": [
        {
          "output_type": "execute_result",
          "data": {
            "text/plain": [
              "<Axes: >"
            ]
          },
          "metadata": {},
          "execution_count": 15
        },
        {
          "output_type": "display_data",
          "data": {
            "text/plain": [
              "<Figure size 640x480 with 1 Axes>"
            ],
            "image/png": "[encoded data removed]"
          },
          "metadata": {}
        }
      ],
      "source": [
        "LABEL_COLUMNS = df.columns.tolist()[2:]\n",
        "df[LABEL_COLUMNS].sum().sort_values().plot(kind=\"barh\")"
      ]
    },
    {
      "cell_type": "code",
      "execution_count": null,
      "metadata": {
        "colab": {
          "base_uri": "https://localhost:8080/",
          "height": 447
        },
        "id": "k3RH-LoUhSVo",
        "outputId": "44ab4e27-8b78-4def-ad62-bb85eac80973"
      },
      "outputs": [
        {
          "output_type": "execute_result",
          "data": {
            "text/plain": [
              "<Axes: >"
            ]
          },
          "metadata": {},
          "execution_count": 16
        },
        {
          "output_type": "display_data",
          "data": {
            "text/plain": [
              "<Figure size 640x480 with 1 Axes>"
            ],
            "image/png": "[encoded data removed]"
          },
          "metadata": {}
        }
      ],
      "source": [
        "train_toxic = train_df[train_df['good'] == 0]\n",
        "train_clean = train_df[train_df['good'] == 1]\n",
        "\n",
        "pd.DataFrame(dict(toxic=[len(train_toxic)], clean=[len(train_clean)])).plot(kind='barh')"
      ]
    },
    {
      "cell_type": "code",
      "execution_count": null,
      "metadata": {
        "id": "y6048VSPhSVo"
      },
      "outputs": [],
      "source": [
        "train_df = pd.concat([train_toxic, train_clean.sample(15_000)])"
      ]
    },
    {
      "cell_type": "code",
      "execution_count": null,
      "metadata": {
        "colab": {
          "base_uri": "https://localhost:8080/",
          "height": 447
        },
        "id": "wqFE0bsDhSVp",
        "outputId": "f7250009-558e-4dbb-f0a6-f660618562fa"
      },
      "outputs": [
        {
          "output_type": "execute_result",
          "data": {
            "text/plain": [
              "<Axes: >"
            ]
          },
          "metadata": {},
          "execution_count": 18
        },
        {
          "output_type": "display_data",
          "data": {
            "text/plain": [
              "<Figure size 640x480 with 1 Axes>"
            ],
            "image/png": "[encoded data removed]"
          },
          "metadata": {}
        }
      ],
      "source": [
        "train_toxic = train_df[train_df['good'] == 0]\n",
        "train_clean = train_df[train_df['good'] == 1]\n",
        "\n",
        "pd.DataFrame(dict(toxic=[len(train_toxic)], clean=[len(train_clean)])).plot(kind='barh')"
      ]
    },
    {
      "cell_type": "code",
      "execution_count": null,
      "metadata": {
        "colab": {
          "base_uri": "https://localhost:8080/"
        },
        "id": "fBB2H0u4hSVp",
        "outputId": "b1dce3d4-656d-4e47-f24d-a2ef77dfe25a"
      },
      "outputs": [
        {
          "output_type": "stream",
          "name": "stdout",
          "text": [
            "(26780, 9) (12766, 9) (31915, 9)\n"
          ]
        }
      ],
      "source": [
        "print(train_df.shape, val_df.shape, test_df.shape)"
      ]
    },
    {
      "cell_type": "code",
      "execution_count": null,
      "metadata": {
        "id": "-34eETsZhSVp"
      },
      "outputs": [],
      "source": [
        "def data_preprocessing(sentences):\n",
        "\n",
        "    tokenized_sentences = []\n",
        "    for sentence in tqdm(sentences, desc = 'Tokenize'):\n",
        "        sentence = sentence.lower()\n",
        "        cleanr = re.compile('<.*?>')\n",
        "        sentence = re.sub(cleanr, ' ', sentence)\n",
        "\n",
        "        sentence = re.sub(r'[?|!|\\'|\"|#]',r'',sentence)\n",
        "        sentence = re.sub(r'[.|,|)|(|\\|/]',r' ',sentence)\n",
        "        sentence = sentence.strip()\n",
        "        sentence = sentence.replace(\"\\n\",\" \")\n",
        "        sentence = re.sub(r'[^A-Za-z ]', '', sentence)\n",
        "        sentence = re.sub('\\s+', ' ', sentence)\n",
        "\n",
        "        tokenized_sentences.append(nltk.word_tokenize(sentence))\n",
        "\n",
        "    stop_words = set(stopwords.words('english'))\n",
        "\n",
        "    removed_stop_words = []\n",
        "    for sentence in tqdm(tokenized_sentences, desc = 'Stop_word_removal'):\n",
        "        curr_sentence = []\n",
        "        for token in sentence:\n",
        "            if not token in stop_words:\n",
        "                curr_sentence.append(token)\n",
        "        \n",
        "        removed_stop_words.append(curr_sentence)\n",
        "\n",
        "    lemmatizer = WordNetLemmatizer()\n",
        "\n",
        "    lemmatized_sentence = []\n",
        "    for sentence in tqdm(removed_stop_words, desc = 'Lemmatization'):\n",
        "        curr_sentence = []\n",
        "        for token in sentence:\n",
        "            curr_sentence.append(lemmatizer.lemmatize(token))\n",
        "\n",
        "        lemmatized_sentence.append(curr_sentence)\n",
        "\n",
        "    return lemmatized_sentence"
      ]
    },
    {
      "cell_type": "code",
      "execution_count": null,
      "metadata": {
        "id": "takgZCl8hSVq"
      },
      "outputs": [],
      "source": [
        "def vocab_builder(sentences):\n",
        "    # Word dictionary\n",
        "    word_vocab = {}\n",
        "    unique_id = 1\n",
        "    for sentence in sentences:\n",
        "        for word in sentence:\n",
        "            if word not in word_vocab:\n",
        "                word_vocab[word] = unique_id\n",
        "                unique_id += 1\n",
        "\n",
        "    word_vocab['<PAD>'] = 0\n",
        "    word_vocab['<OOV>'] = unique_id\n",
        "\n",
        "    return word_vocab"
      ]
    },
    {
      "cell_type": "code",
      "execution_count": null,
      "metadata": {
        "id": "ueI8VKAIhSVq"
      },
      "outputs": [],
      "source": [
        "def text_to_sequence(sentences, word_vocab):\n",
        "\n",
        "    text_sequece = []\n",
        "    for sentence in sentences:\n",
        "        curr_sequence = []\n",
        "        for word in sentence:\n",
        "            if word in word_vocab:\n",
        "                curr_sequence.append(word_vocab[word])\n",
        "            else:\n",
        "                curr_sequence.append(word_vocab['<OOV>'])\n",
        "        text_sequece.append(curr_sequence)\n",
        "\n",
        "    return text_sequece\n",
        "\n",
        "def pad_sequences(seq, maxlen):\n",
        "    padded_seq = []\n",
        "    if len(seq) < maxlen:\n",
        "        padding_seq = [0] * (maxlen - len(seq))\n",
        "        padded_seq = padding_seq + seq\n",
        "    else:\n",
        "        padded_seq = seq\n",
        "        \n",
        "    return padded_seq\n",
        "\n",
        "\n",
        "def padding(sequence, max_length):\n",
        "    new_sequence = []\n",
        "    for i in range(len(sequence)):\n",
        "        if len(sequence[i]) <= max_length:\n",
        "            new_sequence.append(sequence[i])\n",
        "        else:\n",
        "            new_sequence.append(sequence[i][:max_length])\n",
        "            \n",
        "\n",
        "    sequence = new_sequence\n",
        "\n",
        "    X = []\n",
        "    for seq in tqdm(sequence, desc = 'Padding'):\n",
        "        X.append(pad_sequences(seq, maxlen = max_length))\n",
        "\n",
        "    return X"
      ]
    },
    {
      "cell_type": "code",
      "execution_count": null,
      "metadata": {
        "id": "uLgTLnWihSVr"
      },
      "outputs": [],
      "source": [
        "max_length = 200"
      ]
    },
    {
      "cell_type": "code",
      "execution_count": null,
      "metadata": {
        "colab": {
          "base_uri": "https://localhost:8080/"
        },
        "id": "qrm6nzBThSVr",
        "outputId": "0ead15cc-a0df-4a16-f440-53cea0367232"
      },
      "outputs": [
        {
          "output_type": "stream",
          "name": "stderr",
          "text": [
            "Tokenize: 100%|██████████| 26780/26780 [00:06<00:00, 3850.23it/s]\n",
            "Stop_word_removal: 100%|██████████| 26780/26780 [00:00<00:00, 147736.49it/s]\n",
            "Lemmatization: 100%|██████████| 26780/26780 [00:06<00:00, 4410.53it/s]\n",
            "Padding: 100%|██████████| 26780/26780 [00:00<00:00, 207658.01it/s]\n"
          ]
        }
      ],
      "source": [
        "# Train data\n",
        "train_sentences = train_df['comment_text'].values\n",
        "cols = ['toxic', 'severe_toxic', 'obscene', 'threat', 'insult', 'identity_hate', 'good']\n",
        "train_labels = train_df[cols].values\n",
        "\n",
        "train_sentences = data_preprocessing(train_sentences)\n",
        "word_vocab = vocab_builder(train_sentences)\n",
        "vocab_size = len(word_vocab)\n",
        "train_sequence = text_to_sequence(train_sentences, word_vocab)\n",
        "train_sequence = padding(train_sequence, max_length)\n",
        "\n",
        "X_train = np.array(train_sequence)\n",
        "y_train = np.array(train_labels)"
      ]
    },
    {
      "cell_type": "code",
      "execution_count": null,
      "metadata": {
        "colab": {
          "base_uri": "https://localhost:8080/"
        },
        "id": "JPR9TVqIhSVr",
        "outputId": "f041a291-85db-4fe7-d5d4-748f903b10fb"
      },
      "outputs": [
        {
          "output_type": "stream",
          "name": "stderr",
          "text": [
            "Tokenize: 100%|██████████| 12766/12766 [00:03<00:00, 3757.75it/s]\n",
            "Stop_word_removal: 100%|██████████| 12766/12766 [00:00<00:00, 106570.19it/s]\n",
            "Lemmatization: 100%|██████████| 12766/12766 [00:01<00:00, 8724.92it/s]\n",
            "Padding: 100%|██████████| 12766/12766 [00:00<00:00, 201671.10it/s]\n"
          ]
        }
      ],
      "source": [
        "# Val data\n",
        "val_sentences = val_df['comment_text'].values\n",
        "cols = ['toxic', 'severe_toxic', 'obscene', 'threat', 'insult', 'identity_hate', 'good']\n",
        "val_labels = val_df[cols].values\n",
        "\n",
        "val_sentences = data_preprocessing(val_sentences)\n",
        "val_sequence = text_to_sequence(val_sentences, word_vocab)\n",
        "val_sequence = padding(val_sequence, max_length)\n",
        "\n",
        "X_val = np.array(val_sequence)\n",
        "y_val = np.array(val_labels)"
      ]
    },
    {
      "cell_type": "code",
      "execution_count": null,
      "metadata": {
        "colab": {
          "base_uri": "https://localhost:8080/"
        },
        "id": "TUNlwVevhSVs",
        "outputId": "c6e31ce3-bc86-4a2f-a826-4c7369742c7b"
      },
      "outputs": [
        {
          "output_type": "stream",
          "name": "stderr",
          "text": [
            "Tokenize: 100%|██████████| 31915/31915 [00:10<00:00, 3141.76it/s]\n",
            "Stop_word_removal: 100%|██████████| 31915/31915 [00:00<00:00, 109745.33it/s]\n",
            "Lemmatization: 100%|██████████| 31915/31915 [00:04<00:00, 7812.22it/s]\n",
            "Padding: 100%|██████████| 31915/31915 [00:00<00:00, 215789.28it/s]\n"
          ]
        }
      ],
      "source": [
        "# Test data\n",
        "test_sentences = test_df['comment_text'].values\n",
        "cols = ['toxic', 'severe_toxic', 'obscene', 'threat', 'insult', 'identity_hate', 'good']\n",
        "test_labels = test_df[cols].values\n",
        "\n",
        "test_sentences = data_preprocessing(test_sentences)\n",
        "test_sequence = text_to_sequence(test_sentences, word_vocab)\n",
        "test_sequence = padding(test_sequence, max_length)\n",
        "\n",
        "X_test = np.array(test_sequence)\n",
        "y_test = np.array(test_labels)"
      ]
    },
    {
      "cell_type": "code",
      "execution_count": null,
      "metadata": {
        "colab": {
          "base_uri": "https://localhost:8080/"
        },
        "id": "27pMMUljhSVs",
        "outputId": "8eb777b4-55a0-41d8-f13b-7d4d032d9f82"
      },
      "outputs": [
        {
          "output_type": "stream",
          "name": "stdout",
          "text": [
            "(26780, 200) (26780, 7)\n",
            "(12766, 200) (12766, 7)\n",
            "(31915, 200) (31915, 7)\n"
          ]
        }
      ],
      "source": [
        "print(X_train.shape, y_train.shape)\n",
        "print(X_val.shape, y_val.shape)\n",
        "print(X_test.shape, y_test.shape)"
      ]
    },
    {
      "cell_type": "code",
      "execution_count": null,
      "metadata": {
        "colab": {
          "base_uri": "https://localhost:8080/"
        },
        "id": "WdXDExEThSVs",
        "outputId": "1f308d39-5dc8-49a0-e149-aa0f5e22a77d"
      },
      "outputs": [
        {
          "output_type": "stream",
          "name": "stdout",
          "text": [
            "57902 200\n"
          ]
        }
      ],
      "source": [
        "print(vocab_size, max_length)"
      ]
    },
    {
      "cell_type": "code",
      "execution_count": null,
      "metadata": {
        "id": "cKOM1SRphSVt"
      },
      "outputs": [],
      "source": [
        "# save word2idx, maxlength\n",
        "with open('/content/drive/MyDrive/MAGNET_TC/word2idx.pkl', 'wb') as f:\n",
        "    pickle.dump(word_vocab, f)\n",
        "\n",
        "with open('/content/drive/MyDrive/MAGNET_TC/maxlength.pkl', 'wb') as f:\n",
        "    pickle.dump(max_length, f)"
      ]
    },
    {
      "cell_type": "code",
      "execution_count": null,
      "metadata": {
        "id": "QCallH4QhSVt"
      },
      "outputs": [],
      "source": [
        "class CustomDataset(Dataset):\n",
        "    def __init__(self, sequence, labels):\n",
        "        self.sequence = sequence\n",
        "        self.labels = labels\n",
        "\n",
        "    def __len__(self):\n",
        "        return len(self.sequence)\n",
        "\n",
        "    def __getitem__(self, idx):\n",
        "        sequence_in = torch.tensor(self.sequence[idx])\n",
        "        output_label = torch.tensor(self.labels[idx]).float()\n",
        "        return sequence_in, output_label"
      ]
    },
    {
      "cell_type": "code",
      "execution_count": null,
      "metadata": {
        "id": "9LX4l5sdhSVt"
      },
      "outputs": [],
      "source": [
        "batch_size = 64\n",
        "\n",
        "dataset_train = CustomDataset(X_train, y_train)\n",
        "dataloader_train = DataLoader(dataset_train, batch_size=batch_size, shuffle=True)\n",
        "\n",
        "dataset_val = CustomDataset(X_val, y_val)\n",
        "dataloader_val = DataLoader(dataset_val, batch_size=batch_size, shuffle=True)\n",
        "\n",
        "dataset_test = CustomDataset(X_test, y_test)\n",
        "dataloader_test = DataLoader(dataset_test, batch_size=batch_size, shuffle=True)"
      ]
    },
    {
      "cell_type": "code",
      "execution_count": null,
      "metadata": {
        "id": "knJ1qrcyhSVt"
      },
      "outputs": [],
      "source": [
        "def load_embeddings(embeddings_file):\n",
        "    embeddings_index = {}\n",
        "    with open(embeddings_file, encoding='utf-8') as f:\n",
        "        for line in f:\n",
        "            values = line.split()\n",
        "            word = values[0]\n",
        "            coefs = np.asarray(values[1:], dtype='float32')\n",
        "            embeddings_index[word] = coefs\n",
        "    return embeddings_index\n",
        "\n",
        "embeddings_file = '/content/drive/MyDrive/glove.6B.300d.txt'\n",
        "embeddings_index = load_embeddings(embeddings_file)"
      ]
    },
    {
      "cell_type": "code",
      "execution_count": null,
      "metadata": {
        "id": "_p4f2NfChSVt",
        "colab": {
          "base_uri": "https://localhost:8080/"
        },
        "outputId": "ac885c84-7a73-4aae-fe59-5658059cc671"
      },
      "outputs": [
        {
          "output_type": "stream",
          "name": "stderr",
          "text": [
            "<ipython-input-33-c2cf0cd7e6ae>:10: UserWarning: Creating a tensor from a list of numpy.ndarrays is extremely slow. Please consider converting the list to a single numpy.ndarray with numpy.array() before converting to a tensor. (Triggered internally at ../torch/csrc/utils/tensor_new.cpp:245.)\n",
            "  pretrained_embeddings = torch.Tensor(pretrained_embeddings)\n"
          ]
        }
      ],
      "source": [
        "embeddings_dim = 300\n",
        "pretrained_embeddings = []\n",
        "\n",
        "for word in word_vocab:\n",
        "    if word in embeddings_index:\n",
        "        pretrained_embeddings.append(embeddings_index.get(word))\n",
        "    else:\n",
        "        pretrained_embeddings.append([0] * embeddings_dim)\n",
        "\n",
        "pretrained_embeddings = torch.Tensor(pretrained_embeddings)"
      ]
    },
    {
      "cell_type": "code",
      "execution_count": null,
      "metadata": {
        "id": "tGqpKCmAhSVu"
      },
      "outputs": [],
      "source": [
        "class GraphAttentionLayer(nn.Module):\n",
        "    def __init__(self, in_features, out_features, slope):\n",
        "        super(GraphAttentionLayer, self).__init__()\n",
        "        self.W = nn.Linear(in_features, out_features, bias=False)\n",
        "        self.a = nn.Linear(out_features * 2, 1, bias=False)\n",
        "        self.leakyrelu = nn.LeakyReLU(slope)\n",
        "        self.softmax = nn.Softmax(dim=1)\n",
        "\n",
        "    def forward(self, h, adj):\n",
        "        Wh = self.W(h)\n",
        "        num_nodes = Wh.size(0)\n",
        "        Whi = Wh.repeat_interleave(num_nodes, dim=0)\n",
        "        Whj = Wh.repeat(num_nodes, 1)\n",
        "        WhiWhj = torch.cat([Whi, Whj], dim=1)\n",
        "        Whcat = WhiWhj.view(num_nodes, num_nodes, Wh.size(1) * 2)\n",
        "        e = self.leakyrelu(self.a(Whcat).squeeze(2))\n",
        "        zero_vec = -9e15 * torch.ones_like(e)\n",
        "        attention = torch.where(adj > 0, e, zero_vec)\n",
        "        attention = self.softmax(attention)\n",
        "        h_hat = torch.mm(attention, Wh)\n",
        "        return h_hat\n",
        "\n",
        "\n",
        "class MAGNET(nn.Module):\n",
        "    def __init__(\n",
        "        self,\n",
        "        input_size,\n",
        "        hidden_size,\n",
        "        adjacency_matrix,\n",
        "        node_embeddings,\n",
        "        num_heads=4,\n",
        "        slope=0.01,\n",
        "        dropout=0.5,\n",
        "    ):\n",
        "\n",
        "        super(MAGNET, self).__init__()\n",
        "\n",
        "        self.node_embedding = nn.Embedding.from_pretrained(node_embeddings)\n",
        "\n",
        "        self.rnn = nn.LSTM(\n",
        "            input_size, hidden_size, batch_first=True, bidirectional=True\n",
        "        )\n",
        "\n",
        "        self.attentions1 = nn.ModuleList(\n",
        "            [\n",
        "                GraphAttentionLayer(input_size, hidden_size * 2, slope)\n",
        "                for _ in range(num_heads)\n",
        "            ]\n",
        "        )\n",
        "\n",
        "        self.tanh1 = nn.Tanh()\n",
        "\n",
        "        self.attentions2 = nn.ModuleList(\n",
        "            [\n",
        "                GraphAttentionLayer(hidden_size * 2, hidden_size * 2, slope)\n",
        "                for _ in range(num_heads)\n",
        "            ]\n",
        "        )\n",
        "\n",
        "        self.tanh2 = nn.Tanh()\n",
        "\n",
        "        self.adjacency_matrix = nn.Parameter(adjacency_matrix)\n",
        "\n",
        "        self.dropout = nn.Dropout(dropout)\n",
        "\n",
        "    def forward(self, tokens, label_embedding):\n",
        "\n",
        "        node_features = self.node_embedding(tokens).float()\n",
        "\n",
        "        lstm_output, (hidden, _) = self.rnn(node_features)\n",
        "\n",
        "        hidden_state = torch.cat([hidden[-2, :, :], hidden[-1, :, :]], dim=1)\n",
        "\n",
        "        hidden_state = self.dropout(hidden_state)\n",
        "\n",
        "        heads_out1 = [\n",
        "            att(label_embedding, self.adjacency_matrix) for att in self.attentions1\n",
        "        ]\n",
        "\n",
        "        head_out1_mean = self.tanh1(torch.stack(heads_out1, dim=0).mean(0))\n",
        "\n",
        "        heads_out2 = [\n",
        "            att(head_out1_mean, self.adjacency_matrix) for att in self.attentions2\n",
        "        ]\n",
        "\n",
        "        head_out2_mean = self.tanh2(torch.stack(heads_out2, dim=0).mean(0))\n",
        "\n",
        "        attention = self.dropout(head_out2_mean)\n",
        "\n",
        "        attention = attention.transpose(0, 1)\n",
        "\n",
        "        output = torch.mm(hidden_state, attention)\n",
        "\n",
        "        return output"
      ]
    },
    {
      "cell_type": "code",
      "execution_count": null,
      "metadata": {
        "id": "EU-2g0i2hSVu"
      },
      "outputs": [],
      "source": [
        "def train_model(model, label_embedding, loss_function, optimizer, epochs, device, model_path):\n",
        "\n",
        "    train_loss, val_loss = [], []\n",
        "    total_time = 0\n",
        "    min_average_loss = float('inf')\n",
        "    \n",
        "    for epoch in range(epochs):\n",
        "        start_time = time.time()\n",
        "\n",
        "        print(\"Epoch : \", epoch + 1)\n",
        "\n",
        "        model.to(device)\n",
        "        model.train()\n",
        "        total_train_loss = 0\n",
        "        for batch in tqdm(dataloader_train, desc='Training'):\n",
        "            sequence_in, output_label = batch\n",
        "            sequence_in, output_label = sequence_in.to(device), output_label.to(device)\n",
        "\n",
        "            model.zero_grad()\n",
        "            pred_batch = model(sequence_in, label_embedding)\n",
        "            loss = loss_function(pred_batch, output_label)\n",
        "            total_train_loss += loss.item()\n",
        "\n",
        "            loss.backward()\n",
        "            clip_grad_norm_(model.parameters(), max_norm=10)\n",
        "            optimizer.step()\n",
        "        \n",
        "        model.eval()    \n",
        "\n",
        "        y_true_train, y_pred_train = [], []\n",
        "        with torch.no_grad() :\n",
        "            for batch in tqdm(dataloader_train, desc='Evaluate'):\n",
        "                sequence_in, output_label = batch\n",
        "                sequence_in, output_label = sequence_in.to(device), output_label.to(device)\n",
        "\n",
        "                pred_batch = model(sequence_in, label_embedding)\n",
        "                \n",
        "                y_true_train.extend(output_label.cpu().detach().numpy().tolist())\n",
        "                y_pred_train.extend(torch.sigmoid(pred_batch.cpu().detach()).numpy().tolist())\n",
        "\n",
        "        total_val_loss = 0\n",
        "        y_true_val, y_pred_val = [], []\n",
        "        with torch.no_grad():\n",
        "            for batch in tqdm(dataloader_val, desc='Evaluate'):\n",
        "                sequence_in, output_label = batch\n",
        "                sequence_in, output_label = sequence_in.to(device), output_label.to(device)\n",
        "\n",
        "                pred_batch = model(sequence_in, label_embedding)\n",
        "                loss = loss_function(pred_batch, output_label)\n",
        "                total_val_loss += loss.item()\n",
        "\n",
        "                y_true_val.extend(output_label.cpu().detach().numpy().tolist())\n",
        "                y_pred_val.extend(torch.sigmoid(pred_batch.cpu().detach()).numpy().tolist())\n",
        "\n",
        "        y_true_train = np.array(y_true_train)\n",
        "        y_pred_train = np.array(y_pred_train)\n",
        "        y_true_val = np.array(y_true_val)\n",
        "        y_pred_val = np.array(y_pred_val)\n",
        "\n",
        "        y_pred_train = y_pred_train >= 0.5\n",
        "        y_pred_val = y_pred_val >= 0.5\n",
        "\n",
        "        train_f1_score_micro = metrics.f1_score(y_true_train, y_pred_train, average='micro')\n",
        "        val_f1_score_micro = metrics.f1_score(y_true_val, y_pred_val, average='micro')\n",
        "\n",
        "        average_train_loss = float(total_train_loss / len(dataloader_train))\n",
        "        average_val_loss = float(total_val_loss / len(dataloader_val))\n",
        "\n",
        "        print('Train F1 Score (Micro)', train_f1_score_micro)\n",
        "        print('Val F1 Score (Micro)', val_f1_score_micro)\n",
        "        print('Train loss', average_train_loss)\n",
        "        print('Val loss', average_val_loss)\n",
        "\n",
        "        train_loss.append(average_train_loss)\n",
        "        val_loss.append(average_val_loss)\n",
        "\n",
        "        if average_val_loss < min_average_loss:\n",
        "            min_average_loss = average_val_loss\n",
        "            torch.save(model, \"/content/drive/MyDrive/MAGNET_TC/\" + model_path)\n",
        "            print(\"Best model saved\")\n",
        "            \n",
        "        print(\"------------------------------------------------\")\n",
        "\n",
        "        end_time = time.time()\n",
        "        epoch_time = end_time - start_time\n",
        "        total_time += epoch_time\n",
        "\n",
        "    avg_epoch_time = total_time / epochs\n",
        "    return train_loss, val_loss, avg_epoch_time"
      ]
    },
    {
      "cell_type": "code",
      "source": [
        "def buildAdjacencyCOOC(data_label):\n",
        "  adj = data_label.T.dot(data_label).astype('float')\n",
        "  for i in range(len(adj)):\n",
        "    adj[i] = adj[i] / adj[i,i]\n",
        "  \n",
        "  return torch.from_numpy(adj.astype('float32'))"
      ],
      "metadata": {
        "id": "gHm3b4clqU-D"
      },
      "execution_count": null,
      "outputs": []
    },
    {
      "cell_type": "code",
      "source": [
        "adjacency = buildAdjacencyCOOC(y_train)"
      ],
      "metadata": {
        "id": "_yvEueb7qZWF"
      },
      "execution_count": null,
      "outputs": []
    },
    {
      "cell_type": "code",
      "source": [
        "label_embedding = torch.zeros(7, 300)\n",
        "\n",
        "labels = ['toxic', 'severe_toxic', 'obscene', 'threat', 'insult', 'identity_hate', 'good']\n",
        "\n",
        "for index, label in enumerate(labels):\n",
        "  words = label.split('_')\n",
        "  num_of_words = len(words)\n",
        "  \n",
        "  for sublabel in words:\n",
        "    if sublabel in embeddings_index.keys():\n",
        "      label_embedding[index] +=  torch.from_numpy(embeddings_index[sublabel])\n",
        "  label_embedding[index] = label_embedding[index]/num_of_words\n",
        "\n",
        "label_embedding = label_embedding.float().to(device)\n",
        "print(label_embedding, label_embedding.shape)"
      ],
      "metadata": {
        "colab": {
          "base_uri": "https://localhost:8080/"
        },
        "id": "Q1iaU4MNqqK4",
        "outputId": "1040ed2f-ca9b-4db3-9676-553ad0b9e249"
      },
      "execution_count": null,
      "outputs": [
        {
          "output_type": "stream",
          "name": "stdout",
          "text": [
            "tensor([[-0.1338,  0.4449, -0.1320,  ..., -0.3913, -0.4084,  0.0045],\n",
            "        [-0.1352,  0.1137, -0.3520,  ..., -0.1768,  0.1053, -0.3155],\n",
            "        [-0.3243,  0.0416,  0.2132,  ...,  0.1782,  0.2137, -1.1418],\n",
            "        ...,\n",
            "        [-0.0302,  0.2444,  0.0910,  ...,  0.2767, -0.0892, -0.3096],\n",
            "        [-0.1872, -0.1358, -0.0330,  ...,  0.4099, -0.0587,  0.1831],\n",
            "        [-0.1360, -0.1159, -0.0171,  ..., -0.3376,  0.0701,  0.2464]],\n",
            "       device='cuda:0') torch.Size([7, 300])\n"
          ]
        }
      ]
    },
    {
      "cell_type": "code",
      "source": [
        "with open('/content/drive/MyDrive/MAGNET_TC/label_embedding.pkl', 'wb') as f:\n",
        "    pickle.dump(label_embedding, f)"
      ],
      "metadata": {
        "id": "enMS_2ubMkLA"
      },
      "execution_count": null,
      "outputs": []
    },
    {
      "cell_type": "code",
      "execution_count": null,
      "metadata": {
        "colab": {
          "base_uri": "https://localhost:8080/"
        },
        "id": "UzzPEMUfhSVu",
        "outputId": "6d3fb38e-f4f1-4c88-fb85-23a4c388e83c"
      },
      "outputs": [
        {
          "output_type": "stream",
          "name": "stdout",
          "text": [
            "Epoch :  1\n"
          ]
        },
        {
          "output_type": "stream",
          "name": "stderr",
          "text": [
            "Training: 100%|██████████| 419/419 [00:19<00:00, 21.32it/s]\n",
            "Evaluate: 100%|██████████| 419/419 [00:06<00:00, 64.80it/s]\n",
            "Evaluate: 100%|██████████| 200/200 [00:03<00:00, 64.91it/s]\n"
          ]
        },
        {
          "output_type": "stream",
          "name": "stdout",
          "text": [
            "Train F1 Score (Micro) 0.4397961041325323\n",
            "Val F1 Score (Micro) 0.7729346173340091\n",
            "Train loss 0.4085800723841765\n",
            "Val loss 0.19955353684723376\n",
            "Best model saved\n",
            "------------------------------------------------\n",
            "Epoch :  2\n"
          ]
        },
        {
          "output_type": "stream",
          "name": "stderr",
          "text": [
            "Training: 100%|██████████| 419/419 [00:17<00:00, 24.29it/s]\n",
            "Evaluate: 100%|██████████| 419/419 [00:06<00:00, 60.49it/s]\n",
            "Evaluate: 100%|██████████| 200/200 [00:03<00:00, 64.18it/s]\n"
          ]
        },
        {
          "output_type": "stream",
          "name": "stdout",
          "text": [
            "Train F1 Score (Micro) 0.6129631858359743\n",
            "Val F1 Score (Micro) 0.8747315155265936\n",
            "Train loss 0.3681270850017702\n",
            "Val loss 0.11585581075400114\n",
            "Best model saved\n",
            "------------------------------------------------\n",
            "Epoch :  3\n"
          ]
        },
        {
          "output_type": "stream",
          "name": "stderr",
          "text": [
            "Training: 100%|██████████| 419/419 [00:17<00:00, 24.01it/s]\n",
            "Evaluate: 100%|██████████| 419/419 [00:06<00:00, 65.20it/s]\n",
            "Evaluate: 100%|██████████| 200/200 [00:03<00:00, 64.12it/s]\n"
          ]
        },
        {
          "output_type": "stream",
          "name": "stdout",
          "text": [
            "Train F1 Score (Micro) 0.5786878916575094\n",
            "Val F1 Score (Micro) 0.8024116196218143\n",
            "Train loss 0.3463747218286792\n",
            "Val loss 0.1884810044616461\n",
            "------------------------------------------------\n",
            "Epoch :  4\n"
          ]
        },
        {
          "output_type": "stream",
          "name": "stderr",
          "text": [
            "Training: 100%|██████████| 419/419 [00:17<00:00, 24.08it/s]\n",
            "Evaluate: 100%|██████████| 419/419 [00:06<00:00, 63.95it/s]\n",
            "Evaluate: 100%|██████████| 200/200 [00:03<00:00, 53.66it/s]\n"
          ]
        },
        {
          "output_type": "stream",
          "name": "stdout",
          "text": [
            "Train F1 Score (Micro) 0.5859503893021506\n",
            "Val F1 Score (Micro) 0.8215185457927988\n",
            "Train loss 0.3532313510668875\n",
            "Val loss 0.16663181498646737\n",
            "------------------------------------------------\n",
            "Epoch :  5\n"
          ]
        },
        {
          "output_type": "stream",
          "name": "stderr",
          "text": [
            "Training: 100%|██████████| 419/419 [00:17<00:00, 24.06it/s]\n",
            "Evaluate: 100%|██████████| 419/419 [00:06<00:00, 64.00it/s]\n",
            "Evaluate: 100%|██████████| 200/200 [00:03<00:00, 57.00it/s]\n"
          ]
        },
        {
          "output_type": "stream",
          "name": "stdout",
          "text": [
            "Train F1 Score (Micro) 0.6297562528547898\n",
            "Val F1 Score (Micro) 0.8623695976154994\n",
            "Train loss 0.33050982316240207\n",
            "Val loss 0.11854853732511401\n",
            "------------------------------------------------\n",
            "Epoch :  6\n"
          ]
        },
        {
          "output_type": "stream",
          "name": "stderr",
          "text": [
            "Training: 100%|██████████| 419/419 [00:17<00:00, 24.14it/s]\n",
            "Evaluate: 100%|██████████| 419/419 [00:06<00:00, 62.94it/s]\n",
            "Evaluate: 100%|██████████| 200/200 [00:03<00:00, 57.70it/s]\n"
          ]
        },
        {
          "output_type": "stream",
          "name": "stdout",
          "text": [
            "Train F1 Score (Micro) 0.5775969077510488\n",
            "Val F1 Score (Micro) 0.8647881924477668\n",
            "Train loss 0.3167421101528022\n",
            "Val loss 0.10541393561288714\n",
            "Best model saved\n",
            "------------------------------------------------\n",
            "Epoch :  7\n"
          ]
        },
        {
          "output_type": "stream",
          "name": "stderr",
          "text": [
            "Training: 100%|██████████| 419/419 [00:17<00:00, 23.93it/s]\n",
            "Evaluate: 100%|██████████| 419/419 [00:06<00:00, 63.06it/s]\n",
            "Evaluate: 100%|██████████| 200/200 [00:04<00:00, 49.52it/s]\n"
          ]
        },
        {
          "output_type": "stream",
          "name": "stdout",
          "text": [
            "Train F1 Score (Micro) 0.6376349260914403\n",
            "Val F1 Score (Micro) 0.8753493160758935\n",
            "Train loss 0.31080225188294003\n",
            "Val loss 0.10571715259924531\n",
            "------------------------------------------------\n",
            "Epoch :  8\n"
          ]
        },
        {
          "output_type": "stream",
          "name": "stderr",
          "text": [
            "Training: 100%|██████████| 419/419 [00:17<00:00, 24.07it/s]\n",
            "Evaluate: 100%|██████████| 419/419 [00:06<00:00, 61.52it/s]\n",
            "Evaluate: 100%|██████████| 200/200 [00:03<00:00, 57.94it/s]\n"
          ]
        },
        {
          "output_type": "stream",
          "name": "stdout",
          "text": [
            "Train F1 Score (Micro) 0.5715596330275229\n",
            "Val F1 Score (Micro) 0.8471300043216909\n",
            "Train loss 0.3008019111890497\n",
            "Val loss 0.11249493174254895\n",
            "------------------------------------------------\n",
            "Epoch :  9\n"
          ]
        },
        {
          "output_type": "stream",
          "name": "stderr",
          "text": [
            "Training: 100%|██████████| 419/419 [00:17<00:00, 23.93it/s]\n",
            "Evaluate: 100%|██████████| 419/419 [00:06<00:00, 60.43it/s]\n",
            "Evaluate: 100%|██████████| 200/200 [00:03<00:00, 60.60it/s]\n"
          ]
        },
        {
          "output_type": "stream",
          "name": "stdout",
          "text": [
            "Train F1 Score (Micro) 0.6326711008709008\n",
            "Val F1 Score (Micro) 0.8686671423742818\n",
            "Train loss 0.2964007498114092\n",
            "Val loss 0.1085503998445347\n",
            "------------------------------------------------\n",
            "Epoch :  10\n"
          ]
        },
        {
          "output_type": "stream",
          "name": "stderr",
          "text": [
            "Training: 100%|██████████| 419/419 [00:17<00:00, 23.82it/s]\n",
            "Evaluate: 100%|██████████| 419/419 [00:07<00:00, 55.39it/s]\n",
            "Evaluate: 100%|██████████| 200/200 [00:03<00:00, 62.09it/s]\n"
          ]
        },
        {
          "output_type": "stream",
          "name": "stdout",
          "text": [
            "Train F1 Score (Micro) 0.6567860573624262\n",
            "Val F1 Score (Micro) 0.8317956538314907\n",
            "Train loss 0.29651029454210776\n",
            "Val loss 0.13200699243694544\n",
            "------------------------------------------------\n",
            "Epoch :  11\n"
          ]
        },
        {
          "output_type": "stream",
          "name": "stderr",
          "text": [
            "Training: 100%|██████████| 419/419 [00:17<00:00, 23.65it/s]\n",
            "Evaluate: 100%|██████████| 419/419 [00:07<00:00, 59.00it/s]\n",
            "Evaluate: 100%|██████████| 200/200 [00:03<00:00, 62.48it/s]\n"
          ]
        },
        {
          "output_type": "stream",
          "name": "stdout",
          "text": [
            "Train F1 Score (Micro) 0.6568488388263106\n",
            "Val F1 Score (Micro) 0.8584156933213537\n",
            "Train loss 0.2933098809317928\n",
            "Val loss 0.11455216316506267\n",
            "------------------------------------------------\n",
            "Epoch :  12\n"
          ]
        },
        {
          "output_type": "stream",
          "name": "stderr",
          "text": [
            "Training: 100%|██████████| 419/419 [00:17<00:00, 23.75it/s]\n",
            "Evaluate: 100%|██████████| 419/419 [00:07<00:00, 59.35it/s]\n",
            "Evaluate: 100%|██████████| 200/200 [00:03<00:00, 62.53it/s]\n"
          ]
        },
        {
          "output_type": "stream",
          "name": "stdout",
          "text": [
            "Train F1 Score (Micro) 0.6581732598616064\n",
            "Val F1 Score (Micro) 0.8610057460472453\n",
            "Train loss 0.2790960609770618\n",
            "Val loss 0.11302747782319784\n",
            "------------------------------------------------\n",
            "Epoch :  13\n"
          ]
        },
        {
          "output_type": "stream",
          "name": "stderr",
          "text": [
            "Training: 100%|██████████| 419/419 [00:17<00:00, 23.56it/s]\n",
            "Evaluate: 100%|██████████| 419/419 [00:07<00:00, 56.81it/s]\n",
            "Evaluate: 100%|██████████| 200/200 [00:03<00:00, 62.47it/s]\n"
          ]
        },
        {
          "output_type": "stream",
          "name": "stdout",
          "text": [
            "Train F1 Score (Micro) 0.6561200195060383\n",
            "Val F1 Score (Micro) 0.8525163448380721\n",
            "Train loss 0.2756636255823058\n",
            "Val loss 0.12237707836553455\n",
            "------------------------------------------------\n",
            "Epoch :  14\n"
          ]
        },
        {
          "output_type": "stream",
          "name": "stderr",
          "text": [
            "Training: 100%|██████████| 419/419 [00:18<00:00, 23.12it/s]\n",
            "Evaluate: 100%|██████████| 419/419 [00:06<00:00, 62.01it/s]\n",
            "Evaluate: 100%|██████████| 200/200 [00:03<00:00, 62.63it/s]\n"
          ]
        },
        {
          "output_type": "stream",
          "name": "stdout",
          "text": [
            "Train F1 Score (Micro) 0.6308877577696105\n",
            "Val F1 Score (Micro) 0.8461747890008168\n",
            "Train loss 0.26921930389927795\n",
            "Val loss 0.12398915989324451\n",
            "------------------------------------------------\n",
            "Epoch :  15\n"
          ]
        },
        {
          "output_type": "stream",
          "name": "stderr",
          "text": [
            "Training: 100%|██████████| 419/419 [00:18<00:00, 23.21it/s]\n",
            "Evaluate: 100%|██████████| 419/419 [00:06<00:00, 62.90it/s]\n",
            "Evaluate: 100%|██████████| 200/200 [00:03<00:00, 51.65it/s]\n"
          ]
        },
        {
          "output_type": "stream",
          "name": "stdout",
          "text": [
            "Train F1 Score (Micro) 0.6574539244289476\n",
            "Val F1 Score (Micro) 0.8244103041589075\n",
            "Train loss 0.27109609430473575\n",
            "Val loss 0.1397448117658496\n",
            "------------------------------------------------\n",
            "Epoch :  16\n"
          ]
        },
        {
          "output_type": "stream",
          "name": "stderr",
          "text": [
            "Training: 100%|██████████| 419/419 [00:17<00:00, 23.38it/s]\n",
            "Evaluate: 100%|██████████| 419/419 [00:06<00:00, 62.37it/s]\n",
            "Evaluate: 100%|██████████| 200/200 [00:03<00:00, 56.11it/s]\n"
          ]
        },
        {
          "output_type": "stream",
          "name": "stdout",
          "text": [
            "Train F1 Score (Micro) 0.6571639650601886\n",
            "Val F1 Score (Micro) 0.8444581233408995\n",
            "Train loss 0.2671074415234791\n",
            "Val loss 0.1253250976651907\n",
            "------------------------------------------------\n",
            "Epoch :  17\n"
          ]
        },
        {
          "output_type": "stream",
          "name": "stderr",
          "text": [
            "Training: 100%|██████████| 419/419 [00:17<00:00, 23.36it/s]\n",
            "Evaluate: 100%|██████████| 419/419 [00:06<00:00, 61.37it/s]\n",
            "Evaluate: 100%|██████████| 200/200 [00:03<00:00, 56.30it/s]\n"
          ]
        },
        {
          "output_type": "stream",
          "name": "stdout",
          "text": [
            "Train F1 Score (Micro) 0.6868907148513052\n",
            "Val F1 Score (Micro) 0.8544417877505978\n",
            "Train loss 0.270772373548271\n",
            "Val loss 0.12238593246787786\n",
            "------------------------------------------------\n",
            "Epoch :  18\n"
          ]
        },
        {
          "output_type": "stream",
          "name": "stderr",
          "text": [
            "Training: 100%|██████████| 419/419 [00:17<00:00, 23.53it/s]\n",
            "Evaluate: 100%|██████████| 419/419 [00:06<00:00, 60.04it/s]\n",
            "Evaluate: 100%|██████████| 200/200 [00:03<00:00, 52.38it/s]\n"
          ]
        },
        {
          "output_type": "stream",
          "name": "stdout",
          "text": [
            "Train F1 Score (Micro) 0.6789892052373068\n",
            "Val F1 Score (Micro) 0.8430841051125667\n",
            "Train loss 0.26329006162207563\n",
            "Val loss 0.1355305527150631\n",
            "------------------------------------------------\n",
            "Epoch :  19\n"
          ]
        },
        {
          "output_type": "stream",
          "name": "stderr",
          "text": [
            "Training: 100%|██████████| 419/419 [00:17<00:00, 23.37it/s]\n",
            "Evaluate: 100%|██████████| 419/419 [00:07<00:00, 58.67it/s]\n",
            "Evaluate: 100%|██████████| 200/200 [00:03<00:00, 62.11it/s]\n"
          ]
        },
        {
          "output_type": "stream",
          "name": "stdout",
          "text": [
            "Train F1 Score (Micro) 0.6513773796192608\n",
            "Val F1 Score (Micro) 0.8507819120252678\n",
            "Train loss 0.25663819258281323\n",
            "Val loss 0.12819783439859747\n",
            "------------------------------------------------\n",
            "Epoch :  20\n"
          ]
        },
        {
          "output_type": "stream",
          "name": "stderr",
          "text": [
            "Training: 100%|██████████| 419/419 [00:17<00:00, 23.37it/s]\n",
            "Evaluate: 100%|██████████| 419/419 [00:07<00:00, 58.79it/s]\n",
            "Evaluate: 100%|██████████| 200/200 [00:03<00:00, 61.76it/s]\n"
          ]
        },
        {
          "output_type": "stream",
          "name": "stdout",
          "text": [
            "Train F1 Score (Micro) 0.6314365250929224\n",
            "Val F1 Score (Micro) 0.8608441608364726\n",
            "Train loss 0.2547096920184133\n",
            "Val loss 0.12553493704646826\n",
            "------------------------------------------------\n",
            "Epoch :  21\n"
          ]
        },
        {
          "output_type": "stream",
          "name": "stderr",
          "text": [
            "Training: 100%|██████████| 419/419 [00:17<00:00, 23.31it/s]\n",
            "Evaluate: 100%|██████████| 419/419 [00:07<00:00, 55.79it/s]\n",
            "Evaluate: 100%|██████████| 200/200 [00:03<00:00, 61.78it/s]\n"
          ]
        },
        {
          "output_type": "stream",
          "name": "stdout",
          "text": [
            "Train F1 Score (Micro) 0.6427591612776798\n",
            "Val F1 Score (Micro) 0.8380336553443442\n",
            "Train loss 0.25565766961022607\n",
            "Val loss 0.13270732790231704\n",
            "------------------------------------------------\n",
            "Epoch :  22\n"
          ]
        },
        {
          "output_type": "stream",
          "name": "stderr",
          "text": [
            "Training: 100%|██████████| 419/419 [00:17<00:00, 23.36it/s]\n",
            "Evaluate: 100%|██████████| 419/419 [00:06<00:00, 61.62it/s]\n",
            "Evaluate: 100%|██████████| 200/200 [00:03<00:00, 61.61it/s]\n"
          ]
        },
        {
          "output_type": "stream",
          "name": "stdout",
          "text": [
            "Train F1 Score (Micro) 0.6547934598087978\n",
            "Val F1 Score (Micro) 0.8572628364191639\n",
            "Train loss 0.25224138248649586\n",
            "Val loss 0.13481296230107545\n",
            "------------------------------------------------\n",
            "Epoch :  23\n"
          ]
        },
        {
          "output_type": "stream",
          "name": "stderr",
          "text": [
            "Training: 100%|██████████| 419/419 [00:18<00:00, 23.07it/s]\n",
            "Evaluate: 100%|██████████| 419/419 [00:06<00:00, 62.61it/s]\n",
            "Evaluate: 100%|██████████| 200/200 [00:03<00:00, 61.25it/s]\n"
          ]
        },
        {
          "output_type": "stream",
          "name": "stdout",
          "text": [
            "Train F1 Score (Micro) 0.6480051966101182\n",
            "Val F1 Score (Micro) 0.8593016599885518\n",
            "Train loss 0.24882082733590163\n",
            "Val loss 0.14064162135124206\n",
            "------------------------------------------------\n",
            "Epoch :  24\n"
          ]
        },
        {
          "output_type": "stream",
          "name": "stderr",
          "text": [
            "Training: 100%|██████████| 419/419 [00:18<00:00, 23.25it/s]\n",
            "Evaluate: 100%|██████████| 419/419 [00:07<00:00, 58.68it/s]\n",
            "Evaluate: 100%|██████████| 200/200 [00:03<00:00, 56.80it/s]\n"
          ]
        },
        {
          "output_type": "stream",
          "name": "stdout",
          "text": [
            "Train F1 Score (Micro) 0.6535334584115072\n",
            "Val F1 Score (Micro) 0.8394745024875622\n",
            "Train loss 0.25226700394847795\n",
            "Val loss 0.14197970217093825\n",
            "------------------------------------------------\n",
            "Epoch :  25\n"
          ]
        },
        {
          "output_type": "stream",
          "name": "stderr",
          "text": [
            "Training: 100%|██████████| 419/419 [00:17<00:00, 23.36it/s]\n",
            "Evaluate: 100%|██████████| 419/419 [00:06<00:00, 62.50it/s]\n",
            "Evaluate: 100%|██████████| 200/200 [00:03<00:00, 55.50it/s]\n"
          ]
        },
        {
          "output_type": "stream",
          "name": "stdout",
          "text": [
            "Train F1 Score (Micro) 0.653572276287681\n",
            "Val F1 Score (Micro) 0.8414412322458299\n",
            "Train loss 0.2510891186522413\n",
            "Val loss 0.13687478616833687\n",
            "------------------------------------------------\n",
            "Epoch :  26\n"
          ]
        },
        {
          "output_type": "stream",
          "name": "stderr",
          "text": [
            "Training: 100%|██████████| 419/419 [00:17<00:00, 23.53it/s]\n",
            "Evaluate: 100%|██████████| 419/419 [00:06<00:00, 60.63it/s]\n",
            "Evaluate: 100%|██████████| 200/200 [00:03<00:00, 51.61it/s]\n"
          ]
        },
        {
          "output_type": "stream",
          "name": "stdout",
          "text": [
            "Train F1 Score (Micro) 0.6883350219520432\n",
            "Val F1 Score (Micro) 0.8302174742464707\n",
            "Train loss 0.2527676570387046\n",
            "Val loss 0.1487546830251813\n",
            "------------------------------------------------\n",
            "Epoch :  27\n"
          ]
        },
        {
          "output_type": "stream",
          "name": "stderr",
          "text": [
            "Training: 100%|██████████| 419/419 [00:17<00:00, 23.48it/s]\n",
            "Evaluate: 100%|██████████| 419/419 [00:07<00:00, 59.07it/s]\n",
            "Evaluate: 100%|██████████| 200/200 [00:03<00:00, 62.24it/s]\n"
          ]
        },
        {
          "output_type": "stream",
          "name": "stdout",
          "text": [
            "Train F1 Score (Micro) 0.62046563725098\n",
            "Val F1 Score (Micro) 0.8238304678128748\n",
            "Train loss 0.24851589509439354\n",
            "Val loss 0.15321692937985062\n",
            "------------------------------------------------\n",
            "Epoch :  28\n"
          ]
        },
        {
          "output_type": "stream",
          "name": "stderr",
          "text": [
            "Training: 100%|██████████| 419/419 [00:17<00:00, 23.56it/s]\n",
            "Evaluate: 100%|██████████| 419/419 [00:07<00:00, 58.65it/s]\n",
            "Evaluate: 100%|██████████| 200/200 [00:03<00:00, 62.14it/s]\n"
          ]
        },
        {
          "output_type": "stream",
          "name": "stdout",
          "text": [
            "Train F1 Score (Micro) 0.704515865519618\n",
            "Val F1 Score (Micro) 0.845289988917621\n",
            "Train loss 0.24575295421986135\n",
            "Val loss 0.14991453792899848\n",
            "------------------------------------------------\n",
            "Epoch :  29\n"
          ]
        },
        {
          "output_type": "stream",
          "name": "stderr",
          "text": [
            "Training: 100%|██████████| 419/419 [00:17<00:00, 23.48it/s]\n",
            "Evaluate: 100%|██████████| 419/419 [00:07<00:00, 59.25it/s]\n",
            "Evaluate: 100%|██████████| 200/200 [00:03<00:00, 54.65it/s]\n"
          ]
        },
        {
          "output_type": "stream",
          "name": "stdout",
          "text": [
            "Train F1 Score (Micro) 0.6748647879305437\n",
            "Val F1 Score (Micro) 0.8397564359488207\n",
            "Train loss 0.24448913968832794\n",
            "Val loss 0.1547797211073339\n",
            "------------------------------------------------\n",
            "Epoch :  30\n"
          ]
        },
        {
          "output_type": "stream",
          "name": "stderr",
          "text": [
            "Training: 100%|██████████| 419/419 [00:17<00:00, 23.44it/s]\n",
            "Evaluate: 100%|██████████| 419/419 [00:06<00:00, 60.71it/s]\n",
            "Evaluate: 100%|██████████| 200/200 [00:03<00:00, 62.63it/s]\n"
          ]
        },
        {
          "output_type": "stream",
          "name": "stdout",
          "text": [
            "Train F1 Score (Micro) 0.6723921783362393\n",
            "Val F1 Score (Micro) 0.843394777265745\n",
            "Train loss 0.24457782734549985\n",
            "Val loss 0.14890897750854493\n",
            "------------------------------------------------\n"
          ]
        }
      ],
      "source": [
        "epochs = 30\n",
        "learning_rate = 0.001\n",
        "\n",
        "magnet_model_4 = MAGNET(300, 250, adjacency.to(device), pretrained_embeddings.to(device), num_heads = 4)\n",
        "loss_function = nn.BCEWithLogitsLoss()\n",
        "optimizer = optim.Adam(magnet_model_4.parameters(), lr = learning_rate)\n",
        "train_loss_4, val_loss_4, avg_epoch_time = train_model(magnet_model_4, label_embedding, loss_function, optimizer, epochs, device, \"tc_head4.pth\")"
      ]
    },
    {
      "cell_type": "code",
      "source": [
        "epochs = 30\n",
        "learning_rate = 0.001\n",
        "\n",
        "magnet_model_2 = MAGNET(300, 250, adjacency.to(device), pretrained_embeddings.to(device), num_heads = 2)\n",
        "loss_function = nn.BCEWithLogitsLoss()\n",
        "optimizer = optim.Adam(magnet_model_2.parameters(), lr = learning_rate)\n",
        "train_loss_2, val_loss_2, avg_epoch_time = train_model(magnet_model_2, label_embedding, loss_function, optimizer, epochs, device, \"tc_head2.pth\")"
      ],
      "metadata": {
        "colab": {
          "base_uri": "https://localhost:8080/"
        },
        "id": "AsdAt8eMZype",
        "outputId": "c1a26429-5a24-41cd-994c-1b40dabebf02"
      },
      "execution_count": null,
      "outputs": [
        {
          "output_type": "stream",
          "name": "stdout",
          "text": [
            "Epoch :  1\n"
          ]
        },
        {
          "output_type": "stream",
          "name": "stderr",
          "text": [
            "Training: 100%|██████████| 419/419 [00:17<00:00, 24.59it/s]\n",
            "Evaluate: 100%|██████████| 419/419 [00:06<00:00, 67.57it/s]\n",
            "Evaluate: 100%|██████████| 200/200 [00:02<00:00, 68.80it/s]\n"
          ]
        },
        {
          "output_type": "stream",
          "name": "stdout",
          "text": [
            "Train F1 Score (Micro) 0.5784569297020149\n",
            "Val F1 Score (Micro) 0.851819724684141\n",
            "Train loss 0.4059362349618306\n",
            "Val loss 0.15932306956499814\n",
            "Best model saved\n",
            "------------------------------------------------\n",
            "Epoch :  2\n"
          ]
        },
        {
          "output_type": "stream",
          "name": "stderr",
          "text": [
            "Training: 100%|██████████| 419/419 [00:17<00:00, 24.49it/s]\n",
            "Evaluate: 100%|██████████| 419/419 [00:06<00:00, 62.81it/s]\n",
            "Evaluate: 100%|██████████| 200/200 [00:02<00:00, 68.59it/s]\n"
          ]
        },
        {
          "output_type": "stream",
          "name": "stdout",
          "text": [
            "Train F1 Score (Micro) 0.6124588565159088\n",
            "Val F1 Score (Micro) 0.8685366925443093\n",
            "Train loss 0.3700039846231374\n",
            "Val loss 0.15083350002765655\n",
            "Best model saved\n",
            "------------------------------------------------\n",
            "Epoch :  3\n"
          ]
        },
        {
          "output_type": "stream",
          "name": "stderr",
          "text": [
            "Training: 100%|██████████| 419/419 [00:17<00:00, 24.60it/s]\n",
            "Evaluate: 100%|██████████| 419/419 [00:06<00:00, 67.35it/s]\n",
            "Evaluate: 100%|██████████| 200/200 [00:02<00:00, 68.73it/s]\n"
          ]
        },
        {
          "output_type": "stream",
          "name": "stdout",
          "text": [
            "Train F1 Score (Micro) 0.569349462449727\n",
            "Val F1 Score (Micro) 0.8506930999767677\n",
            "Train loss 0.3462592723261485\n",
            "Val loss 0.126546711307019\n",
            "Best model saved\n",
            "------------------------------------------------\n",
            "Epoch :  4\n"
          ]
        },
        {
          "output_type": "stream",
          "name": "stderr",
          "text": [
            "Training: 100%|██████████| 419/419 [00:16<00:00, 24.65it/s]\n",
            "Evaluate: 100%|██████████| 419/419 [00:06<00:00, 66.76it/s]\n",
            "Evaluate: 100%|██████████| 200/200 [00:02<00:00, 68.64it/s]\n"
          ]
        },
        {
          "output_type": "stream",
          "name": "stdout",
          "text": [
            "Train F1 Score (Micro) 0.6065170971421886\n",
            "Val F1 Score (Micro) 0.8333976684937853\n",
            "Train loss 0.3319646992447268\n",
            "Val loss 0.1527826176956296\n",
            "------------------------------------------------\n",
            "Epoch :  5\n"
          ]
        },
        {
          "output_type": "stream",
          "name": "stderr",
          "text": [
            "Training: 100%|██████████| 419/419 [00:17<00:00, 24.65it/s]\n",
            "Evaluate: 100%|██████████| 419/419 [00:06<00:00, 61.61it/s]\n",
            "Evaluate: 100%|██████████| 200/200 [00:02<00:00, 68.31it/s]\n"
          ]
        },
        {
          "output_type": "stream",
          "name": "stdout",
          "text": [
            "Train F1 Score (Micro) 0.6436100752547756\n",
            "Val F1 Score (Micro) 0.8667893961708395\n",
            "Train loss 0.32679999898896867\n",
            "Val loss 0.11484843203797937\n",
            "Best model saved\n",
            "------------------------------------------------\n",
            "Epoch :  6\n"
          ]
        },
        {
          "output_type": "stream",
          "name": "stderr",
          "text": [
            "Training: 100%|██████████| 419/419 [00:17<00:00, 24.64it/s]\n",
            "Evaluate: 100%|██████████| 419/419 [00:06<00:00, 66.46it/s]\n",
            "Evaluate: 100%|██████████| 200/200 [00:02<00:00, 68.29it/s]\n"
          ]
        },
        {
          "output_type": "stream",
          "name": "stdout",
          "text": [
            "Train F1 Score (Micro) 0.6617976083322619\n",
            "Val F1 Score (Micro) 0.8612807665581684\n",
            "Train loss 0.3132572413415499\n",
            "Val loss 0.11379154831171036\n",
            "Best model saved\n",
            "------------------------------------------------\n",
            "Epoch :  7\n"
          ]
        },
        {
          "output_type": "stream",
          "name": "stderr",
          "text": [
            "Training: 100%|██████████| 419/419 [00:16<00:00, 24.67it/s]\n",
            "Evaluate: 100%|██████████| 419/419 [00:06<00:00, 66.40it/s]\n",
            "Evaluate: 100%|██████████| 200/200 [00:03<00:00, 59.65it/s]\n"
          ]
        },
        {
          "output_type": "stream",
          "name": "stdout",
          "text": [
            "Train F1 Score (Micro) 0.5852384675527756\n",
            "Val F1 Score (Micro) 0.8660431380034357\n",
            "Train loss 0.30517218317080796\n",
            "Val loss 0.10648184627294541\n",
            "Best model saved\n",
            "------------------------------------------------\n",
            "Epoch :  8\n"
          ]
        },
        {
          "output_type": "stream",
          "name": "stderr",
          "text": [
            "Training: 100%|██████████| 419/419 [00:17<00:00, 24.59it/s]\n",
            "Evaluate: 100%|██████████| 419/419 [00:06<00:00, 66.62it/s]\n",
            "Evaluate: 100%|██████████| 200/200 [00:02<00:00, 68.89it/s]\n"
          ]
        },
        {
          "output_type": "stream",
          "name": "stdout",
          "text": [
            "Train F1 Score (Micro) 0.6559829650728686\n",
            "Val F1 Score (Micro) 0.8543820731661466\n",
            "Train loss 0.29605115615809446\n",
            "Val loss 0.11836412455886602\n",
            "------------------------------------------------\n",
            "Epoch :  9\n"
          ]
        },
        {
          "output_type": "stream",
          "name": "stderr",
          "text": [
            "Training: 100%|██████████| 419/419 [00:16<00:00, 24.73it/s]\n",
            "Evaluate: 100%|██████████| 419/419 [00:06<00:00, 66.11it/s]\n",
            "Evaluate: 100%|██████████| 200/200 [00:02<00:00, 68.60it/s]\n"
          ]
        },
        {
          "output_type": "stream",
          "name": "stdout",
          "text": [
            "Train F1 Score (Micro) 0.6332052018439152\n",
            "Val F1 Score (Micro) 0.8170024841291748\n",
            "Train loss 0.2895403814130865\n",
            "Val loss 0.1442423353344202\n",
            "------------------------------------------------\n",
            "Epoch :  10\n"
          ]
        },
        {
          "output_type": "stream",
          "name": "stderr",
          "text": [
            "Training: 100%|██████████| 419/419 [00:16<00:00, 24.74it/s]\n",
            "Evaluate: 100%|██████████| 419/419 [00:06<00:00, 65.52it/s]\n",
            "Evaluate: 100%|██████████| 200/200 [00:03<00:00, 59.12it/s]\n"
          ]
        },
        {
          "output_type": "stream",
          "name": "stdout",
          "text": [
            "Train F1 Score (Micro) 0.6539955837549264\n",
            "Val F1 Score (Micro) 0.8472598614875037\n",
            "Train loss 0.28409285107205196\n",
            "Val loss 0.12700344609096648\n",
            "------------------------------------------------\n",
            "Epoch :  11\n"
          ]
        },
        {
          "output_type": "stream",
          "name": "stderr",
          "text": [
            "Training: 100%|██████████| 419/419 [00:16<00:00, 24.73it/s]\n",
            "Evaluate: 100%|██████████| 419/419 [00:06<00:00, 66.06it/s]\n",
            "Evaluate: 100%|██████████| 200/200 [00:02<00:00, 68.60it/s]\n"
          ]
        },
        {
          "output_type": "stream",
          "name": "stdout",
          "text": [
            "Train F1 Score (Micro) 0.6801607771769728\n",
            "Val F1 Score (Micro) 0.8496148263927653\n",
            "Train loss 0.2783532737618699\n",
            "Val loss 0.1249046972580254\n",
            "------------------------------------------------\n",
            "Epoch :  12\n"
          ]
        },
        {
          "output_type": "stream",
          "name": "stderr",
          "text": [
            "Training: 100%|██████████| 419/419 [00:16<00:00, 24.70it/s]\n",
            "Evaluate: 100%|██████████| 419/419 [00:06<00:00, 66.20it/s]\n",
            "Evaluate: 100%|██████████| 200/200 [00:02<00:00, 68.58it/s]\n"
          ]
        },
        {
          "output_type": "stream",
          "name": "stdout",
          "text": [
            "Train F1 Score (Micro) 0.6373988612526221\n",
            "Val F1 Score (Micro) 0.83359375\n",
            "Train loss 0.2726125608694013\n",
            "Val loss 0.1309250649344176\n",
            "------------------------------------------------\n",
            "Epoch :  13\n"
          ]
        },
        {
          "output_type": "stream",
          "name": "stderr",
          "text": [
            "Training: 100%|██████████| 419/419 [00:16<00:00, 24.69it/s]\n",
            "Evaluate: 100%|██████████| 419/419 [00:06<00:00, 61.42it/s]\n",
            "Evaluate: 100%|██████████| 200/200 [00:02<00:00, 68.69it/s]\n"
          ]
        },
        {
          "output_type": "stream",
          "name": "stdout",
          "text": [
            "Train F1 Score (Micro) 0.6937569356990562\n",
            "Val F1 Score (Micro) 0.8450704225352114\n",
            "Train loss 0.27038243576564197\n",
            "Val loss 0.13247965125367045\n",
            "------------------------------------------------\n",
            "Epoch :  14\n"
          ]
        },
        {
          "output_type": "stream",
          "name": "stderr",
          "text": [
            "Training: 100%|██████████| 419/419 [00:16<00:00, 24.72it/s]\n",
            "Evaluate: 100%|██████████| 419/419 [00:06<00:00, 65.79it/s]\n",
            "Evaluate: 100%|██████████| 200/200 [00:02<00:00, 68.64it/s]\n"
          ]
        },
        {
          "output_type": "stream",
          "name": "stdout",
          "text": [
            "Train F1 Score (Micro) 0.6623617288174249\n",
            "Val F1 Score (Micro) 0.8516393754036702\n",
            "Train loss 0.27056213555444114\n",
            "Val loss 0.1256922161206603\n",
            "------------------------------------------------\n",
            "Epoch :  15\n"
          ]
        },
        {
          "output_type": "stream",
          "name": "stderr",
          "text": [
            "Training: 100%|██████████| 419/419 [00:16<00:00, 24.69it/s]\n",
            "Evaluate: 100%|██████████| 419/419 [00:06<00:00, 66.23it/s]\n",
            "Evaluate: 100%|██████████| 200/200 [00:02<00:00, 68.68it/s]\n"
          ]
        },
        {
          "output_type": "stream",
          "name": "stdout",
          "text": [
            "Train F1 Score (Micro) 0.670505278090708\n",
            "Val F1 Score (Micro) 0.856435457853472\n",
            "Train loss 0.2629315748917459\n",
            "Val loss 0.12484964769333601\n",
            "------------------------------------------------\n",
            "Epoch :  16\n"
          ]
        },
        {
          "output_type": "stream",
          "name": "stderr",
          "text": [
            "Training: 100%|██████████| 419/419 [00:16<00:00, 24.70it/s]\n",
            "Evaluate: 100%|██████████| 419/419 [00:06<00:00, 61.28it/s]\n",
            "Evaluate: 100%|██████████| 200/200 [00:02<00:00, 68.76it/s]\n"
          ]
        },
        {
          "output_type": "stream",
          "name": "stdout",
          "text": [
            "Train F1 Score (Micro) 0.6891346229975456\n",
            "Val F1 Score (Micro) 0.8533293786148599\n",
            "Train loss 0.259237435061778\n",
            "Val loss 0.1302857779338956\n",
            "------------------------------------------------\n",
            "Epoch :  17\n"
          ]
        },
        {
          "output_type": "stream",
          "name": "stderr",
          "text": [
            "Training: 100%|██████████| 419/419 [00:16<00:00, 24.71it/s]\n",
            "Evaluate: 100%|██████████| 419/419 [00:06<00:00, 65.87it/s]\n",
            "Evaluate: 100%|██████████| 200/200 [00:02<00:00, 68.01it/s]\n"
          ]
        },
        {
          "output_type": "stream",
          "name": "stdout",
          "text": [
            "Train F1 Score (Micro) 0.6249784344171019\n",
            "Val F1 Score (Micro) 0.8534686446914823\n",
            "Train loss 0.25706362774093283\n",
            "Val loss 0.1259436267800629\n",
            "------------------------------------------------\n",
            "Epoch :  18\n"
          ]
        },
        {
          "output_type": "stream",
          "name": "stderr",
          "text": [
            "Training: 100%|██████████| 419/419 [00:16<00:00, 24.65it/s]\n",
            "Evaluate: 100%|██████████| 419/419 [00:06<00:00, 66.44it/s]\n",
            "Evaluate: 100%|██████████| 200/200 [00:02<00:00, 67.37it/s]\n"
          ]
        },
        {
          "output_type": "stream",
          "name": "stdout",
          "text": [
            "Train F1 Score (Micro) 0.6602109328145342\n",
            "Val F1 Score (Micro) 0.8525301755321174\n",
            "Train loss 0.2563778540399592\n",
            "Val loss 0.13511652213521302\n",
            "------------------------------------------------\n",
            "Epoch :  19\n"
          ]
        },
        {
          "output_type": "stream",
          "name": "stderr",
          "text": [
            "Training: 100%|██████████| 419/419 [00:16<00:00, 24.71it/s]\n",
            "Evaluate: 100%|██████████| 419/419 [00:06<00:00, 62.42it/s]\n",
            "Evaluate: 100%|██████████| 200/200 [00:02<00:00, 66.83it/s]\n"
          ]
        },
        {
          "output_type": "stream",
          "name": "stdout",
          "text": [
            "Train F1 Score (Micro) 0.6821766993481952\n",
            "Val F1 Score (Micro) 0.846081208687441\n",
            "Train loss 0.2524062518145987\n",
            "Val loss 0.13714428352192043\n",
            "------------------------------------------------\n",
            "Epoch :  20\n"
          ]
        },
        {
          "output_type": "stream",
          "name": "stderr",
          "text": [
            "Training: 100%|██████████| 419/419 [00:16<00:00, 24.70it/s]\n",
            "Evaluate: 100%|██████████| 419/419 [00:06<00:00, 67.16it/s]\n",
            "Evaluate: 100%|██████████| 200/200 [00:03<00:00, 65.43it/s]\n"
          ]
        },
        {
          "output_type": "stream",
          "name": "stdout",
          "text": [
            "Train F1 Score (Micro) 0.6774755046463966\n",
            "Val F1 Score (Micro) 0.8474088655032744\n",
            "Train loss 0.25215865508041974\n",
            "Val loss 0.1407348359003663\n",
            "------------------------------------------------\n",
            "Epoch :  21\n"
          ]
        },
        {
          "output_type": "stream",
          "name": "stderr",
          "text": [
            "Training: 100%|██████████| 419/419 [00:16<00:00, 24.74it/s]\n",
            "Evaluate: 100%|██████████| 419/419 [00:06<00:00, 67.46it/s]\n",
            "Evaluate: 100%|██████████| 200/200 [00:03<00:00, 55.33it/s]\n"
          ]
        },
        {
          "output_type": "stream",
          "name": "stdout",
          "text": [
            "Train F1 Score (Micro) 0.6295065521349301\n",
            "Val F1 Score (Micro) 0.847021309690465\n",
            "Train loss 0.2513811946413113\n",
            "Val loss 0.13628552919253706\n",
            "------------------------------------------------\n",
            "Epoch :  22\n"
          ]
        },
        {
          "output_type": "stream",
          "name": "stderr",
          "text": [
            "Training: 100%|██████████| 419/419 [00:16<00:00, 24.71it/s]\n",
            "Evaluate: 100%|██████████| 419/419 [00:06<00:00, 67.09it/s]\n",
            "Evaluate: 100%|██████████| 200/200 [00:03<00:00, 64.01it/s]\n"
          ]
        },
        {
          "output_type": "stream",
          "name": "stdout",
          "text": [
            "Train F1 Score (Micro) 0.6507876799927776\n",
            "Val F1 Score (Micro) 0.8400947241740752\n",
            "Train loss 0.25148954272696966\n",
            "Val loss 0.14135141497477888\n",
            "------------------------------------------------\n",
            "Epoch :  23\n"
          ]
        },
        {
          "output_type": "stream",
          "name": "stderr",
          "text": [
            "Training: 100%|██████████| 419/419 [00:16<00:00, 24.67it/s]\n",
            "Evaluate: 100%|██████████| 419/419 [00:06<00:00, 68.35it/s]\n",
            "Evaluate: 100%|██████████| 200/200 [00:03<00:00, 64.14it/s]\n"
          ]
        },
        {
          "output_type": "stream",
          "name": "stdout",
          "text": [
            "Train F1 Score (Micro) 0.6374845488257107\n",
            "Val F1 Score (Micro) 0.8527856067333308\n",
            "Train loss 0.25379828393886084\n",
            "Val loss 0.13708277057856322\n",
            "------------------------------------------------\n",
            "Epoch :  24\n"
          ]
        },
        {
          "output_type": "stream",
          "name": "stderr",
          "text": [
            "Training: 100%|██████████| 419/419 [00:16<00:00, 24.67it/s]\n",
            "Evaluate: 100%|██████████| 419/419 [00:06<00:00, 63.42it/s]\n",
            "Evaluate: 100%|██████████| 200/200 [00:03<00:00, 63.78it/s]\n"
          ]
        },
        {
          "output_type": "stream",
          "name": "stdout",
          "text": [
            "Train F1 Score (Micro) 0.7926064445546948\n",
            "Val F1 Score (Micro) 0.8698026194429072\n",
            "Train loss 0.22163606251907803\n",
            "Val loss 0.14008872820064425\n",
            "------------------------------------------------\n",
            "Epoch :  25\n"
          ]
        },
        {
          "output_type": "stream",
          "name": "stderr",
          "text": [
            "Training: 100%|██████████| 419/419 [00:16<00:00, 24.69it/s]\n",
            "Evaluate: 100%|██████████| 419/419 [00:06<00:00, 68.45it/s]\n",
            "Evaluate: 100%|██████████| 200/200 [00:03<00:00, 62.81it/s]\n"
          ]
        },
        {
          "output_type": "stream",
          "name": "stdout",
          "text": [
            "Train F1 Score (Micro) 0.8356903163950143\n",
            "Val F1 Score (Micro) 0.8433538122802657\n",
            "Train loss 0.18091972158034833\n",
            "Val loss 0.148624026440084\n",
            "------------------------------------------------\n",
            "Epoch :  26\n"
          ]
        },
        {
          "output_type": "stream",
          "name": "stderr",
          "text": [
            "Training: 100%|██████████| 419/419 [00:16<00:00, 24.75it/s]\n",
            "Evaluate: 100%|██████████| 419/419 [00:06<00:00, 69.04it/s]\n",
            "Evaluate: 100%|██████████| 200/200 [00:03<00:00, 62.94it/s]\n"
          ]
        },
        {
          "output_type": "stream",
          "name": "stdout",
          "text": [
            "Train F1 Score (Micro) 0.8413345712237486\n",
            "Val F1 Score (Micro) 0.8502480510276399\n",
            "Train loss 0.16758678133348293\n",
            "Val loss 0.14434066738933324\n",
            "------------------------------------------------\n",
            "Epoch :  27\n"
          ]
        },
        {
          "output_type": "stream",
          "name": "stderr",
          "text": [
            "Training: 100%|██████████| 419/419 [00:16<00:00, 24.68it/s]\n",
            "Evaluate: 100%|██████████| 419/419 [00:06<00:00, 64.77it/s]\n",
            "Evaluate: 100%|██████████| 200/200 [00:03<00:00, 62.29it/s]\n"
          ]
        },
        {
          "output_type": "stream",
          "name": "stdout",
          "text": [
            "Train F1 Score (Micro) 0.8392942298521698\n",
            "Val F1 Score (Micro) 0.8427107675714544\n",
            "Train loss 0.1685355120385177\n",
            "Val loss 0.15317918153479695\n",
            "------------------------------------------------\n",
            "Epoch :  28\n"
          ]
        },
        {
          "output_type": "stream",
          "name": "stderr",
          "text": [
            "Training: 100%|██████████| 419/419 [00:16<00:00, 24.67it/s]\n",
            "Evaluate: 100%|██████████| 419/419 [00:06<00:00, 69.24it/s]\n",
            "Evaluate: 100%|██████████| 200/200 [00:03<00:00, 63.29it/s]\n"
          ]
        },
        {
          "output_type": "stream",
          "name": "stdout",
          "text": [
            "Train F1 Score (Micro) 0.8360956309859834\n",
            "Val F1 Score (Micro) 0.8560597932982871\n",
            "Train loss 0.1642489741803069\n",
            "Val loss 0.14919201649725436\n",
            "------------------------------------------------\n",
            "Epoch :  29\n"
          ]
        },
        {
          "output_type": "stream",
          "name": "stderr",
          "text": [
            "Training: 100%|██████████| 419/419 [00:17<00:00, 24.64it/s]\n",
            "Evaluate: 100%|██████████| 419/419 [00:06<00:00, 68.43it/s]\n",
            "Evaluate: 100%|██████████| 200/200 [00:03<00:00, 64.67it/s]\n"
          ]
        },
        {
          "output_type": "stream",
          "name": "stdout",
          "text": [
            "Train F1 Score (Micro) 0.8232606809249143\n",
            "Val F1 Score (Micro) 0.8801419466975666\n",
            "Train loss 0.17577870177696314\n",
            "Val loss 0.12026082828640938\n",
            "------------------------------------------------\n",
            "Epoch :  30\n"
          ]
        },
        {
          "output_type": "stream",
          "name": "stderr",
          "text": [
            "Training: 100%|██████████| 419/419 [00:16<00:00, 24.72it/s]\n",
            "Evaluate: 100%|██████████| 419/419 [00:06<00:00, 64.40it/s]\n",
            "Evaluate: 100%|██████████| 200/200 [00:03<00:00, 64.58it/s]\n"
          ]
        },
        {
          "output_type": "stream",
          "name": "stdout",
          "text": [
            "Train F1 Score (Micro) 0.8322100656455143\n",
            "Val F1 Score (Micro) 0.8600960838550007\n",
            "Train loss 0.16374362793557684\n",
            "Val loss 0.13701716884970666\n",
            "------------------------------------------------\n"
          ]
        }
      ]
    },
    {
      "cell_type": "code",
      "source": [
        "epochs = 30\n",
        "learning_rate = 0.001\n",
        "\n",
        "magnet_model_8 = MAGNET(300, 250, adjacency.to(device), pretrained_embeddings.to(device), num_heads = 8)\n",
        "loss_function = nn.BCEWithLogitsLoss()\n",
        "optimizer = optim.Adam(magnet_model_8.parameters(), lr = learning_rate)\n",
        "train_loss_8, val_loss_8, avg_epoch_time = train_model(magnet_model_8, label_embedding, loss_function, optimizer, epochs, device, \"tc_head8.pth\")"
      ],
      "metadata": {
        "colab": {
          "base_uri": "https://localhost:8080/"
        },
        "id": "yXfwPcR-ZzXh",
        "outputId": "03989fcd-46da-43da-9444-38ffeec1d15b"
      },
      "execution_count": null,
      "outputs": [
        {
          "output_type": "stream",
          "name": "stdout",
          "text": [
            "Epoch :  1\n"
          ]
        },
        {
          "output_type": "stream",
          "name": "stderr",
          "text": [
            "Training: 100%|██████████| 419/419 [00:20<00:00, 20.22it/s]\n",
            "Evaluate: 100%|██████████| 419/419 [00:08<00:00, 48.74it/s]\n",
            "Evaluate: 100%|██████████| 200/200 [00:03<00:00, 50.97it/s]\n"
          ]
        },
        {
          "output_type": "stream",
          "name": "stdout",
          "text": [
            "Train F1 Score (Micro) 0.5972623657086765\n",
            "Val F1 Score (Micro) 0.8569739079015448\n",
            "Train loss 0.40232650370188144\n",
            "Val loss 0.1469253147765994\n",
            "Best model saved\n",
            "------------------------------------------------\n",
            "Epoch :  2\n"
          ]
        },
        {
          "output_type": "stream",
          "name": "stderr",
          "text": [
            "Training: 100%|██████████| 419/419 [00:21<00:00, 19.87it/s]\n",
            "Evaluate: 100%|██████████| 419/419 [00:08<00:00, 51.77it/s]\n",
            "Evaluate: 100%|██████████| 200/200 [00:04<00:00, 41.94it/s]\n"
          ]
        },
        {
          "output_type": "stream",
          "name": "stdout",
          "text": [
            "Train F1 Score (Micro) 0.5242667194562671\n",
            "Val F1 Score (Micro) 0.8481323913976816\n",
            "Train loss 0.3687356066376611\n",
            "Val loss 0.14411442704498767\n",
            "Best model saved\n",
            "------------------------------------------------\n",
            "Epoch :  3\n"
          ]
        },
        {
          "output_type": "stream",
          "name": "stderr",
          "text": [
            "Training: 100%|██████████| 419/419 [00:20<00:00, 20.23it/s]\n",
            "Evaluate: 100%|██████████| 419/419 [00:08<00:00, 49.01it/s]\n",
            "Evaluate: 100%|██████████| 200/200 [00:03<00:00, 50.00it/s]\n"
          ]
        },
        {
          "output_type": "stream",
          "name": "stdout",
          "text": [
            "Train F1 Score (Micro) 0.5538982401226483\n",
            "Val F1 Score (Micro) 0.8537830728763732\n",
            "Train loss 0.3483935537301271\n",
            "Val loss 0.12971081074327231\n",
            "Best model saved\n",
            "------------------------------------------------\n",
            "Epoch :  4\n"
          ]
        },
        {
          "output_type": "stream",
          "name": "stderr",
          "text": [
            "Training: 100%|██████████| 419/419 [00:21<00:00, 19.72it/s]\n",
            "Evaluate: 100%|██████████| 419/419 [00:08<00:00, 51.33it/s]\n",
            "Evaluate: 100%|██████████| 200/200 [00:04<00:00, 45.16it/s]\n"
          ]
        },
        {
          "output_type": "stream",
          "name": "stdout",
          "text": [
            "Train F1 Score (Micro) 0.657511433684629\n",
            "Val F1 Score (Micro) 0.8562302638742696\n",
            "Train loss 0.3315497530459789\n",
            "Val loss 0.12828447435051202\n",
            "Best model saved\n",
            "------------------------------------------------\n",
            "Epoch :  5\n"
          ]
        },
        {
          "output_type": "stream",
          "name": "stderr",
          "text": [
            "Training: 100%|██████████| 419/419 [00:20<00:00, 20.01it/s]\n",
            "Evaluate: 100%|██████████| 419/419 [00:09<00:00, 46.29it/s]\n",
            "Evaluate: 100%|██████████| 200/200 [00:03<00:00, 51.09it/s]\n"
          ]
        },
        {
          "output_type": "stream",
          "name": "stdout",
          "text": [
            "Train F1 Score (Micro) 0.609437894316138\n",
            "Val F1 Score (Micro) 0.8459237381195805\n",
            "Train loss 0.3405272220228054\n",
            "Val loss 0.1328416520357132\n",
            "------------------------------------------------\n",
            "Epoch :  6\n"
          ]
        },
        {
          "output_type": "stream",
          "name": "stderr",
          "text": [
            "Training: 100%|██████████| 419/419 [00:21<00:00, 19.68it/s]\n",
            "Evaluate: 100%|██████████| 419/419 [00:08<00:00, 50.93it/s]\n",
            "Evaluate: 100%|██████████| 200/200 [00:05<00:00, 38.38it/s]\n"
          ]
        },
        {
          "output_type": "stream",
          "name": "stdout",
          "text": [
            "Train F1 Score (Micro) 0.6664254790588859\n",
            "Val F1 Score (Micro) 0.8743433196081214\n",
            "Train loss 0.3194125359411171\n",
            "Val loss 0.10597954608500004\n",
            "Best model saved\n",
            "------------------------------------------------\n",
            "Epoch :  7\n"
          ]
        },
        {
          "output_type": "stream",
          "name": "stderr",
          "text": [
            "Training: 100%|██████████| 419/419 [00:21<00:00, 19.90it/s]\n",
            "Evaluate: 100%|██████████| 419/419 [00:08<00:00, 49.29it/s]\n",
            "Evaluate: 100%|██████████| 200/200 [00:03<00:00, 51.39it/s]\n"
          ]
        },
        {
          "output_type": "stream",
          "name": "stdout",
          "text": [
            "Train F1 Score (Micro) 0.6448266373142543\n",
            "Val F1 Score (Micro) 0.8695395077241481\n",
            "Train loss 0.3059885064784553\n",
            "Val loss 0.11104178298264741\n",
            "------------------------------------------------\n",
            "Epoch :  8\n"
          ]
        },
        {
          "output_type": "stream",
          "name": "stderr",
          "text": [
            "Training: 100%|██████████| 419/419 [00:21<00:00, 19.78it/s]\n",
            "Evaluate: 100%|██████████| 419/419 [00:08<00:00, 46.61it/s]\n",
            "Evaluate: 100%|██████████| 200/200 [00:04<00:00, 48.72it/s]\n"
          ]
        },
        {
          "output_type": "stream",
          "name": "stdout",
          "text": [
            "Train F1 Score (Micro) 0.65340682602301\n",
            "Val F1 Score (Micro) 0.8534463361584039\n",
            "Train loss 0.2999804981212912\n",
            "Val loss 0.12383493147790432\n",
            "------------------------------------------------\n",
            "Epoch :  9\n"
          ]
        },
        {
          "output_type": "stream",
          "name": "stderr",
          "text": [
            "Training: 100%|██████████| 419/419 [00:20<00:00, 20.04it/s]\n",
            "Evaluate: 100%|██████████| 419/419 [00:08<00:00, 49.95it/s]\n",
            "Evaluate: 100%|██████████| 200/200 [00:03<00:00, 51.40it/s]\n"
          ]
        },
        {
          "output_type": "stream",
          "name": "stdout",
          "text": [
            "Train F1 Score (Micro) 0.6467129727075002\n",
            "Val F1 Score (Micro) 0.8680491152576325\n",
            "Train loss 0.29140832725032134\n",
            "Val loss 0.10606171185150742\n",
            "------------------------------------------------\n",
            "Epoch :  10\n"
          ]
        },
        {
          "output_type": "stream",
          "name": "stderr",
          "text": [
            "Training: 100%|██████████| 419/419 [00:21<00:00, 19.90it/s]\n",
            "Evaluate: 100%|██████████| 419/419 [00:08<00:00, 49.48it/s]\n",
            "Evaluate: 100%|██████████| 200/200 [00:04<00:00, 44.66it/s]\n"
          ]
        },
        {
          "output_type": "stream",
          "name": "stdout",
          "text": [
            "Train F1 Score (Micro) 0.6474530268477973\n",
            "Val F1 Score (Micro) 0.8701327597715641\n",
            "Train loss 0.28588716013619325\n",
            "Val loss 0.10783888714388012\n",
            "------------------------------------------------\n",
            "Epoch :  11\n"
          ]
        },
        {
          "output_type": "stream",
          "name": "stderr",
          "text": [
            "Training: 100%|██████████| 419/419 [00:20<00:00, 20.03it/s]\n",
            "Evaluate: 100%|██████████| 419/419 [00:08<00:00, 50.49it/s]\n",
            "Evaluate: 100%|██████████| 200/200 [00:03<00:00, 50.05it/s]\n"
          ]
        },
        {
          "output_type": "stream",
          "name": "stdout",
          "text": [
            "Train F1 Score (Micro) 0.5987084429562306\n",
            "Val F1 Score (Micro) 0.8573417378862292\n",
            "Train loss 0.281364091291917\n",
            "Val loss 0.11002618094906211\n",
            "------------------------------------------------\n",
            "Epoch :  12\n"
          ]
        },
        {
          "output_type": "stream",
          "name": "stderr",
          "text": [
            "Training: 100%|██████████| 419/419 [00:21<00:00, 19.86it/s]\n",
            "Evaluate: 100%|██████████| 419/419 [00:08<00:00, 49.13it/s]\n",
            "Evaluate: 100%|██████████| 200/200 [00:03<00:00, 51.49it/s]\n"
          ]
        },
        {
          "output_type": "stream",
          "name": "stdout",
          "text": [
            "Train F1 Score (Micro) 0.6098522784176263\n",
            "Val F1 Score (Micro) 0.8583615124500461\n",
            "Train loss 0.2770884123793081\n",
            "Val loss 0.1167777231708169\n",
            "------------------------------------------------\n",
            "Epoch :  13\n"
          ]
        },
        {
          "output_type": "stream",
          "name": "stderr",
          "text": [
            "Training: 100%|██████████| 419/419 [00:20<00:00, 19.99it/s]\n",
            "Evaluate: 100%|██████████| 419/419 [00:08<00:00, 50.13it/s]\n",
            "Evaluate: 100%|██████████| 200/200 [00:04<00:00, 44.20it/s]\n"
          ]
        },
        {
          "output_type": "stream",
          "name": "stdout",
          "text": [
            "Train F1 Score (Micro) 0.6880606248066811\n",
            "Val F1 Score (Micro) 0.8454204844752754\n",
            "Train loss 0.2715028302481749\n",
            "Val loss 0.13236382130533456\n",
            "------------------------------------------------\n",
            "Epoch :  14\n"
          ]
        },
        {
          "output_type": "stream",
          "name": "stderr",
          "text": [
            "Training: 100%|██████████| 419/419 [00:20<00:00, 19.98it/s]\n",
            "Evaluate: 100%|██████████| 419/419 [00:08<00:00, 48.78it/s]\n",
            "Evaluate: 100%|██████████| 200/200 [00:03<00:00, 51.43it/s]\n"
          ]
        },
        {
          "output_type": "stream",
          "name": "stdout",
          "text": [
            "Train F1 Score (Micro) 0.6717620099619908\n",
            "Val F1 Score (Micro) 0.8410832132291587\n",
            "Train loss 0.2687331485364204\n",
            "Val loss 0.13180718183517456\n",
            "------------------------------------------------\n",
            "Epoch :  15\n"
          ]
        },
        {
          "output_type": "stream",
          "name": "stderr",
          "text": [
            "Training: 100%|██████████| 419/419 [00:21<00:00, 19.78it/s]\n",
            "Evaluate: 100%|██████████| 419/419 [00:08<00:00, 51.04it/s]\n",
            "Evaluate: 100%|██████████| 200/200 [00:04<00:00, 48.47it/s]\n"
          ]
        },
        {
          "output_type": "stream",
          "name": "stdout",
          "text": [
            "Train F1 Score (Micro) 0.6176792813096692\n",
            "Val F1 Score (Micro) 0.8194671233422279\n",
            "Train loss 0.26559445578471574\n",
            "Val loss 0.1422380517050624\n",
            "------------------------------------------------\n",
            "Epoch :  16\n"
          ]
        },
        {
          "output_type": "stream",
          "name": "stderr",
          "text": [
            "Training: 100%|██████████| 419/419 [00:21<00:00, 19.91it/s]\n",
            "Evaluate: 100%|██████████| 419/419 [00:09<00:00, 46.35it/s]\n",
            "Evaluate: 100%|██████████| 200/200 [00:03<00:00, 50.99it/s]\n"
          ]
        },
        {
          "output_type": "stream",
          "name": "stdout",
          "text": [
            "Train F1 Score (Micro) 0.7624777719840093\n",
            "Val F1 Score (Micro) 0.8879472346070232\n",
            "Train loss 0.2512639078149363\n",
            "Val loss 0.11264071833342314\n",
            "------------------------------------------------\n",
            "Epoch :  17\n"
          ]
        },
        {
          "output_type": "stream",
          "name": "stderr",
          "text": [
            "Training: 100%|██████████| 419/419 [00:21<00:00, 19.83it/s]\n",
            "Evaluate: 100%|██████████| 419/419 [00:08<00:00, 51.76it/s]\n",
            "Evaluate: 100%|██████████| 200/200 [00:04<00:00, 46.53it/s]\n"
          ]
        },
        {
          "output_type": "stream",
          "name": "stdout",
          "text": [
            "Train F1 Score (Micro) 0.7589129892794815\n",
            "Val F1 Score (Micro) 0.8649572649572649\n",
            "Train loss 0.23327607805518374\n",
            "Val loss 0.1282836414501071\n",
            "------------------------------------------------\n",
            "Epoch :  18\n"
          ]
        },
        {
          "output_type": "stream",
          "name": "stderr",
          "text": [
            "Training: 100%|██████████| 419/419 [00:21<00:00, 19.94it/s]\n",
            "Evaluate: 100%|██████████| 419/419 [00:08<00:00, 48.78it/s]\n",
            "Evaluate: 100%|██████████| 200/200 [00:03<00:00, 50.81it/s]\n"
          ]
        },
        {
          "output_type": "stream",
          "name": "stdout",
          "text": [
            "Train F1 Score (Micro) 0.7556946275239304\n",
            "Val F1 Score (Micro) 0.8456684296917746\n",
            "Train loss 0.21935611319570383\n",
            "Val loss 0.1420108176022768\n",
            "------------------------------------------------\n",
            "Epoch :  19\n"
          ]
        },
        {
          "output_type": "stream",
          "name": "stderr",
          "text": [
            "Training: 100%|██████████| 419/419 [00:21<00:00, 19.70it/s]\n",
            "Evaluate: 100%|██████████| 419/419 [00:08<00:00, 48.77it/s]\n",
            "Evaluate: 100%|██████████| 200/200 [00:04<00:00, 45.96it/s]\n"
          ]
        },
        {
          "output_type": "stream",
          "name": "stdout",
          "text": [
            "Train F1 Score (Micro) 0.724500265345834\n",
            "Val F1 Score (Micro) 0.8530977219501811\n",
            "Train loss 0.21559930719026232\n",
            "Val loss 0.1352478289976716\n",
            "------------------------------------------------\n",
            "Epoch :  20\n"
          ]
        },
        {
          "output_type": "stream",
          "name": "stderr",
          "text": [
            "Training: 100%|██████████| 419/419 [00:20<00:00, 20.20it/s]\n",
            "Evaluate: 100%|██████████| 419/419 [00:08<00:00, 48.34it/s]\n",
            "Evaluate: 100%|██████████| 200/200 [00:03<00:00, 50.33it/s]\n"
          ]
        },
        {
          "output_type": "stream",
          "name": "stdout",
          "text": [
            "Train F1 Score (Micro) 0.7235198108959928\n",
            "Val F1 Score (Micro) 0.869588093806374\n",
            "Train loss 0.250153014405246\n",
            "Val loss 0.1261766416952014\n",
            "------------------------------------------------\n",
            "Epoch :  21\n"
          ]
        },
        {
          "output_type": "stream",
          "name": "stderr",
          "text": [
            "Training: 100%|██████████| 419/419 [00:21<00:00, 19.70it/s]\n",
            "Evaluate: 100%|██████████| 419/419 [00:08<00:00, 51.61it/s]\n",
            "Evaluate: 100%|██████████| 200/200 [00:04<00:00, 42.61it/s]\n"
          ]
        },
        {
          "output_type": "stream",
          "name": "stdout",
          "text": [
            "Train F1 Score (Micro) 0.7429106369700043\n",
            "Val F1 Score (Micro) 0.8571955583428633\n",
            "Train loss 0.23196947994266318\n",
            "Val loss 0.1316206161491573\n",
            "------------------------------------------------\n",
            "Epoch :  22\n"
          ]
        },
        {
          "output_type": "stream",
          "name": "stderr",
          "text": [
            "Training: 100%|██████████| 419/419 [00:20<00:00, 20.11it/s]\n",
            "Evaluate: 100%|██████████| 419/419 [00:09<00:00, 46.25it/s]\n",
            "Evaluate: 100%|██████████| 200/200 [00:03<00:00, 51.37it/s]\n"
          ]
        },
        {
          "output_type": "stream",
          "name": "stdout",
          "text": [
            "Train F1 Score (Micro) 0.7216283414572477\n",
            "Val F1 Score (Micro) 0.8727123328602376\n",
            "Train loss 0.2309629432412491\n",
            "Val loss 0.12487753499299288\n",
            "------------------------------------------------\n",
            "Epoch :  23\n"
          ]
        },
        {
          "output_type": "stream",
          "name": "stderr",
          "text": [
            "Training: 100%|██████████| 419/419 [00:21<00:00, 19.75it/s]\n",
            "Evaluate: 100%|██████████| 419/419 [00:08<00:00, 51.87it/s]\n",
            "Evaluate: 100%|██████████| 200/200 [00:04<00:00, 45.69it/s]\n"
          ]
        },
        {
          "output_type": "stream",
          "name": "stdout",
          "text": [
            "Train F1 Score (Micro) 0.7530910726660425\n",
            "Val F1 Score (Micro) 0.8505722228239285\n",
            "Train loss 0.2248340516500086\n",
            "Val loss 0.14190904093906284\n",
            "------------------------------------------------\n",
            "Epoch :  24\n"
          ]
        },
        {
          "output_type": "stream",
          "name": "stderr",
          "text": [
            "Training: 100%|██████████| 419/419 [00:20<00:00, 20.07it/s]\n",
            "Evaluate: 100%|██████████| 419/419 [00:09<00:00, 46.14it/s]\n",
            "Evaluate: 100%|██████████| 200/200 [00:03<00:00, 51.01it/s]\n"
          ]
        },
        {
          "output_type": "stream",
          "name": "stdout",
          "text": [
            "Train F1 Score (Micro) 0.7378304046822289\n",
            "Val F1 Score (Micro) 0.8602367349986932\n",
            "Train loss 0.22134148594445432\n",
            "Val loss 0.14360739627853036\n",
            "------------------------------------------------\n",
            "Epoch :  25\n"
          ]
        },
        {
          "output_type": "stream",
          "name": "stderr",
          "text": [
            "Training: 100%|██████████| 419/419 [00:21<00:00, 19.72it/s]\n",
            "Evaluate: 100%|██████████| 419/419 [00:08<00:00, 50.64it/s]\n",
            "Evaluate: 100%|██████████| 200/200 [00:04<00:00, 46.75it/s]\n"
          ]
        },
        {
          "output_type": "stream",
          "name": "stdout",
          "text": [
            "Train F1 Score (Micro) 0.7378082978810719\n",
            "Val F1 Score (Micro) 0.8437106798337591\n",
            "Train loss 0.22075290778798534\n",
            "Val loss 0.1487482204847038\n",
            "------------------------------------------------\n",
            "Epoch :  26\n"
          ]
        },
        {
          "output_type": "stream",
          "name": "stderr",
          "text": [
            "Training: 100%|██████████| 419/419 [00:20<00:00, 20.13it/s]\n",
            "Evaluate: 100%|██████████| 419/419 [00:08<00:00, 48.74it/s]\n",
            "Evaluate: 100%|██████████| 200/200 [00:03<00:00, 51.00it/s]\n"
          ]
        },
        {
          "output_type": "stream",
          "name": "stdout",
          "text": [
            "Train F1 Score (Micro) 0.7293670351334225\n",
            "Val F1 Score (Micro) 0.871062106210621\n",
            "Train loss 0.2210028466361804\n",
            "Val loss 0.13388398697599768\n",
            "------------------------------------------------\n",
            "Epoch :  27\n"
          ]
        },
        {
          "output_type": "stream",
          "name": "stderr",
          "text": [
            "Training: 100%|██████████| 419/419 [00:21<00:00, 19.53it/s]\n",
            "Evaluate: 100%|██████████| 419/419 [00:08<00:00, 47.16it/s]\n",
            "Evaluate: 100%|██████████| 200/200 [00:04<00:00, 48.78it/s]\n"
          ]
        },
        {
          "output_type": "stream",
          "name": "stdout",
          "text": [
            "Train F1 Score (Micro) 0.7277045750155517\n",
            "Val F1 Score (Micro) 0.8569904761904763\n",
            "Train loss 0.22241391988386686\n",
            "Val loss 0.13582354951649905\n",
            "------------------------------------------------\n",
            "Epoch :  28\n"
          ]
        },
        {
          "output_type": "stream",
          "name": "stderr",
          "text": [
            "Training: 100%|██████████| 419/419 [00:20<00:00, 20.03it/s]\n",
            "Evaluate: 100%|██████████| 419/419 [00:08<00:00, 48.95it/s]\n",
            "Evaluate: 100%|██████████| 200/200 [00:03<00:00, 50.99it/s]\n"
          ]
        },
        {
          "output_type": "stream",
          "name": "stdout",
          "text": [
            "Train F1 Score (Micro) 0.7401253539840825\n",
            "Val F1 Score (Micro) 0.8423639732294779\n",
            "Train loss 0.22580262867462664\n",
            "Val loss 0.15124761156737804\n",
            "------------------------------------------------\n",
            "Epoch :  29\n"
          ]
        },
        {
          "output_type": "stream",
          "name": "stderr",
          "text": [
            "Training: 100%|██████████| 419/419 [00:21<00:00, 19.77it/s]\n",
            "Evaluate: 100%|██████████| 419/419 [00:08<00:00, 49.42it/s]\n",
            "Evaluate: 100%|██████████| 200/200 [00:04<00:00, 49.23it/s]\n"
          ]
        },
        {
          "output_type": "stream",
          "name": "stdout",
          "text": [
            "Train F1 Score (Micro) 0.7431808701034812\n",
            "Val F1 Score (Micro) 0.8631014449575451\n",
            "Train loss 0.22104508459994787\n",
            "Val loss 0.13909965327940882\n",
            "------------------------------------------------\n",
            "Epoch :  30\n"
          ]
        },
        {
          "output_type": "stream",
          "name": "stderr",
          "text": [
            "Training: 100%|██████████| 419/419 [00:20<00:00, 19.99it/s]\n",
            "Evaluate: 100%|██████████| 419/419 [00:08<00:00, 47.58it/s]\n",
            "Evaluate: 100%|██████████| 200/200 [00:03<00:00, 51.73it/s]\n"
          ]
        },
        {
          "output_type": "stream",
          "name": "stdout",
          "text": [
            "Train F1 Score (Micro) 0.7621360983214299\n",
            "Val F1 Score (Micro) 0.8397129186602871\n",
            "Train loss 0.21572193531830727\n",
            "Val loss 0.15893487993627786\n",
            "------------------------------------------------\n"
          ]
        }
      ]
    },
    {
      "cell_type": "markdown",
      "metadata": {
        "id": "bwZfUS12hSVv"
      },
      "source": [
        "# Evaluation"
      ]
    },
    {
      "cell_type": "code",
      "execution_count": null,
      "metadata": {
        "id": "v4P3KQ3_hSVw"
      },
      "outputs": [],
      "source": [
        "def test_scores(model, device, label_embedding):\n",
        "\n",
        "    model.eval()\n",
        "\n",
        "    y_true = []\n",
        "    y_pred = []\n",
        "    with torch.no_grad():\n",
        "        for batch in tqdm(dataloader_test, desc='Evaluate'):\n",
        "            sequence_in, output_label = batch\n",
        "            sequence_in, output_label = sequence_in.to(device), output_label.to(device)\n",
        "\n",
        "            pred_batch = model(sequence_in, label_embedding)\n",
        "\n",
        "            y_true.extend(output_label.cpu().detach().numpy().tolist())\n",
        "            y_pred.extend(torch.sigmoid(pred_batch.cpu().detach()).numpy().tolist())\n",
        "\n",
        "\n",
        "    y_true = np.array(y_true)\n",
        "    y_pred = np.array(y_pred)\n",
        "\n",
        "    y_pred = y_pred >= 0.5\n",
        "\n",
        "    accuracy = metrics.accuracy_score(y_true, y_pred)\n",
        "    f1_score_micro = metrics.f1_score(y_true, y_pred, average='micro')\n",
        "\n",
        "    print('Test Accuracy', accuracy)\n",
        "    print('Test F1 Score (Micro)', f1_score_micro)\n",
        "\n",
        "    print('Classification report')\n",
        "    print(classification_report(y_true, y_pred, zero_division=0, target_names=['toxic', 'severe_toxic', 'obscene', 'threat', 'insult','identity_hate', 'good']))"
      ]
    },
    {
      "cell_type": "code",
      "source": [
        "best_model_4 = torch.load('/content/drive/MyDrive/MAGNET_TC/tc_head4.pth')\n",
        "test_scores(best_model_4, device, label_embedding)"
      ],
      "metadata": {
        "colab": {
          "base_uri": "https://localhost:8080/"
        },
        "id": "hYgHpip_a1Xr",
        "outputId": "77b8f95d-fcd4-4ddf-d5a8-6efd8827b8b3"
      },
      "execution_count": null,
      "outputs": [
        {
          "output_type": "stream",
          "name": "stderr",
          "text": [
            "Evaluate: 100%|██████████| 499/499 [00:08<00:00, 59.74it/s]\n"
          ]
        },
        {
          "output_type": "stream",
          "name": "stdout",
          "text": [
            "Test Accuracy 0.8532351558828137\n",
            "Test F1 Score (Micro) 0.8639126086622048\n",
            "Classification report\n",
            "               precision    recall  f1-score   support\n",
            "\n",
            "        toxic       0.98      0.08      0.15      3002\n",
            " severe_toxic       0.34      0.29      0.31       297\n",
            "      obscene       0.93      0.15      0.25      1612\n",
            "       threat       0.06      0.15      0.08        91\n",
            "       insult       0.86      0.15      0.25      1495\n",
            "identity_hate       0.20      0.18      0.19       277\n",
            "         good       0.97      0.95      0.96     28733\n",
            "\n",
            "    micro avg       0.95      0.79      0.86     35507\n",
            "    macro avg       0.62      0.28      0.31     35507\n",
            " weighted avg       0.95      0.79      0.82     35507\n",
            "  samples avg       0.86      0.86      0.86     35507\n",
            "\n"
          ]
        }
      ]
    },
    {
      "cell_type": "code",
      "source": [
        "best_model_2 = torch.load('/content/drive/MyDrive/MAGNET_TC/tc_head2.pth')\n",
        "test_scores(best_model_2, device, label_embedding)"
      ],
      "metadata": {
        "colab": {
          "base_uri": "https://localhost:8080/"
        },
        "id": "ViA6-Rkva1BN",
        "outputId": "3fe0eec4-f50f-4135-a3c4-2d8beb563e6b"
      },
      "execution_count": null,
      "outputs": [
        {
          "output_type": "stream",
          "name": "stderr",
          "text": [
            "Evaluate: 100%|██████████| 499/499 [00:07<00:00, 66.74it/s]\n"
          ]
        },
        {
          "output_type": "stream",
          "name": "stdout",
          "text": [
            "Test Accuracy 0.8549271502428325\n",
            "Test F1 Score (Micro) 0.8648640353569456\n",
            "Classification report\n",
            "               precision    recall  f1-score   support\n",
            "\n",
            "        toxic       0.99      0.09      0.16      3002\n",
            " severe_toxic       0.34      0.31      0.32       297\n",
            "      obscene       0.91      0.15      0.26      1612\n",
            "       threat       0.05      0.15      0.08        91\n",
            "       insult       0.86      0.15      0.26      1495\n",
            "identity_hate       0.23      0.22      0.23       277\n",
            "         good       0.97      0.95      0.96     28733\n",
            "\n",
            "    micro avg       0.95      0.79      0.86     35507\n",
            "    macro avg       0.62      0.29      0.32     35507\n",
            " weighted avg       0.95      0.79      0.82     35507\n",
            "  samples avg       0.86      0.86      0.86     35507\n",
            "\n"
          ]
        }
      ]
    },
    {
      "cell_type": "code",
      "execution_count": null,
      "metadata": {
        "id": "004v7xzmhSVw",
        "colab": {
          "base_uri": "https://localhost:8080/"
        },
        "outputId": "6ff85cd6-356a-4394-8f39-9ba1691b5200"
      },
      "outputs": [
        {
          "output_type": "stream",
          "name": "stderr",
          "text": [
            "Evaluate: 100%|██████████| 499/499 [00:10<00:00, 49.14it/s]\n"
          ]
        },
        {
          "output_type": "stream",
          "name": "stdout",
          "text": [
            "Test Accuracy 0.8607864640451198\n",
            "Test F1 Score (Micro) 0.871574589943152\n",
            "Classification report\n",
            "               precision    recall  f1-score   support\n",
            "\n",
            "        toxic       0.96      0.36      0.52      3002\n",
            " severe_toxic       0.22      0.83      0.35       297\n",
            "      obscene       0.81      0.57      0.67      1612\n",
            "       threat       0.04      0.53      0.08        91\n",
            "       insult       0.72      0.55      0.62      1495\n",
            "identity_hate       0.15      0.60      0.23       277\n",
            "         good       0.97      0.96      0.96     28733\n",
            "\n",
            "    micro avg       0.88      0.87      0.87     35507\n",
            "    macro avg       0.55      0.63      0.49     35507\n",
            " weighted avg       0.94      0.87      0.89     35507\n",
            "  samples avg       0.88      0.89      0.88     35507\n",
            "\n"
          ]
        }
      ],
      "source": [
        "best_model_8 = torch.load('/content/drive/MyDrive/MAGNET_TC/tc_head8.pth')\n",
        "test_scores(best_model_8, device, label_embedding)"
      ]
    },
    {
      "cell_type": "code",
      "execution_count": null,
      "metadata": {
        "id": "XHG38p3zhSVw",
        "colab": {
          "base_uri": "https://localhost:8080/"
        },
        "outputId": "af95d831-8ef7-41d6-a230-89a6bbe282d7"
      },
      "outputs": [
        {
          "output_type": "stream",
          "name": "stdout",
          "text": [
            "MAGNET(\n",
            "  (node_embedding): Embedding(57902, 300)\n",
            "  (rnn): LSTM(300, 250, batch_first=True, bidirectional=True)\n",
            "  (attentions1): ModuleList(\n",
            "    (0-3): 4 x GraphAttentionLayer(\n",
            "      (W): Linear(in_features=300, out_features=500, bias=False)\n",
            "      (a): Linear(in_features=1000, out_features=1, bias=False)\n",
            "      (leakyrelu): LeakyReLU(negative_slope=0.01)\n",
            "      (softmax): Softmax(dim=1)\n",
            "    )\n",
            "  )\n",
            "  (tanh1): Tanh()\n",
            "  (attentions2): ModuleList(\n",
            "    (0-3): 4 x GraphAttentionLayer(\n",
            "      (W): Linear(in_features=500, out_features=500, bias=False)\n",
            "      (a): Linear(in_features=1000, out_features=1, bias=False)\n",
            "      (leakyrelu): LeakyReLU(negative_slope=0.01)\n",
            "      (softmax): Softmax(dim=1)\n",
            "    )\n",
            "  )\n",
            "  (tanh2): Tanh()\n",
            "  (dropout): Dropout(p=0.5, inplace=False)\n",
            ")\n",
            "The model has 2,712,049 trainable parameters\n"
          ]
        }
      ],
      "source": [
        "num_params = sum(p.numel() for p in best_model_4.parameters() if p.requires_grad) \n",
        "\n",
        "print(best_model_4)\n",
        "print(f'The model has {num_params:,} trainable parameters')"
      ]
    },
    {
      "cell_type": "code",
      "execution_count": null,
      "metadata": {
        "id": "zFg0zqM1hSVx",
        "colab": {
          "base_uri": "https://localhost:8080/"
        },
        "outputId": "c4a1262c-7535-4407-e1f9-b2ec3ba1efcc"
      },
      "outputs": [
        {
          "output_type": "stream",
          "name": "stdout",
          "text": [
            "Train loss [0.4059362349618306, 0.3700039846231374, 0.3462592723261485, 0.3319646992447268, 0.32679999898896867, 0.3132572413415499, 0.30517218317080796, 0.29605115615809446, 0.2895403814130865, 0.28409285107205196, 0.2783532737618699, 0.2726125608694013, 0.27038243576564197, 0.27056213555444114, 0.2629315748917459, 0.259237435061778, 0.25706362774093283, 0.2563778540399592, 0.2524062518145987, 0.25215865508041974, 0.2513811946413113, 0.25148954272696966, 0.25379828393886084, 0.22163606251907803, 0.18091972158034833, 0.16758678133348293, 0.1685355120385177, 0.1642489741803069, 0.17577870177696314, 0.16374362793557684]\n",
            "Val loss [0.15932306956499814, 0.15083350002765655, 0.126546711307019, 0.1527826176956296, 0.11484843203797937, 0.11379154831171036, 0.10648184627294541, 0.11836412455886602, 0.1442423353344202, 0.12700344609096648, 0.1249046972580254, 0.1309250649344176, 0.13247965125367045, 0.1256922161206603, 0.12484964769333601, 0.1302857779338956, 0.1259436267800629, 0.13511652213521302, 0.13714428352192043, 0.1407348359003663, 0.13628552919253706, 0.14135141497477888, 0.13708277057856322, 0.14008872820064425, 0.148624026440084, 0.14434066738933324, 0.15317918153479695, 0.14919201649725436, 0.12026082828640938, 0.13701716884970666]\n"
          ]
        }
      ],
      "source": [
        "print('Train loss', train_loss_2)\n",
        "print('Val loss', val_loss_2)"
      ]
    },
    {
      "cell_type": "code",
      "source": [
        "print('Train loss', train_loss_4)\n",
        "print('Val loss', val_loss_4)"
      ],
      "metadata": {
        "colab": {
          "base_uri": "https://localhost:8080/"
        },
        "id": "H-sDqn74bE8T",
        "outputId": "ee87e67d-5e81-4b69-e7b8-5afc582e346c"
      },
      "execution_count": null,
      "outputs": [
        {
          "output_type": "stream",
          "name": "stdout",
          "text": [
            "Train loss [0.4085800723841765, 0.3681270850017702, 0.3463747218286792, 0.3532313510668875, 0.33050982316240207, 0.3167421101528022, 0.31080225188294003, 0.3008019111890497, 0.2964007498114092, 0.29651029454210776, 0.2933098809317928, 0.2790960609770618, 0.2756636255823058, 0.26921930389927795, 0.27109609430473575, 0.2671074415234791, 0.270772373548271, 0.26329006162207563, 0.25663819258281323, 0.2547096920184133, 0.25565766961022607, 0.25224138248649586, 0.24882082733590163, 0.25226700394847795, 0.2510891186522413, 0.2527676570387046, 0.24851589509439354, 0.24575295421986135, 0.24448913968832794, 0.24457782734549985]\n",
            "Val loss [0.19955353684723376, 0.11585581075400114, 0.1884810044616461, 0.16663181498646737, 0.11854853732511401, 0.10541393561288714, 0.10571715259924531, 0.11249493174254895, 0.1085503998445347, 0.13200699243694544, 0.11455216316506267, 0.11302747782319784, 0.12237707836553455, 0.12398915989324451, 0.1397448117658496, 0.1253250976651907, 0.12238593246787786, 0.1355305527150631, 0.12819783439859747, 0.12553493704646826, 0.13270732790231704, 0.13481296230107545, 0.14064162135124206, 0.14197970217093825, 0.13687478616833687, 0.1487546830251813, 0.15321692937985062, 0.14991453792899848, 0.1547797211073339, 0.14890897750854493]\n"
          ]
        }
      ]
    },
    {
      "cell_type": "code",
      "source": [
        "print('Train loss', train_loss_8)\n",
        "print('Val loss', val_loss_8)"
      ],
      "metadata": {
        "colab": {
          "base_uri": "https://localhost:8080/"
        },
        "id": "NKJZcvQwbFi_",
        "outputId": "97a2c07c-160f-446b-8c4c-08eb17e026b7"
      },
      "execution_count": null,
      "outputs": [
        {
          "output_type": "stream",
          "name": "stdout",
          "text": [
            "Train loss [0.40232650370188144, 0.3687356066376611, 0.3483935537301271, 0.3315497530459789, 0.3405272220228054, 0.3194125359411171, 0.3059885064784553, 0.2999804981212912, 0.29140832725032134, 0.28588716013619325, 0.281364091291917, 0.2770884123793081, 0.2715028302481749, 0.2687331485364204, 0.26559445578471574, 0.2512639078149363, 0.23327607805518374, 0.21935611319570383, 0.21559930719026232, 0.250153014405246, 0.23196947994266318, 0.2309629432412491, 0.2248340516500086, 0.22134148594445432, 0.22075290778798534, 0.2210028466361804, 0.22241391988386686, 0.22580262867462664, 0.22104508459994787, 0.21572193531830727]\n",
            "Val loss [0.1469253147765994, 0.14411442704498767, 0.12971081074327231, 0.12828447435051202, 0.1328416520357132, 0.10597954608500004, 0.11104178298264741, 0.12383493147790432, 0.10606171185150742, 0.10783888714388012, 0.11002618094906211, 0.1167777231708169, 0.13236382130533456, 0.13180718183517456, 0.1422380517050624, 0.11264071833342314, 0.1282836414501071, 0.1420108176022768, 0.1352478289976716, 0.1261766416952014, 0.1316206161491573, 0.12487753499299288, 0.14190904093906284, 0.14360739627853036, 0.1487482204847038, 0.13388398697599768, 0.13582354951649905, 0.15124761156737804, 0.13909965327940882, 0.15893487993627786]\n"
          ]
        }
      ]
    },
    {
      "cell_type": "code",
      "execution_count": null,
      "metadata": {
        "id": "SKg6aRlihSVx"
      },
      "outputs": [],
      "source": [
        "# print('Avg epoch time', round(avg_epoch_time, 2), 'secs')"
      ]
    },
    {
      "cell_type": "code",
      "source": [
        "import matplotlib.pyplot as plt\n",
        "\n",
        "plt.plot(val_loss_2, label='2 heads')\n",
        "plt.plot(val_loss_4, label='4 heads')\n",
        "plt.plot(val_loss_8, label='8 heads')\n",
        "\n",
        "plt.title('Validation Loss for different number of heads')\n",
        "plt.xlabel('Epochs')\n",
        "plt.ylabel('Validation Loss')\n",
        "\n",
        "plt.legend()\n",
        "\n",
        "plt.show()"
      ],
      "metadata": {
        "colab": {
          "base_uri": "https://localhost:8080/",
          "height": 472
        },
        "id": "3GR3ykjcpC69",
        "outputId": "93f57235-8cd5-430e-b582-52e823a26dd9"
      },
      "execution_count": null,
      "outputs": [
        {
          "output_type": "display_data",
          "data": {
            "text/plain": [
              "<Figure size 640x480 with 1 Axes>"
            ],
            "image/png": "[encoded data removed]"
          },
          "metadata": {}
        }
      ]
    },
    {
      "cell_type": "code",
      "source": [
        "def inference(model, device, label_embedding, sequence_in):\n",
        "\n",
        "    labels_names = ['toxic', 'severe_toxic', 'obscene', 'threat', 'insult','identity_hate', 'good']\n",
        "\n",
        "    model.eval()\n",
        "    \n",
        "    with torch.no_grad():\n",
        "            sequence_in = torch.tensor(sequence_in).to(device)\n",
        "\n",
        "            pred_batch = model(sequence_in, label_embedding)\n",
        "\n",
        "            out = torch.sigmoid(pred_batch.cpu().detach()).numpy().tolist()\n",
        "            \n",
        "            out = np.array(out) >= 0.5\n",
        "\n",
        "            pos = []\n",
        "            neg = []\n",
        "\n",
        "            for i, value in enumerate(out[0]) :\n",
        "                if(value == True) :\n",
        "                    pos.append(labels_names[i])\n",
        "                else :\n",
        "                    neg.append(labels_names[i])\n",
        "\n",
        "            print(\"Positive Labels : \", pos)\n",
        "            print(\"Negative Labels : \", neg)\n",
        "            "
      ],
      "metadata": {
        "id": "PDm4ENfQr2iz"
      },
      "execution_count": null,
      "outputs": []
    },
    {
      "cell_type": "code",
      "source": [
        "with open(\"/content/drive/MyDrive/MAGNET_TC/maxlength.pkl\", \"rb\") as f:\n",
        "    maxlen = pickle.load(f)\n",
        "\n",
        "with open(\"/content/drive/MyDrive/MAGNET_TC/word2idx.pkl\", \"rb\") as f:\n",
        "    word2idx = pickle.load(f)\n",
        "\n",
        "with open(\"/content/drive/MyDrive/MAGNET_TC/label_embedding.pkl\", \"rb\") as f:\n",
        "    label_embed = pickle.load(f)\n",
        "\n",
        "best_model = torch.load('/content/drive/MyDrive/MAGNET_TC/tc_head4.pth')\n",
        "\n",
        "dev = \"cuda\" if torch.cuda.is_available() else \"cpu\""
      ],
      "metadata": {
        "id": "yL2BdPV7tOz-"
      },
      "execution_count": null,
      "outputs": []
    },
    {
      "cell_type": "code",
      "source": [
        "while True : \n",
        "    sample_sentence = input(\"Enter the sentence : \")\n",
        "\n",
        "    sample_sentence = data_preprocessing([sample_sentence])\n",
        "    vocab_size = len(word2idx)\n",
        "    sample_sequence = text_to_sequence(sample_sentence, word2idx)\n",
        "    sample_sequence = padding(sample_sequence, maxlen)\n",
        "    inference(best_model, dev, label_embed, sample_sequence)"
      ],
      "metadata": {
        "id": "I6K9iZZ0sVRM"
      },
      "execution_count": null,
      "outputs": []
    }
  ],
  "metadata": {
    "kernelspec": {
      "display_name": "Python 3",
      "language": "python",
      "name": "python3"
    },
    "language_info": {
      "codemirror_mode": {
        "name": "ipython",
        "version": 3
      },
      "file_extension": ".py",
      "mimetype": "text/x-python",
      "name": "python",
      "nbconvert_exporter": "python",
      "pygments_lexer": "ipython3",
      "version": "3.10.11"
    },
    "orig_nbformat": 4,
    "vscode": {
      "interpreter": {
        "hash": "7a755c3486a199bb280be05c1d30ef5249180d4344c9bdb63523ed58db47fcbc"
      }
    },
    "colab": {
      "provenance": []
    },
    "accelerator": "GPU",
    "gpuClass": "standard"
  },
  "nbformat": 4,
  "nbformat_minor": 0
}