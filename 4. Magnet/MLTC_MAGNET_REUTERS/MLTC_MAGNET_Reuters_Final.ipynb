{
  "cells": [
    {
      "cell_type": "code",
      "execution_count": 1,
      "metadata": {
        "id": "WoY956zy54do",
        "colab": {
          "base_uri": "https://localhost:8080/"
        },
        "outputId": "7f0a5567-bce8-4743-eef2-3e2bbf50efcd"
      },
      "outputs": [
        {
          "output_type": "stream",
          "name": "stderr",
          "text": [
            "[nltk_data] Downloading package punkt to /root/nltk_data...\n",
            "[nltk_data]   Unzipping tokenizers/punkt.zip.\n",
            "[nltk_data] Downloading package stopwords to /root/nltk_data...\n",
            "[nltk_data]   Unzipping corpora/stopwords.zip.\n",
            "[nltk_data] Downloading package wordnet to /root/nltk_data...\n",
            "[nltk_data] Downloading package reuters to /root/nltk_data...\n"
          ]
        }
      ],
      "source": [
        "import os\n",
        "import csv\n",
        "import pandas as pd\n",
        "import numpy as np\n",
        "import matplotlib.pyplot as plt\n",
        "import seaborn as sns\n",
        "import nltk\n",
        "from nltk.corpus import stopwords\n",
        "from nltk.stem import WordNetLemmatizer\n",
        "from nltk.corpus import reuters\n",
        "nltk.download('punkt')\n",
        "nltk.download('stopwords')\n",
        "nltk.download('wordnet')\n",
        "import csv\n",
        "\n",
        "from torch.nn.utils import clip_grad_norm_\n",
        "import re\n",
        "import pickle\n",
        "import time\n",
        "from tqdm import tqdm\n",
        "from collections import Counter\n",
        "from sklearn import metrics\n",
        "from sklearn.model_selection import train_test_split\n",
        "from sklearn.metrics import classification_report, confusion_matrix, roc_curve, auc\n",
        "import nltk\n",
        "nltk.download('reuters')\n",
        "import torch\n",
        "import torch.nn as nn\n",
        "import torch.optim as optim\n",
        "from torch.utils.data import DataLoader, Dataset"
      ]
    },
    {
      "cell_type": "code",
      "execution_count": 2,
      "metadata": {
        "id": "XomKEfjN54ds",
        "colab": {
          "base_uri": "https://localhost:8080/"
        },
        "outputId": "f99ff589-82de-4a5a-b0f5-2c836a6e6a8b"
      },
      "outputs": [
        {
          "output_type": "stream",
          "name": "stdout",
          "text": [
            "Using cuda device\n"
          ]
        }
      ],
      "source": [
        "device = \"cuda\" if torch.cuda.is_available() else \"cpu\"\n",
        "print(f\"Using {device} device\")"
      ]
    },
    {
      "cell_type": "code",
      "execution_count": 3,
      "metadata": {
        "id": "A0vorcazsEy6",
        "colab": {
          "base_uri": "https://localhost:8080/"
        },
        "outputId": "beb5d08a-087a-4fe8-a08d-1c624431048f"
      },
      "outputs": [
        {
          "output_type": "stream",
          "name": "stdout",
          "text": [
            "Mounted at /content/drive\n"
          ]
        }
      ],
      "source": [
        "from google.colab import drive\n",
        "drive.mount('/content/drive')"
      ]
    },
    {
      "cell_type": "code",
      "execution_count": 4,
      "metadata": {
        "id": "Gvjjuxm554dt"
      },
      "outputs": [],
      "source": [
        "SEED = 1234\n",
        "\n",
        "np.random.seed(SEED)\n",
        "torch.manual_seed(SEED)\n",
        "torch.cuda.manual_seed(SEED)\n",
        "\n",
        "torch.backends.cudnn.deterministic = True"
      ]
    },
    {
      "cell_type": "code",
      "execution_count": 14,
      "metadata": {
        "id": "2G6Y9o9554du"
      },
      "outputs": [],
      "source": [
        "documents = reuters.fileids()\n",
        "categories = reuters.categories()\n",
        "\n",
        "train_docs = [doc for doc in documents if doc.startswith(\"training/\")]\n",
        "test_docs = [doc for doc in documents if doc.startswith(\"test/\")]"
      ]
    },
    {
      "cell_type": "code",
      "execution_count": 15,
      "metadata": {
        "id": "8bxKUZQI54dv"
      },
      "outputs": [],
      "source": [
        "train_sentences = [reuters.raw(doc_id) for doc_id in train_docs]\n",
        "train_labels = [reuters.categories(doc_id) for doc_id in train_docs]\n",
        "\n",
        "test_sentences = [reuters.raw(doc_id) for doc_id in test_docs]\n",
        "test_labels = [reuters.categories(doc_id) for doc_id in test_docs]"
      ]
    },
    {
      "cell_type": "code",
      "source": [
        "i = 373\n",
        "test_sentences[i], test_labels[i]"
      ],
      "metadata": {
        "colab": {
          "base_uri": "https://localhost:8080/"
        },
        "id": "MFoaFjN7s3ba",
        "outputId": "9c0d097c-285c-4a3f-8ec3-5fbaf81a562b"
      },
      "execution_count": 44,
      "outputs": [
        {
          "output_type": "execute_result",
          "data": {
            "text/plain": [
              "('BRAZILIAN SOY RAINFALL\\n  THE FOLLOWING RAINFALL WAS RECORDED IN\\n  THE 24 HOURS UP TO (1200) GMT TODAY\\n      PARANA STATE: CASCAVEL NIL, PONTA GROSSA NIL,CAMPO MOURAO\\n  NIL, LONDRINA NIL, MARINGA NIL.\\n      RIO GRANDO DO SUL STATE: PASSO FUNDO NIL, SANTA MARIA 7.0\\n  MILLIMETRES, CRUZ ALTA 8.5 MM, SAO LUIZ GONZAGA 4.4 MM. REUTER\\n  \\n\\n',\n",
              " ['oilseed', 'soybean'])"
            ]
          },
          "metadata": {},
          "execution_count": 44
        }
      ]
    },
    {
      "cell_type": "code",
      "execution_count": null,
      "metadata": {
        "id": "P4Og4aoV54dv"
      },
      "outputs": [],
      "source": [
        "train_sentences, val_sentences, train_labels, val_labels = train_test_split(train_sentences, train_labels, test_size = 0.2, random_state = 42)"
      ]
    },
    {
      "cell_type": "code",
      "execution_count": null,
      "metadata": {
        "id": "drLbHJDI54dv"
      },
      "outputs": [],
      "source": [
        "def convert_to_labels(data_categories, unique_labels):\n",
        "    binary_vectors = []\n",
        "    for categories in data_categories:\n",
        "        binary_vector = np.zeros(len(unique_labels), dtype=int)\n",
        "        for category in categories:\n",
        "            binary_vector[np.where(unique_labels == category)] = 1\n",
        "        binary_vectors.append(binary_vector)\n",
        "\n",
        "    binary_vectors = np.array(binary_vectors)\n",
        "    return binary_vectors"
      ]
    },
    {
      "cell_type": "code",
      "execution_count": null,
      "metadata": {
        "id": "HKjqbmGA54dw"
      },
      "outputs": [],
      "source": [
        "unique_labels = np.concatenate(train_labels)\n",
        "unique_labels = np.unique(unique_labels)"
      ]
    },
    {
      "cell_type": "code",
      "execution_count": null,
      "metadata": {
        "colab": {
          "base_uri": "https://localhost:8080/"
        },
        "id": "4KzcwLMaw9v7",
        "outputId": "be9f9e6f-a477-4dc3-83d4-88deb5e468af"
      },
      "outputs": [
        {
          "output_type": "execute_result",
          "data": {
            "text/plain": [
              "(90,)"
            ]
          },
          "metadata": {},
          "execution_count": 10
        }
      ],
      "source": [
        "unique_labels.shape"
      ]
    },
    {
      "cell_type": "code",
      "execution_count": null,
      "metadata": {
        "id": "OlAtLfqd54dw"
      },
      "outputs": [],
      "source": [
        "train_labels = convert_to_labels(train_labels, unique_labels)\n",
        "val_labels = convert_to_labels(val_labels, unique_labels)\n",
        "test_labels = convert_to_labels(test_labels, unique_labels)"
      ]
    },
    {
      "cell_type": "code",
      "execution_count": null,
      "metadata": {
        "colab": {
          "base_uri": "https://localhost:8080/",
          "height": 648
        },
        "id": "a-iOoWMj54dx",
        "outputId": "40d8651f-8c67-46d1-d029-94f681364ab9"
      },
      "outputs": [
        {
          "output_type": "display_data",
          "data": {
            "text/plain": [
              "<Figure size 1600x900 with 1 Axes>"
            ],
            "image/png": "[encoded data removed]"
          },
          "metadata": {}
        }
      ],
      "source": [
        "labels_count = [0] * 90\n",
        "\n",
        "for label in train_labels:\n",
        "    for i in range(len(label)):\n",
        "        if label[i] == 1:\n",
        "            labels_count[i] += 1\n",
        "\n",
        "fig, ax = plt.subplots(figsize=(16, 9))\n",
        "ax.bar(unique_labels, labels_count)\n",
        "ax.tick_params(axis='x', labelrotation=90)\n",
        "plt.show()"
      ]
    },
    {
      "cell_type": "code",
      "execution_count": 46,
      "metadata": {
        "id": "2bmqWxN754dx"
      },
      "outputs": [],
      "source": [
        "def data_preprocessing(sentences):\n",
        "\n",
        "    tokenized_sentences = []\n",
        "    for sentence in sentences:\n",
        "        sentence = sentence.lower()\n",
        "        cleanr = re.compile('<.*?>')\n",
        "        sentence = re.sub(cleanr, ' ', sentence)\n",
        "\n",
        "        sentence = re.sub(r'[?|!|\\'|\"|#]',r'',sentence)\n",
        "        sentence = re.sub(r'[.|,|)|(|\\|/]',r' ',sentence)\n",
        "        sentence = sentence.strip()\n",
        "        sentence = sentence.replace(\"\\n\",\" \")\n",
        "        sentence = re.sub(r'[^A-Za-z ]', '', sentence)\n",
        "        sentence = re.sub('\\s+', ' ', sentence)\n",
        "\n",
        "        tokenized_sentences.append(nltk.word_tokenize(sentence))\n",
        "\n",
        "    stop_words = set(stopwords.words('english'))\n",
        "\n",
        "    removed_stop_words = []\n",
        "    for sentence in tokenized_sentences:\n",
        "        curr_sentence = []\n",
        "        for token in sentence:\n",
        "            if not token in stop_words:\n",
        "                curr_sentence.append(token)\n",
        "        \n",
        "        removed_stop_words.append(curr_sentence)\n",
        "\n",
        "    lemmatizer = WordNetLemmatizer()\n",
        "\n",
        "    lemmatized_sentence = []\n",
        "    for sentence in removed_stop_words:\n",
        "        curr_sentence = []\n",
        "        for token in sentence:\n",
        "            curr_sentence.append(lemmatizer.lemmatize(token))\n",
        "\n",
        "        lemmatized_sentence.append(curr_sentence)\n",
        "\n",
        "    return lemmatized_sentence"
      ]
    },
    {
      "cell_type": "code",
      "execution_count": 6,
      "metadata": {
        "id": "5v38pkOJ54dy"
      },
      "outputs": [],
      "source": [
        "def vocab_builder(sentences):\n",
        "    # Word dictionary\n",
        "    word_vocab = {}\n",
        "    unique_id = 1\n",
        "    for sentence in sentences:\n",
        "        for word in sentence:\n",
        "            if word not in word_vocab:\n",
        "                word_vocab[word] = unique_id\n",
        "                unique_id += 1\n",
        "\n",
        "    word_vocab['<PAD>'] = 0\n",
        "    word_vocab['<OOV>'] = unique_id\n",
        "\n",
        "    return word_vocab"
      ]
    },
    {
      "cell_type": "code",
      "execution_count": 47,
      "metadata": {
        "id": "nemlcRzE54dy"
      },
      "outputs": [],
      "source": [
        "def text_to_sequence(sentences, word_vocab):\n",
        "\n",
        "    text_sequence = []\n",
        "    for sentence in sentences:\n",
        "        curr_sequence = []\n",
        "        for word in sentence:\n",
        "            if word in word_vocab:\n",
        "                curr_sequence.append(word_vocab[word])\n",
        "            else:\n",
        "                curr_sequence.append(word_vocab['<OOV>'])\n",
        "        text_sequence.append(curr_sequence)\n",
        "\n",
        "    return text_sequence\n",
        "\n",
        "def pad_sequences(seq, maxlen):\n",
        "    padded_seq = []\n",
        "    if len(seq) < maxlen:\n",
        "        padding_seq = [0] * (maxlen - len(seq))\n",
        "        padded_seq = padding_seq + seq\n",
        "    else:\n",
        "        padded_seq = seq\n",
        "        \n",
        "    return padded_seq\n",
        "\n",
        "\n",
        "def padding(sequence, max_length):\n",
        "    new_sequence = []\n",
        "    for i in range(len(sequence)):\n",
        "        if len(sequence[i]) <= max_length:\n",
        "            new_sequence.append(sequence[i])\n",
        "        else:\n",
        "            new_sequence.append(sequence[i][:max_length])\n",
        "            \n",
        "\n",
        "    sequence = new_sequence\n",
        "\n",
        "    X = []\n",
        "    for seq in sequence:\n",
        "        X.append(pad_sequences(seq, maxlen = max_length))\n",
        "\n",
        "    return X"
      ]
    },
    {
      "cell_type": "code",
      "execution_count": null,
      "metadata": {
        "id": "ri24sbVt54dz"
      },
      "outputs": [],
      "source": [
        "max_length = 200"
      ]
    },
    {
      "cell_type": "code",
      "execution_count": null,
      "metadata": {
        "colab": {
          "base_uri": "https://localhost:8080/"
        },
        "id": "U_vl-3U754dz",
        "outputId": "6b916c46-bb53-4c0c-cf7d-380cdaae4019"
      },
      "outputs": [
        {
          "output_type": "stream",
          "name": "stderr",
          "text": [
            "Tokenize: 100%|██████████| 6215/6215 [00:06<00:00, 989.11it/s] \n",
            "Stop_word_removal: 100%|██████████| 6215/6215 [00:00<00:00, 14555.39it/s]\n",
            "Lemmatization: 100%|██████████| 6215/6215 [00:03<00:00, 1605.40it/s]\n",
            "Padding: 100%|██████████| 6215/6215 [00:00<00:00, 151758.74it/s]\n"
          ]
        }
      ],
      "source": [
        "# Train data\n",
        "train_sentences = data_preprocessing(train_sentences)\n",
        "word_vocab = vocab_builder(train_sentences)\n",
        "vocab_size = len(word_vocab)\n",
        "train_sequence = text_to_sequence(train_sentences, word_vocab)\n",
        "train_sequence = padding(train_sequence, max_length)\n",
        "\n",
        "X_train = np.array(train_sequence)\n",
        "y_train = np.array(train_labels)"
      ]
    },
    {
      "cell_type": "code",
      "execution_count": null,
      "metadata": {
        "colab": {
          "base_uri": "https://localhost:8080/"
        },
        "id": "cOkCFDa254d0",
        "outputId": "b9c20cb5-9437-4734-a234-e461d8640ad3"
      },
      "outputs": [
        {
          "output_type": "stream",
          "name": "stderr",
          "text": [
            "Tokenize: 100%|██████████| 1554/1554 [00:01<00:00, 1351.38it/s]\n",
            "Stop_word_removal: 100%|██████████| 1554/1554 [00:00<00:00, 21652.44it/s]\n",
            "Lemmatization: 100%|██████████| 1554/1554 [00:00<00:00, 1640.43it/s]\n",
            "Padding: 100%|██████████| 1554/1554 [00:00<00:00, 149576.57it/s]\n"
          ]
        }
      ],
      "source": [
        "# Val data\n",
        "val_sentences = data_preprocessing(val_sentences)\n",
        "val_sequence = text_to_sequence(val_sentences, word_vocab)\n",
        "val_sequence = padding(val_sequence, max_length)\n",
        "\n",
        "X_val = np.array(val_sequence)\n",
        "y_val = np.array(val_labels)"
      ]
    },
    {
      "cell_type": "code",
      "execution_count": null,
      "metadata": {
        "colab": {
          "base_uri": "https://localhost:8080/"
        },
        "id": "m9SpYIHI54d1",
        "outputId": "6bdd3ede-e901-482a-b90d-8d5361fd8b53"
      },
      "outputs": [
        {
          "output_type": "stream",
          "name": "stderr",
          "text": [
            "Tokenize: 100%|██████████| 3019/3019 [00:02<00:00, 1051.04it/s]\n",
            "Stop_word_removal: 100%|██████████| 3019/3019 [00:00<00:00, 55226.72it/s]\n",
            "Lemmatization: 100%|██████████| 3019/3019 [00:00<00:00, 3264.02it/s]\n",
            "Padding: 100%|██████████| 3019/3019 [00:00<00:00, 103280.51it/s]\n"
          ]
        }
      ],
      "source": [
        "# Test data\n",
        "test_sentences = data_preprocessing(test_sentences)\n",
        "test_sequence = text_to_sequence(test_sentences, word_vocab)\n",
        "test_sequence = padding(test_sequence, max_length)\n",
        "\n",
        "X_test = np.array(test_sequence)\n",
        "y_test = np.array(test_labels)"
      ]
    },
    {
      "cell_type": "code",
      "execution_count": null,
      "metadata": {
        "colab": {
          "base_uri": "https://localhost:8080/"
        },
        "id": "7VjfjP6l54d1",
        "outputId": "19a7f051-9297-47d8-e941-9ba84bece936"
      },
      "outputs": [
        {
          "output_type": "stream",
          "name": "stdout",
          "text": [
            "(6215, 200) (6215, 90)\n",
            "(1554, 200) (1554, 90)\n",
            "(3019, 200) (3019, 90)\n"
          ]
        }
      ],
      "source": [
        "print(X_train.shape, y_train.shape)\n",
        "print(X_val.shape, y_val.shape)\n",
        "print(X_test.shape, y_test.shape)"
      ]
    },
    {
      "cell_type": "code",
      "execution_count": null,
      "metadata": {
        "colab": {
          "base_uri": "https://localhost:8080/"
        },
        "id": "rtkpnt3J54d2",
        "outputId": "1fa1c1d4-2bf1-4f9b-d9d5-0fe4c6be8e2b"
      },
      "outputs": [
        {
          "output_type": "stream",
          "name": "stdout",
          "text": [
            "23423 200\n"
          ]
        }
      ],
      "source": [
        "print(vocab_size, max_length)"
      ]
    },
    {
      "cell_type": "code",
      "execution_count": null,
      "metadata": {
        "id": "YAz99W0354d2"
      },
      "outputs": [],
      "source": [
        "# save word2idx, maxlength\n",
        "with open('/content/drive/MyDrive/MLTC_MAGNET_REUTERS/word2idx.pkl', 'wb') as f:\n",
        "    pickle.dump(word_vocab, f)\n",
        "\n",
        "with open('/content/drive/MyDrive/MLTC_MAGNET_REUTERS/maxlength.pkl', 'wb') as f:\n",
        "    pickle.dump(max_length, f)"
      ]
    },
    {
      "cell_type": "code",
      "execution_count": null,
      "metadata": {
        "id": "6zwtyk5i54d2"
      },
      "outputs": [],
      "source": [
        "class CustomDataset(Dataset):\n",
        "    def __init__(self, sequence, labels):\n",
        "        self.sequence = sequence\n",
        "        self.labels = labels\n",
        "\n",
        "    def __len__(self):\n",
        "        return len(self.sequence)\n",
        "\n",
        "    def __getitem__(self, idx):\n",
        "        sequence_in = torch.tensor(self.sequence[idx])\n",
        "        output_label = torch.tensor(self.labels[idx]).float()\n",
        "        return sequence_in, output_label"
      ]
    },
    {
      "cell_type": "code",
      "execution_count": null,
      "metadata": {
        "id": "RBs3Guep54d2"
      },
      "outputs": [],
      "source": [
        "batch_size = 64\n",
        "\n",
        "dataset_train = CustomDataset(X_train, y_train)\n",
        "dataloader_train = DataLoader(dataset_train, batch_size=batch_size, shuffle=True)\n",
        "\n",
        "dataset_val = CustomDataset(X_val, y_val)\n",
        "dataloader_val = DataLoader(dataset_val, batch_size=batch_size, shuffle=True)\n",
        "\n",
        "dataset_test = CustomDataset(X_test, y_test)\n",
        "dataloader_test = DataLoader(dataset_test, batch_size=batch_size, shuffle=True)"
      ]
    },
    {
      "cell_type": "code",
      "execution_count": null,
      "metadata": {
        "id": "sa4fpEyA54d3"
      },
      "outputs": [],
      "source": [
        "def load_embeddings(embeddings_file):\n",
        "    embeddings_index = {}\n",
        "    with open(embeddings_file, encoding='utf-8') as f:\n",
        "        for line in f:\n",
        "            values = line.split()\n",
        "            word = values[0]\n",
        "            coefs = np.asarray(values[1:], dtype='float32')\n",
        "            embeddings_index[word] = coefs\n",
        "    return embeddings_index\n",
        "\n",
        "embeddings_file = '/content/drive/MyDrive/glove.6B.300d.txt'\n",
        "embeddings_index = load_embeddings(embeddings_file)"
      ]
    },
    {
      "cell_type": "code",
      "execution_count": null,
      "metadata": {
        "colab": {
          "base_uri": "https://localhost:8080/"
        },
        "id": "l8-nELK554d3",
        "outputId": "087933ea-3ebd-4de5-c356-c504ce374fcf"
      },
      "outputs": [
        {
          "output_type": "stream",
          "name": "stderr",
          "text": [
            "<ipython-input-52-391f232f457b>:9: UserWarning: Creating a tensor from a list of numpy.ndarrays is extremely slow. Please consider converting the list to a single numpy.ndarray with numpy.array() before converting to a tensor. (Triggered internally at ../torch/csrc/utils/tensor_new.cpp:245.)\n",
            "  pretrained_embeddings = torch.Tensor(pretrained_embeddings)\n"
          ]
        }
      ],
      "source": [
        "embeddings_dim = 300\n",
        "pretrained_embeddings = []\n",
        "for word in word_vocab:\n",
        "    if word in embeddings_index:\n",
        "        pretrained_embeddings.append(embeddings_index.get(word))\n",
        "    else:\n",
        "        pretrained_embeddings.append([0] * embeddings_dim)\n",
        "\n",
        "pretrained_embeddings = torch.Tensor(pretrained_embeddings)"
      ]
    },
    {
      "cell_type": "code",
      "execution_count": 8,
      "metadata": {
        "id": "3nSLcpSh54d3"
      },
      "outputs": [],
      "source": [
        "class GraphAttentionLayer(nn.Module):\n",
        "    def __init__(self, in_features, out_features, slope):\n",
        "        super(GraphAttentionLayer, self).__init__()\n",
        "        self.W = nn.Linear(in_features, out_features, bias=False)\n",
        "        self.a = nn.Linear(out_features * 2, 1, bias=False)\n",
        "        self.leakyrelu = nn.LeakyReLU(slope)\n",
        "        self.softmax = nn.Softmax(dim=1)\n",
        "\n",
        "    def forward(self, h, adj):\n",
        "        Wh = self.W(h)\n",
        "        num_nodes = Wh.size(0)\n",
        "        Whi = Wh.repeat_interleave(num_nodes, dim=0)\n",
        "        Whj = Wh.repeat(num_nodes, 1)\n",
        "        WhiWhj = torch.cat([Whi, Whj], dim=1)\n",
        "        Whcat = WhiWhj.view(num_nodes, num_nodes, Wh.size(1) * 2)\n",
        "        e = self.leakyrelu(self.a(Whcat).squeeze(2))\n",
        "        zero_vec = -9e15 * torch.ones_like(e)\n",
        "        attention = torch.where(adj > 0, e, zero_vec)\n",
        "        attention = self.softmax(attention)\n",
        "        h_hat = torch.mm(attention, Wh)\n",
        "        return h_hat\n",
        "\n",
        "\n",
        "class MAGNET(nn.Module):\n",
        "    def __init__(\n",
        "        self,\n",
        "        input_size,\n",
        "        hidden_size,\n",
        "        adjacency_matrix,\n",
        "        node_embeddings,\n",
        "        num_heads=4,\n",
        "        slope=0.01,\n",
        "        dropout=0.3,\n",
        "    ):\n",
        "\n",
        "        super(MAGNET, self).__init__()\n",
        "\n",
        "        self.node_embedding = nn.Embedding.from_pretrained(node_embeddings)\n",
        "\n",
        "        self.rnn = nn.LSTM(\n",
        "            input_size, hidden_size, batch_first=True, bidirectional=True\n",
        "        )\n",
        "\n",
        "        self.attentions1 = nn.ModuleList(\n",
        "            [\n",
        "                GraphAttentionLayer(input_size, hidden_size * 2, slope)\n",
        "                for _ in range(num_heads)\n",
        "            ]\n",
        "        )\n",
        "\n",
        "        self.tanh1 = nn.Tanh()\n",
        "\n",
        "        self.attentions2 = nn.ModuleList(\n",
        "            [\n",
        "                GraphAttentionLayer(hidden_size * 2, hidden_size * 2, slope)\n",
        "                for _ in range(num_heads)\n",
        "            ]\n",
        "        )\n",
        "\n",
        "        self.tanh2 = nn.Tanh()\n",
        "\n",
        "        self.adjacency_matrix = nn.Parameter(adjacency_matrix)\n",
        "\n",
        "        self.dropout = nn.Dropout(dropout)\n",
        "\n",
        "    def forward(self, tokens, label_embedding):\n",
        "\n",
        "        node_features = self.node_embedding(tokens).float()\n",
        "\n",
        "        lstm_output, (hidden, _) = self.rnn(node_features)\n",
        "\n",
        "        hidden_state = torch.cat([hidden[-2, :, :], hidden[-1, :, :]], dim=1)\n",
        "\n",
        "        hidden_state = self.dropout(hidden_state)\n",
        "\n",
        "        heads_out1 = [\n",
        "            att(label_embedding, self.adjacency_matrix) for att in self.attentions1\n",
        "        ]\n",
        "\n",
        "        head_out1_mean = self.tanh1(torch.stack(heads_out1, dim=0).mean(0))\n",
        "\n",
        "        heads_out2 = [\n",
        "            att(head_out1_mean, self.adjacency_matrix) for att in self.attentions2\n",
        "        ]\n",
        "\n",
        "        head_out2_mean = self.tanh2(torch.stack(heads_out2, dim=0).mean(0))\n",
        "\n",
        "        attention = self.dropout(head_out2_mean)\n",
        "\n",
        "        attention = attention.transpose(0, 1)\n",
        "\n",
        "        output = torch.mm(hidden_state, attention)\n",
        "\n",
        "        return output"
      ]
    },
    {
      "cell_type": "code",
      "execution_count": null,
      "metadata": {
        "id": "ni6rSUO854d4"
      },
      "outputs": [],
      "source": [
        "def train_model(model, label_embedding, loss_function, optimizer, epochs, device, model_path):\n",
        "\n",
        "    train_loss, val_loss = [], []\n",
        "    total_time = 0\n",
        "    min_average_loss = float('inf')\n",
        "    \n",
        "    for epoch in range(epochs):\n",
        "        start_time = time.time()\n",
        "\n",
        "        print(\"Epoch : \", epoch + 1)\n",
        "\n",
        "        model.to(device)\n",
        "        model.train()\n",
        "        total_train_loss = 0\n",
        "        y_true_train, y_pred_train = [], []\n",
        "        for batch in tqdm(dataloader_train, desc='Training'):\n",
        "            sequence_in, output_label = batch\n",
        "            sequence_in, output_label = sequence_in.to(device), output_label.to(device)\n",
        "\n",
        "            model.zero_grad()\n",
        "            pred_batch = model(sequence_in, label_embedding)\n",
        "            loss = loss_function(pred_batch, output_label)\n",
        "            total_train_loss += loss.item()\n",
        "\n",
        "            y_true_train.extend(output_label.cpu().detach().numpy().tolist())\n",
        "            y_pred_train.extend(torch.sigmoid(pred_batch.cpu().detach()).numpy().tolist())\n",
        "\n",
        "            loss.backward()\n",
        "            \n",
        "            clip_grad_norm_(model.parameters(), max_norm=10)\n",
        "            optimizer.step()\n",
        "        \n",
        "\n",
        "        model.eval()        \n",
        "        total_val_loss = 0\n",
        "        y_true_val, y_pred_val = [], []\n",
        "        with torch.no_grad():\n",
        "            for batch in tqdm(dataloader_val, desc='Evaluate'):\n",
        "                sequence_in, output_label = batch\n",
        "                sequence_in, output_label = sequence_in.to(device), output_label.to(device)\n",
        "\n",
        "                pred_batch = model(sequence_in, label_embedding)\n",
        "                loss = loss_function(pred_batch, output_label)\n",
        "                total_val_loss += loss.item()\n",
        "\n",
        "                y_true_val.extend(output_label.cpu().detach().numpy().tolist())\n",
        "                y_pred_val.extend(torch.sigmoid(pred_batch.cpu().detach()).numpy().tolist())\n",
        "\n",
        "        y_true_train = np.array(y_true_train)\n",
        "        y_pred_train = np.array(y_pred_train)\n",
        "        y_true_val = np.array(y_true_val)\n",
        "        y_pred_val = np.array(y_pred_val)\n",
        "\n",
        "        y_pred_train = y_pred_train >= 0.5\n",
        "        y_pred_val = y_pred_val >= 0.5\n",
        "\n",
        "        train_f1_score_micro = metrics.f1_score(y_true_train, y_pred_train, average='micro')\n",
        "        val_f1_score_micro = metrics.f1_score(y_true_val, y_pred_val, average='micro')\n",
        "\n",
        "        average_train_loss = float(total_train_loss / len(dataloader_train))\n",
        "        average_val_loss = float(total_val_loss / len(dataloader_val))\n",
        "\n",
        "        print('Train F1 Score (Micro)', train_f1_score_micro)\n",
        "        print('Val F1 Score (Micro)', val_f1_score_micro)\n",
        "        print('Train loss', average_train_loss)\n",
        "        print('Val loss', average_val_loss)\n",
        "\n",
        "        train_loss.append(average_train_loss)\n",
        "        val_loss.append(average_val_loss)\n",
        "\n",
        "        if average_val_loss < min_average_loss:\n",
        "            min_average_loss = average_val_loss\n",
        "            torch.save(model, \"/content/drive/MyDrive/MLTC_MAGNET_REUTERS/\" + model_path)\n",
        "            print(\"Best model saved\")\n",
        "            \n",
        "        print(\"------------------------------------------------\")\n",
        "\n",
        "        end_time = time.time()\n",
        "        epoch_time = end_time - start_time\n",
        "        total_time += epoch_time\n",
        "\n",
        "    avg_epoch_time = total_time / epochs\n",
        "    return train_loss, val_loss, avg_epoch_time"
      ]
    },
    {
      "cell_type": "code",
      "execution_count": null,
      "metadata": {
        "id": "zAZiohgM7bYm"
      },
      "outputs": [],
      "source": [
        "def buildAdjacencyCOOC(data_label):\n",
        "  adj = data_label.T.dot(data_label).astype('float')\n",
        "  \n",
        "  for i in range(len(adj)):\n",
        "    adj[i] = adj[i] / adj[i,i]\n",
        "  \n",
        "  return torch.from_numpy(adj.astype('float32'))"
      ]
    },
    {
      "cell_type": "code",
      "execution_count": null,
      "metadata": {
        "id": "CUVPHPkz7kTx"
      },
      "outputs": [],
      "source": [
        "adjacency = buildAdjacencyCOOC(y_train)"
      ]
    },
    {
      "cell_type": "code",
      "execution_count": null,
      "metadata": {
        "colab": {
          "base_uri": "https://localhost:8080/"
        },
        "id": "n9xTU5-q7soF",
        "outputId": "7863384d-575b-4e3f-c0e3-e4a12cbac258"
      },
      "outputs": [
        {
          "output_type": "stream",
          "name": "stdout",
          "text": [
            "tensor([[ 0.1796, -0.1051, -0.5564,  ..., -0.0633,  0.3732, -0.2873],\n",
            "        [ 0.1101,  0.4061,  0.2036,  ..., -0.1957, -0.4627,  0.6931],\n",
            "        [-0.3568, -0.1348,  0.0790,  ..., -0.0384,  0.2948,  0.1996],\n",
            "        ...,\n",
            "        [-0.1446,  0.0594, -0.1450,  ..., -0.0334,  0.1966,  0.4136],\n",
            "        [-0.5990, -0.3234, -0.2749,  ...,  0.6343,  0.5300,  0.0299],\n",
            "        [-0.4541, -0.1300, -0.5178,  ..., -1.1637, -0.2056, -0.3177]],\n",
            "       device='cuda:0') torch.Size([90, 300])\n"
          ]
        }
      ],
      "source": [
        "label_embedding = torch.zeros(90, 300)\n",
        "\n",
        "defined_labels = ['acq', 'alum', 'barley', 'bop', 'carcass', 'castor-oil', 'cocoa',\n",
        "       'coconut', 'coconut-oil', 'coffee', 'copper', 'copra-cake', 'corn',\n",
        "       'cotton', 'cotton-oil', 'cpi', 'cpu', 'crude', 'dfl', 'dlr', 'dmk',\n",
        "       'earn', 'fuel', 'gas', 'gnp', 'gold', 'grain', 'groundnut',\n",
        "       'groundnut-oil', 'heat', 'hog', 'housing', 'income', 'instal-debt',\n",
        "       'interest', 'ipi', 'iron-steel', 'jet', 'jobs', 'l-cattle', 'lead',\n",
        "       'lei', 'lin-oil', 'livestock', 'lumber', 'meal-feed', 'money-fx',\n",
        "       'money-supply', 'naphtha', 'nat-gas', 'nickel', 'nkr', 'nz-dlr',\n",
        "       'oat', 'oilseed', 'orange', 'palladium', 'palm-oil', 'palm-kernel',\n",
        "       'pet-chem', 'platinum', 'potato', 'propane', 'rand', 'rape-oil',\n",
        "       'rapeseed', 'reserves', 'retail', 'rice', 'rubber', 'rye', 'ship',\n",
        "       'silver', 'sorghum', 'soy-meal', 'soy-oil', 'soybean',\n",
        "       'strategic-metal', 'sugar', 'sun-meal', 'sun-oil', 'sun-seed',\n",
        "       'tea', 'tin', 'trade', 'veg-oil', 'wheat', 'wpi', 'yen', 'zinc']\n",
        "\n",
        "for index, label in enumerate(defined_labels):\n",
        "  words = label.split('-')\n",
        "  num_of_words = len(words)\n",
        "  \n",
        "  for sublabel in words:\n",
        "    if sublabel in embeddings_index.keys():\n",
        "      label_embedding[index] +=  torch.from_numpy(embeddings_index[sublabel])\n",
        "  label_embedding[index] = label_embedding[index]/num_of_words\n",
        "\n",
        "label_embedding = label_embedding.float().to(device)\n",
        "print(label_embedding, label_embedding.shape)"
      ]
    },
    {
      "cell_type": "code",
      "execution_count": null,
      "metadata": {
        "id": "frf2lM-9uT-2"
      },
      "outputs": [],
      "source": [
        "with open('/content/drive/MyDrive/MLTC_MAGNET_REUTERS/label_embedding.pkl', 'wb') as f:\n",
        "    pickle.dump(label_embedding, f)"
      ]
    },
    {
      "cell_type": "code",
      "execution_count": null,
      "metadata": {
        "id": "vYqod93PH2nM"
      },
      "outputs": [],
      "source": [
        "for word in label_embedding : \n",
        "    if(word[0] == 0) :\n",
        "        print(\"Zero Labelling Check\")"
      ]
    },
    {
      "cell_type": "code",
      "execution_count": null,
      "metadata": {
        "colab": {
          "base_uri": "https://localhost:8080/"
        },
        "id": "jZeJOOYX54d3",
        "outputId": "91e83203-5035-4d4c-d49c-d61303afc548"
      },
      "outputs": [
        {
          "output_type": "stream",
          "name": "stdout",
          "text": [
            "Epoch :  1\n"
          ]
        },
        {
          "output_type": "stream",
          "name": "stderr",
          "text": [
            "Training: 100%|██████████| 98/98 [00:05<00:00, 17.58it/s]\n",
            "Evaluate: 100%|██████████| 25/25 [00:00<00:00, 50.23it/s]\n"
          ]
        },
        {
          "output_type": "stream",
          "name": "stdout",
          "text": [
            "Train F1 Score (Micro) 0.04579698651863599\n",
            "Val F1 Score (Micro) 0.30873049346267395\n",
            "Train loss 0.08141147459343988\n",
            "Val loss 0.05005224615335464\n",
            "Best model saved\n",
            "------------------------------------------------\n",
            "Epoch :  2\n"
          ]
        },
        {
          "output_type": "stream",
          "name": "stderr",
          "text": [
            "Training: 100%|██████████| 98/98 [00:04<00:00, 21.52it/s]\n",
            "Evaluate: 100%|██████████| 25/25 [00:00<00:00, 48.66it/s]\n"
          ]
        },
        {
          "output_type": "stream",
          "name": "stdout",
          "text": [
            "Train F1 Score (Micro) 0.34479155783094767\n",
            "Val F1 Score (Micro) 0.39150354019158684\n",
            "Train loss 0.04576141396727489\n",
            "Val loss 0.04226580888032913\n",
            "Best model saved\n",
            "------------------------------------------------\n",
            "Epoch :  3\n"
          ]
        },
        {
          "output_type": "stream",
          "name": "stderr",
          "text": [
            "Training: 100%|██████████| 98/98 [00:04<00:00, 21.94it/s]\n",
            "Evaluate: 100%|██████████| 25/25 [00:00<00:00, 51.77it/s]\n"
          ]
        },
        {
          "output_type": "stream",
          "name": "stdout",
          "text": [
            "Train F1 Score (Micro) 0.4029194161167767\n",
            "Val F1 Score (Micro) 0.39188069594034797\n",
            "Train loss 0.04032526444643736\n",
            "Val loss 0.038788714036345484\n",
            "Best model saved\n",
            "------------------------------------------------\n",
            "Epoch :  4\n"
          ]
        },
        {
          "output_type": "stream",
          "name": "stderr",
          "text": [
            "Training: 100%|██████████| 98/98 [00:04<00:00, 21.86it/s]\n",
            "Evaluate: 100%|██████████| 25/25 [00:00<00:00, 48.14it/s]\n"
          ]
        },
        {
          "output_type": "stream",
          "name": "stdout",
          "text": [
            "Train F1 Score (Micro) 0.48850262538475464\n",
            "Val F1 Score (Micro) 0.5661811272957568\n",
            "Train loss 0.03590980396434969\n",
            "Val loss 0.03639157734811306\n",
            "Best model saved\n",
            "------------------------------------------------\n",
            "Epoch :  5\n"
          ]
        },
        {
          "output_type": "stream",
          "name": "stderr",
          "text": [
            "Training: 100%|██████████| 98/98 [00:04<00:00, 21.41it/s]\n",
            "Evaluate: 100%|██████████| 25/25 [00:00<00:00, 52.62it/s]\n"
          ]
        },
        {
          "output_type": "stream",
          "name": "stdout",
          "text": [
            "Train F1 Score (Micro) 0.548841979318007\n",
            "Val F1 Score (Micro) 0.5566130620282246\n",
            "Train loss 0.034036317802205375\n",
            "Val loss 0.03451202042400837\n",
            "Best model saved\n",
            "------------------------------------------------\n",
            "Epoch :  6\n"
          ]
        },
        {
          "output_type": "stream",
          "name": "stderr",
          "text": [
            "Training: 100%|██████████| 98/98 [00:04<00:00, 21.78it/s]\n",
            "Evaluate: 100%|██████████| 25/25 [00:00<00:00, 51.71it/s]\n"
          ]
        },
        {
          "output_type": "stream",
          "name": "stdout",
          "text": [
            "Train F1 Score (Micro) 0.5827222924568057\n",
            "Val F1 Score (Micro) 0.6125636672325976\n",
            "Train loss 0.030980446661005214\n",
            "Val loss 0.029470517002046108\n",
            "Best model saved\n",
            "------------------------------------------------\n",
            "Epoch :  7\n"
          ]
        },
        {
          "output_type": "stream",
          "name": "stderr",
          "text": [
            "Training: 100%|██████████| 98/98 [00:04<00:00, 21.02it/s]\n",
            "Evaluate: 100%|██████████| 25/25 [00:00<00:00, 30.03it/s]\n"
          ]
        },
        {
          "output_type": "stream",
          "name": "stdout",
          "text": [
            "Train F1 Score (Micro) 0.6146486308149126\n",
            "Val F1 Score (Micro) 0.6067104808024905\n",
            "Train loss 0.029289874742377778\n",
            "Val loss 0.02989920012652874\n",
            "------------------------------------------------\n",
            "Epoch :  8\n"
          ]
        },
        {
          "output_type": "stream",
          "name": "stderr",
          "text": [
            "Training: 100%|██████████| 98/98 [00:04<00:00, 21.24it/s]\n",
            "Evaluate: 100%|██████████| 25/25 [00:00<00:00, 52.43it/s]\n"
          ]
        },
        {
          "output_type": "stream",
          "name": "stdout",
          "text": [
            "Train F1 Score (Micro) 0.6475310143517391\n",
            "Val F1 Score (Micro) 0.6412263535551206\n",
            "Train loss 0.027445216853247613\n",
            "Val loss 0.030327790156006812\n",
            "------------------------------------------------\n",
            "Epoch :  9\n"
          ]
        },
        {
          "output_type": "stream",
          "name": "stderr",
          "text": [
            "Training: 100%|██████████| 98/98 [00:04<00:00, 21.17it/s]\n",
            "Evaluate: 100%|██████████| 25/25 [00:00<00:00, 47.42it/s]\n"
          ]
        },
        {
          "output_type": "stream",
          "name": "stdout",
          "text": [
            "Train F1 Score (Micro) 0.625425101214575\n",
            "Val F1 Score (Micro) 0.6267826086956522\n",
            "Train loss 0.02808466069020179\n",
            "Val loss 0.0290288295596838\n",
            "Best model saved\n",
            "------------------------------------------------\n",
            "Epoch :  10\n"
          ]
        },
        {
          "output_type": "stream",
          "name": "stderr",
          "text": [
            "Training: 100%|██████████| 98/98 [00:04<00:00, 20.79it/s]\n",
            "Evaluate: 100%|██████████| 25/25 [00:00<00:00, 52.26it/s]\n"
          ]
        },
        {
          "output_type": "stream",
          "name": "stdout",
          "text": [
            "Train F1 Score (Micro) 0.6705358562569567\n",
            "Val F1 Score (Micro) 0.6802418071905822\n",
            "Train loss 0.02539785491416649\n",
            "Val loss 0.026033901013433933\n",
            "Best model saved\n",
            "------------------------------------------------\n",
            "Epoch :  11\n"
          ]
        },
        {
          "output_type": "stream",
          "name": "stderr",
          "text": [
            "Training: 100%|██████████| 98/98 [00:04<00:00, 21.08it/s]\n",
            "Evaluate: 100%|██████████| 25/25 [00:00<00:00, 51.07it/s]\n"
          ]
        },
        {
          "output_type": "stream",
          "name": "stdout",
          "text": [
            "Train F1 Score (Micro) 0.6918131825575091\n",
            "Val F1 Score (Micro) 0.6355785837651122\n",
            "Train loss 0.023869422216880685\n",
            "Val loss 0.027735757604241372\n",
            "------------------------------------------------\n",
            "Epoch :  12\n"
          ]
        },
        {
          "output_type": "stream",
          "name": "stderr",
          "text": [
            "Training: 100%|██████████| 98/98 [00:04<00:00, 20.08it/s]\n",
            "Evaluate: 100%|██████████| 25/25 [00:00<00:00, 47.39it/s]\n"
          ]
        },
        {
          "output_type": "stream",
          "name": "stdout",
          "text": [
            "Train F1 Score (Micro) 0.7196697500191117\n",
            "Val F1 Score (Micro) 0.7206427688504328\n",
            "Train loss 0.022077698583657643\n",
            "Val loss 0.023695678636431693\n",
            "Best model saved\n",
            "------------------------------------------------\n",
            "Epoch :  13\n"
          ]
        },
        {
          "output_type": "stream",
          "name": "stderr",
          "text": [
            "Training: 100%|██████████| 98/98 [00:04<00:00, 20.78it/s]\n",
            "Evaluate: 100%|██████████| 25/25 [00:00<00:00, 49.82it/s]\n"
          ]
        },
        {
          "output_type": "stream",
          "name": "stdout",
          "text": [
            "Train F1 Score (Micro) 0.728713768115942\n",
            "Val F1 Score (Micro) 0.6947100063734863\n",
            "Train loss 0.02156923076480019\n",
            "Val loss 0.024890454709529875\n",
            "------------------------------------------------\n",
            "Epoch :  14\n"
          ]
        },
        {
          "output_type": "stream",
          "name": "stderr",
          "text": [
            "Training: 100%|██████████| 98/98 [00:04<00:00, 20.14it/s]\n",
            "Evaluate: 100%|██████████| 25/25 [00:00<00:00, 46.90it/s]\n"
          ]
        },
        {
          "output_type": "stream",
          "name": "stdout",
          "text": [
            "Train F1 Score (Micro) 0.7253065265402482\n",
            "Val F1 Score (Micro) 0.7114093959731543\n",
            "Train loss 0.0221134331362436\n",
            "Val loss 0.024012610539793967\n",
            "------------------------------------------------\n",
            "Epoch :  15\n"
          ]
        },
        {
          "output_type": "stream",
          "name": "stderr",
          "text": [
            "Training: 100%|██████████| 98/98 [00:04<00:00, 20.16it/s]\n",
            "Evaluate: 100%|██████████| 25/25 [00:00<00:00, 50.16it/s]\n"
          ]
        },
        {
          "output_type": "stream",
          "name": "stdout",
          "text": [
            "Train F1 Score (Micro) 0.7536145029590232\n",
            "Val F1 Score (Micro) 0.6963455149501663\n",
            "Train loss 0.019336894458653976\n",
            "Val loss 0.025462888292968274\n",
            "------------------------------------------------\n",
            "Epoch :  16\n"
          ]
        },
        {
          "output_type": "stream",
          "name": "stderr",
          "text": [
            "Training: 100%|██████████| 98/98 [00:04<00:00, 20.42it/s]\n",
            "Evaluate: 100%|██████████| 25/25 [00:00<00:00, 50.57it/s]\n"
          ]
        },
        {
          "output_type": "stream",
          "name": "stdout",
          "text": [
            "Train F1 Score (Micro) 0.765328008283411\n",
            "Val F1 Score (Micro) 0.7351485148514852\n",
            "Train loss 0.018303755870355026\n",
            "Val loss 0.02226079996675253\n",
            "Best model saved\n",
            "------------------------------------------------\n",
            "Epoch :  17\n"
          ]
        },
        {
          "output_type": "stream",
          "name": "stderr",
          "text": [
            "Training: 100%|██████████| 98/98 [00:04<00:00, 19.68it/s]\n",
            "Evaluate: 100%|██████████| 25/25 [00:00<00:00, 49.81it/s]\n"
          ]
        },
        {
          "output_type": "stream",
          "name": "stdout",
          "text": [
            "Train F1 Score (Micro) 0.7812660080497621\n",
            "Val F1 Score (Micro) 0.7484624846248461\n",
            "Train loss 0.016951969729698434\n",
            "Val loss 0.02200220089405775\n",
            "Best model saved\n",
            "------------------------------------------------\n",
            "Epoch :  18\n"
          ]
        },
        {
          "output_type": "stream",
          "name": "stderr",
          "text": [
            "Training: 100%|██████████| 98/98 [00:04<00:00, 19.92it/s]\n",
            "Evaluate: 100%|██████████| 25/25 [00:00<00:00, 49.87it/s]\n"
          ]
        },
        {
          "output_type": "stream",
          "name": "stdout",
          "text": [
            "Train F1 Score (Micro) 0.7661344225770516\n",
            "Val F1 Score (Micro) 0.7297554779295014\n",
            "Train loss 0.018075883060655728\n",
            "Val loss 0.021941843815147875\n",
            "Best model saved\n",
            "------------------------------------------------\n",
            "Epoch :  19\n"
          ]
        },
        {
          "output_type": "stream",
          "name": "stderr",
          "text": [
            "Training: 100%|██████████| 98/98 [00:05<00:00, 19.47it/s]\n",
            "Evaluate: 100%|██████████| 25/25 [00:00<00:00, 46.87it/s]\n"
          ]
        },
        {
          "output_type": "stream",
          "name": "stdout",
          "text": [
            "Train F1 Score (Micro) 0.7546446475965792\n",
            "Val F1 Score (Micro) 0.6970387243735763\n",
            "Train loss 0.018941959109613483\n",
            "Val loss 0.02489628527313471\n",
            "------------------------------------------------\n",
            "Epoch :  20\n"
          ]
        },
        {
          "output_type": "stream",
          "name": "stderr",
          "text": [
            "Training: 100%|██████████| 98/98 [00:05<00:00, 19.56it/s]\n",
            "Evaluate: 100%|██████████| 25/25 [00:00<00:00, 50.16it/s]\n"
          ]
        },
        {
          "output_type": "stream",
          "name": "stdout",
          "text": [
            "Train F1 Score (Micro) 0.7709773670038571\n",
            "Val F1 Score (Micro) 0.7527141133896261\n",
            "Train loss 0.017499985429933484\n",
            "Val loss 0.021651497073471547\n",
            "Best model saved\n",
            "------------------------------------------------\n",
            "Epoch :  21\n"
          ]
        },
        {
          "output_type": "stream",
          "name": "stderr",
          "text": [
            "Training: 100%|██████████| 98/98 [00:05<00:00, 19.51it/s]\n",
            "Evaluate: 100%|██████████| 25/25 [00:00<00:00, 46.99it/s]\n"
          ]
        },
        {
          "output_type": "stream",
          "name": "stdout",
          "text": [
            "Train F1 Score (Micro) 0.8058886894075403\n",
            "Val F1 Score (Micro) 0.7519902020820577\n",
            "Train loss 0.015053287214998688\n",
            "Val loss 0.02164281064644456\n",
            "Best model saved\n",
            "------------------------------------------------\n",
            "Epoch :  22\n"
          ]
        },
        {
          "output_type": "stream",
          "name": "stderr",
          "text": [
            "Training: 100%|██████████| 98/98 [00:05<00:00, 18.45it/s]\n",
            "Evaluate: 100%|██████████| 25/25 [00:00<00:00, 50.16it/s]\n"
          ]
        },
        {
          "output_type": "stream",
          "name": "stdout",
          "text": [
            "Train F1 Score (Micro) 0.8130104395994602\n",
            "Val F1 Score (Micro) 0.7297128589263421\n",
            "Train loss 0.014735520375436363\n",
            "Val loss 0.02398192062973976\n",
            "------------------------------------------------\n",
            "Epoch :  23\n"
          ]
        },
        {
          "output_type": "stream",
          "name": "stderr",
          "text": [
            "Training: 100%|██████████| 98/98 [00:05<00:00, 19.46it/s]\n",
            "Evaluate: 100%|██████████| 25/25 [00:00<00:00, 49.11it/s]\n"
          ]
        },
        {
          "output_type": "stream",
          "name": "stdout",
          "text": [
            "Train F1 Score (Micro) 0.819613965370423\n",
            "Val F1 Score (Micro) 0.7178885630498534\n",
            "Train loss 0.014441191518147076\n",
            "Val loss 0.023884870670735837\n",
            "------------------------------------------------\n",
            "Epoch :  24\n"
          ]
        },
        {
          "output_type": "stream",
          "name": "stderr",
          "text": [
            "Training: 100%|██████████| 98/98 [00:05<00:00, 19.29it/s]\n",
            "Evaluate: 100%|██████████| 25/25 [00:00<00:00, 50.74it/s]\n"
          ]
        },
        {
          "output_type": "stream",
          "name": "stdout",
          "text": [
            "Train F1 Score (Micro) 0.8096856414613425\n",
            "Val F1 Score (Micro) 0.7689519782543038\n",
            "Train loss 0.014584889017729735\n",
            "Val loss 0.021483567021787168\n",
            "Best model saved\n",
            "------------------------------------------------\n",
            "Epoch :  25\n"
          ]
        },
        {
          "output_type": "stream",
          "name": "stderr",
          "text": [
            "Training: 100%|██████████| 98/98 [00:04<00:00, 19.77it/s]\n",
            "Evaluate: 100%|██████████| 25/25 [00:00<00:00, 49.46it/s]\n"
          ]
        },
        {
          "output_type": "stream",
          "name": "stdout",
          "text": [
            "Train F1 Score (Micro) 0.8374570687600758\n",
            "Val F1 Score (Micro) 0.7825831126802002\n",
            "Train loss 0.012267787285073072\n",
            "Val loss 0.020949321649968624\n",
            "Best model saved\n",
            "------------------------------------------------\n",
            "Epoch :  26\n"
          ]
        },
        {
          "output_type": "stream",
          "name": "stderr",
          "text": [
            "Training: 100%|██████████| 98/98 [00:05<00:00, 19.57it/s]\n",
            "Evaluate: 100%|██████████| 25/25 [00:00<00:00, 47.66it/s]\n"
          ]
        },
        {
          "output_type": "stream",
          "name": "stdout",
          "text": [
            "Train F1 Score (Micro) 0.8564077602392045\n",
            "Val F1 Score (Micro) 0.7904018502457358\n",
            "Train loss 0.011135501651644555\n",
            "Val loss 0.020327341854572297\n",
            "Best model saved\n",
            "------------------------------------------------\n",
            "Epoch :  27\n"
          ]
        },
        {
          "output_type": "stream",
          "name": "stderr",
          "text": [
            "Training: 100%|██████████| 98/98 [00:04<00:00, 20.05it/s]\n",
            "Evaluate: 100%|██████████| 25/25 [00:00<00:00, 50.42it/s]\n"
          ]
        },
        {
          "output_type": "stream",
          "name": "stdout",
          "text": [
            "Train F1 Score (Micro) 0.8624371426603294\n",
            "Val F1 Score (Micro) 0.7858009708737865\n",
            "Train loss 0.010697013190092176\n",
            "Val loss 0.02073057271540165\n",
            "------------------------------------------------\n",
            "Epoch :  28\n"
          ]
        },
        {
          "output_type": "stream",
          "name": "stderr",
          "text": [
            "Training: 100%|██████████| 98/98 [00:04<00:00, 19.81it/s]\n",
            "Evaluate: 100%|██████████| 25/25 [00:00<00:00, 47.76it/s]\n"
          ]
        },
        {
          "output_type": "stream",
          "name": "stdout",
          "text": [
            "Train F1 Score (Micro) 0.8682712747719948\n",
            "Val F1 Score (Micro) 0.8005908419497784\n",
            "Train loss 0.01025758409511526\n",
            "Val loss 0.020248115137219427\n",
            "Best model saved\n",
            "------------------------------------------------\n",
            "Epoch :  29\n"
          ]
        },
        {
          "output_type": "stream",
          "name": "stderr",
          "text": [
            "Training: 100%|██████████| 98/98 [00:05<00:00, 19.60it/s]\n",
            "Evaluate: 100%|██████████| 25/25 [00:00<00:00, 49.89it/s]\n"
          ]
        },
        {
          "output_type": "stream",
          "name": "stdout",
          "text": [
            "Train F1 Score (Micro) 0.8676914630798792\n",
            "Val F1 Score (Micro) 0.7780821917808218\n",
            "Train loss 0.010286926016287536\n",
            "Val loss 0.02238345954567194\n",
            "------------------------------------------------\n",
            "Epoch :  30\n"
          ]
        },
        {
          "output_type": "stream",
          "name": "stderr",
          "text": [
            "Training: 100%|██████████| 98/98 [00:04<00:00, 20.01it/s]\n",
            "Evaluate: 100%|██████████| 25/25 [00:00<00:00, 49.20it/s]\n"
          ]
        },
        {
          "output_type": "stream",
          "name": "stdout",
          "text": [
            "Train F1 Score (Micro) 0.8805203697363917\n",
            "Val F1 Score (Micro) 0.8000000000000002\n",
            "Train loss 0.009546563875082195\n",
            "Val loss 0.021328187212347985\n",
            "------------------------------------------------\n",
            "Epoch :  31\n"
          ]
        },
        {
          "output_type": "stream",
          "name": "stderr",
          "text": [
            "Training: 100%|██████████| 98/98 [00:04<00:00, 19.68it/s]\n",
            "Evaluate: 100%|██████████| 25/25 [00:00<00:00, 49.42it/s]\n"
          ]
        },
        {
          "output_type": "stream",
          "name": "stdout",
          "text": [
            "Train F1 Score (Micro) 0.8855327000615048\n",
            "Val F1 Score (Micro) 0.7970353477765107\n",
            "Train loss 0.008927048523720277\n",
            "Val loss 0.020131136775016784\n",
            "Best model saved\n",
            "------------------------------------------------\n",
            "Epoch :  32\n"
          ]
        },
        {
          "output_type": "stream",
          "name": "stderr",
          "text": [
            "Training: 100%|██████████| 98/98 [00:04<00:00, 19.79it/s]\n",
            "Evaluate: 100%|██████████| 25/25 [00:00<00:00, 51.00it/s]\n"
          ]
        },
        {
          "output_type": "stream",
          "name": "stdout",
          "text": [
            "Train F1 Score (Micro) 0.8981111637668404\n",
            "Val F1 Score (Micro) 0.804\n",
            "Train loss 0.007982002821874482\n",
            "Val loss 0.02095161136239767\n",
            "------------------------------------------------\n",
            "Epoch :  33\n"
          ]
        },
        {
          "output_type": "stream",
          "name": "stderr",
          "text": [
            "Training: 100%|██████████| 98/98 [00:05<00:00, 19.43it/s]\n",
            "Evaluate: 100%|██████████| 25/25 [00:00<00:00, 48.24it/s]\n"
          ]
        },
        {
          "output_type": "stream",
          "name": "stdout",
          "text": [
            "Train F1 Score (Micro) 0.893048491013903\n",
            "Val F1 Score (Micro) 0.7787296898079763\n",
            "Train loss 0.008364781064969696\n",
            "Val loss 0.02208382297307253\n",
            "------------------------------------------------\n",
            "Epoch :  34\n"
          ]
        },
        {
          "output_type": "stream",
          "name": "stderr",
          "text": [
            "Training: 100%|██████████| 98/98 [00:04<00:00, 19.73it/s]\n",
            "Evaluate: 100%|██████████| 25/25 [00:00<00:00, 49.88it/s]\n"
          ]
        },
        {
          "output_type": "stream",
          "name": "stdout",
          "text": [
            "Train F1 Score (Micro) 0.8890997830802603\n",
            "Val F1 Score (Micro) 0.8081277213352686\n",
            "Train loss 0.00845653008745641\n",
            "Val loss 0.02210164997726679\n",
            "------------------------------------------------\n",
            "Epoch :  35\n"
          ]
        },
        {
          "output_type": "stream",
          "name": "stderr",
          "text": [
            "Training: 100%|██████████| 98/98 [00:04<00:00, 19.71it/s]\n",
            "Evaluate: 100%|██████████| 25/25 [00:00<00:00, 47.29it/s]\n"
          ]
        },
        {
          "output_type": "stream",
          "name": "stdout",
          "text": [
            "Train F1 Score (Micro) 0.8758769562871019\n",
            "Val F1 Score (Micro) 0.7967615857063093\n",
            "Train loss 0.00979120538056809\n",
            "Val loss 0.02214322529733181\n",
            "------------------------------------------------\n",
            "Epoch :  36\n"
          ]
        },
        {
          "output_type": "stream",
          "name": "stderr",
          "text": [
            "Training: 100%|██████████| 98/98 [00:05<00:00, 18.56it/s]\n",
            "Evaluate: 100%|██████████| 25/25 [00:00<00:00, 49.86it/s]\n"
          ]
        },
        {
          "output_type": "stream",
          "name": "stdout",
          "text": [
            "Train F1 Score (Micro) 0.8951623770381352\n",
            "Val F1 Score (Micro) 0.806432400238237\n",
            "Train loss 0.008177164523881309\n",
            "Val loss 0.02274710439145565\n",
            "------------------------------------------------\n",
            "Epoch :  37\n"
          ]
        },
        {
          "output_type": "stream",
          "name": "stderr",
          "text": [
            "Training: 100%|██████████| 98/98 [00:04<00:00, 19.79it/s]\n",
            "Evaluate: 100%|██████████| 25/25 [00:00<00:00, 49.21it/s]\n"
          ]
        },
        {
          "output_type": "stream",
          "name": "stdout",
          "text": [
            "Train F1 Score (Micro) 0.8963933540456572\n",
            "Val F1 Score (Micro) 0.8225852679850961\n",
            "Train loss 0.007987227378774206\n",
            "Val loss 0.021052464712411165\n",
            "------------------------------------------------\n",
            "Epoch :  38\n"
          ]
        },
        {
          "output_type": "stream",
          "name": "stderr",
          "text": [
            "Training: 100%|██████████| 98/98 [00:05<00:00, 19.45it/s]\n",
            "Evaluate: 100%|██████████| 25/25 [00:00<00:00, 50.48it/s]\n"
          ]
        },
        {
          "output_type": "stream",
          "name": "stdout",
          "text": [
            "Train F1 Score (Micro) 0.9089315807212671\n",
            "Val F1 Score (Micro) 0.7554479418886199\n",
            "Train loss 0.007157334649213114\n",
            "Val loss 0.025673911273479462\n",
            "------------------------------------------------\n",
            "Epoch :  39\n"
          ]
        },
        {
          "output_type": "stream",
          "name": "stderr",
          "text": [
            "Training: 100%|██████████| 98/98 [00:04<00:00, 19.77it/s]\n",
            "Evaluate: 100%|██████████| 25/25 [00:00<00:00, 48.86it/s]\n"
          ]
        },
        {
          "output_type": "stream",
          "name": "stdout",
          "text": [
            "Train F1 Score (Micro) 0.9060024170807036\n",
            "Val F1 Score (Micro) 0.8100294985250737\n",
            "Train loss 0.006983826331300091\n",
            "Val loss 0.022703311182558538\n",
            "------------------------------------------------\n",
            "Epoch :  40\n"
          ]
        },
        {
          "output_type": "stream",
          "name": "stderr",
          "text": [
            "Training: 100%|██████████| 98/98 [00:04<00:00, 19.66it/s]\n",
            "Evaluate: 100%|██████████| 25/25 [00:00<00:00, 47.92it/s]\n"
          ]
        },
        {
          "output_type": "stream",
          "name": "stdout",
          "text": [
            "Train F1 Score (Micro) 0.9159855286077985\n",
            "Val F1 Score (Micro) 0.8058737151248164\n",
            "Train loss 0.006622954718388465\n",
            "Val loss 0.021766466218978167\n",
            "------------------------------------------------\n",
            "Epoch :  41\n"
          ]
        },
        {
          "output_type": "stream",
          "name": "stderr",
          "text": [
            "Training: 100%|██████████| 98/98 [00:04<00:00, 19.70it/s]\n",
            "Evaluate: 100%|██████████| 25/25 [00:00<00:00, 49.70it/s]\n"
          ]
        },
        {
          "output_type": "stream",
          "name": "stdout",
          "text": [
            "Train F1 Score (Micro) 0.9151429910923582\n",
            "Val F1 Score (Micro) 0.8193191736979923\n",
            "Train loss 0.0066270145886976805\n",
            "Val loss 0.02152756191790104\n",
            "------------------------------------------------\n",
            "Epoch :  42\n"
          ]
        },
        {
          "output_type": "stream",
          "name": "stderr",
          "text": [
            "Training: 100%|██████████| 98/98 [00:04<00:00, 19.91it/s]\n",
            "Evaluate: 100%|██████████| 25/25 [00:00<00:00, 50.19it/s]\n"
          ]
        },
        {
          "output_type": "stream",
          "name": "stdout",
          "text": [
            "Train F1 Score (Micro) 0.9195187165775401\n",
            "Val F1 Score (Micro) 0.8203828828828829\n",
            "Train loss 0.0061543705274483985\n",
            "Val loss 0.02189983207732439\n",
            "------------------------------------------------\n",
            "Epoch :  43\n"
          ]
        },
        {
          "output_type": "stream",
          "name": "stderr",
          "text": [
            "Training: 100%|██████████| 98/98 [00:05<00:00, 19.58it/s]\n",
            "Evaluate: 100%|██████████| 25/25 [00:00<00:00, 49.52it/s]\n"
          ]
        },
        {
          "output_type": "stream",
          "name": "stdout",
          "text": [
            "Train F1 Score (Micro) 0.9196351288368066\n",
            "Val F1 Score (Micro) 0.8193473193473194\n",
            "Train loss 0.005995537070777239\n",
            "Val loss 0.023537573777139185\n",
            "------------------------------------------------\n",
            "Epoch :  44\n"
          ]
        },
        {
          "output_type": "stream",
          "name": "stderr",
          "text": [
            "Training: 100%|██████████| 98/98 [00:04<00:00, 19.91it/s]\n",
            "Evaluate: 100%|██████████| 25/25 [00:00<00:00, 50.81it/s]\n"
          ]
        },
        {
          "output_type": "stream",
          "name": "stdout",
          "text": [
            "Train F1 Score (Micro) 0.9210122187353943\n",
            "Val F1 Score (Micro) 0.7834240774349668\n",
            "Train loss 0.0062275002116565495\n",
            "Val loss 0.024971102736890315\n",
            "------------------------------------------------\n",
            "Epoch :  45\n"
          ]
        },
        {
          "output_type": "stream",
          "name": "stderr",
          "text": [
            "Training: 100%|██████████| 98/98 [00:05<00:00, 19.46it/s]\n",
            "Evaluate: 100%|██████████| 25/25 [00:00<00:00, 49.42it/s]\n"
          ]
        },
        {
          "output_type": "stream",
          "name": "stdout",
          "text": [
            "Train F1 Score (Micro) 0.9216117216117217\n",
            "Val F1 Score (Micro) 0.8106215348701489\n",
            "Train loss 0.006023146509078844\n",
            "Val loss 0.023619651235640048\n",
            "------------------------------------------------\n",
            "Epoch :  46\n"
          ]
        },
        {
          "output_type": "stream",
          "name": "stderr",
          "text": [
            "Training: 100%|██████████| 98/98 [00:04<00:00, 19.98it/s]\n",
            "Evaluate: 100%|██████████| 25/25 [00:00<00:00, 50.97it/s]\n"
          ]
        },
        {
          "output_type": "stream",
          "name": "stdout",
          "text": [
            "Train F1 Score (Micro) 0.933182784272051\n",
            "Val F1 Score (Micro) 0.8272311212814645\n",
            "Train loss 0.005135484462679953\n",
            "Val loss 0.023191550752380864\n",
            "------------------------------------------------\n",
            "Epoch :  47\n"
          ]
        },
        {
          "output_type": "stream",
          "name": "stderr",
          "text": [
            "Training: 100%|██████████| 98/98 [00:04<00:00, 19.90it/s]\n",
            "Evaluate: 100%|██████████| 25/25 [00:00<00:00, 46.45it/s]\n"
          ]
        },
        {
          "output_type": "stream",
          "name": "stdout",
          "text": [
            "Train F1 Score (Micro) 0.9321314952279958\n",
            "Val F1 Score (Micro) 0.8105906313645621\n",
            "Train loss 0.005449149535484232\n",
            "Val loss 0.02568538151681423\n",
            "------------------------------------------------\n",
            "Epoch :  48\n"
          ]
        },
        {
          "output_type": "stream",
          "name": "stderr",
          "text": [
            "Training: 100%|██████████| 98/98 [00:04<00:00, 19.79it/s]\n",
            "Evaluate: 100%|██████████| 25/25 [00:00<00:00, 50.60it/s]\n"
          ]
        },
        {
          "output_type": "stream",
          "name": "stdout",
          "text": [
            "Train F1 Score (Micro) 0.9357517772905455\n",
            "Val F1 Score (Micro) 0.8151796060254924\n",
            "Train loss 0.0048523899948827885\n",
            "Val loss 0.025460207015275956\n",
            "------------------------------------------------\n",
            "Epoch :  49\n"
          ]
        },
        {
          "output_type": "stream",
          "name": "stderr",
          "text": [
            "Training: 100%|██████████| 98/98 [00:05<00:00, 18.95it/s]\n",
            "Evaluate: 100%|██████████| 25/25 [00:00<00:00, 50.17it/s]\n"
          ]
        },
        {
          "output_type": "stream",
          "name": "stdout",
          "text": [
            "Train F1 Score (Micro) 0.9269005847953217\n",
            "Val F1 Score (Micro) 0.818732782369146\n",
            "Train loss 0.005892021818815882\n",
            "Val loss 0.024495223090052604\n",
            "------------------------------------------------\n",
            "Epoch :  50\n"
          ]
        },
        {
          "output_type": "stream",
          "name": "stderr",
          "text": [
            "Training: 100%|██████████| 98/98 [00:05<00:00, 19.49it/s]\n",
            "Evaluate: 100%|██████████| 25/25 [00:00<00:00, 49.83it/s]\n"
          ]
        },
        {
          "output_type": "stream",
          "name": "stdout",
          "text": [
            "Train F1 Score (Micro) 0.9240472712787146\n",
            "Val F1 Score (Micro) 0.8186046511627906\n",
            "Train loss 0.006069077166956754\n",
            "Val loss 0.025519338957965373\n",
            "------------------------------------------------\n"
          ]
        }
      ],
      "source": [
        "epochs = 50\n",
        "learning_rate = 0.001\n",
        "\n",
        "magnet_model_head_4 = MAGNET(300, 250, adjacency.to(device), pretrained_embeddings.to(device), num_heads = 4)\n",
        "loss_function = nn.BCEWithLogitsLoss()\n",
        "optimizer = optim.Adam(magnet_model_head_4.parameters(), lr = learning_rate)\n",
        "train_loss_4, val_loss_4, avg_epoch_time_4 = train_model(magnet_model_head_4, label_embedding, loss_function, optimizer, epochs, device, \"reuters_head4.pth\")"
      ]
    },
    {
      "cell_type": "code",
      "execution_count": null,
      "metadata": {
        "id": "i6fIIL4Os8n-",
        "colab": {
          "base_uri": "https://localhost:8080/"
        },
        "outputId": "d019e826-672a-4a92-f826-0d3de9dc2d0d"
      },
      "outputs": [
        {
          "output_type": "stream",
          "name": "stdout",
          "text": [
            "Epoch :  1\n"
          ]
        },
        {
          "output_type": "stream",
          "name": "stderr",
          "text": [
            "Training: 100%|██████████| 98/98 [00:04<00:00, 23.24it/s]\n",
            "Evaluate: 100%|██████████| 25/25 [00:00<00:00, 61.16it/s]\n"
          ]
        },
        {
          "output_type": "stream",
          "name": "stdout",
          "text": [
            "Train F1 Score (Micro) 0.06814962925935182\n",
            "Val F1 Score (Micro) 0.27142857142857146\n",
            "Train loss 0.07774770645690816\n",
            "Val loss 0.051780860871076584\n",
            "Best model saved\n",
            "------------------------------------------------\n",
            "Epoch :  2\n"
          ]
        },
        {
          "output_type": "stream",
          "name": "stderr",
          "text": [
            "Training: 100%|██████████| 98/98 [00:04<00:00, 22.92it/s]\n",
            "Evaluate: 100%|██████████| 25/25 [00:00<00:00, 56.10it/s]\n"
          ]
        },
        {
          "output_type": "stream",
          "name": "stdout",
          "text": [
            "Train F1 Score (Micro) 0.374059181358903\n",
            "Val F1 Score (Micro) 0.37090599744789454\n",
            "Train loss 0.04670110918885591\n",
            "Val loss 0.04331370517611503\n",
            "Best model saved\n",
            "------------------------------------------------\n",
            "Epoch :  3\n"
          ]
        },
        {
          "output_type": "stream",
          "name": "stderr",
          "text": [
            "Training: 100%|██████████| 98/98 [00:04<00:00, 22.99it/s]\n",
            "Evaluate: 100%|██████████| 25/25 [00:00<00:00, 61.47it/s]\n"
          ]
        },
        {
          "output_type": "stream",
          "name": "stdout",
          "text": [
            "Train F1 Score (Micro) 0.41089939776878276\n",
            "Val F1 Score (Micro) 0.3981674302374011\n",
            "Train loss 0.04133915435522795\n",
            "Val loss 0.03766817547380924\n",
            "Best model saved\n",
            "------------------------------------------------\n",
            "Epoch :  4\n"
          ]
        },
        {
          "output_type": "stream",
          "name": "stderr",
          "text": [
            "Training: 100%|██████████| 98/98 [00:04<00:00, 23.13it/s]\n",
            "Evaluate: 100%|██████████| 25/25 [00:00<00:00, 59.98it/s]\n"
          ]
        },
        {
          "output_type": "stream",
          "name": "stdout",
          "text": [
            "Train F1 Score (Micro) 0.44640653185227375\n",
            "Val F1 Score (Micro) 0.4998165137614679\n",
            "Train loss 0.03869623413347468\n",
            "Val loss 0.03597091071307659\n",
            "Best model saved\n",
            "------------------------------------------------\n",
            "Epoch :  5\n"
          ]
        },
        {
          "output_type": "stream",
          "name": "stderr",
          "text": [
            "Training: 100%|██████████| 98/98 [00:04<00:00, 22.90it/s]\n",
            "Evaluate: 100%|██████████| 25/25 [00:00<00:00, 56.21it/s]\n"
          ]
        },
        {
          "output_type": "stream",
          "name": "stdout",
          "text": [
            "Train F1 Score (Micro) 0.5355944179473592\n",
            "Val F1 Score (Micro) 0.5959657701711492\n",
            "Train loss 0.03411055928362267\n",
            "Val loss 0.03435802981257439\n",
            "Best model saved\n",
            "------------------------------------------------\n",
            "Epoch :  6\n"
          ]
        },
        {
          "output_type": "stream",
          "name": "stderr",
          "text": [
            "Training: 100%|██████████| 98/98 [00:04<00:00, 23.09it/s]\n",
            "Evaluate: 100%|██████████| 25/25 [00:00<00:00, 59.53it/s]\n"
          ]
        },
        {
          "output_type": "stream",
          "name": "stdout",
          "text": [
            "Train F1 Score (Micro) 0.5216156236129604\n",
            "Val F1 Score (Micro) 0.5447272727272726\n",
            "Train loss 0.034139559851313124\n",
            "Val loss 0.032830739468336104\n",
            "Best model saved\n",
            "------------------------------------------------\n",
            "Epoch :  7\n"
          ]
        },
        {
          "output_type": "stream",
          "name": "stderr",
          "text": [
            "Training: 100%|██████████| 98/98 [00:04<00:00, 23.07it/s]\n",
            "Evaluate: 100%|██████████| 25/25 [00:00<00:00, 62.49it/s]\n"
          ]
        },
        {
          "output_type": "stream",
          "name": "stdout",
          "text": [
            "Train F1 Score (Micro) 0.583711167086482\n",
            "Val F1 Score (Micro) 0.4987792117195675\n",
            "Train loss 0.03081667411844341\n",
            "Val loss 0.039776275902986526\n",
            "------------------------------------------------\n",
            "Epoch :  8\n"
          ]
        },
        {
          "output_type": "stream",
          "name": "stderr",
          "text": [
            "Training: 100%|██████████| 98/98 [00:04<00:00, 22.65it/s]\n",
            "Evaluate: 100%|██████████| 25/25 [00:00<00:00, 60.19it/s]\n"
          ]
        },
        {
          "output_type": "stream",
          "name": "stdout",
          "text": [
            "Train F1 Score (Micro) 0.5611742745630408\n",
            "Val F1 Score (Micro) 0.5869442881260551\n",
            "Train loss 0.032097459143521835\n",
            "Val loss 0.034598281458020214\n",
            "------------------------------------------------\n",
            "Epoch :  9\n"
          ]
        },
        {
          "output_type": "stream",
          "name": "stderr",
          "text": [
            "Training: 100%|██████████| 98/98 [00:04<00:00, 23.03it/s]\n",
            "Evaluate: 100%|██████████| 25/25 [00:00<00:00, 61.43it/s]\n"
          ]
        },
        {
          "output_type": "stream",
          "name": "stdout",
          "text": [
            "Train F1 Score (Micro) 0.5814578434665771\n",
            "Val F1 Score (Micro) 0.5607142857142857\n",
            "Train loss 0.032449001959544053\n",
            "Val loss 0.03319225385785103\n",
            "------------------------------------------------\n",
            "Epoch :  10\n"
          ]
        },
        {
          "output_type": "stream",
          "name": "stderr",
          "text": [
            "Training: 100%|██████████| 98/98 [00:04<00:00, 22.99it/s]\n",
            "Evaluate: 100%|██████████| 25/25 [00:00<00:00, 56.03it/s]\n"
          ]
        },
        {
          "output_type": "stream",
          "name": "stdout",
          "text": [
            "Train F1 Score (Micro) 0.6496018202502845\n",
            "Val F1 Score (Micro) 0.6445561139028476\n",
            "Train loss 0.026790135445035234\n",
            "Val loss 0.02703535370528698\n",
            "Best model saved\n",
            "------------------------------------------------\n",
            "Epoch :  11\n"
          ]
        },
        {
          "output_type": "stream",
          "name": "stderr",
          "text": [
            "Training: 100%|██████████| 98/98 [00:04<00:00, 22.65it/s]\n",
            "Evaluate: 100%|██████████| 25/25 [00:00<00:00, 60.87it/s]\n"
          ]
        },
        {
          "output_type": "stream",
          "name": "stdout",
          "text": [
            "Train F1 Score (Micro) 0.6826148744670772\n",
            "Val F1 Score (Micro) 0.6883451384417258\n",
            "Train loss 0.0246426454384108\n",
            "Val loss 0.02628113850951195\n",
            "Best model saved\n",
            "------------------------------------------------\n",
            "Epoch :  12\n"
          ]
        },
        {
          "output_type": "stream",
          "name": "stderr",
          "text": [
            "Training: 100%|██████████| 98/98 [00:04<00:00, 22.92it/s]\n",
            "Evaluate: 100%|██████████| 25/25 [00:00<00:00, 60.51it/s]\n"
          ]
        },
        {
          "output_type": "stream",
          "name": "stdout",
          "text": [
            "Train F1 Score (Micro) 0.7087566896765686\n",
            "Val F1 Score (Micro) 0.6889325474787164\n",
            "Train loss 0.02294361125677824\n",
            "Val loss 0.025378522872924806\n",
            "Best model saved\n",
            "------------------------------------------------\n",
            "Epoch :  13\n"
          ]
        },
        {
          "output_type": "stream",
          "name": "stderr",
          "text": [
            "Training: 100%|██████████| 98/98 [00:04<00:00, 21.25it/s]\n",
            "Evaluate: 100%|██████████| 25/25 [00:00<00:00, 57.25it/s]\n"
          ]
        },
        {
          "output_type": "stream",
          "name": "stdout",
          "text": [
            "Train F1 Score (Micro) 0.7215764760218614\n",
            "Val F1 Score (Micro) 0.6910769230769231\n",
            "Train loss 0.021885854315620904\n",
            "Val loss 0.026350732147693633\n",
            "------------------------------------------------\n",
            "Epoch :  14\n"
          ]
        },
        {
          "output_type": "stream",
          "name": "stderr",
          "text": [
            "Training: 100%|██████████| 98/98 [00:04<00:00, 22.96it/s]\n",
            "Evaluate: 100%|██████████| 25/25 [00:00<00:00, 58.25it/s]\n"
          ]
        },
        {
          "output_type": "stream",
          "name": "stdout",
          "text": [
            "Train F1 Score (Micro) 0.7051135931920066\n",
            "Val F1 Score (Micro) 0.6181818181818182\n",
            "Train loss 0.022603886510834705\n",
            "Val loss 0.02826389454305172\n",
            "------------------------------------------------\n",
            "Epoch :  15\n"
          ]
        },
        {
          "output_type": "stream",
          "name": "stderr",
          "text": [
            "Training: 100%|██████████| 98/98 [00:04<00:00, 23.11it/s]\n",
            "Evaluate: 100%|██████████| 25/25 [00:00<00:00, 60.83it/s]\n"
          ]
        },
        {
          "output_type": "stream",
          "name": "stdout",
          "text": [
            "Train F1 Score (Micro) 0.6864355231143552\n",
            "Val F1 Score (Micro) 0.6487322201607916\n",
            "Train loss 0.023475504404276003\n",
            "Val loss 0.031793949082493785\n",
            "------------------------------------------------\n",
            "Epoch :  16\n"
          ]
        },
        {
          "output_type": "stream",
          "name": "stderr",
          "text": [
            "Training: 100%|██████████| 98/98 [00:04<00:00, 22.67it/s]\n",
            "Evaluate: 100%|██████████| 25/25 [00:00<00:00, 60.77it/s]\n"
          ]
        },
        {
          "output_type": "stream",
          "name": "stdout",
          "text": [
            "Train F1 Score (Micro) 0.7319008759451973\n",
            "Val F1 Score (Micro) 0.7314958191390523\n",
            "Train loss 0.0209386078165654\n",
            "Val loss 0.022690241262316703\n",
            "Best model saved\n",
            "------------------------------------------------\n",
            "Epoch :  17\n"
          ]
        },
        {
          "output_type": "stream",
          "name": "stderr",
          "text": [
            "Training: 100%|██████████| 98/98 [00:04<00:00, 23.09it/s]\n",
            "Evaluate: 100%|██████████| 25/25 [00:00<00:00, 61.20it/s]\n"
          ]
        },
        {
          "output_type": "stream",
          "name": "stdout",
          "text": [
            "Train F1 Score (Micro) 0.7593471810089021\n",
            "Val F1 Score (Micro) 0.725717776420281\n",
            "Train loss 0.018904653738956063\n",
            "Val loss 0.023187760487198828\n",
            "------------------------------------------------\n",
            "Epoch :  18\n"
          ]
        },
        {
          "output_type": "stream",
          "name": "stderr",
          "text": [
            "Training: 100%|██████████| 98/98 [00:04<00:00, 23.00it/s]\n",
            "Evaluate: 100%|██████████| 25/25 [00:00<00:00, 55.61it/s]\n"
          ]
        },
        {
          "output_type": "stream",
          "name": "stdout",
          "text": [
            "Train F1 Score (Micro) 0.7724056603773585\n",
            "Val F1 Score (Micro) 0.7227722772277227\n",
            "Train loss 0.017524903174489737\n",
            "Val loss 0.02382672231644392\n",
            "------------------------------------------------\n",
            "Epoch :  19\n"
          ]
        },
        {
          "output_type": "stream",
          "name": "stderr",
          "text": [
            "Training: 100%|██████████| 98/98 [00:04<00:00, 22.78it/s]\n",
            "Evaluate: 100%|██████████| 25/25 [00:00<00:00, 61.24it/s]\n"
          ]
        },
        {
          "output_type": "stream",
          "name": "stdout",
          "text": [
            "Train F1 Score (Micro) 0.7718553228876849\n",
            "Val F1 Score (Micro) 0.7276166456494325\n",
            "Train loss 0.01798903362407368\n",
            "Val loss 0.023290068730711936\n",
            "------------------------------------------------\n",
            "Epoch :  20\n"
          ]
        },
        {
          "output_type": "stream",
          "name": "stderr",
          "text": [
            "Training: 100%|██████████| 98/98 [00:04<00:00, 22.98it/s]\n",
            "Evaluate: 100%|██████████| 25/25 [00:00<00:00, 60.80it/s]\n"
          ]
        },
        {
          "output_type": "stream",
          "name": "stdout",
          "text": [
            "Train F1 Score (Micro) 0.7839123540435345\n",
            "Val F1 Score (Micro) 0.7071895424836602\n",
            "Train loss 0.017140260621981353\n",
            "Val loss 0.022874478548765183\n",
            "------------------------------------------------\n",
            "Epoch :  21\n"
          ]
        },
        {
          "output_type": "stream",
          "name": "stderr",
          "text": [
            "Training: 100%|██████████| 98/98 [00:04<00:00, 22.80it/s]\n",
            "Evaluate: 100%|██████████| 25/25 [00:00<00:00, 57.28it/s]\n"
          ]
        },
        {
          "output_type": "stream",
          "name": "stdout",
          "text": [
            "Train F1 Score (Micro) 0.7934289213920313\n",
            "Val F1 Score (Micro) 0.7516158818097877\n",
            "Train loss 0.01529276131994414\n",
            "Val loss 0.02145512405782938\n",
            "Best model saved\n",
            "------------------------------------------------\n",
            "Epoch :  22\n"
          ]
        },
        {
          "output_type": "stream",
          "name": "stderr",
          "text": [
            "Training: 100%|██████████| 98/98 [00:04<00:00, 22.81it/s]\n",
            "Evaluate: 100%|██████████| 25/25 [00:00<00:00, 60.83it/s]\n"
          ]
        },
        {
          "output_type": "stream",
          "name": "stdout",
          "text": [
            "Train F1 Score (Micro) 0.8006566269359788\n",
            "Val F1 Score (Micro) 0.7401477832512314\n",
            "Train loss 0.014909970654858922\n",
            "Val loss 0.022842130810022353\n",
            "------------------------------------------------\n",
            "Epoch :  23\n"
          ]
        },
        {
          "output_type": "stream",
          "name": "stderr",
          "text": [
            "Training: 100%|██████████| 98/98 [00:04<00:00, 22.95it/s]\n",
            "Evaluate: 100%|██████████| 25/25 [00:00<00:00, 61.07it/s]\n"
          ]
        },
        {
          "output_type": "stream",
          "name": "stdout",
          "text": [
            "Train F1 Score (Micro) 0.8160420962810211\n",
            "Val F1 Score (Micro) 0.7657415696806923\n",
            "Train loss 0.014327171325151409\n",
            "Val loss 0.02083466522395611\n",
            "Best model saved\n",
            "------------------------------------------------\n",
            "Epoch :  24\n"
          ]
        },
        {
          "output_type": "stream",
          "name": "stderr",
          "text": [
            "Training: 100%|██████████| 98/98 [00:04<00:00, 22.78it/s]\n",
            "Evaluate: 100%|██████████| 25/25 [00:00<00:00, 55.22it/s]\n"
          ]
        },
        {
          "output_type": "stream",
          "name": "stdout",
          "text": [
            "Train F1 Score (Micro) 0.8269501548859475\n",
            "Val F1 Score (Micro) 0.7629170357248302\n",
            "Train loss 0.013275431616383851\n",
            "Val loss 0.0225253040343523\n",
            "------------------------------------------------\n",
            "Epoch :  25\n"
          ]
        },
        {
          "output_type": "stream",
          "name": "stderr",
          "text": [
            "Training: 100%|██████████| 98/98 [00:04<00:00, 23.03it/s]\n",
            "Evaluate: 100%|██████████| 25/25 [00:00<00:00, 61.37it/s]\n"
          ]
        },
        {
          "output_type": "stream",
          "name": "stdout",
          "text": [
            "Train F1 Score (Micro) 0.8228683803905041\n",
            "Val F1 Score (Micro) 0.7575210589651022\n",
            "Train loss 0.013478560178369587\n",
            "Val loss 0.022157115302979945\n",
            "------------------------------------------------\n",
            "Epoch :  26\n"
          ]
        },
        {
          "output_type": "stream",
          "name": "stderr",
          "text": [
            "Training: 100%|██████████| 98/98 [00:04<00:00, 23.09it/s]\n",
            "Evaluate: 100%|██████████| 25/25 [00:00<00:00, 60.63it/s]\n"
          ]
        },
        {
          "output_type": "stream",
          "name": "stdout",
          "text": [
            "Train F1 Score (Micro) 0.8399496785015377\n",
            "Val F1 Score (Micro) 0.742963192081658\n",
            "Train loss 0.011965219468372514\n",
            "Val loss 0.02330404918640852\n",
            "------------------------------------------------\n",
            "Epoch :  27\n"
          ]
        },
        {
          "output_type": "stream",
          "name": "stderr",
          "text": [
            "Training: 100%|██████████| 98/98 [00:04<00:00, 21.25it/s]\n",
            "Evaluate: 100%|██████████| 25/25 [00:00<00:00, 61.50it/s]\n"
          ]
        },
        {
          "output_type": "stream",
          "name": "stdout",
          "text": [
            "Train F1 Score (Micro) 0.8461218260024975\n",
            "Val F1 Score (Micro) 0.7865734265734267\n",
            "Train loss 0.011646016467628735\n",
            "Val loss 0.02057505164295435\n",
            "Best model saved\n",
            "------------------------------------------------\n",
            "Epoch :  28\n"
          ]
        },
        {
          "output_type": "stream",
          "name": "stderr",
          "text": [
            "Training: 100%|██████████| 98/98 [00:04<00:00, 23.08it/s]\n",
            "Evaluate: 100%|██████████| 25/25 [00:00<00:00, 60.85it/s]\n"
          ]
        },
        {
          "output_type": "stream",
          "name": "stdout",
          "text": [
            "Train F1 Score (Micro) 0.8448180050013893\n",
            "Val F1 Score (Micro) 0.7802132701421801\n",
            "Train loss 0.012057121567504138\n",
            "Val loss 0.021895823255181312\n",
            "------------------------------------------------\n",
            "Epoch :  29\n"
          ]
        },
        {
          "output_type": "stream",
          "name": "stderr",
          "text": [
            "Training: 100%|██████████| 98/98 [00:04<00:00, 22.89it/s]\n",
            "Evaluate: 100%|██████████| 25/25 [00:00<00:00, 57.56it/s]\n"
          ]
        },
        {
          "output_type": "stream",
          "name": "stdout",
          "text": [
            "Train F1 Score (Micro) 0.8319104268719384\n",
            "Val F1 Score (Micro) 0.7749099639855943\n",
            "Train loss 0.013298921263301554\n",
            "Val loss 0.023099837228655815\n",
            "------------------------------------------------\n",
            "Epoch :  30\n"
          ]
        },
        {
          "output_type": "stream",
          "name": "stderr",
          "text": [
            "Training: 100%|██████████| 98/98 [00:04<00:00, 22.78it/s]\n",
            "Evaluate: 100%|██████████| 25/25 [00:00<00:00, 59.82it/s]\n"
          ]
        },
        {
          "output_type": "stream",
          "name": "stdout",
          "text": [
            "Train F1 Score (Micro) 0.8584619625137816\n",
            "Val F1 Score (Micro) 0.7812962414915656\n",
            "Train loss 0.011044853309891661\n",
            "Val loss 0.022172528244554998\n",
            "------------------------------------------------\n",
            "Epoch :  31\n"
          ]
        },
        {
          "output_type": "stream",
          "name": "stderr",
          "text": [
            "Training: 100%|██████████| 98/98 [00:04<00:00, 23.02it/s]\n",
            "Evaluate: 100%|██████████| 25/25 [00:00<00:00, 62.63it/s]\n"
          ]
        },
        {
          "output_type": "stream",
          "name": "stdout",
          "text": [
            "Train F1 Score (Micro) 0.8206090947017105\n",
            "Val F1 Score (Micro) 0.7649208282582216\n",
            "Train loss 0.013739814872530346\n",
            "Val loss 0.023525052405893802\n",
            "------------------------------------------------\n",
            "Epoch :  32\n"
          ]
        },
        {
          "output_type": "stream",
          "name": "stderr",
          "text": [
            "Training: 100%|██████████| 98/98 [00:04<00:00, 22.88it/s]\n",
            "Evaluate: 100%|██████████| 25/25 [00:00<00:00, 55.87it/s]\n"
          ]
        },
        {
          "output_type": "stream",
          "name": "stdout",
          "text": [
            "Train F1 Score (Micro) 0.8376363385337567\n",
            "Val F1 Score (Micro) 0.7724803862401932\n",
            "Train loss 0.0120648715683088\n",
            "Val loss 0.021061215549707413\n",
            "------------------------------------------------\n",
            "Epoch :  33\n"
          ]
        },
        {
          "output_type": "stream",
          "name": "stderr",
          "text": [
            "Training: 100%|██████████| 98/98 [00:04<00:00, 22.97it/s]\n",
            "Evaluate: 100%|██████████| 25/25 [00:00<00:00, 62.32it/s]\n"
          ]
        },
        {
          "output_type": "stream",
          "name": "stdout",
          "text": [
            "Train F1 Score (Micro) 0.846957845919568\n",
            "Val F1 Score (Micro) 0.7822835777969513\n",
            "Train loss 0.011147366019977942\n",
            "Val loss 0.022751383706927298\n",
            "------------------------------------------------\n",
            "Epoch :  34\n"
          ]
        },
        {
          "output_type": "stream",
          "name": "stderr",
          "text": [
            "Training: 100%|██████████| 98/98 [00:04<00:00, 22.94it/s]\n",
            "Evaluate: 100%|██████████| 25/25 [00:00<00:00, 61.14it/s]\n"
          ]
        },
        {
          "output_type": "stream",
          "name": "stdout",
          "text": [
            "Train F1 Score (Micro) 0.8600411240575736\n",
            "Val F1 Score (Micro) 0.7758869339486587\n",
            "Train loss 0.01027127941452651\n",
            "Val loss 0.023076198138296602\n",
            "------------------------------------------------\n",
            "Epoch :  35\n"
          ]
        },
        {
          "output_type": "stream",
          "name": "stderr",
          "text": [
            "Training: 100%|██████████| 98/98 [00:04<00:00, 22.65it/s]\n",
            "Evaluate: 100%|██████████| 25/25 [00:00<00:00, 58.94it/s]\n"
          ]
        },
        {
          "output_type": "stream",
          "name": "stdout",
          "text": [
            "Train F1 Score (Micro) 0.8624371426603294\n",
            "Val F1 Score (Micro) 0.7935429056924383\n",
            "Train loss 0.010550611258047272\n",
            "Val loss 0.019851726554334162\n",
            "Best model saved\n",
            "------------------------------------------------\n",
            "Epoch :  36\n"
          ]
        },
        {
          "output_type": "stream",
          "name": "stderr",
          "text": [
            "Training: 100%|██████████| 98/98 [00:04<00:00, 22.98it/s]\n",
            "Evaluate: 100%|██████████| 25/25 [00:00<00:00, 61.26it/s]\n"
          ]
        },
        {
          "output_type": "stream",
          "name": "stdout",
          "text": [
            "Train F1 Score (Micro) 0.8751873552255076\n",
            "Val F1 Score (Micro) 0.7889087656529516\n",
            "Train loss 0.009345222597143479\n",
            "Val loss 0.02263648260384798\n",
            "------------------------------------------------\n",
            "Epoch :  37\n"
          ]
        },
        {
          "output_type": "stream",
          "name": "stderr",
          "text": [
            "Training: 100%|██████████| 98/98 [00:04<00:00, 22.94it/s]\n",
            "Evaluate: 100%|██████████| 25/25 [00:00<00:00, 61.87it/s]\n"
          ]
        },
        {
          "output_type": "stream",
          "name": "stdout",
          "text": [
            "Train F1 Score (Micro) 0.8817233621923786\n",
            "Val F1 Score (Micro) 0.7898912724066999\n",
            "Train loss 0.008958160544612579\n",
            "Val loss 0.02291043572127819\n",
            "------------------------------------------------\n",
            "Epoch :  38\n"
          ]
        },
        {
          "output_type": "stream",
          "name": "stderr",
          "text": [
            "Training: 100%|██████████| 98/98 [00:04<00:00, 22.50it/s]\n",
            "Evaluate: 100%|██████████| 25/25 [00:00<00:00, 60.59it/s]\n"
          ]
        },
        {
          "output_type": "stream",
          "name": "stdout",
          "text": [
            "Train F1 Score (Micro) 0.8815843201306656\n",
            "Val F1 Score (Micro) 0.792814371257485\n",
            "Train loss 0.009032552657953026\n",
            "Val loss 0.021785878762602805\n",
            "------------------------------------------------\n",
            "Epoch :  39\n"
          ]
        },
        {
          "output_type": "stream",
          "name": "stderr",
          "text": [
            "Training: 100%|██████████| 98/98 [00:04<00:00, 21.71it/s]\n",
            "Evaluate: 100%|██████████| 25/25 [00:00<00:00, 61.77it/s]\n"
          ]
        },
        {
          "output_type": "stream",
          "name": "stdout",
          "text": [
            "Train F1 Score (Micro) 0.8818219121871153\n",
            "Val F1 Score (Micro) 0.7725930301240401\n",
            "Train loss 0.009195951055925416\n",
            "Val loss 0.024547537975013255\n",
            "------------------------------------------------\n",
            "Epoch :  40\n"
          ]
        },
        {
          "output_type": "stream",
          "name": "stderr",
          "text": [
            "Training: 100%|██████████| 98/98 [00:04<00:00, 22.84it/s]\n",
            "Evaluate: 100%|██████████| 25/25 [00:00<00:00, 55.15it/s]\n"
          ]
        },
        {
          "output_type": "stream",
          "name": "stdout",
          "text": [
            "Train F1 Score (Micro) 0.8906197087707415\n",
            "Val F1 Score (Micro) 0.7991742848717194\n",
            "Train loss 0.008189769611427826\n",
            "Val loss 0.021525974930264057\n",
            "------------------------------------------------\n",
            "Epoch :  41\n"
          ]
        },
        {
          "output_type": "stream",
          "name": "stderr",
          "text": [
            "Training: 100%|██████████| 98/98 [00:04<00:00, 22.76it/s]\n",
            "Evaluate: 100%|██████████| 25/25 [00:00<00:00, 61.99it/s]\n"
          ]
        },
        {
          "output_type": "stream",
          "name": "stdout",
          "text": [
            "Train F1 Score (Micro) 0.8940060954961057\n",
            "Val F1 Score (Micro) 0.7966854098845811\n",
            "Train loss 0.007787421721090771\n",
            "Val loss 0.02366462804377079\n",
            "------------------------------------------------\n",
            "Epoch :  42\n"
          ]
        },
        {
          "output_type": "stream",
          "name": "stderr",
          "text": [
            "Training: 100%|██████████| 98/98 [00:04<00:00, 22.99it/s]\n",
            "Evaluate: 100%|██████████| 25/25 [00:00<00:00, 59.97it/s]\n"
          ]
        },
        {
          "output_type": "stream",
          "name": "stdout",
          "text": [
            "Train F1 Score (Micro) 0.895516331913167\n",
            "Val F1 Score (Micro) 0.7999999999999999\n",
            "Train loss 0.0074555623298748494\n",
            "Val loss 0.023360364101827145\n",
            "------------------------------------------------\n",
            "Epoch :  43\n"
          ]
        },
        {
          "output_type": "stream",
          "name": "stderr",
          "text": [
            "Training: 100%|██████████| 98/98 [00:04<00:00, 22.65it/s]\n",
            "Evaluate: 100%|██████████| 25/25 [00:00<00:00, 56.90it/s]\n"
          ]
        },
        {
          "output_type": "stream",
          "name": "stdout",
          "text": [
            "Train F1 Score (Micro) 0.8879269529928981\n",
            "Val F1 Score (Micro) 0.7925840092699885\n",
            "Train loss 0.008155200101805813\n",
            "Val loss 0.02225987769663334\n",
            "------------------------------------------------\n",
            "Epoch :  44\n"
          ]
        },
        {
          "output_type": "stream",
          "name": "stderr",
          "text": [
            "Training: 100%|██████████| 98/98 [00:04<00:00, 22.92it/s]\n",
            "Evaluate: 100%|██████████| 25/25 [00:00<00:00, 60.71it/s]\n"
          ]
        },
        {
          "output_type": "stream",
          "name": "stdout",
          "text": [
            "Train F1 Score (Micro) 0.8736084713548737\n",
            "Val F1 Score (Micro) 0.7965014577259474\n",
            "Train loss 0.009645465642631966\n",
            "Val loss 0.022063096556812524\n",
            "------------------------------------------------\n",
            "Epoch :  45\n"
          ]
        },
        {
          "output_type": "stream",
          "name": "stderr",
          "text": [
            "Training: 100%|██████████| 98/98 [00:04<00:00, 23.03it/s]\n",
            "Evaluate: 100%|██████████| 25/25 [00:00<00:00, 61.48it/s]\n"
          ]
        },
        {
          "output_type": "stream",
          "name": "stdout",
          "text": [
            "Train F1 Score (Micro) 0.896894743917193\n",
            "Val F1 Score (Micro) 0.8037383177570093\n",
            "Train loss 0.00776990856357603\n",
            "Val loss 0.022551669254899025\n",
            "------------------------------------------------\n",
            "Epoch :  46\n"
          ]
        },
        {
          "output_type": "stream",
          "name": "stderr",
          "text": [
            "Training: 100%|██████████| 98/98 [00:04<00:00, 22.55it/s]\n",
            "Evaluate: 100%|██████████| 25/25 [00:00<00:00, 60.50it/s]\n"
          ]
        },
        {
          "output_type": "stream",
          "name": "stdout",
          "text": [
            "Train F1 Score (Micro) 0.8829635660492571\n",
            "Val F1 Score (Micro) 0.8012746234067206\n",
            "Train loss 0.00884024217981389\n",
            "Val loss 0.023082280680537224\n",
            "------------------------------------------------\n",
            "Epoch :  47\n"
          ]
        },
        {
          "output_type": "stream",
          "name": "stderr",
          "text": [
            "Training: 100%|██████████| 98/98 [00:04<00:00, 22.93it/s]\n",
            "Evaluate: 100%|██████████| 25/25 [00:00<00:00, 61.62it/s]\n"
          ]
        },
        {
          "output_type": "stream",
          "name": "stdout",
          "text": [
            "Train F1 Score (Micro) 0.9028486965869389\n",
            "Val F1 Score (Micro) 0.7866157910184914\n",
            "Train loss 0.007076780665760898\n",
            "Val loss 0.02492829576134682\n",
            "------------------------------------------------\n",
            "Epoch :  48\n"
          ]
        },
        {
          "output_type": "stream",
          "name": "stderr",
          "text": [
            "Training: 100%|██████████| 98/98 [00:04<00:00, 22.97it/s]\n",
            "Evaluate: 100%|██████████| 25/25 [00:00<00:00, 54.71it/s]\n"
          ]
        },
        {
          "output_type": "stream",
          "name": "stdout",
          "text": [
            "Train F1 Score (Micro) 0.909542676784635\n",
            "Val F1 Score (Micro) 0.803830528148578\n",
            "Train loss 0.006980952063138235\n",
            "Val loss 0.023383577428758143\n",
            "------------------------------------------------\n",
            "Epoch :  49\n"
          ]
        },
        {
          "output_type": "stream",
          "name": "stderr",
          "text": [
            "Training: 100%|██████████| 98/98 [00:04<00:00, 22.46it/s]\n",
            "Evaluate: 100%|██████████| 25/25 [00:00<00:00, 61.56it/s]\n"
          ]
        },
        {
          "output_type": "stream",
          "name": "stdout",
          "text": [
            "Train F1 Score (Micro) 0.9086039504519586\n",
            "Val F1 Score (Micro) 0.8080344332855093\n",
            "Train loss 0.006652005344667301\n",
            "Val loss 0.023420276436954737\n",
            "------------------------------------------------\n",
            "Epoch :  50\n"
          ]
        },
        {
          "output_type": "stream",
          "name": "stderr",
          "text": [
            "Training: 100%|██████████| 98/98 [00:04<00:00, 22.97it/s]\n",
            "Evaluate: 100%|██████████| 25/25 [00:00<00:00, 60.35it/s]\n"
          ]
        },
        {
          "output_type": "stream",
          "name": "stdout",
          "text": [
            "Train F1 Score (Micro) 0.9088105136113719\n",
            "Val F1 Score (Micro) 0.8092518560822387\n",
            "Train loss 0.006568134517636986\n",
            "Val loss 0.0241457449644804\n",
            "------------------------------------------------\n"
          ]
        }
      ],
      "source": [
        "epochs = 50\n",
        "learning_rate = 0.001\n",
        "\n",
        "magnet_model_head_2 = MAGNET(300, 250, adjacency.to(device), pretrained_embeddings.to(device), num_heads = 2)\n",
        "loss_function = nn.BCEWithLogitsLoss()\n",
        "optimizer = optim.Adam(magnet_model_head_2.parameters(), lr = learning_rate)\n",
        "train_loss_2, val_loss_2, avg_epoch_time_2 = train_model(magnet_model_head_2, label_embedding, loss_function, optimizer, epochs, device, \"reuters_head2.pth\")"
      ]
    },
    {
      "cell_type": "code",
      "execution_count": null,
      "metadata": {
        "id": "LY47PZUAs79V",
        "colab": {
          "base_uri": "https://localhost:8080/"
        },
        "outputId": "91bed458-9035-4342-8009-4cdce3a7f376"
      },
      "outputs": [
        {
          "output_type": "stream",
          "name": "stdout",
          "text": [
            "Epoch :  1\n"
          ]
        },
        {
          "output_type": "stream",
          "name": "stderr",
          "text": [
            "Training: 100%|██████████| 98/98 [00:06<00:00, 15.94it/s]\n",
            "Evaluate: 100%|██████████| 25/25 [00:00<00:00, 36.35it/s]\n"
          ]
        },
        {
          "output_type": "stream",
          "name": "stdout",
          "text": [
            "Train F1 Score (Micro) 0.03529411764705882\n",
            "Val F1 Score (Micro) 0.3232899022801303\n",
            "Train loss 0.08354063541153256\n",
            "Val loss 0.05257988631725311\n",
            "Best model saved\n",
            "------------------------------------------------\n",
            "Epoch :  2\n"
          ]
        },
        {
          "output_type": "stream",
          "name": "stderr",
          "text": [
            "Training: 100%|██████████| 98/98 [00:06<00:00, 15.50it/s]\n",
            "Evaluate: 100%|██████████| 25/25 [00:00<00:00, 36.66it/s]\n"
          ]
        },
        {
          "output_type": "stream",
          "name": "stdout",
          "text": [
            "Train F1 Score (Micro) 0.36773136773136766\n",
            "Val F1 Score (Micro) 0.4171292624900872\n",
            "Train loss 0.0463264345058373\n",
            "Val loss 0.04323911115527153\n",
            "Best model saved\n",
            "------------------------------------------------\n",
            "Epoch :  3\n"
          ]
        },
        {
          "output_type": "stream",
          "name": "stderr",
          "text": [
            "Training: 100%|██████████| 98/98 [00:06<00:00, 15.80it/s]\n",
            "Evaluate: 100%|██████████| 25/25 [00:00<00:00, 37.46it/s]\n"
          ]
        },
        {
          "output_type": "stream",
          "name": "stdout",
          "text": [
            "Train F1 Score (Micro) 0.4174699980326579\n",
            "Val F1 Score (Micro) 0.42013476020610385\n",
            "Train loss 0.040412379162652154\n",
            "Val loss 0.03925469182431698\n",
            "Best model saved\n",
            "------------------------------------------------\n",
            "Epoch :  4\n"
          ]
        },
        {
          "output_type": "stream",
          "name": "stderr",
          "text": [
            "Training: 100%|██████████| 98/98 [00:06<00:00, 16.07it/s]\n",
            "Evaluate: 100%|██████████| 25/25 [00:00<00:00, 36.69it/s]\n"
          ]
        },
        {
          "output_type": "stream",
          "name": "stdout",
          "text": [
            "Train F1 Score (Micro) 0.47848031568321564\n",
            "Val F1 Score (Micro) 0.5212514757969303\n",
            "Train loss 0.03754033976975752\n",
            "Val loss 0.03807700663805008\n",
            "Best model saved\n",
            "------------------------------------------------\n",
            "Epoch :  5\n"
          ]
        },
        {
          "output_type": "stream",
          "name": "stderr",
          "text": [
            "Training: 100%|██████████| 98/98 [00:06<00:00, 15.87it/s]\n",
            "Evaluate: 100%|██████████| 25/25 [00:00<00:00, 37.48it/s]\n"
          ]
        },
        {
          "output_type": "stream",
          "name": "stdout",
          "text": [
            "Train F1 Score (Micro) 0.5525312066574202\n",
            "Val F1 Score (Micro) 0.5744069015097052\n",
            "Train loss 0.033884123823016275\n",
            "Val loss 0.033682283163070675\n",
            "Best model saved\n",
            "------------------------------------------------\n",
            "Epoch :  6\n"
          ]
        },
        {
          "output_type": "stream",
          "name": "stderr",
          "text": [
            "Training: 100%|██████████| 98/98 [00:06<00:00, 16.16it/s]\n",
            "Evaluate: 100%|██████████| 25/25 [00:00<00:00, 36.87it/s]\n"
          ]
        },
        {
          "output_type": "stream",
          "name": "stdout",
          "text": [
            "Train F1 Score (Micro) 0.580978168894906\n",
            "Val F1 Score (Micro) 0.5566106647187729\n",
            "Train loss 0.03174061733012905\n",
            "Val loss 0.03306641146540642\n",
            "Best model saved\n",
            "------------------------------------------------\n",
            "Epoch :  7\n"
          ]
        },
        {
          "output_type": "stream",
          "name": "stderr",
          "text": [
            "Training: 100%|██████████| 98/98 [00:06<00:00, 15.76it/s]\n",
            "Evaluate: 100%|██████████| 25/25 [00:00<00:00, 37.28it/s]\n"
          ]
        },
        {
          "output_type": "stream",
          "name": "stdout",
          "text": [
            "Train F1 Score (Micro) 0.5860707384692935\n",
            "Val F1 Score (Micro) 0.5950960901259112\n",
            "Train loss 0.030972179410294915\n",
            "Val loss 0.03170975908637047\n",
            "Best model saved\n",
            "------------------------------------------------\n",
            "Epoch :  8\n"
          ]
        },
        {
          "output_type": "stream",
          "name": "stderr",
          "text": [
            "Training: 100%|██████████| 98/98 [00:06<00:00, 16.14it/s]\n",
            "Evaluate: 100%|██████████| 25/25 [00:00<00:00, 35.78it/s]\n"
          ]
        },
        {
          "output_type": "stream",
          "name": "stdout",
          "text": [
            "Train F1 Score (Micro) 0.6354021480691973\n",
            "Val F1 Score (Micro) 0.6410003290556103\n",
            "Train loss 0.028070378240806108\n",
            "Val loss 0.02852765507996082\n",
            "Best model saved\n",
            "------------------------------------------------\n",
            "Epoch :  9\n"
          ]
        },
        {
          "output_type": "stream",
          "name": "stderr",
          "text": [
            "Training: 100%|██████████| 98/98 [00:06<00:00, 15.91it/s]\n",
            "Evaluate: 100%|██████████| 25/25 [00:00<00:00, 37.25it/s]\n"
          ]
        },
        {
          "output_type": "stream",
          "name": "stdout",
          "text": [
            "Train F1 Score (Micro) 0.6137154215670035\n",
            "Val F1 Score (Micro) 0.6450992953235106\n",
            "Train loss 0.028917232756407892\n",
            "Val loss 0.028824003376066686\n",
            "------------------------------------------------\n",
            "Epoch :  10\n"
          ]
        },
        {
          "output_type": "stream",
          "name": "stderr",
          "text": [
            "Training: 100%|██████████| 98/98 [00:06<00:00, 16.12it/s]\n",
            "Evaluate: 100%|██████████| 25/25 [00:00<00:00, 35.08it/s]\n"
          ]
        },
        {
          "output_type": "stream",
          "name": "stdout",
          "text": [
            "Train F1 Score (Micro) 0.658970658970659\n",
            "Val F1 Score (Micro) 0.6472361809045226\n",
            "Train loss 0.025884430494387538\n",
            "Val loss 0.02731150809675455\n",
            "Best model saved\n",
            "------------------------------------------------\n",
            "Epoch :  11\n"
          ]
        },
        {
          "output_type": "stream",
          "name": "stderr",
          "text": [
            "Training: 100%|██████████| 98/98 [00:06<00:00, 16.01it/s]\n",
            "Evaluate: 100%|██████████| 25/25 [00:00<00:00, 37.11it/s]\n"
          ]
        },
        {
          "output_type": "stream",
          "name": "stdout",
          "text": [
            "Train F1 Score (Micro) 0.6806390382790256\n",
            "Val F1 Score (Micro) 0.6813186813186813\n",
            "Train loss 0.024440553790072397\n",
            "Val loss 0.024966057501733304\n",
            "Best model saved\n",
            "------------------------------------------------\n",
            "Epoch :  12\n"
          ]
        },
        {
          "output_type": "stream",
          "name": "stderr",
          "text": [
            "Training: 100%|██████████| 98/98 [00:06<00:00, 16.03it/s]\n",
            "Evaluate: 100%|██████████| 25/25 [00:00<00:00, 34.51it/s]\n"
          ]
        },
        {
          "output_type": "stream",
          "name": "stdout",
          "text": [
            "Train F1 Score (Micro) 0.7016613368691991\n",
            "Val F1 Score (Micro) 0.6873190503763753\n",
            "Train loss 0.023142980801283707\n",
            "Val loss 0.027195121720433237\n",
            "------------------------------------------------\n",
            "Epoch :  13\n"
          ]
        },
        {
          "output_type": "stream",
          "name": "stderr",
          "text": [
            "Training: 100%|██████████| 98/98 [00:06<00:00, 15.77it/s]\n",
            "Evaluate: 100%|██████████| 25/25 [00:00<00:00, 37.35it/s]\n"
          ]
        },
        {
          "output_type": "stream",
          "name": "stdout",
          "text": [
            "Train F1 Score (Micro) 0.6972604859928805\n",
            "Val F1 Score (Micro) 0.601407549584133\n",
            "Train loss 0.023844465328266427\n",
            "Val loss 0.03728658862411976\n",
            "------------------------------------------------\n",
            "Epoch :  14\n"
          ]
        },
        {
          "output_type": "stream",
          "name": "stderr",
          "text": [
            "Training: 100%|██████████| 98/98 [00:06<00:00, 15.83it/s]\n",
            "Evaluate: 100%|██████████| 25/25 [00:00<00:00, 34.33it/s]\n"
          ]
        },
        {
          "output_type": "stream",
          "name": "stdout",
          "text": [
            "Train F1 Score (Micro) 0.7019806540764625\n",
            "Val F1 Score (Micro) 0.7082324455205811\n",
            "Train loss 0.02374404516755318\n",
            "Val loss 0.024740982353687286\n",
            "Best model saved\n",
            "------------------------------------------------\n",
            "Epoch :  15\n"
          ]
        },
        {
          "output_type": "stream",
          "name": "stderr",
          "text": [
            "Training: 100%|██████████| 98/98 [00:06<00:00, 15.45it/s]\n",
            "Evaluate: 100%|██████████| 25/25 [00:00<00:00, 37.39it/s]\n"
          ]
        },
        {
          "output_type": "stream",
          "name": "stdout",
          "text": [
            "Train F1 Score (Micro) 0.7233068944478341\n",
            "Val F1 Score (Micro) 0.7121642969984201\n",
            "Train loss 0.02149940968719216\n",
            "Val loss 0.023723126761615275\n",
            "Best model saved\n",
            "------------------------------------------------\n",
            "Epoch :  16\n"
          ]
        },
        {
          "output_type": "stream",
          "name": "stderr",
          "text": [
            "Training: 100%|██████████| 98/98 [00:06<00:00, 15.85it/s]\n",
            "Evaluate: 100%|██████████| 25/25 [00:00<00:00, 36.00it/s]\n"
          ]
        },
        {
          "output_type": "stream",
          "name": "stdout",
          "text": [
            "Train F1 Score (Micro) 0.7460908413998509\n",
            "Val F1 Score (Micro) 0.6959392538791681\n",
            "Train loss 0.02000862111014371\n",
            "Val loss 0.024293319210410117\n",
            "------------------------------------------------\n",
            "Epoch :  17\n"
          ]
        },
        {
          "output_type": "stream",
          "name": "stderr",
          "text": [
            "Training: 100%|██████████| 98/98 [00:06<00:00, 16.00it/s]\n",
            "Evaluate: 100%|██████████| 25/25 [00:00<00:00, 37.20it/s]\n"
          ]
        },
        {
          "output_type": "stream",
          "name": "stdout",
          "text": [
            "Train F1 Score (Micro) 0.7643397065362384\n",
            "Val F1 Score (Micro) 0.7352310988674624\n",
            "Train loss 0.01837846179663831\n",
            "Val loss 0.022459545433521272\n",
            "Best model saved\n",
            "------------------------------------------------\n",
            "Epoch :  18\n"
          ]
        },
        {
          "output_type": "stream",
          "name": "stderr",
          "text": [
            "Training: 100%|██████████| 98/98 [00:06<00:00, 15.73it/s]\n",
            "Evaluate: 100%|██████████| 25/25 [00:00<00:00, 36.98it/s]\n"
          ]
        },
        {
          "output_type": "stream",
          "name": "stdout",
          "text": [
            "Train F1 Score (Micro) 0.7741274603058463\n",
            "Val F1 Score (Micro) 0.7554896142433235\n",
            "Train loss 0.017206257850653967\n",
            "Val loss 0.021221616938710212\n",
            "Best model saved\n",
            "------------------------------------------------\n",
            "Epoch :  19\n"
          ]
        },
        {
          "output_type": "stream",
          "name": "stderr",
          "text": [
            "Training: 100%|██████████| 98/98 [00:06<00:00, 15.99it/s]\n",
            "Evaluate: 100%|██████████| 25/25 [00:00<00:00, 37.32it/s]\n"
          ]
        },
        {
          "output_type": "stream",
          "name": "stdout",
          "text": [
            "Train F1 Score (Micro) 0.7929113924050631\n",
            "Val F1 Score (Micro) 0.7487714987714988\n",
            "Train loss 0.015684336994071395\n",
            "Val loss 0.022850959636270998\n",
            "------------------------------------------------\n",
            "Epoch :  20\n"
          ]
        },
        {
          "output_type": "stream",
          "name": "stderr",
          "text": [
            "Training: 100%|██████████| 98/98 [00:06<00:00, 15.62it/s]\n",
            "Evaluate: 100%|██████████| 25/25 [00:00<00:00, 36.06it/s]\n"
          ]
        },
        {
          "output_type": "stream",
          "name": "stdout",
          "text": [
            "Train F1 Score (Micro) 0.794912331129635\n",
            "Val F1 Score (Micro) 0.7555152614082804\n",
            "Train loss 0.0157984944098458\n",
            "Val loss 0.0211748918145895\n",
            "Best model saved\n",
            "------------------------------------------------\n",
            "Epoch :  21\n"
          ]
        },
        {
          "output_type": "stream",
          "name": "stderr",
          "text": [
            "Training: 100%|██████████| 98/98 [00:06<00:00, 16.05it/s]\n",
            "Evaluate: 100%|██████████| 25/25 [00:00<00:00, 36.64it/s]\n"
          ]
        },
        {
          "output_type": "stream",
          "name": "stdout",
          "text": [
            "Train F1 Score (Micro) 0.8024638303967913\n",
            "Val F1 Score (Micro) 0.7564141261696348\n",
            "Train loss 0.01502128258081419\n",
            "Val loss 0.021552129872143267\n",
            "------------------------------------------------\n",
            "Epoch :  22\n"
          ]
        },
        {
          "output_type": "stream",
          "name": "stderr",
          "text": [
            "Training: 100%|██████████| 98/98 [00:06<00:00, 15.36it/s]\n",
            "Evaluate: 100%|██████████| 25/25 [00:00<00:00, 36.93it/s]\n"
          ]
        },
        {
          "output_type": "stream",
          "name": "stdout",
          "text": [
            "Train F1 Score (Micro) 0.8146407462792851\n",
            "Val F1 Score (Micro) 0.7570036540803898\n",
            "Train loss 0.014092769982217222\n",
            "Val loss 0.020750799477100373\n",
            "Best model saved\n",
            "------------------------------------------------\n",
            "Epoch :  23\n"
          ]
        },
        {
          "output_type": "stream",
          "name": "stderr",
          "text": [
            "Training: 100%|██████████| 98/98 [00:06<00:00, 15.95it/s]\n",
            "Evaluate: 100%|██████████| 25/25 [00:00<00:00, 37.15it/s]\n"
          ]
        },
        {
          "output_type": "stream",
          "name": "stdout",
          "text": [
            "Train F1 Score (Micro) 0.8169252468265162\n",
            "Val F1 Score (Micro) 0.7757430201140799\n",
            "Train loss 0.01358337171033633\n",
            "Val loss 0.02028543684631586\n",
            "Best model saved\n",
            "------------------------------------------------\n",
            "Epoch :  24\n"
          ]
        },
        {
          "output_type": "stream",
          "name": "stderr",
          "text": [
            "Training: 100%|██████████| 98/98 [00:06<00:00, 15.75it/s]\n",
            "Evaluate: 100%|██████████| 25/25 [00:00<00:00, 36.29it/s]\n"
          ]
        },
        {
          "output_type": "stream",
          "name": "stdout",
          "text": [
            "Train F1 Score (Micro) 0.8361218060903046\n",
            "Val F1 Score (Micro) 0.7355658198614319\n",
            "Train loss 0.012428613821500721\n",
            "Val loss 0.02514892566949129\n",
            "------------------------------------------------\n",
            "Epoch :  25\n"
          ]
        },
        {
          "output_type": "stream",
          "name": "stderr",
          "text": [
            "Training: 100%|██████████| 98/98 [00:06<00:00, 15.97it/s]\n",
            "Evaluate: 100%|██████████| 25/25 [00:00<00:00, 35.76it/s]\n"
          ]
        },
        {
          "output_type": "stream",
          "name": "stdout",
          "text": [
            "Train F1 Score (Micro) 0.8093154551870148\n",
            "Val F1 Score (Micro) 0.7837360047142015\n",
            "Train loss 0.014431061508248046\n",
            "Val loss 0.020758309811353685\n",
            "------------------------------------------------\n",
            "Epoch :  26\n"
          ]
        },
        {
          "output_type": "stream",
          "name": "stderr",
          "text": [
            "Training: 100%|██████████| 98/98 [00:06<00:00, 15.78it/s]\n",
            "Evaluate: 100%|██████████| 25/25 [00:00<00:00, 36.67it/s]\n"
          ]
        },
        {
          "output_type": "stream",
          "name": "stdout",
          "text": [
            "Train F1 Score (Micro) 0.8368794326241135\n",
            "Val F1 Score (Micro) 0.7753116448768622\n",
            "Train loss 0.01214760385586747\n",
            "Val loss 0.0210104413703084\n",
            "------------------------------------------------\n",
            "Epoch :  27\n"
          ]
        },
        {
          "output_type": "stream",
          "name": "stderr",
          "text": [
            "Training: 100%|██████████| 98/98 [00:06<00:00, 15.34it/s]\n",
            "Evaluate: 100%|██████████| 25/25 [00:00<00:00, 34.77it/s]\n"
          ]
        },
        {
          "output_type": "stream",
          "name": "stdout",
          "text": [
            "Train F1 Score (Micro) 0.855724822499483\n",
            "Val F1 Score (Micro) 0.7642176452505379\n",
            "Train loss 0.010665731996354856\n",
            "Val loss 0.022356981113553047\n",
            "------------------------------------------------\n",
            "Epoch :  28\n"
          ]
        },
        {
          "output_type": "stream",
          "name": "stderr",
          "text": [
            "Training: 100%|██████████| 98/98 [00:06<00:00, 15.95it/s]\n",
            "Evaluate: 100%|██████████| 25/25 [00:00<00:00, 37.28it/s]\n"
          ]
        },
        {
          "output_type": "stream",
          "name": "stdout",
          "text": [
            "Train F1 Score (Micro) 0.8574187762985445\n",
            "Val F1 Score (Micro) 0.7759595358524248\n",
            "Train loss 0.010378048208789254\n",
            "Val loss 0.02181089572608471\n",
            "------------------------------------------------\n",
            "Epoch :  29\n"
          ]
        },
        {
          "output_type": "stream",
          "name": "stderr",
          "text": [
            "Training: 100%|██████████| 98/98 [00:06<00:00, 15.94it/s]\n",
            "Evaluate: 100%|██████████| 25/25 [00:00<00:00, 34.78it/s]\n"
          ]
        },
        {
          "output_type": "stream",
          "name": "stdout",
          "text": [
            "Train F1 Score (Micro) 0.8626886145404665\n",
            "Val F1 Score (Micro) 0.7508226144181874\n",
            "Train loss 0.010081367431759683\n",
            "Val loss 0.025542031899094583\n",
            "------------------------------------------------\n",
            "Epoch :  30\n"
          ]
        },
        {
          "output_type": "stream",
          "name": "stderr",
          "text": [
            "Training: 100%|██████████| 98/98 [00:06<00:00, 15.95it/s]\n",
            "Evaluate: 100%|██████████| 25/25 [00:00<00:00, 37.44it/s]\n"
          ]
        },
        {
          "output_type": "stream",
          "name": "stdout",
          "text": [
            "Train F1 Score (Micro) 0.8526229283659773\n",
            "Val F1 Score (Micro) 0.7893961708394698\n",
            "Train loss 0.01116702387736616\n",
            "Val loss 0.021260920017957687\n",
            "------------------------------------------------\n",
            "Epoch :  31\n"
          ]
        },
        {
          "output_type": "stream",
          "name": "stderr",
          "text": [
            "Training: 100%|██████████| 98/98 [00:06<00:00, 15.90it/s]\n",
            "Evaluate: 100%|██████████| 25/25 [00:00<00:00, 34.28it/s]\n"
          ]
        },
        {
          "output_type": "stream",
          "name": "stdout",
          "text": [
            "Train F1 Score (Micro) 0.8765364654465992\n",
            "Val F1 Score (Micro) 0.7939237603897965\n",
            "Train loss 0.009264202935773194\n",
            "Val loss 0.020168820507824422\n",
            "Best model saved\n",
            "------------------------------------------------\n",
            "Epoch :  32\n"
          ]
        },
        {
          "output_type": "stream",
          "name": "stderr",
          "text": [
            "Training: 100%|██████████| 98/98 [00:06<00:00, 16.01it/s]\n",
            "Evaluate: 100%|██████████| 25/25 [00:00<00:00, 36.85it/s]\n"
          ]
        },
        {
          "output_type": "stream",
          "name": "stdout",
          "text": [
            "Train F1 Score (Micro) 0.8777076118693556\n",
            "Val F1 Score (Micro) 0.7931034482758621\n",
            "Train loss 0.008873515833663394\n",
            "Val loss 0.02318651232868433\n",
            "------------------------------------------------\n",
            "Epoch :  33\n"
          ]
        },
        {
          "output_type": "stream",
          "name": "stderr",
          "text": [
            "Training: 100%|██████████| 98/98 [00:06<00:00, 15.62it/s]\n",
            "Evaluate: 100%|██████████| 25/25 [00:00<00:00, 35.01it/s]\n"
          ]
        },
        {
          "output_type": "stream",
          "name": "stdout",
          "text": [
            "Train F1 Score (Micro) 0.8876100203114421\n",
            "Val F1 Score (Micro) 0.7852687852687853\n",
            "Train loss 0.008316025525160437\n",
            "Val loss 0.023699321188032627\n",
            "------------------------------------------------\n",
            "Epoch :  34\n"
          ]
        },
        {
          "output_type": "stream",
          "name": "stderr",
          "text": [
            "Training: 100%|██████████| 98/98 [00:06<00:00, 16.06it/s]\n",
            "Evaluate: 100%|██████████| 25/25 [00:00<00:00, 36.71it/s]\n"
          ]
        },
        {
          "output_type": "stream",
          "name": "stdout",
          "text": [
            "Train F1 Score (Micro) 0.8910408342926796\n",
            "Val F1 Score (Micro) 0.7846862406447899\n",
            "Train loss 0.008282136027131001\n",
            "Val loss 0.023329104613512754\n",
            "------------------------------------------------\n",
            "Epoch :  35\n"
          ]
        },
        {
          "output_type": "stream",
          "name": "stderr",
          "text": [
            "Training: 100%|██████████| 98/98 [00:06<00:00, 15.66it/s]\n",
            "Evaluate: 100%|██████████| 25/25 [00:00<00:00, 36.83it/s]\n"
          ]
        },
        {
          "output_type": "stream",
          "name": "stdout",
          "text": [
            "Train F1 Score (Micro) 0.8732260473959395\n",
            "Val F1 Score (Micro) 0.7894117647058825\n",
            "Train loss 0.00973458170691239\n",
            "Val loss 0.021263681538403034\n",
            "------------------------------------------------\n",
            "Epoch :  36\n"
          ]
        },
        {
          "output_type": "stream",
          "name": "stderr",
          "text": [
            "Training: 100%|██████████| 98/98 [00:06<00:00, 16.01it/s]\n",
            "Evaluate: 100%|██████████| 25/25 [00:00<00:00, 36.98it/s]\n"
          ]
        },
        {
          "output_type": "stream",
          "name": "stdout",
          "text": [
            "Train F1 Score (Micro) 0.8920892494929007\n",
            "Val F1 Score (Micro) 0.7928613224107666\n",
            "Train loss 0.008006297522319518\n",
            "Val loss 0.021587849371135236\n",
            "------------------------------------------------\n",
            "Epoch :  37\n"
          ]
        },
        {
          "output_type": "stream",
          "name": "stderr",
          "text": [
            "Training: 100%|██████████| 98/98 [00:06<00:00, 15.68it/s]\n",
            "Evaluate: 100%|██████████| 25/25 [00:00<00:00, 36.60it/s]\n"
          ]
        },
        {
          "output_type": "stream",
          "name": "stdout",
          "text": [
            "Train F1 Score (Micro) 0.8852016727370835\n",
            "Val F1 Score (Micro) 0.7896479085164009\n",
            "Train loss 0.008426992405605103\n",
            "Val loss 0.02498781159520149\n",
            "------------------------------------------------\n",
            "Epoch :  38\n"
          ]
        },
        {
          "output_type": "stream",
          "name": "stderr",
          "text": [
            "Training: 100%|██████████| 98/98 [00:06<00:00, 16.06it/s]\n",
            "Evaluate: 100%|██████████| 25/25 [00:00<00:00, 37.29it/s]\n"
          ]
        },
        {
          "output_type": "stream",
          "name": "stdout",
          "text": [
            "Train F1 Score (Micro) 0.9029569892473117\n",
            "Val F1 Score (Micro) 0.7916167664670658\n",
            "Train loss 0.007260192451732499\n",
            "Val loss 0.022899145297706126\n",
            "------------------------------------------------\n",
            "Epoch :  39\n"
          ]
        },
        {
          "output_type": "stream",
          "name": "stderr",
          "text": [
            "Training: 100%|██████████| 98/98 [00:06<00:00, 15.73it/s]\n",
            "Evaluate: 100%|██████████| 25/25 [00:00<00:00, 36.94it/s]\n"
          ]
        },
        {
          "output_type": "stream",
          "name": "stdout",
          "text": [
            "Train F1 Score (Micro) 0.906522030266506\n",
            "Val F1 Score (Micro) 0.8126221725774924\n",
            "Train loss 0.0069533810470899455\n",
            "Val loss 0.022012754045426845\n",
            "------------------------------------------------\n",
            "Epoch :  40\n"
          ]
        },
        {
          "output_type": "stream",
          "name": "stderr",
          "text": [
            "Training: 100%|██████████| 98/98 [00:06<00:00, 16.07it/s]\n",
            "Evaluate: 100%|██████████| 25/25 [00:00<00:00, 36.14it/s]\n"
          ]
        },
        {
          "output_type": "stream",
          "name": "stdout",
          "text": [
            "Train F1 Score (Micro) 0.9109891580779012\n",
            "Val F1 Score (Micro) 0.7938297241174725\n",
            "Train loss 0.006674515941104263\n",
            "Val loss 0.02275811366736889\n",
            "------------------------------------------------\n",
            "Epoch :  41\n"
          ]
        },
        {
          "output_type": "stream",
          "name": "stderr",
          "text": [
            "Training: 100%|██████████| 98/98 [00:06<00:00, 15.68it/s]\n",
            "Evaluate: 100%|██████████| 25/25 [00:00<00:00, 26.46it/s]\n"
          ]
        },
        {
          "output_type": "stream",
          "name": "stdout",
          "text": [
            "Train F1 Score (Micro) 0.9168843346058536\n",
            "Val F1 Score (Micro) 0.8232280102476516\n",
            "Train loss 0.006223797301609753\n",
            "Val loss 0.02226592127233744\n",
            "------------------------------------------------\n",
            "Epoch :  42\n"
          ]
        },
        {
          "output_type": "stream",
          "name": "stderr",
          "text": [
            "Training: 100%|██████████| 98/98 [00:06<00:00, 16.05it/s]\n",
            "Evaluate: 100%|██████████| 25/25 [00:00<00:00, 37.21it/s]\n"
          ]
        },
        {
          "output_type": "stream",
          "name": "stdout",
          "text": [
            "Train F1 Score (Micro) 0.903191275841306\n",
            "Val F1 Score (Micro) 0.7324595219737856\n",
            "Train loss 0.008012496604945282\n",
            "Val loss 0.03130585663020611\n",
            "------------------------------------------------\n",
            "Epoch :  43\n"
          ]
        },
        {
          "output_type": "stream",
          "name": "stderr",
          "text": [
            "Training: 100%|██████████| 98/98 [00:06<00:00, 15.77it/s]\n",
            "Evaluate: 100%|██████████| 25/25 [00:00<00:00, 36.97it/s]\n"
          ]
        },
        {
          "output_type": "stream",
          "name": "stdout",
          "text": [
            "Train F1 Score (Micro) 0.7990958284814028\n",
            "Val F1 Score (Micro) 0.7744227353463589\n",
            "Train loss 0.016516675231788232\n",
            "Val loss 0.025270476564764978\n",
            "------------------------------------------------\n",
            "Epoch :  44\n"
          ]
        },
        {
          "output_type": "stream",
          "name": "stderr",
          "text": [
            "Training: 100%|██████████| 98/98 [00:06<00:00, 16.10it/s]\n",
            "Evaluate: 100%|██████████| 25/25 [00:00<00:00, 35.13it/s]\n"
          ]
        },
        {
          "output_type": "stream",
          "name": "stdout",
          "text": [
            "Train F1 Score (Micro) 0.8755603858171445\n",
            "Val F1 Score (Micro) 0.8058737151248164\n",
            "Train loss 0.009984113710780382\n",
            "Val loss 0.022717060148715974\n",
            "------------------------------------------------\n",
            "Epoch :  45\n"
          ]
        },
        {
          "output_type": "stream",
          "name": "stderr",
          "text": [
            "Training: 100%|██████████| 98/98 [00:06<00:00, 15.90it/s]\n",
            "Evaluate: 100%|██████████| 25/25 [00:00<00:00, 36.40it/s]\n"
          ]
        },
        {
          "output_type": "stream",
          "name": "stdout",
          "text": [
            "Train F1 Score (Micro) 0.898930804922332\n",
            "Val F1 Score (Micro) 0.8181021897810219\n",
            "Train loss 0.00817219107958241\n",
            "Val loss 0.02195481926202774\n",
            "------------------------------------------------\n",
            "Epoch :  46\n"
          ]
        },
        {
          "output_type": "stream",
          "name": "stderr",
          "text": [
            "Training: 100%|██████████| 98/98 [00:06<00:00, 15.97it/s]\n",
            "Evaluate: 100%|██████████| 25/25 [00:00<00:00, 34.60it/s]\n"
          ]
        },
        {
          "output_type": "stream",
          "name": "stdout",
          "text": [
            "Train F1 Score (Micro) 0.9131075110456555\n",
            "Val F1 Score (Micro) 0.8200058156440825\n",
            "Train loss 0.00667467596703114\n",
            "Val loss 0.021473194528371094\n",
            "------------------------------------------------\n",
            "Epoch :  47\n"
          ]
        },
        {
          "output_type": "stream",
          "name": "stderr",
          "text": [
            "Training: 100%|██████████| 98/98 [00:06<00:00, 15.91it/s]\n",
            "Evaluate: 100%|██████████| 25/25 [00:00<00:00, 36.88it/s]\n"
          ]
        },
        {
          "output_type": "stream",
          "name": "stdout",
          "text": [
            "Train F1 Score (Micro) 0.9166778119566671\n",
            "Val F1 Score (Micro) 0.8198830409356725\n",
            "Train loss 0.006401599938411037\n",
            "Val loss 0.02225299648940563\n",
            "------------------------------------------------\n",
            "Epoch :  48\n"
          ]
        },
        {
          "output_type": "stream",
          "name": "stderr",
          "text": [
            "Training: 100%|██████████| 98/98 [00:06<00:00, 15.97it/s]\n",
            "Evaluate: 100%|██████████| 25/25 [00:00<00:00, 34.30it/s]\n"
          ]
        },
        {
          "output_type": "stream",
          "name": "stdout",
          "text": [
            "Train F1 Score (Micro) 0.9231899545818861\n",
            "Val F1 Score (Micro) 0.8188073394495412\n",
            "Train loss 0.005907903784144746\n",
            "Val loss 0.023108649253845214\n",
            "------------------------------------------------\n",
            "Epoch :  49\n"
          ]
        },
        {
          "output_type": "stream",
          "name": "stderr",
          "text": [
            "Training: 100%|██████████| 98/98 [00:06<00:00, 15.97it/s]\n",
            "Evaluate: 100%|██████████| 25/25 [00:00<00:00, 36.58it/s]\n"
          ]
        },
        {
          "output_type": "stream",
          "name": "stdout",
          "text": [
            "Train F1 Score (Micro) 0.9253592336349121\n",
            "Val F1 Score (Micro) 0.8234617596319724\n",
            "Train loss 0.005749374865649306\n",
            "Val loss 0.023007054422050713\n",
            "------------------------------------------------\n",
            "Epoch :  50\n"
          ]
        },
        {
          "output_type": "stream",
          "name": "stderr",
          "text": [
            "Training: 100%|██████████| 98/98 [00:06<00:00, 15.86it/s]\n",
            "Evaluate: 100%|██████████| 25/25 [00:00<00:00, 34.60it/s]\n"
          ]
        },
        {
          "output_type": "stream",
          "name": "stdout",
          "text": [
            "Train F1 Score (Micro) 0.9265890183028287\n",
            "Val F1 Score (Micro) 0.8238685500144133\n",
            "Train loss 0.005601098891632746\n",
            "Val loss 0.02298755157738924\n",
            "------------------------------------------------\n"
          ]
        }
      ],
      "source": [
        "epochs = 50\n",
        "learning_rate = 0.001\n",
        "\n",
        "magnet_model_head_8 = MAGNET(300, 250, adjacency.to(device), pretrained_embeddings.to(device), num_heads = 8)\n",
        "loss_function = nn.BCEWithLogitsLoss()\n",
        "optimizer = optim.Adam(magnet_model_head_8.parameters(), lr = learning_rate)\n",
        "train_loss_8, val_loss_8, avg_epoch_time_8 = train_model(magnet_model_head_8, label_embedding, loss_function, optimizer, epochs, device, \"reuters_head8.pth\")"
      ]
    },
    {
      "cell_type": "markdown",
      "metadata": {
        "id": "L-WDlBYW54d4"
      },
      "source": [
        "# Evaluation"
      ]
    },
    {
      "cell_type": "code",
      "execution_count": null,
      "metadata": {
        "id": "Duw7ioxD54d5"
      },
      "outputs": [],
      "source": [
        "def test_scores(model, device):\n",
        "\n",
        "    model.eval()\n",
        "\n",
        "    y_true = []\n",
        "    y_pred = []\n",
        "    with torch.no_grad():\n",
        "        for batch in tqdm(dataloader_test, desc='Evaluate'):\n",
        "            sequence_in, output_label = batch\n",
        "            sequence_in, output_label = sequence_in.to(device), output_label.to(device)\n",
        "\n",
        "            pred_batch = model(sequence_in, label_embedding)\n",
        "            pred_batch = (pred_batch > 0.5).float()\n",
        "\n",
        "            y_true.extend(output_label.cpu().detach().numpy().tolist())\n",
        "            y_pred.extend(pred_batch.cpu().detach().numpy().tolist())\n",
        "\n",
        "\n",
        "    y_true = np.array(y_true)\n",
        "    y_pred = np.array(y_pred)\n",
        "\n",
        "    accuracy = metrics.accuracy_score(y_true, y_pred)\n",
        "    f1_score_micro = metrics.f1_score(y_true, y_pred, average='micro')\n",
        "\n",
        "    print('Test Accuracy', accuracy)\n",
        "    print('Test F1 Score (Micro)', f1_score_micro)\n",
        "\n",
        "    print('Classification report')\n",
        "    print(classification_report(y_true, y_pred, zero_division=0))"
      ]
    },
    {
      "cell_type": "code",
      "execution_count": null,
      "metadata": {
        "id": "OV0q50AStWIU",
        "colab": {
          "base_uri": "https://localhost:8080/"
        },
        "outputId": "b834909a-c329-423d-bf9e-b1ceb455355e"
      },
      "outputs": [
        {
          "output_type": "stream",
          "name": "stderr",
          "text": [
            "Evaluate: 100%|██████████| 48/48 [00:00<00:00, 48.03it/s]\n"
          ]
        },
        {
          "output_type": "stream",
          "name": "stdout",
          "text": [
            "Test Accuracy 0.6879761510433918\n",
            "Test F1 Score (Micro) 0.769856819894499\n",
            "Classification report\n",
            "              precision    recall  f1-score   support\n",
            "\n",
            "           0       0.96      0.88      0.92       719\n",
            "           1       0.50      0.04      0.08        23\n",
            "           2       0.33      0.07      0.12        14\n",
            "           3       0.55      0.20      0.29        30\n",
            "           4       1.00      0.17      0.29        18\n",
            "           5       0.00      0.00      0.00         1\n",
            "           6       0.67      0.11      0.19        18\n",
            "           7       0.00      0.00      0.00         2\n",
            "           8       0.00      0.00      0.00         3\n",
            "           9       0.74      0.71      0.73        28\n",
            "          10       0.00      0.00      0.00        18\n",
            "          11       0.00      0.00      0.00         1\n",
            "          12       0.66      0.73      0.69        56\n",
            "          13       1.00      0.05      0.10        20\n",
            "          14       0.00      0.00      0.00         2\n",
            "          15       0.50      0.07      0.12        28\n",
            "          16       0.00      0.00      0.00         1\n",
            "          17       0.90      0.65      0.75       189\n",
            "          18       0.00      0.00      0.00         1\n",
            "          19       0.67      0.64      0.65        44\n",
            "          20       0.00      0.00      0.00         4\n",
            "          21       0.96      0.98      0.97      1087\n",
            "          22       0.00      0.00      0.00        10\n",
            "          23       0.75      0.18      0.29        17\n",
            "          24       0.63      0.49      0.55        35\n",
            "          25       0.79      0.37      0.50        30\n",
            "          26       0.91      0.79      0.85       149\n",
            "          27       0.00      0.00      0.00         4\n",
            "          28       0.00      0.00      0.00         1\n",
            "          29       0.00      0.00      0.00         5\n",
            "          30       0.00      0.00      0.00         6\n",
            "          31       0.00      0.00      0.00         4\n",
            "          32       0.00      0.00      0.00         7\n",
            "          33       0.00      0.00      0.00         1\n",
            "          34       0.75      0.72      0.73       131\n",
            "          35       0.00      0.00      0.00        12\n",
            "          36       0.00      0.00      0.00        14\n",
            "          37       0.00      0.00      0.00         1\n",
            "          38       0.00      0.00      0.00        21\n",
            "          39       0.00      0.00      0.00         2\n",
            "          40       0.00      0.00      0.00        14\n",
            "          41       0.00      0.00      0.00         3\n",
            "          42       0.00      0.00      0.00         1\n",
            "          43       0.40      0.17      0.24        24\n",
            "          44       0.00      0.00      0.00         6\n",
            "          45       0.00      0.00      0.00        19\n",
            "          46       0.76      0.70      0.73       179\n",
            "          47       0.88      0.65      0.75        34\n",
            "          48       0.00      0.00      0.00         4\n",
            "          49       0.00      0.00      0.00        30\n",
            "          50       0.00      0.00      0.00         1\n",
            "          51       0.00      0.00      0.00         2\n",
            "          52       0.00      0.00      0.00         2\n",
            "          53       0.00      0.00      0.00         6\n",
            "          54       0.47      0.38      0.42        47\n",
            "          55       0.00      0.00      0.00        11\n",
            "          56       0.00      0.00      0.00         1\n",
            "          57       0.50      0.10      0.17        10\n",
            "          58       0.00      0.00      0.00         1\n",
            "          59       0.00      0.00      0.00        12\n",
            "          60       0.00      0.00      0.00         7\n",
            "          61       0.00      0.00      0.00         3\n",
            "          62       0.00      0.00      0.00         3\n",
            "          63       0.00      0.00      0.00         1\n",
            "          64       0.00      0.00      0.00         3\n",
            "          65       0.00      0.00      0.00         9\n",
            "          66       1.00      0.28      0.43        18\n",
            "          67       0.00      0.00      0.00         2\n",
            "          68       0.00      0.00      0.00        24\n",
            "          69       1.00      0.08      0.15        12\n",
            "          70       0.00      0.00      0.00         1\n",
            "          71       0.85      0.64      0.73        89\n",
            "          72       0.00      0.00      0.00         8\n",
            "          73       1.00      0.10      0.18        10\n",
            "          74       0.00      0.00      0.00        13\n",
            "          75       0.00      0.00      0.00        11\n",
            "          76       0.69      0.33      0.45        33\n",
            "          77       0.00      0.00      0.00        11\n",
            "          78       0.67      0.22      0.33        36\n",
            "          79       0.00      0.00      0.00         1\n",
            "          80       0.00      0.00      0.00         2\n",
            "          81       1.00      0.20      0.33         5\n",
            "          82       0.00      0.00      0.00         4\n",
            "          83       0.00      0.00      0.00        12\n",
            "          84       0.78      0.53      0.63       117\n",
            "          85       0.78      0.19      0.30        37\n",
            "          86       0.79      0.83      0.81        71\n",
            "          87       0.00      0.00      0.00        10\n",
            "          88       1.00      0.14      0.25        14\n",
            "          89       0.00      0.00      0.00        13\n",
            "\n",
            "   micro avg       0.88      0.68      0.77      3744\n",
            "   macro avg       0.29      0.15      0.17      3744\n",
            "weighted avg       0.78      0.68      0.71      3744\n",
            " samples avg       0.76      0.75      0.75      3744\n",
            "\n"
          ]
        }
      ],
      "source": [
        "best_model_4 = torch.load(\"/content/drive/MyDrive/MLTC_MAGNET_REUTERS/reuters_head4.pth\")\n",
        "test_scores(best_model_4, device)"
      ]
    },
    {
      "cell_type": "code",
      "execution_count": null,
      "metadata": {
        "id": "sLR1jQjE54d6",
        "colab": {
          "base_uri": "https://localhost:8080/"
        },
        "outputId": "cbfda6a3-e923-423b-a2c6-0d18f4b95091"
      },
      "outputs": [
        {
          "output_type": "stream",
          "name": "stderr",
          "text": [
            "Evaluate: 100%|██████████| 48/48 [00:00<00:00, 61.61it/s]\n"
          ]
        },
        {
          "output_type": "stream",
          "name": "stdout",
          "text": [
            "Test Accuracy 0.7071878105332892\n",
            "Test F1 Score (Micro) 0.7769438607024918\n",
            "Classification report\n",
            "              precision    recall  f1-score   support\n",
            "\n",
            "           0       0.98      0.92      0.95       719\n",
            "           1       0.00      0.00      0.00        23\n",
            "           2       0.60      0.21      0.32        14\n",
            "           3       0.50      0.37      0.42        30\n",
            "           4       0.00      0.00      0.00        18\n",
            "           5       0.00      0.00      0.00         1\n",
            "           6       0.71      0.56      0.63        18\n",
            "           7       0.00      0.00      0.00         2\n",
            "           8       0.00      0.00      0.00         3\n",
            "           9       0.96      0.86      0.91        28\n",
            "          10       0.00      0.00      0.00        18\n",
            "          11       0.00      0.00      0.00         1\n",
            "          12       0.61      0.25      0.35        56\n",
            "          13       1.00      0.05      0.10        20\n",
            "          14       0.00      0.00      0.00         2\n",
            "          15       0.50      0.11      0.18        28\n",
            "          16       0.00      0.00      0.00         1\n",
            "          17       0.88      0.79      0.84       189\n",
            "          18       0.00      0.00      0.00         1\n",
            "          19       0.76      0.57      0.65        44\n",
            "          20       0.00      0.00      0.00         4\n",
            "          21       0.97      0.98      0.98      1087\n",
            "          22       0.00      0.00      0.00        10\n",
            "          23       1.00      0.12      0.21        17\n",
            "          24       0.75      0.43      0.55        35\n",
            "          25       1.00      0.03      0.06        30\n",
            "          26       0.90      0.66      0.76       149\n",
            "          27       0.00      0.00      0.00         4\n",
            "          28       0.00      0.00      0.00         1\n",
            "          29       0.00      0.00      0.00         5\n",
            "          30       1.00      0.33      0.50         6\n",
            "          31       0.00      0.00      0.00         4\n",
            "          32       0.00      0.00      0.00         7\n",
            "          33       0.00      0.00      0.00         1\n",
            "          34       0.74      0.66      0.70       131\n",
            "          35       0.00      0.00      0.00        12\n",
            "          36       0.00      0.00      0.00        14\n",
            "          37       0.00      0.00      0.00         1\n",
            "          38       0.00      0.00      0.00        21\n",
            "          39       0.00      0.00      0.00         2\n",
            "          40       0.00      0.00      0.00        14\n",
            "          41       0.00      0.00      0.00         3\n",
            "          42       0.00      0.00      0.00         1\n",
            "          43       0.50      0.12      0.20        24\n",
            "          44       0.00      0.00      0.00         6\n",
            "          45       0.00      0.00      0.00        19\n",
            "          46       0.78      0.65      0.71       179\n",
            "          47       0.92      0.65      0.76        34\n",
            "          48       0.00      0.00      0.00         4\n",
            "          49       0.00      0.00      0.00        30\n",
            "          50       0.00      0.00      0.00         1\n",
            "          51       0.00      0.00      0.00         2\n",
            "          52       0.00      0.00      0.00         2\n",
            "          53       0.00      0.00      0.00         6\n",
            "          54       0.54      0.32      0.40        47\n",
            "          55       0.00      0.00      0.00        11\n",
            "          56       0.00      0.00      0.00         1\n",
            "          57       0.56      0.50      0.53        10\n",
            "          58       0.00      0.00      0.00         1\n",
            "          59       0.00      0.00      0.00        12\n",
            "          60       0.00      0.00      0.00         7\n",
            "          61       0.00      0.00      0.00         3\n",
            "          62       0.00      0.00      0.00         3\n",
            "          63       0.00      0.00      0.00         1\n",
            "          64       0.00      0.00      0.00         3\n",
            "          65       0.00      0.00      0.00         9\n",
            "          66       1.00      0.06      0.11        18\n",
            "          67       0.00      0.00      0.00         2\n",
            "          68       0.50      0.04      0.08        24\n",
            "          69       1.00      0.08      0.15        12\n",
            "          70       0.00      0.00      0.00         1\n",
            "          71       0.76      0.61      0.68        89\n",
            "          72       0.00      0.00      0.00         8\n",
            "          73       0.00      0.00      0.00        10\n",
            "          74       0.00      0.00      0.00        13\n",
            "          75       0.00      0.00      0.00        11\n",
            "          76       0.70      0.21      0.33        33\n",
            "          77       0.00      0.00      0.00        11\n",
            "          78       0.90      0.53      0.67        36\n",
            "          79       0.00      0.00      0.00         1\n",
            "          80       0.00      0.00      0.00         2\n",
            "          81       0.00      0.00      0.00         5\n",
            "          82       0.00      0.00      0.00         4\n",
            "          83       0.00      0.00      0.00        12\n",
            "          84       0.70      0.74      0.72       117\n",
            "          85       0.60      0.41      0.48        37\n",
            "          86       0.57      0.87      0.69        71\n",
            "          87       0.00      0.00      0.00        10\n",
            "          88       1.00      0.14      0.25        14\n",
            "          89       0.00      0.00      0.00        13\n",
            "\n",
            "   micro avg       0.89      0.69      0.78      3744\n",
            "   macro avg       0.28      0.15      0.18      3744\n",
            "weighted avg       0.79      0.69      0.72      3744\n",
            " samples avg       0.78      0.77      0.77      3744\n",
            "\n"
          ]
        }
      ],
      "source": [
        "best_model_2 = torch.load(\"/content/drive/MyDrive/MLTC_MAGNET_REUTERS/reuters_head2.pth\")\n",
        "test_scores(best_model_2, device)"
      ]
    },
    {
      "cell_type": "code",
      "execution_count": null,
      "metadata": {
        "id": "tihShrVitVPb",
        "colab": {
          "base_uri": "https://localhost:8080/"
        },
        "outputId": "0af9c970-8aba-4c90-e24d-4957fd05d6ba"
      },
      "outputs": [
        {
          "output_type": "stream",
          "name": "stderr",
          "text": [
            "Evaluate: 100%|██████████| 48/48 [00:01<00:00, 37.12it/s]\n"
          ]
        },
        {
          "output_type": "stream",
          "name": "stdout",
          "text": [
            "Test Accuracy 0.7005631003643591\n",
            "Test F1 Score (Micro) 0.7655444343342432\n",
            "Classification report\n",
            "              precision    recall  f1-score   support\n",
            "\n",
            "           0       0.95      0.91      0.93       719\n",
            "           1       0.00      0.00      0.00        23\n",
            "           2       0.50      0.07      0.12        14\n",
            "           3       0.36      0.13      0.20        30\n",
            "           4       1.00      0.17      0.29        18\n",
            "           5       0.00      0.00      0.00         1\n",
            "           6       1.00      0.17      0.29        18\n",
            "           7       0.00      0.00      0.00         2\n",
            "           8       0.00      0.00      0.00         3\n",
            "           9       0.62      0.57      0.59        28\n",
            "          10       1.00      0.11      0.20        18\n",
            "          11       0.00      0.00      0.00         1\n",
            "          12       0.69      0.43      0.53        56\n",
            "          13       0.00      0.00      0.00        20\n",
            "          14       0.00      0.00      0.00         2\n",
            "          15       0.75      0.11      0.19        28\n",
            "          16       0.00      0.00      0.00         1\n",
            "          17       0.82      0.69      0.75       189\n",
            "          18       0.00      0.00      0.00         1\n",
            "          19       0.70      0.59      0.64        44\n",
            "          20       0.00      0.00      0.00         4\n",
            "          21       0.96      0.98      0.97      1087\n",
            "          22       0.00      0.00      0.00        10\n",
            "          23       1.00      0.06      0.11        17\n",
            "          24       0.93      0.40      0.56        35\n",
            "          25       0.44      0.37      0.40        30\n",
            "          26       0.96      0.72      0.82       149\n",
            "          27       0.00      0.00      0.00         4\n",
            "          28       0.00      0.00      0.00         1\n",
            "          29       0.00      0.00      0.00         5\n",
            "          30       0.00      0.00      0.00         6\n",
            "          31       0.00      0.00      0.00         4\n",
            "          32       0.00      0.00      0.00         7\n",
            "          33       0.00      0.00      0.00         1\n",
            "          34       0.85      0.60      0.71       131\n",
            "          35       0.00      0.00      0.00        12\n",
            "          36       0.00      0.00      0.00        14\n",
            "          37       0.00      0.00      0.00         1\n",
            "          38       0.00      0.00      0.00        21\n",
            "          39       0.00      0.00      0.00         2\n",
            "          40       0.00      0.00      0.00        14\n",
            "          41       0.00      0.00      0.00         3\n",
            "          42       0.00      0.00      0.00         1\n",
            "          43       0.50      0.25      0.33        24\n",
            "          44       0.00      0.00      0.00         6\n",
            "          45       0.00      0.00      0.00        19\n",
            "          46       0.75      0.65      0.69       179\n",
            "          47       0.85      0.65      0.73        34\n",
            "          48       0.00      0.00      0.00         4\n",
            "          49       0.00      0.00      0.00        30\n",
            "          50       0.00      0.00      0.00         1\n",
            "          51       0.00      0.00      0.00         2\n",
            "          52       0.00      0.00      0.00         2\n",
            "          53       0.00      0.00      0.00         6\n",
            "          54       0.79      0.23      0.36        47\n",
            "          55       0.00      0.00      0.00        11\n",
            "          56       0.00      0.00      0.00         1\n",
            "          57       0.00      0.00      0.00        10\n",
            "          58       0.00      0.00      0.00         1\n",
            "          59       0.00      0.00      0.00        12\n",
            "          60       0.00      0.00      0.00         7\n",
            "          61       0.00      0.00      0.00         3\n",
            "          62       0.00      0.00      0.00         3\n",
            "          63       0.00      0.00      0.00         1\n",
            "          64       0.00      0.00      0.00         3\n",
            "          65       0.00      0.00      0.00         9\n",
            "          66       1.00      0.17      0.29        18\n",
            "          67       0.00      0.00      0.00         2\n",
            "          68       0.00      0.00      0.00        24\n",
            "          69       0.25      0.08      0.12        12\n",
            "          70       0.00      0.00      0.00         1\n",
            "          71       0.77      0.64      0.70        89\n",
            "          72       0.00      0.00      0.00         8\n",
            "          73       0.00      0.00      0.00        10\n",
            "          74       0.00      0.00      0.00        13\n",
            "          75       0.00      0.00      0.00        11\n",
            "          76       0.71      0.15      0.25        33\n",
            "          77       0.00      0.00      0.00        11\n",
            "          78       0.87      0.36      0.51        36\n",
            "          79       0.00      0.00      0.00         1\n",
            "          80       0.00      0.00      0.00         2\n",
            "          81       0.00      0.00      0.00         5\n",
            "          82       0.00      0.00      0.00         4\n",
            "          83       0.00      0.00      0.00        12\n",
            "          84       0.74      0.70      0.72       117\n",
            "          85       1.00      0.05      0.10        37\n",
            "          86       0.64      0.83      0.72        71\n",
            "          87       0.00      0.00      0.00        10\n",
            "          88       1.00      0.14      0.25        14\n",
            "          89       0.00      0.00      0.00        13\n",
            "\n",
            "   micro avg       0.89      0.67      0.77      3744\n",
            "   macro avg       0.26      0.13      0.16      3744\n",
            "weighted avg       0.78      0.67      0.70      3744\n",
            " samples avg       0.77      0.75      0.75      3744\n",
            "\n"
          ]
        }
      ],
      "source": [
        "best_model_8 = torch.load(\"/content/drive/MyDrive/MLTC_MAGNET_REUTERS/reuters_head8.pth\")\n",
        "test_scores(best_model_8, device)"
      ]
    },
    {
      "cell_type": "code",
      "execution_count": null,
      "metadata": {
        "id": "zls3pKXo54d6",
        "colab": {
          "base_uri": "https://localhost:8080/"
        },
        "outputId": "aebb96b5-70da-435d-898f-50502f4b8509"
      },
      "outputs": [
        {
          "output_type": "stream",
          "name": "stdout",
          "text": [
            "MAGNET(\n",
            "  (node_embedding): Embedding(23423, 300)\n",
            "  (rnn): LSTM(300, 250, batch_first=True, bidirectional=True)\n",
            "  (attentions1): ModuleList(\n",
            "    (0-3): 4 x GraphAttentionLayer(\n",
            "      (W): Linear(in_features=300, out_features=500, bias=False)\n",
            "      (a): Linear(in_features=1000, out_features=1, bias=False)\n",
            "      (leakyrelu): LeakyReLU(negative_slope=0.01)\n",
            "      (softmax): Softmax(dim=1)\n",
            "    )\n",
            "  )\n",
            "  (tanh1): Tanh()\n",
            "  (attentions2): ModuleList(\n",
            "    (0-3): 4 x GraphAttentionLayer(\n",
            "      (W): Linear(in_features=500, out_features=500, bias=False)\n",
            "      (a): Linear(in_features=1000, out_features=1, bias=False)\n",
            "      (leakyrelu): LeakyReLU(negative_slope=0.01)\n",
            "      (softmax): Softmax(dim=1)\n",
            "    )\n",
            "  )\n",
            "  (tanh2): Tanh()\n",
            "  (dropout): Dropout(p=0.3, inplace=False)\n",
            ")\n",
            "The model has 2,720,100 trainable parameters\n"
          ]
        }
      ],
      "source": [
        "num_params = sum(p.numel() for p in best_model_4.parameters() if p.requires_grad) \n",
        "\n",
        "print(best_model_4)\n",
        "print(f'The model has {num_params:,} trainable parameters')"
      ]
    },
    {
      "cell_type": "code",
      "execution_count": null,
      "metadata": {
        "id": "VDAPDUYV54d6"
      },
      "outputs": [],
      "source": [
        "# print('Train loss', train_loss)\n",
        "# print('Val loss', val_loss)"
      ]
    },
    {
      "cell_type": "code",
      "execution_count": null,
      "metadata": {
        "id": "FODMavm-54d6"
      },
      "outputs": [],
      "source": [
        "# print('Avg epoch time', round(avg_epoch_time, 2), 'secs')"
      ]
    },
    {
      "cell_type": "code",
      "execution_count": null,
      "metadata": {
        "id": "6KoFYkR55A5E",
        "colab": {
          "base_uri": "https://localhost:8080/",
          "height": 472
        },
        "outputId": "166c6abd-920d-491e-efd6-254b4a0f20a8"
      },
      "outputs": [
        {
          "output_type": "display_data",
          "data": {
            "text/plain": [
              "<Figure size 640x480 with 1 Axes>"
            ],
            "image/png": "[encoded data removed]"
          },
          "metadata": {}
        }
      ],
      "source": [
        "import matplotlib.pyplot as plt\n",
        "\n",
        "plt.plot(val_loss_2, label='2 heads')\n",
        "plt.plot(val_loss_4, label='4 heads')\n",
        "plt.plot(val_loss_8, label='8 heads')\n",
        "\n",
        "plt.title('Validation Loss for different number of heads')\n",
        "plt.xlabel('Epochs')\n",
        "plt.ylabel('Validation Loss')\n",
        "\n",
        "plt.legend()\n",
        "\n",
        "plt.show()"
      ]
    },
    {
      "cell_type": "code",
      "source": [
        "def inference(model, device, label_embedding, sequence_in):\n",
        "\n",
        "    model.eval()\n",
        "\n",
        "    labels_names = ['acq', 'alum', 'barley', 'bop', 'carcass', 'castor-oil', 'cocoa',\n",
        "       'coconut', 'coconut-oil', 'coffee', 'copper', 'copra-cake', 'corn',\n",
        "       'cotton', 'cotton-oil', 'cpi', 'cpu', 'crude', 'dfl', 'dlr', 'dmk',\n",
        "       'earn', 'fuel', 'gas', 'gnp', 'gold', 'grain', 'groundnut',\n",
        "       'groundnut-oil', 'heat', 'hog', 'housing', 'income', 'instal-debt',\n",
        "       'interest', 'ipi', 'iron-steel', 'jet', 'jobs', 'l-cattle', 'lead',\n",
        "       'lei', 'lin-oil', 'livestock', 'lumber', 'meal-feed', 'money-fx',\n",
        "       'money-supply', 'naphtha', 'nat-gas', 'nickel', 'nkr', 'nz-dlr',\n",
        "       'oat', 'oilseed', 'orange', 'palladium', 'palm-oil', 'palm-kernel',\n",
        "       'pet-chem', 'platinum', 'potato', 'propane', 'rand', 'rape-oil',\n",
        "       'rapeseed', 'reserves', 'retail', 'rice', 'rubber', 'rye', 'ship',\n",
        "       'silver', 'sorghum', 'soy-meal', 'soy-oil', 'soybean',\n",
        "       'strategic-metal', 'sugar', 'sun-meal', 'sun-oil', 'sun-seed',\n",
        "       'tea', 'tin', 'trade', 'veg-oil', 'wheat', 'wpi', 'yen', 'zinc']\n",
        "    \n",
        "    with torch.no_grad():\n",
        "            sequence_in = torch.tensor(sequence_in).to(device)\n",
        "\n",
        "            pred_batch = model(sequence_in, label_embedding)\n",
        "\n",
        "            out = torch.sigmoid(pred_batch.cpu().detach()).numpy().tolist()\n",
        "            \n",
        "            out = np.array(out) >= 0.5\n",
        "\n",
        "            pos = []\n",
        "            neg = []\n",
        "\n",
        "            for i, value in enumerate(out[0]) :\n",
        "                if(value == True) :\n",
        "                    pos.append(labels_names[i])\n",
        "                else :\n",
        "                    neg.append(labels_names[i])\n",
        "\n",
        "            print(\"Positive Labels : \", pos)\n",
        "            # print(\"Negative Labels : \", neg)\n",
        "            "
      ],
      "metadata": {
        "id": "QY6ZcBZoseST"
      },
      "execution_count": 22,
      "outputs": []
    },
    {
      "cell_type": "code",
      "source": [
        "with open(\"/content/drive/MyDrive/MLTC_MAGNET_REUTERS/maxlength.pkl\", \"rb\") as f:\n",
        "    maxlen = pickle.load(f)\n",
        "\n",
        "with open(\"/content/drive/MyDrive/MLTC_MAGNET_REUTERS/word2idx.pkl\", \"rb\") as f:\n",
        "    word2idx = pickle.load(f)\n",
        "\n",
        "with open(\"/content/drive/MyDrive/MLTC_MAGNET_REUTERS/label_embedding.pkl\", \"rb\") as f:\n",
        "    label_embed = pickle.load(f)\n",
        "\n",
        "best_model = torch.load('/content/drive/MyDrive/MLTC_MAGNET_REUTERS/reuters_head4.pth')\n",
        "\n",
        "dev = \"cuda\" if torch.cuda.is_available() else \"cpu\""
      ],
      "metadata": {
        "id": "MtAGpGw0pTWw"
      },
      "execution_count": 9,
      "outputs": []
    },
    {
      "cell_type": "code",
      "source": [
        "while True : \n",
        "    sample_sentence = input(\"Enter the sentence : \")\n",
        "    if(sample_sentence == \"exit\") :\n",
        "        break\n",
        "    sample_sentence = data_preprocessing([sample_sentence])\n",
        "    vocab_size = len(word2idx)\n",
        "    sample_sequence = text_to_sequence(sample_sentence, word2idx)\n",
        "    sample_sequence = padding(sample_sequence, maxlen)\n",
        "    inference(best_model, dev, label_embed, sample_sequence)"
      ],
      "metadata": {
        "colab": {
          "base_uri": "https://localhost:8080/"
        },
        "id": "tE1W4bQGr_sp",
        "outputId": "ccdd77bd-bb39-4ba0-f2d0-c972a5dfd349"
      },
      "execution_count": 49,
      "outputs": [
        {
          "name": "stdout",
          "output_type": "stream",
          "text": [
            "Enter the sentence : The stock market rallied after the Fed announced a new interest rate policy.\n",
            "Positive Labels :  ['interest', 'money-fx']\n",
            "Enter the sentence : The pharmaceutical company received approval for a new drug to treat a rare disease.\n",
            "Positive Labels :  ['acq']\n",
            "Enter the sentence : The energy sector experienced a surge in demand for renewable energy sources.\n",
            "Positive Labels :  ['crude']\n",
            "Enter the sentence : The U.S. Federal Reserve is expected to raise interest rates next month, according to analysts.\n",
            "Positive Labels :  ['interest']\n",
            "Enter the sentence : exit\n"
          ]
        }
      ]
    }
  ],
  "metadata": {
    "accelerator": "GPU",
    "colab": {
      "provenance": [],
      "gpuType": "T4"
    },
    "gpuClass": "standard",
    "kernelspec": {
      "display_name": "Python 3",
      "language": "python",
      "name": "python3"
    },
    "language_info": {
      "codemirror_mode": {
        "name": "ipython",
        "version": 3
      },
      "file_extension": ".py",
      "mimetype": "text/x-python",
      "name": "python",
      "nbconvert_exporter": "python",
      "pygments_lexer": "ipython3",
      "version": "3.10.11"
    },
    "vscode": {
      "interpreter": {
        "hash": "7a755c3486a199bb280be05c1d30ef5249180d4344c9bdb63523ed58db47fcbc"
      }
    }
  },
  "nbformat": 4,
  "nbformat_minor": 0
}