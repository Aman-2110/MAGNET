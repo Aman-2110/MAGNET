{
 "cells": [
  {
   "cell_type": "code",
   "execution_count": 1,
   "metadata": {},
   "outputs": [],
   "source": [
    "import os\n",
    "import csv\n",
    "import pandas as pd\n",
    "import numpy as np\n",
    "import matplotlib.pyplot as plt\n",
    "import seaborn as sns\n",
    "import nltk\n",
    "from nltk.corpus import stopwords\n",
    "from nltk.stem import WordNetLemmatizer\n",
    "# nltk.download('punkt')\n",
    "# nltk.download('stopwords')\n",
    "# nltk.download('wordnet')\n",
    "import csv\n",
    "import re\n",
    "import pickle\n",
    "import time\n",
    "from tqdm import tqdm\n",
    "from sklearn import metrics\n",
    "from sklearn.model_selection import train_test_split\n",
    "from sklearn.metrics import classification_report, confusion_matrix, roc_curve, auc\n",
    "\n",
    "import torch\n",
    "import torch.nn as nn\n",
    "import torch.optim as optim\n",
    "from torch.utils.data import DataLoader, Dataset"
   ]
  },
  {
   "cell_type": "code",
   "execution_count": 2,
   "metadata": {},
   "outputs": [
    {
     "name": "stdout",
     "output_type": "stream",
     "text": [
      "Using cuda device\n"
     ]
    }
   ],
   "source": [
    "device = \"cuda\" if torch.cuda.is_available() else \"cpu\"\n",
    "print(f\"Using {device} device\")"
   ]
  },
  {
   "cell_type": "code",
   "execution_count": 3,
   "metadata": {},
   "outputs": [],
   "source": [
    "SEED = 1234\n",
    "\n",
    "np.random.seed(SEED)\n",
    "torch.manual_seed(SEED)\n",
    "torch.cuda.manual_seed(SEED)\n",
    "\n",
    "torch.backends.cudnn.deterministic = True"
   ]
  },
  {
   "cell_type": "code",
   "execution_count": 4,
   "metadata": {},
   "outputs": [],
   "source": [
    "with open('../Dataset/RCV1-V2/rcv1_X_train.pickle', 'rb') as f:\n",
    "    X_train = pickle.load(f)\n",
    "\n",
    "with open('../Dataset/RCV1-V2/rcv1_y_train.pickle', 'rb') as f:\n",
    "    y_train = pickle.load(f)"
   ]
  },
  {
   "cell_type": "code",
   "execution_count": 5,
   "metadata": {},
   "outputs": [],
   "source": [
    "X_train, X_test, y_train, y_test = train_test_split(X_train, y_train, test_size = 0.2)\n",
    "X_train, X_val, y_train, y_val = train_test_split(X_train, y_train, test_size = 0.05)"
   ]
  },
  {
   "cell_type": "code",
   "execution_count": 6,
   "metadata": {},
   "outputs": [
    {
     "name": "stderr",
     "output_type": "stream",
     "text": [
      "100%|██████████| 611354/611354 [00:54<00:00, 11266.08it/s]\n"
     ]
    },
    {
     "data": {
      "image/png": "[encoded data removed]",
      "text/plain": [
       "<Figure size 1600x900 with 1 Axes>"
      ]
     },
     "metadata": {},
     "output_type": "display_data"
    }
   ],
   "source": [
    "labels_count = [0] * 103\n",
    "\n",
    "for label in tqdm(y_train):\n",
    "    for i in range(len(label)):\n",
    "        if label[i] == 1:\n",
    "            labels_count[i] += 1\n",
    "\n",
    "fig, ax = plt.subplots(figsize=(16, 9))\n",
    "ax.bar(np.arange(103), labels_count)\n",
    "ax.tick_params(axis='x', labelrotation=90)\n",
    "ax.set_xticklabels([])\n",
    "plt.show()"
   ]
  },
  {
   "cell_type": "code",
   "execution_count": 7,
   "metadata": {},
   "outputs": [
    {
     "name": "stdout",
     "output_type": "stream",
     "text": [
      "(611354, 200) (611354, 103)\n",
      "(32177, 200) (32177, 103)\n",
      "(160883, 200) (160883, 103)\n"
     ]
    }
   ],
   "source": [
    "X_train, y_train = np.array(X_train), np.array(y_train)\n",
    "X_val, y_val = np.array(X_val), np.array(y_val)\n",
    "X_test, y_test = np.array(X_test), np.array(y_test)\n",
    "\n",
    "\n",
    "print(X_train.shape, y_train.shape)\n",
    "print(X_val.shape, y_val.shape)\n",
    "print(X_test.shape, y_test.shape)"
   ]
  },
  {
   "cell_type": "code",
   "execution_count": 8,
   "metadata": {},
   "outputs": [],
   "source": [
    "max_length = 200"
   ]
  },
  {
   "cell_type": "code",
   "execution_count": 9,
   "metadata": {},
   "outputs": [],
   "source": [
    "# save word2idx, maxlength\n",
    "with open('RCV1-V2_model/maxlength.pkl', 'wb') as f:\n",
    "    pickle.dump(max_length, f)"
   ]
  },
  {
   "cell_type": "code",
   "execution_count": 10,
   "metadata": {},
   "outputs": [],
   "source": [
    "class CustomDataset(Dataset):\n",
    "    def __init__(self, sequence, labels):\n",
    "        self.sequence = sequence\n",
    "        self.labels = labels\n",
    "\n",
    "    def __len__(self):\n",
    "        return len(self.sequence)\n",
    "\n",
    "    def __getitem__(self, idx):\n",
    "        sequence_in = torch.tensor(self.sequence[idx]).float()\n",
    "        output_label = torch.tensor(self.labels[idx]).float()\n",
    "        return sequence_in, output_label"
   ]
  },
  {
   "cell_type": "code",
   "execution_count": 11,
   "metadata": {},
   "outputs": [],
   "source": [
    "batch_size = 64\n",
    "\n",
    "dataset_train = CustomDataset(X_train, y_train)\n",
    "dataloader_train = DataLoader(dataset_train, batch_size=batch_size, shuffle=True)\n",
    "\n",
    "dataset_val = CustomDataset(X_val, y_val)\n",
    "dataloader_val = DataLoader(dataset_val, batch_size=batch_size, shuffle=True)\n",
    "\n",
    "dataset_test = CustomDataset(X_test, y_test)\n",
    "dataloader_test = DataLoader(dataset_test, batch_size=batch_size, shuffle=True)"
   ]
  },
  {
   "cell_type": "code",
   "execution_count": 12,
   "metadata": {},
   "outputs": [],
   "source": [
    "class MLP_MLTC(nn.Module):\n",
    "    def __init__(self, embedding_dim, num_classes, dropout=0.2):\n",
    "        super(MLP_MLTC, self).__init__()\n",
    "\n",
    "        self.fc1 = nn.Linear(embedding_dim, 128)\n",
    "        self.fc2 = nn.Linear(128, 64)\n",
    "        self.fc3 = nn.Linear(64, num_classes)\n",
    "\n",
    "        self.dropout1 = nn.Dropout(dropout)\n",
    "        self.dropout2 = nn.Dropout(dropout)\n",
    "        self.sigmoid = nn.Sigmoid()\n",
    "\n",
    "    def forward(self, sentence):\n",
    "\n",
    "        output = self.fc1(sentence)\n",
    "        output = torch.relu(output)\n",
    "        output = self.dropout1(output)\n",
    "\n",
    "        output = self.fc2(output)\n",
    "        output = torch.relu(output)\n",
    "        output = self.dropout2(output)\n",
    "        \n",
    "        output = self.fc3(output)\n",
    "        output = self.sigmoid(output)\n",
    "\n",
    "        return output"
   ]
  },
  {
   "cell_type": "code",
   "execution_count": 13,
   "metadata": {},
   "outputs": [],
   "source": [
    "num_classes = 103\n",
    "\n",
    "# Hyperparameters\n",
    "embedding_dim = 200\n",
    "dropout = 0.2\n",
    "epochs = 10\n",
    "learning_rate = 0.001\n",
    "\n",
    "\n",
    "model = MLP_MLTC(embedding_dim, num_classes, dropout)\n",
    "loss_function = nn.BCELoss()\n",
    "optimizer = optim.Adam(model.parameters(), lr = learning_rate)"
   ]
  },
  {
   "cell_type": "code",
   "execution_count": 14,
   "metadata": {},
   "outputs": [],
   "source": [
    "def train_model(model, loss_function, optimizer, epochs, device):\n",
    "\n",
    "    train_loss, val_loss = [], []\n",
    "    total_time = 0\n",
    "    min_average_loss = float('inf')\n",
    "    \n",
    "    for epoch in range(epochs):\n",
    "        start_time = time.time()\n",
    "\n",
    "        print(\"Epoch : \", epoch + 1)\n",
    "\n",
    "        model.to(device)\n",
    "        model.train()\n",
    "        total_train_loss = 0\n",
    "        y_true_train, y_pred_train = [], []\n",
    "        for batch in tqdm(dataloader_train, desc='Training'):\n",
    "            sequence_in, output_label = batch\n",
    "            sequence_in, output_label = sequence_in.to(device), output_label.to(device)\n",
    "\n",
    "            model.zero_grad()\n",
    "            pred_batch = model(sequence_in)\n",
    "            loss = loss_function(pred_batch, output_label)\n",
    "            total_train_loss += loss.item()\n",
    "\n",
    "            y_true_train.extend(output_label.cpu().detach().numpy().tolist())\n",
    "            y_pred_train.extend(pred_batch.cpu().detach().numpy().tolist())\n",
    "\n",
    "            loss.backward()\n",
    "            optimizer.step()\n",
    "        \n",
    "\n",
    "        model.eval()        \n",
    "        total_val_loss = 0\n",
    "        y_true_val, y_pred_val = [], []\n",
    "        with torch.no_grad():\n",
    "            for batch in tqdm(dataloader_val, desc='Evaluate'):\n",
    "                sequence_in, output_label = batch\n",
    "                sequence_in, output_label = sequence_in.to(device), output_label.to(device)\n",
    "\n",
    "                pred_batch = model(sequence_in)\n",
    "                loss = loss_function(pred_batch, output_label)\n",
    "                total_val_loss += loss.item()\n",
    "\n",
    "                y_true_val.extend(output_label.cpu().detach().numpy().tolist())\n",
    "                y_pred_val.extend(pred_batch.cpu().detach().numpy().tolist())\n",
    "\n",
    "        y_true_train = np.array(y_true_train)\n",
    "        y_pred_train = np.array(y_pred_train)\n",
    "        y_true_val = np.array(y_true_val)\n",
    "        y_pred_val = np.array(y_pred_val)\n",
    "\n",
    "        y_pred_train = y_pred_train >= 0.5\n",
    "        y_pred_val = y_pred_val >= 0.5\n",
    "\n",
    "        train_f1_score_micro = metrics.f1_score(y_true_train, y_pred_train, average='micro')\n",
    "        val_f1_score_micro = metrics.f1_score(y_true_val, y_pred_val, average='micro')\n",
    "\n",
    "        average_train_loss = float(total_train_loss / len(dataloader_train))\n",
    "        average_val_loss = float(total_val_loss / len(dataloader_val))\n",
    "\n",
    "        print('Train F1 Score (Micro)', train_f1_score_micro)\n",
    "        print('Val F1 Score (Micro)', val_f1_score_micro)\n",
    "        print('Train loss', average_train_loss)\n",
    "        print('Val loss', average_val_loss)\n",
    "\n",
    "        train_loss.append(average_train_loss)\n",
    "        val_loss.append(average_val_loss)\n",
    "\n",
    "        if average_val_loss < min_average_loss:\n",
    "            min_average_loss = average_val_loss\n",
    "            torch.save(model, 'RCV1-V2_model/model.pth')\n",
    "            print(\"Best model saved\")\n",
    "            \n",
    "        print(\"------------------------------------------------\")\n",
    "\n",
    "        end_time = time.time()\n",
    "        epoch_time = end_time - start_time\n",
    "        total_time += epoch_time\n",
    "\n",
    "    avg_epoch_time = total_time / epochs\n",
    "    return train_loss, val_loss, avg_epoch_time"
   ]
  },
  {
   "cell_type": "code",
   "execution_count": 15,
   "metadata": {},
   "outputs": [
    {
     "name": "stdout",
     "output_type": "stream",
     "text": [
      "Epoch :  1\n"
     ]
    },
    {
     "name": "stderr",
     "output_type": "stream",
     "text": [
      "Training: 100%|██████████| 9553/9553 [03:02<00:00, 52.23it/s] \n",
      "Evaluate: 100%|██████████| 503/503 [00:02<00:00, 208.52it/s]\n"
     ]
    },
    {
     "name": "stdout",
     "output_type": "stream",
     "text": [
      "Train F1 Score (Micro) 0.711706103938423\n",
      "Val F1 Score (Micro) 0.8137680813481644\n",
      "Train loss 0.047990333165875546\n",
      "Val loss 0.030168786200566983\n",
      "Best model saved\n",
      "------------------------------------------------\n",
      "Epoch :  2\n"
     ]
    },
    {
     "name": "stderr",
     "output_type": "stream",
     "text": [
      "Training: 100%|██████████| 9553/9553 [01:50<00:00, 86.64it/s] \n",
      "Evaluate: 100%|██████████| 503/503 [00:02<00:00, 212.85it/s]\n"
     ]
    },
    {
     "name": "stdout",
     "output_type": "stream",
     "text": [
      "Train F1 Score (Micro) 0.8070012763431613\n",
      "Val F1 Score (Micro) 0.8323448064718673\n",
      "Train loss 0.032236044814851685\n",
      "Val loss 0.02740019929426802\n",
      "Best model saved\n",
      "------------------------------------------------\n",
      "Epoch :  3\n"
     ]
    },
    {
     "name": "stderr",
     "output_type": "stream",
     "text": [
      "Training: 100%|██████████| 9553/9553 [02:07<00:00, 75.10it/s] \n",
      "Evaluate: 100%|██████████| 503/503 [00:02<00:00, 183.33it/s]\n"
     ]
    },
    {
     "name": "stdout",
     "output_type": "stream",
     "text": [
      "Train F1 Score (Micro) 0.8176328723198457\n",
      "Val F1 Score (Micro) 0.8385341522733831\n",
      "Train loss 0.030625738278982854\n",
      "Val loss 0.02644133876831406\n",
      "Best model saved\n",
      "------------------------------------------------\n",
      "Epoch :  4\n"
     ]
    },
    {
     "name": "stderr",
     "output_type": "stream",
     "text": [
      "Training: 100%|██████████| 9553/9553 [02:11<00:00, 72.67it/s] \n",
      "Evaluate: 100%|██████████| 503/503 [00:02<00:00, 204.26it/s]\n"
     ]
    },
    {
     "name": "stdout",
     "output_type": "stream",
     "text": [
      "Train F1 Score (Micro) 0.8224018579912588\n",
      "Val F1 Score (Micro) 0.84049152516153\n",
      "Train loss 0.029869343845531894\n",
      "Val loss 0.025941791314683542\n",
      "Best model saved\n",
      "------------------------------------------------\n",
      "Epoch :  5\n"
     ]
    },
    {
     "name": "stderr",
     "output_type": "stream",
     "text": [
      "Training: 100%|██████████| 9553/9553 [02:04<00:00, 76.62it/s] \n",
      "Evaluate: 100%|██████████| 503/503 [00:02<00:00, 211.67it/s]\n"
     ]
    },
    {
     "name": "stdout",
     "output_type": "stream",
     "text": [
      "Train F1 Score (Micro) 0.8243759073341481\n",
      "Val F1 Score (Micro) 0.8430399876882039\n",
      "Train loss 0.02950721516765363\n",
      "Val loss 0.02569242294648177\n",
      "Best model saved\n",
      "------------------------------------------------\n",
      "Epoch :  6\n"
     ]
    },
    {
     "name": "stderr",
     "output_type": "stream",
     "text": [
      "Training: 100%|██████████| 9553/9553 [01:40<00:00, 95.12it/s] \n",
      "Evaluate: 100%|██████████| 503/503 [00:39<00:00, 12.78it/s] \n"
     ]
    },
    {
     "name": "stdout",
     "output_type": "stream",
     "text": [
      "Train F1 Score (Micro) 0.8261908321200777\n",
      "Val F1 Score (Micro) 0.8438297894201476\n",
      "Train loss 0.029246181053760992\n",
      "Val loss 0.025529550181083365\n",
      "Best model saved\n",
      "------------------------------------------------\n",
      "Epoch :  7\n"
     ]
    },
    {
     "name": "stderr",
     "output_type": "stream",
     "text": [
      "Training: 100%|██████████| 9553/9553 [01:49<00:00, 87.57it/s] \n",
      "Evaluate: 100%|██████████| 503/503 [00:03<00:00, 155.70it/s]\n"
     ]
    },
    {
     "name": "stdout",
     "output_type": "stream",
     "text": [
      "Train F1 Score (Micro) 0.8272427227134908\n",
      "Val F1 Score (Micro) 0.8447991787501604\n",
      "Train loss 0.02906431544101823\n",
      "Val loss 0.025360902984280353\n",
      "Best model saved\n",
      "------------------------------------------------\n",
      "Epoch :  8\n"
     ]
    },
    {
     "name": "stderr",
     "output_type": "stream",
     "text": [
      "Training: 100%|██████████| 9553/9553 [02:16<00:00, 70.13it/s] \n",
      "Evaluate: 100%|██████████| 503/503 [00:02<00:00, 225.85it/s]\n"
     ]
    },
    {
     "name": "stdout",
     "output_type": "stream",
     "text": [
      "Train F1 Score (Micro) 0.8281200338768213\n",
      "Val F1 Score (Micro) 0.8445940044696755\n",
      "Train loss 0.02891180188754139\n",
      "Val loss 0.02526402560101589\n",
      "Best model saved\n",
      "------------------------------------------------\n",
      "Epoch :  9\n"
     ]
    },
    {
     "name": "stderr",
     "output_type": "stream",
     "text": [
      "Training: 100%|██████████| 9553/9553 [01:39<00:00, 96.34it/s] \n",
      "Evaluate: 100%|██████████| 503/503 [00:02<00:00, 216.49it/s]\n"
     ]
    },
    {
     "name": "stdout",
     "output_type": "stream",
     "text": [
      "Train F1 Score (Micro) 0.8287575006467647\n",
      "Val F1 Score (Micro) 0.845763033369733\n",
      "Train loss 0.028790830186275047\n",
      "Val loss 0.025245329368837312\n",
      "Best model saved\n",
      "------------------------------------------------\n",
      "Epoch :  10\n"
     ]
    },
    {
     "name": "stderr",
     "output_type": "stream",
     "text": [
      "Training: 100%|██████████| 9553/9553 [02:20<00:00, 68.23it/s] \n",
      "Evaluate: 100%|██████████| 503/503 [00:02<00:00, 224.57it/s]\n"
     ]
    },
    {
     "name": "stdout",
     "output_type": "stream",
     "text": [
      "Train F1 Score (Micro) 0.8292609496547222\n",
      "Val F1 Score (Micro) 0.8465004690647925\n",
      "Train loss 0.02870226881077723\n",
      "Val loss 0.025123247658282104\n",
      "Best model saved\n",
      "------------------------------------------------\n"
     ]
    }
   ],
   "source": [
    "train_loss, val_loss, avg_epoch_time = train_model(model, loss_function, optimizer, epochs, device)"
   ]
  },
  {
   "attachments": {},
   "cell_type": "markdown",
   "metadata": {},
   "source": [
    "# Evaluation"
   ]
  },
  {
   "cell_type": "code",
   "execution_count": 16,
   "metadata": {},
   "outputs": [],
   "source": [
    "def test_scores(model, device):\n",
    "\n",
    "    model.eval()\n",
    "\n",
    "    y_true = []\n",
    "    y_pred = []\n",
    "    with torch.no_grad():\n",
    "        for batch in tqdm(dataloader_test, desc='Evaluate'):\n",
    "            sequence_in, output_label = batch\n",
    "            sequence_in, output_label = sequence_in.to(device), output_label.to(device)\n",
    "\n",
    "            pred_batch = model(sequence_in)\n",
    "            pred_batch = (pred_batch > 0.5).float()\n",
    "\n",
    "            y_true.extend(output_label.cpu().detach().numpy().tolist())\n",
    "            y_pred.extend(pred_batch.cpu().detach().numpy().tolist())\n",
    "\n",
    "\n",
    "    y_true = np.array(y_true)\n",
    "    y_pred = np.array(y_pred)\n",
    "\n",
    "    accuracy = metrics.accuracy_score(y_true, y_pred)\n",
    "    f1_score_micro = metrics.f1_score(y_true, y_pred, average='micro')\n",
    "\n",
    "    print('Test Accuracy', accuracy)\n",
    "    print('Test F1 Score (Micro)', f1_score_micro)\n",
    "\n",
    "    print('Classification report')\n",
    "    print(classification_report(y_true, y_pred, zero_division=0))"
   ]
  },
  {
   "cell_type": "code",
   "execution_count": 17,
   "metadata": {},
   "outputs": [
    {
     "name": "stderr",
     "output_type": "stream",
     "text": [
      "Evaluate: 100%|██████████| 2514/2514 [00:11<00:00, 213.36it/s]\n"
     ]
    },
    {
     "name": "stdout",
     "output_type": "stream",
     "text": [
      "Test Accuracy 0.5985840641957199\n",
      "Test F1 Score (Micro) 0.8449079842683609\n",
      "Classification report\n",
      "              precision    recall  f1-score   support\n",
      "\n",
      "           0       0.70      0.21      0.32      4838\n",
      "           1       0.81      0.61      0.70      2460\n",
      "           2       0.75      0.28      0.41      7672\n",
      "           3       0.76      0.31      0.44      1573\n",
      "           4       0.94      0.92      0.93     30397\n",
      "           5       0.95      0.88      0.91     16497\n",
      "           6       0.90      0.77      0.83      4692\n",
      "           7       0.88      0.80      0.84     14532\n",
      "           8       0.79      0.06      0.11       382\n",
      "           9       0.87      0.73      0.79      8390\n",
      "          10       0.85      0.66      0.74      3652\n",
      "          11       0.89      0.75      0.81      2301\n",
      "          12       0.75      0.54      0.63       519\n",
      "          13       0.94      0.90      0.92      1154\n",
      "          14       0.88      0.79      0.83     10604\n",
      "          15       0.83      0.76      0.79      8717\n",
      "          16       0.89      0.13      0.23       919\n",
      "          17       0.83      0.52      0.64      1485\n",
      "          18       0.83      0.31      0.46      5143\n",
      "          19       0.72      0.08      0.15      1214\n",
      "          20       0.72      0.16      0.26       510\n",
      "          21       0.79      0.46      0.58      6346\n",
      "          22       0.77      0.47      0.58      8074\n",
      "          23       0.88      0.02      0.03       886\n",
      "          24       0.69      0.08      0.14      1329\n",
      "          25       0.00      0.00      0.00       231\n",
      "          26       0.88      0.04      0.07       428\n",
      "          27       0.85      0.41      0.55      3051\n",
      "          28       0.80      0.48      0.60       223\n",
      "          29       0.81      0.27      0.41      1009\n",
      "          30       0.89      0.74      0.81      2290\n",
      "          31       0.88      0.79      0.84      2071\n",
      "          32       0.81      0.71      0.76      2308\n",
      "          33       0.95      0.95      0.95     76282\n",
      "          34       0.85      0.43      0.57      1742\n",
      "          35       0.77      0.49      0.60      5397\n",
      "          36       0.91      0.60      0.73       440\n",
      "          37       0.88      0.72      0.79      1314\n",
      "          38       0.85      0.68      0.75      1125\n",
      "          39       0.88      0.41      0.56       193\n",
      "          40       0.88      0.31      0.46       439\n",
      "          41       0.00      0.00      0.00        76\n",
      "          42       0.67      0.05      0.09        44\n",
      "          43       0.87      0.49      0.63       241\n",
      "          44       0.90      0.78      0.84      8729\n",
      "          45       0.82      0.66      0.73      3160\n",
      "          46       0.93      0.78      0.85      5575\n",
      "          47       0.82      0.58      0.68       478\n",
      "          48       0.79      0.64      0.71       335\n",
      "          49       0.00      0.00      0.00         6\n",
      "          50       0.00      0.00      0.00        16\n",
      "          51       0.85      0.75      0.80      3348\n",
      "          52       0.69      0.54      0.60       435\n",
      "          53       0.83      0.54      0.65      4276\n",
      "          54       0.69      0.18      0.29       573\n",
      "          55       0.81      0.55      0.65      2549\n",
      "          56       0.88      0.70      0.78       464\n",
      "          57       0.88      0.29      0.44        75\n",
      "          58       0.97      0.92      0.95      1086\n",
      "          59       0.90      0.81      0.85     24004\n",
      "          60       0.87      0.87      0.87      4115\n",
      "          61       0.48      0.04      0.08       676\n",
      "          62       0.33      0.00      0.00       407\n",
      "          63       0.76      0.49      0.59       463\n",
      "          64       0.82      0.83      0.82      1635\n",
      "          65       0.00      0.00      0.00       415\n",
      "          66       0.00      0.00      0.00        63\n",
      "          67       0.77      0.69      0.72       424\n",
      "          68       0.80      0.57      0.67       867\n",
      "          69       0.00      0.00      0.00         7\n",
      "          70       0.94      0.94      0.94     47756\n",
      "          71       0.81      0.74      0.77      6463\n",
      "          72       0.79      0.32      0.46      1714\n",
      "          73       0.83      0.68      0.74      7456\n",
      "          74       0.85      0.62      0.72      1713\n",
      "          75       0.69      0.14      0.23       748\n",
      "          76       0.63      0.08      0.15      1277\n",
      "          77       0.00      0.00      0.00        59\n",
      "          78       0.78      0.36      0.49      1256\n",
      "          79       0.86      0.75      0.80      3385\n",
      "          80       0.00      0.00      0.00         0\n",
      "          81       0.00      0.00      0.00       166\n",
      "          82       0.00      0.00      0.00       592\n",
      "          83       0.82      0.68      0.74     11247\n",
      "          84       0.71      0.14      0.23      1133\n",
      "          85       0.81      0.02      0.04       562\n",
      "          86       0.88      0.36      0.51       452\n",
      "          87       0.98      0.97      0.97      7166\n",
      "          88       0.75      0.02      0.04       141\n",
      "          89       0.85      0.66      0.74      6458\n",
      "          90       0.77      0.61      0.68      2248\n",
      "          91       0.81      0.68      0.74       748\n",
      "          92       0.00      0.00      0.00       389\n",
      "          93       0.94      0.91      0.92      9860\n",
      "          94       0.88      0.82      0.85      5304\n",
      "          95       0.92      0.89      0.90     10683\n",
      "          96       0.92      0.82      0.87      5582\n",
      "          97       0.89      0.85      0.87      5348\n",
      "          98       0.94      0.95      0.94     16980\n",
      "          99       0.92      0.96      0.94      9322\n",
      "         100       0.91      0.87      0.89      2473\n",
      "         101       0.95      0.86      0.90      4429\n",
      "         102       0.95      0.94      0.94     40994\n",
      "\n",
      "   micro avg       0.91      0.79      0.84    521475\n",
      "   macro avg       0.73      0.49      0.55    521475\n",
      "weighted avg       0.89      0.79      0.83    521475\n",
      " samples avg       0.92      0.83      0.85    521475\n",
      "\n"
     ]
    }
   ],
   "source": [
    "model = torch.load('RCV1-V2_model/model.pth')\n",
    "test_scores(model, device)"
   ]
  },
  {
   "cell_type": "code",
   "execution_count": 18,
   "metadata": {},
   "outputs": [
    {
     "name": "stdout",
     "output_type": "stream",
     "text": [
      "MLP_MLTC(\n",
      "  (fc1): Linear(in_features=200, out_features=128, bias=True)\n",
      "  (fc2): Linear(in_features=128, out_features=64, bias=True)\n",
      "  (fc3): Linear(in_features=64, out_features=103, bias=True)\n",
      "  (dropout1): Dropout(p=0.2, inplace=False)\n",
      "  (dropout2): Dropout(p=0.2, inplace=False)\n",
      "  (sigmoid): Sigmoid()\n",
      ")\n",
      "The model has 40,679 trainable parameters\n"
     ]
    }
   ],
   "source": [
    "num_params = sum(p.numel() for p in model.parameters() if p.requires_grad) \n",
    "\n",
    "print(model)\n",
    "print(f'The model has {num_params:,} trainable parameters')"
   ]
  },
  {
   "cell_type": "code",
   "execution_count": 19,
   "metadata": {},
   "outputs": [
    {
     "name": "stdout",
     "output_type": "stream",
     "text": [
      "Train loss [0.047990333165875546, 0.032236044814851685, 0.030625738278982854, 0.029869343845531894, 0.02950721516765363, 0.029246181053760992, 0.02906431544101823, 0.02891180188754139, 0.028790830186275047, 0.02870226881077723]\n",
      "Val loss [0.030168786200566983, 0.02740019929426802, 0.02644133876831406, 0.025941791314683542, 0.02569242294648177, 0.025529550181083365, 0.025360902984280353, 0.02526402560101589, 0.025245329368837312, 0.025123247658282104]\n"
     ]
    }
   ],
   "source": [
    "print('Train loss', train_loss)\n",
    "print('Val loss', val_loss)"
   ]
  },
  {
   "cell_type": "code",
   "execution_count": 20,
   "metadata": {},
   "outputs": [
    {
     "name": "stdout",
     "output_type": "stream",
     "text": [
      "Avg epoch time 172.03 secs\n"
     ]
    }
   ],
   "source": [
    "print('Avg epoch time', round(avg_epoch_time, 2), 'secs')"
   ]
  }
 ],
 "metadata": {
  "kernelspec": {
   "display_name": "Python 3",
   "language": "python",
   "name": "python3"
  },
  "language_info": {
   "codemirror_mode": {
    "name": "ipython",
    "version": 3
   },
   "file_extension": ".py",
   "mimetype": "text/x-python",
   "name": "python",
   "nbconvert_exporter": "python",
   "pygments_lexer": "ipython3",
   "version": "3.10.11"
  },
  "orig_nbformat": 4,
  "vscode": {
   "interpreter": {
    "hash": "7a755c3486a199bb280be05c1d30ef5249180d4344c9bdb63523ed58db47fcbc"
   }
  }
 },
 "nbformat": 4,
 "nbformat_minor": 2
}
