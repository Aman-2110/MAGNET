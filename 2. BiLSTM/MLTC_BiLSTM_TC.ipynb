{
 "cells": [
  {
   "cell_type": "code",
   "execution_count": 1,
   "metadata": {},
   "outputs": [],
   "source": [
    "import os\n",
    "import csv\n",
    "import pandas as pd\n",
    "import numpy as np\n",
    "import matplotlib.pyplot as plt\n",
    "import seaborn as sns\n",
    "import nltk\n",
    "from nltk.corpus import stopwords\n",
    "from nltk.stem import WordNetLemmatizer\n",
    "# nltk.download('punkt')\n",
    "# nltk.download('stopwords')\n",
    "# nltk.download('wordnet')\n",
    "import csv\n",
    "import re\n",
    "import pickle\n",
    "import time\n",
    "from tqdm import tqdm\n",
    "from sklearn import metrics\n",
    "from sklearn.model_selection import train_test_split\n",
    "from sklearn.metrics import classification_report, confusion_matrix, roc_curve, auc\n",
    "\n",
    "import torch\n",
    "import torch.nn as nn\n",
    "import torch.optim as optim\n",
    "from torch.utils.data import DataLoader, Dataset"
   ]
  },
  {
   "cell_type": "code",
   "execution_count": 2,
   "metadata": {},
   "outputs": [
    {
     "name": "stdout",
     "output_type": "stream",
     "text": [
      "Using cuda device\n"
     ]
    }
   ],
   "source": [
    "device = \"cuda\" if torch.cuda.is_available() else \"cpu\"\n",
    "print(f\"Using {device} device\")"
   ]
  },
  {
   "cell_type": "code",
   "execution_count": 3,
   "metadata": {},
   "outputs": [],
   "source": [
    "SEED = 1234\n",
    "\n",
    "np.random.seed(SEED)\n",
    "torch.manual_seed(SEED)\n",
    "torch.cuda.manual_seed(SEED)\n",
    "\n",
    "torch.backends.cudnn.deterministic = True"
   ]
  },
  {
   "cell_type": "code",
   "execution_count": 4,
   "metadata": {},
   "outputs": [
    {
     "data": {
      "text/html": [
       "<div>\n",
       "<style scoped>\n",
       "    .dataframe tbody tr th:only-of-type {\n",
       "        vertical-align: middle;\n",
       "    }\n",
       "\n",
       "    .dataframe tbody tr th {\n",
       "        vertical-align: top;\n",
       "    }\n",
       "\n",
       "    .dataframe thead th {\n",
       "        text-align: right;\n",
       "    }\n",
       "</style>\n",
       "<table border=\"1\" class=\"dataframe\">\n",
       "  <thead>\n",
       "    <tr style=\"text-align: right;\">\n",
       "      <th></th>\n",
       "      <th>id</th>\n",
       "      <th>comment_text</th>\n",
       "      <th>toxic</th>\n",
       "      <th>severe_toxic</th>\n",
       "      <th>obscene</th>\n",
       "      <th>threat</th>\n",
       "      <th>insult</th>\n",
       "      <th>identity_hate</th>\n",
       "    </tr>\n",
       "  </thead>\n",
       "  <tbody>\n",
       "    <tr>\n",
       "      <th>0</th>\n",
       "      <td>0000997932d777bf</td>\n",
       "      <td>Explanation\\nWhy the edits made under my usern...</td>\n",
       "      <td>0</td>\n",
       "      <td>0</td>\n",
       "      <td>0</td>\n",
       "      <td>0</td>\n",
       "      <td>0</td>\n",
       "      <td>0</td>\n",
       "    </tr>\n",
       "    <tr>\n",
       "      <th>1</th>\n",
       "      <td>000103f0d9cfb60f</td>\n",
       "      <td>D'aww! He matches this background colour I'm s...</td>\n",
       "      <td>0</td>\n",
       "      <td>0</td>\n",
       "      <td>0</td>\n",
       "      <td>0</td>\n",
       "      <td>0</td>\n",
       "      <td>0</td>\n",
       "    </tr>\n",
       "    <tr>\n",
       "      <th>2</th>\n",
       "      <td>000113f07ec002fd</td>\n",
       "      <td>Hey man, I'm really not trying to edit war. It...</td>\n",
       "      <td>0</td>\n",
       "      <td>0</td>\n",
       "      <td>0</td>\n",
       "      <td>0</td>\n",
       "      <td>0</td>\n",
       "      <td>0</td>\n",
       "    </tr>\n",
       "    <tr>\n",
       "      <th>3</th>\n",
       "      <td>0001b41b1c6bb37e</td>\n",
       "      <td>\"\\nMore\\nI can't make any real suggestions on ...</td>\n",
       "      <td>0</td>\n",
       "      <td>0</td>\n",
       "      <td>0</td>\n",
       "      <td>0</td>\n",
       "      <td>0</td>\n",
       "      <td>0</td>\n",
       "    </tr>\n",
       "    <tr>\n",
       "      <th>4</th>\n",
       "      <td>0001d958c54c6e35</td>\n",
       "      <td>You, sir, are my hero. Any chance you remember...</td>\n",
       "      <td>0</td>\n",
       "      <td>0</td>\n",
       "      <td>0</td>\n",
       "      <td>0</td>\n",
       "      <td>0</td>\n",
       "      <td>0</td>\n",
       "    </tr>\n",
       "  </tbody>\n",
       "</table>\n",
       "</div>"
      ],
      "text/plain": [
       "                 id                                       comment_text  toxic  \\\n",
       "0  0000997932d777bf  Explanation\\nWhy the edits made under my usern...      0   \n",
       "1  000103f0d9cfb60f  D'aww! He matches this background colour I'm s...      0   \n",
       "2  000113f07ec002fd  Hey man, I'm really not trying to edit war. It...      0   \n",
       "3  0001b41b1c6bb37e  \"\\nMore\\nI can't make any real suggestions on ...      0   \n",
       "4  0001d958c54c6e35  You, sir, are my hero. Any chance you remember...      0   \n",
       "\n",
       "   severe_toxic  obscene  threat  insult  identity_hate  \n",
       "0             0        0       0       0              0  \n",
       "1             0        0       0       0              0  \n",
       "2             0        0       0       0              0  \n",
       "3             0        0       0       0              0  \n",
       "4             0        0       0       0              0  "
      ]
     },
     "execution_count": 4,
     "metadata": {},
     "output_type": "execute_result"
    }
   ],
   "source": [
    "data_path = \"../Dataset/Toxic_comments/train.csv\"\n",
    "df = pd.read_csv(data_path)\n",
    "df.head()"
   ]
  },
  {
   "cell_type": "code",
   "execution_count": 5,
   "metadata": {},
   "outputs": [],
   "source": [
    "LABEL_COLUMNS = df.columns.tolist()[2:]\n",
    "df['good'] = 1\n",
    "df.loc[df[LABEL_COLUMNS].sum(axis=1) != 0, 'good'] = 0"
   ]
  },
  {
   "cell_type": "code",
   "execution_count": 6,
   "metadata": {},
   "outputs": [],
   "source": [
    "train_df, test_df = train_test_split(df, test_size = 0.2)\n",
    "train_df, val_df = train_test_split(train_df, test_size = 0.05)"
   ]
  },
  {
   "cell_type": "code",
   "execution_count": 7,
   "metadata": {},
   "outputs": [
    {
     "data": {
      "text/plain": [
       "<Axes: >"
      ]
     },
     "execution_count": 7,
     "metadata": {},
     "output_type": "execute_result"
    },
    {
     "data": {
      "image/png": "[encoded data removed]",
      "text/plain": [
       "<Figure size 640x480 with 1 Axes>"
      ]
     },
     "metadata": {},
     "output_type": "display_data"
    }
   ],
   "source": [
    "LABEL_COLUMNS = df.columns.tolist()[2:]\n",
    "df[LABEL_COLUMNS].sum().sort_values().plot(kind=\"barh\")"
   ]
  },
  {
   "cell_type": "code",
   "execution_count": 8,
   "metadata": {},
   "outputs": [
    {
     "data": {
      "text/plain": [
       "<Axes: >"
      ]
     },
     "execution_count": 8,
     "metadata": {},
     "output_type": "execute_result"
    },
    {
     "data": {
      "image/png": "[encoded data removed]",
      "text/plain": [
       "<Figure size 640x480 with 1 Axes>"
      ]
     },
     "metadata": {},
     "output_type": "display_data"
    }
   ],
   "source": [
    "train_toxic = train_df[train_df['good'] == 0]\n",
    "train_clean = train_df[train_df['good'] == 1]\n",
    "\n",
    "pd.DataFrame(dict(toxic=[len(train_toxic)], clean=[len(train_clean)])).plot(kind='barh')"
   ]
  },
  {
   "cell_type": "code",
   "execution_count": 9,
   "metadata": {},
   "outputs": [],
   "source": [
    "train_df = pd.concat([train_toxic, train_clean.sample(15_000)])"
   ]
  },
  {
   "cell_type": "code",
   "execution_count": 10,
   "metadata": {},
   "outputs": [
    {
     "data": {
      "text/plain": [
       "<Axes: >"
      ]
     },
     "execution_count": 10,
     "metadata": {},
     "output_type": "execute_result"
    },
    {
     "data": {
      "image/png": "[encoded data removed]",
      "text/plain": [
       "<Figure size 640x480 with 1 Axes>"
      ]
     },
     "metadata": {},
     "output_type": "display_data"
    }
   ],
   "source": [
    "train_toxic = train_df[train_df['good'] == 0]\n",
    "train_clean = train_df[train_df['good'] == 1]\n",
    "\n",
    "pd.DataFrame(dict(toxic=[len(train_toxic)], clean=[len(train_clean)])).plot(kind='barh')"
   ]
  },
  {
   "cell_type": "code",
   "execution_count": 11,
   "metadata": {},
   "outputs": [
    {
     "name": "stdout",
     "output_type": "stream",
     "text": [
      "(27384, 9) (6383, 9) (31915, 9)\n"
     ]
    }
   ],
   "source": [
    "print(train_df.shape, val_df.shape, test_df.shape)"
   ]
  },
  {
   "cell_type": "code",
   "execution_count": 12,
   "metadata": {},
   "outputs": [],
   "source": [
    "def data_preprocessing(sentences):\n",
    "\n",
    "    tokenized_sentences = []\n",
    "    for sentence in tqdm(sentences, desc = 'Tokenize'):\n",
    "        sentence = sentence.lower()\n",
    "        cleanr = re.compile('<.*?>')\n",
    "        sentence = re.sub(cleanr, ' ', sentence)\n",
    "\n",
    "        sentence = re.sub(r'[?|!|\\'|\"|#]',r'',sentence)\n",
    "        sentence = re.sub(r'[.|,|)|(|\\|/]',r' ',sentence)\n",
    "        sentence = sentence.strip()\n",
    "        sentence = sentence.replace(\"\\n\",\" \")\n",
    "        sentence = re.sub(r'[^A-Za-z ]', '', sentence)\n",
    "        sentence = re.sub('\\s+', ' ', sentence)\n",
    "\n",
    "        tokenized_sentences.append(nltk.word_tokenize(sentence))\n",
    "\n",
    "    stop_words = set(stopwords.words('english'))\n",
    "\n",
    "    removed_stop_words = []\n",
    "    for sentence in tqdm(tokenized_sentences, desc = 'Stop_word_removal'):\n",
    "        curr_sentence = []\n",
    "        for token in sentence:\n",
    "            if not token in stop_words:\n",
    "                curr_sentence.append(token)\n",
    "        \n",
    "        removed_stop_words.append(curr_sentence)\n",
    "\n",
    "    lemmatizer = WordNetLemmatizer()\n",
    "\n",
    "    lemmatized_sentence = []\n",
    "    for sentence in tqdm(removed_stop_words, desc = 'Lemmatization'):\n",
    "        curr_sentence = []\n",
    "        for token in sentence:\n",
    "            curr_sentence.append(lemmatizer.lemmatize(token))\n",
    "\n",
    "        lemmatized_sentence.append(curr_sentence)\n",
    "\n",
    "    return lemmatized_sentence"
   ]
  },
  {
   "cell_type": "code",
   "execution_count": 13,
   "metadata": {},
   "outputs": [],
   "source": [
    "def vocab_builder(sentences):\n",
    "    # Word dictionary\n",
    "    word_vocab = {}\n",
    "    unique_id = 1\n",
    "    for sentence in sentences:\n",
    "        for word in sentence:\n",
    "            if word not in word_vocab:\n",
    "                word_vocab[word] = unique_id\n",
    "                unique_id += 1\n",
    "\n",
    "    word_vocab['<PAD>'] = 0\n",
    "    word_vocab['<OOV>'] = unique_id\n",
    "\n",
    "    return word_vocab"
   ]
  },
  {
   "cell_type": "code",
   "execution_count": 14,
   "metadata": {},
   "outputs": [],
   "source": [
    "def text_to_sequence(sentences, word_vocab):\n",
    "\n",
    "    text_sequece = []\n",
    "    for sentence in sentences:\n",
    "        curr_sequence = []\n",
    "        for word in sentence:\n",
    "            if word in word_vocab:\n",
    "                curr_sequence.append(word_vocab[word])\n",
    "            else:\n",
    "                curr_sequence.append(word_vocab['<OOV>'])\n",
    "        text_sequece.append(curr_sequence)\n",
    "\n",
    "    return text_sequece\n",
    "\n",
    "def pad_sequences(seq, maxlen):\n",
    "    padded_seq = []\n",
    "    if len(seq) < maxlen:\n",
    "        padding_seq = [0] * (maxlen - len(seq))\n",
    "        padded_seq = padding_seq + seq\n",
    "    else:\n",
    "        padded_seq = seq\n",
    "        \n",
    "    return padded_seq\n",
    "\n",
    "\n",
    "def padding(sequence, max_length):\n",
    "    new_sequence = []\n",
    "    for i in range(len(sequence)):\n",
    "        if len(sequence[i]) <= max_length:\n",
    "            new_sequence.append(sequence[i])\n",
    "        else:\n",
    "            new_sequence.append(sequence[i][:max_length])\n",
    "            \n",
    "\n",
    "    sequence = new_sequence\n",
    "\n",
    "    X = []\n",
    "    for seq in tqdm(sequence, desc = 'Padding'):\n",
    "        X.append(pad_sequences(seq, maxlen = max_length))\n",
    "\n",
    "    return X"
   ]
  },
  {
   "cell_type": "code",
   "execution_count": 15,
   "metadata": {},
   "outputs": [],
   "source": [
    "max_length = 200"
   ]
  },
  {
   "cell_type": "code",
   "execution_count": 16,
   "metadata": {},
   "outputs": [
    {
     "name": "stderr",
     "output_type": "stream",
     "text": [
      "Tokenize: 100%|██████████| 27384/27384 [00:04<00:00, 6265.01it/s]\n",
      "Stop_word_removal: 100%|██████████| 27384/27384 [00:00<00:00, 183305.17it/s]\n",
      "Lemmatization: 100%|██████████| 27384/27384 [00:02<00:00, 10485.29it/s]\n",
      "Padding: 100%|██████████| 27384/27384 [00:00<00:00, 292645.25it/s]\n"
     ]
    }
   ],
   "source": [
    "# Train data\n",
    "train_sentences = train_df['comment_text'].values\n",
    "cols = ['toxic', 'severe_toxic', 'obscene', 'threat', 'insult', 'identity_hate', 'good']\n",
    "train_labels = train_df[cols].values\n",
    "\n",
    "train_sentences = data_preprocessing(train_sentences)\n",
    "word_vocab = vocab_builder(train_sentences)\n",
    "vocab_size = len(word_vocab)\n",
    "train_sequence = text_to_sequence(train_sentences, word_vocab)\n",
    "train_sequence = padding(train_sequence, max_length)\n",
    "\n",
    "X_train = np.array(train_sequence)\n",
    "y_train = np.array(train_labels)"
   ]
  },
  {
   "cell_type": "code",
   "execution_count": 17,
   "metadata": {},
   "outputs": [
    {
     "name": "stderr",
     "output_type": "stream",
     "text": [
      "Tokenize: 100%|██████████| 6383/6383 [00:01<00:00, 5829.97it/s]\n",
      "Stop_word_removal: 100%|██████████| 6383/6383 [00:00<00:00, 118187.22it/s]\n",
      "Lemmatization: 100%|██████████| 6383/6383 [00:00<00:00, 13158.79it/s]\n",
      "Padding: 100%|██████████| 6383/6383 [00:00<00:00, 285899.94it/s]\n"
     ]
    }
   ],
   "source": [
    "# Val data\n",
    "val_sentences = val_df['comment_text'].values\n",
    "cols = ['toxic', 'severe_toxic', 'obscene', 'threat', 'insult', 'identity_hate', 'good']\n",
    "val_labels = val_df[cols].values\n",
    "\n",
    "val_sentences = data_preprocessing(val_sentences)\n",
    "val_sequence = text_to_sequence(val_sentences, word_vocab)\n",
    "val_sequence = padding(val_sequence, max_length)\n",
    "\n",
    "X_val = np.array(val_sequence)\n",
    "y_val = np.array(val_labels)"
   ]
  },
  {
   "cell_type": "code",
   "execution_count": 18,
   "metadata": {},
   "outputs": [
    {
     "name": "stderr",
     "output_type": "stream",
     "text": [
      "Tokenize: 100%|██████████| 31915/31915 [00:05<00:00, 5808.04it/s]\n",
      "Stop_word_removal: 100%|██████████| 31915/31915 [00:00<00:00, 155603.90it/s]\n",
      "Lemmatization: 100%|██████████| 31915/31915 [00:02<00:00, 14298.44it/s]\n",
      "Padding: 100%|██████████| 31915/31915 [00:00<00:00, 273573.06it/s]\n"
     ]
    }
   ],
   "source": [
    "# Test data\n",
    "test_sentences = test_df['comment_text'].values\n",
    "cols = ['toxic', 'severe_toxic', 'obscene', 'threat', 'insult', 'identity_hate', 'good']\n",
    "test_labels = test_df[cols].values\n",
    "\n",
    "test_sentences = data_preprocessing(test_sentences)\n",
    "test_sequence = text_to_sequence(test_sentences, word_vocab)\n",
    "test_sequence = padding(test_sequence, max_length)\n",
    "\n",
    "X_test = np.array(test_sequence)\n",
    "y_test = np.array(test_labels)"
   ]
  },
  {
   "cell_type": "code",
   "execution_count": 19,
   "metadata": {},
   "outputs": [
    {
     "name": "stdout",
     "output_type": "stream",
     "text": [
      "(27384, 200) (27384, 7)\n",
      "(6383, 200) (6383, 7)\n",
      "(31915, 200) (31915, 7)\n"
     ]
    }
   ],
   "source": [
    "print(X_train.shape, y_train.shape)\n",
    "print(X_val.shape, y_val.shape)\n",
    "print(X_test.shape, y_test.shape)"
   ]
  },
  {
   "cell_type": "code",
   "execution_count": 20,
   "metadata": {},
   "outputs": [
    {
     "name": "stdout",
     "output_type": "stream",
     "text": [
      "57439 200\n"
     ]
    }
   ],
   "source": [
    "print(vocab_size, max_length)"
   ]
  },
  {
   "cell_type": "code",
   "execution_count": 21,
   "metadata": {},
   "outputs": [],
   "source": [
    "# save word2idx, maxlength\n",
    "with open('TC_model/word2idx.pkl', 'wb') as f:\n",
    "    pickle.dump(word_vocab, f)\n",
    "\n",
    "with open('TC_model/maxlength.pkl', 'wb') as f:\n",
    "    pickle.dump(max_length, f)"
   ]
  },
  {
   "cell_type": "code",
   "execution_count": 22,
   "metadata": {},
   "outputs": [],
   "source": [
    "class CustomDataset(Dataset):\n",
    "    def __init__(self, sequence, labels):\n",
    "        self.sequence = sequence\n",
    "        self.labels = labels\n",
    "\n",
    "    def __len__(self):\n",
    "        return len(self.sequence)\n",
    "\n",
    "    def __getitem__(self, idx):\n",
    "        sequence_in = torch.tensor(self.sequence[idx])\n",
    "        output_label = torch.tensor(self.labels[idx]).float()\n",
    "        return sequence_in, output_label"
   ]
  },
  {
   "cell_type": "code",
   "execution_count": 23,
   "metadata": {},
   "outputs": [],
   "source": [
    "batch_size = 64\n",
    "\n",
    "dataset_train = CustomDataset(X_train, y_train)\n",
    "dataloader_train = DataLoader(dataset_train, batch_size=batch_size, shuffle=True)\n",
    "\n",
    "dataset_val = CustomDataset(X_val, y_val)\n",
    "dataloader_val = DataLoader(dataset_val, batch_size=batch_size, shuffle=True)\n",
    "\n",
    "dataset_test = CustomDataset(X_test, y_test)\n",
    "dataloader_test = DataLoader(dataset_test, batch_size=batch_size, shuffle=True)"
   ]
  },
  {
   "cell_type": "code",
   "execution_count": 24,
   "metadata": {},
   "outputs": [],
   "source": [
    "def load_embeddings(embeddings_file):\n",
    "    embeddings_index = {}\n",
    "    with open(embeddings_file, encoding='utf-8') as f:\n",
    "        for line in f:\n",
    "            values = line.split()\n",
    "            word = values[0]\n",
    "            coefs = np.asarray(values[1:], dtype='float32')\n",
    "            embeddings_index[word] = coefs\n",
    "    return embeddings_index\n",
    "\n",
    "embeddings_file = '../Glove_embedding/glove.twitter/glove.twitter.27B.200d.txt'\n",
    "embeddings_index = load_embeddings(embeddings_file)"
   ]
  },
  {
   "cell_type": "code",
   "execution_count": 25,
   "metadata": {},
   "outputs": [
    {
     "name": "stderr",
     "output_type": "stream",
     "text": [
      "C:\\Users\\biswa\\AppData\\Local\\Temp\\ipykernel_18264\\1219103077.py:9: UserWarning: Creating a tensor from a list of numpy.ndarrays is extremely slow. Please consider converting the list to a single numpy.ndarray with numpy.array() before converting to a tensor. (Triggered internally at ..\\torch\\csrc\\utils\\tensor_new.cpp:248.)\n",
      "  pretrained_embeddings = torch.Tensor(pretrained_embeddings)\n"
     ]
    }
   ],
   "source": [
    "embeddings_dim = 200\n",
    "pretrained_embeddings = []\n",
    "for word in word_vocab:\n",
    "    if word in embeddings_index:\n",
    "        pretrained_embeddings.append(embeddings_index.get(word))\n",
    "    else:\n",
    "        pretrained_embeddings.append([0] * embeddings_dim)\n",
    "\n",
    "pretrained_embeddings = torch.Tensor(pretrained_embeddings)"
   ]
  },
  {
   "cell_type": "code",
   "execution_count": 26,
   "metadata": {},
   "outputs": [],
   "source": [
    "class BiLSTM_MLTC(nn.Module):\n",
    "    def __init__(self, num_embeddings, embedding_dim, num_classes, lstm_size, dropout=0.2):\n",
    "        super(BiLSTM_MLTC, self).__init__()\n",
    "\n",
    "        self.embeddings = nn.Embedding(num_embeddings, embedding_dim)\n",
    "        self.embeddings.weight = nn.Parameter(pretrained_embeddings)\n",
    "        self.embeddings.weight.requires_grad = True\n",
    "\n",
    "        self.dropout_embed = nn.Dropout(dropout)\n",
    "        self.lstm = nn.LSTM(input_size=embedding_dim, hidden_size=lstm_size, batch_first=True, bidirectional=True)\n",
    "        self.fc1 = nn.Linear(2 * lstm_size, 128)\n",
    "        self.fc2 = nn.Linear(128, 64)\n",
    "        self.fc3 = nn.Linear(64, num_classes)\n",
    "\n",
    "        self.dropout_fc1 = nn.Dropout(dropout)\n",
    "        self.dropout_fc2 = nn.Dropout(dropout)\n",
    "        self.sigmoid = nn.Sigmoid()\n",
    "\n",
    "    def forward(self, sentence):\n",
    "\n",
    "        sentence_embed = self.embeddings(sentence)\n",
    "        sentence_embed = self.dropout_embed(sentence_embed)\n",
    "\n",
    "        sentence_output, _ = self.lstm(sentence_embed)\n",
    "        sentence_output = sentence_output.mean(dim=1)\n",
    "\n",
    "        output = self.fc1(sentence_output)\n",
    "        output = torch.relu(output)\n",
    "        output = self.dropout_fc1(output)\n",
    "\n",
    "        output = self.fc2(output)\n",
    "        output = torch.relu(output)\n",
    "        output = self.dropout_fc2(output)\n",
    "        \n",
    "        output = self.fc3(output)\n",
    "        output = self.sigmoid(output)\n",
    "\n",
    "        return output"
   ]
  },
  {
   "cell_type": "code",
   "execution_count": 27,
   "metadata": {},
   "outputs": [],
   "source": [
    "num_classes = 7\n",
    "num_embeddings = vocab_size\n",
    "\n",
    "# Hyperparameters\n",
    "embedding_dim = 200\n",
    "lstm_size = 128\n",
    "dropout = 0.2\n",
    "epochs = 20\n",
    "learning_rate = 0.001\n",
    "\n",
    "\n",
    "model = BiLSTM_MLTC(num_embeddings, embedding_dim, num_classes, lstm_size, dropout)\n",
    "loss_function = nn.BCELoss()\n",
    "optimizer = optim.Adam(model.parameters(), lr = learning_rate)"
   ]
  },
  {
   "cell_type": "code",
   "execution_count": 28,
   "metadata": {},
   "outputs": [],
   "source": [
    "def train_model(model, loss_function, optimizer, epochs, device):\n",
    "\n",
    "    train_loss, val_loss = [], []\n",
    "    total_time = 0\n",
    "    min_average_loss = float('inf')\n",
    "    \n",
    "    for epoch in range(epochs):\n",
    "        start_time = time.time()\n",
    "\n",
    "        print(\"Epoch : \", epoch + 1)\n",
    "\n",
    "        model.to(device)\n",
    "        model.train()\n",
    "        total_train_loss = 0\n",
    "        y_true_train, y_pred_train = [], []\n",
    "        for batch in tqdm(dataloader_train, desc='Training'):\n",
    "            sequence_in, output_label = batch\n",
    "            sequence_in, output_label = sequence_in.to(device), output_label.to(device)\n",
    "\n",
    "            model.zero_grad()\n",
    "            pred_batch = model(sequence_in)\n",
    "            loss = loss_function(pred_batch, output_label)\n",
    "            total_train_loss += loss.item()\n",
    "\n",
    "            y_true_train.extend(output_label.cpu().detach().numpy().tolist())\n",
    "            y_pred_train.extend(pred_batch.cpu().detach().numpy().tolist())\n",
    "\n",
    "            loss.backward()\n",
    "            optimizer.step()\n",
    "        \n",
    "\n",
    "        model.eval()        \n",
    "        total_val_loss = 0\n",
    "        y_true_val, y_pred_val = [], []\n",
    "        with torch.no_grad():\n",
    "            for batch in tqdm(dataloader_val, desc='Evaluate'):\n",
    "                sequence_in, output_label = batch\n",
    "                sequence_in, output_label = sequence_in.to(device), output_label.to(device)\n",
    "\n",
    "                pred_batch = model(sequence_in)\n",
    "                loss = loss_function(pred_batch, output_label)\n",
    "                total_val_loss += loss.item()\n",
    "\n",
    "                y_true_val.extend(output_label.cpu().detach().numpy().tolist())\n",
    "                y_pred_val.extend(pred_batch.cpu().detach().numpy().tolist())\n",
    "\n",
    "        y_true_train = np.array(y_true_train)\n",
    "        y_pred_train = np.array(y_pred_train)\n",
    "        y_true_val = np.array(y_true_val)\n",
    "        y_pred_val = np.array(y_pred_val)\n",
    "\n",
    "        y_pred_train = y_pred_train >= 0.5\n",
    "        y_pred_val = y_pred_val >= 0.5\n",
    "\n",
    "        train_f1_score_micro = metrics.f1_score(y_true_train, y_pred_train, average='micro')\n",
    "        val_f1_score_micro = metrics.f1_score(y_true_val, y_pred_val, average='micro')\n",
    "\n",
    "        average_train_loss = float(total_train_loss / len(dataloader_train))\n",
    "        average_val_loss = float(total_val_loss / len(dataloader_val))\n",
    "\n",
    "        print('Train F1 Score (Micro)', train_f1_score_micro)\n",
    "        print('Val F1 Score (Micro)', val_f1_score_micro)\n",
    "        print('Train loss', average_train_loss)\n",
    "        print('Val loss', average_val_loss)\n",
    "\n",
    "        train_loss.append(average_train_loss)\n",
    "        val_loss.append(average_val_loss)\n",
    "\n",
    "        if average_val_loss < min_average_loss:\n",
    "            min_average_loss = average_val_loss\n",
    "            torch.save(model, 'TC_model/model.pth')\n",
    "            print(\"Best model saved\")\n",
    "            \n",
    "        print(\"------------------------------------------------\")\n",
    "\n",
    "        end_time = time.time()\n",
    "        epoch_time = end_time - start_time\n",
    "        total_time += epoch_time\n",
    "\n",
    "    avg_epoch_time = total_time / epochs\n",
    "    return train_loss, val_loss, avg_epoch_time"
   ]
  },
  {
   "cell_type": "code",
   "execution_count": 29,
   "metadata": {},
   "outputs": [
    {
     "name": "stdout",
     "output_type": "stream",
     "text": [
      "Epoch :  1\n"
     ]
    },
    {
     "name": "stderr",
     "output_type": "stream",
     "text": [
      "Training: 100%|██████████| 428/428 [00:10<00:00, 40.96it/s]\n",
      "Evaluate: 100%|██████████| 100/100 [00:00<00:00, 144.47it/s]\n"
     ]
    },
    {
     "name": "stdout",
     "output_type": "stream",
     "text": [
      "Train F1 Score (Micro) 0.5155245424234324\n",
      "Val F1 Score (Micro) 0.7944793301936159\n",
      "Train loss 0.38059291490745323\n",
      "Val loss 0.1856930747628212\n",
      "Best model saved\n",
      "------------------------------------------------\n",
      "Epoch :  2\n"
     ]
    },
    {
     "name": "stderr",
     "output_type": "stream",
     "text": [
      "Training: 100%|██████████| 428/428 [00:08<00:00, 49.36it/s]\n",
      "Evaluate: 100%|██████████| 100/100 [00:01<00:00, 64.36it/s]\n"
     ]
    },
    {
     "name": "stdout",
     "output_type": "stream",
     "text": [
      "Train F1 Score (Micro) 0.8027550113557815\n",
      "Val F1 Score (Micro) 0.8846562345110812\n",
      "Train loss 0.20850197614005236\n",
      "Val loss 0.0863259406760335\n",
      "Best model saved\n",
      "------------------------------------------------\n",
      "Epoch :  3\n"
     ]
    },
    {
     "name": "stderr",
     "output_type": "stream",
     "text": [
      "Training: 100%|██████████| 428/428 [00:08<00:00, 49.30it/s]\n",
      "Evaluate: 100%|██████████| 100/100 [00:00<00:00, 149.07it/s]\n"
     ]
    },
    {
     "name": "stdout",
     "output_type": "stream",
     "text": [
      "Train F1 Score (Micro) 0.8507960838607594\n",
      "Val F1 Score (Micro) 0.905108457570833\n",
      "Train loss 0.1617058556457268\n",
      "Val loss 0.07423855617642403\n",
      "Best model saved\n",
      "------------------------------------------------\n",
      "Epoch :  4\n"
     ]
    },
    {
     "name": "stderr",
     "output_type": "stream",
     "text": [
      "Training: 100%|██████████| 428/428 [00:08<00:00, 49.10it/s]\n",
      "Evaluate: 100%|██████████| 100/100 [00:00<00:00, 146.72it/s]\n"
     ]
    },
    {
     "name": "stdout",
     "output_type": "stream",
     "text": [
      "Train F1 Score (Micro) 0.8711967420859017\n",
      "Val F1 Score (Micro) 0.8914893617021278\n",
      "Train loss 0.14094892032792636\n",
      "Val loss 0.08336635857820511\n",
      "------------------------------------------------\n",
      "Epoch :  5\n"
     ]
    },
    {
     "name": "stderr",
     "output_type": "stream",
     "text": [
      "Training: 100%|██████████| 428/428 [00:08<00:00, 49.20it/s]\n",
      "Evaluate: 100%|██████████| 100/100 [00:00<00:00, 148.45it/s]\n"
     ]
    },
    {
     "name": "stdout",
     "output_type": "stream",
     "text": [
      "Train F1 Score (Micro) 0.8841050271389539\n",
      "Val F1 Score (Micro) 0.8702687491205853\n",
      "Train loss 0.12768937293091945\n",
      "Val loss 0.10454413387924433\n",
      "------------------------------------------------\n",
      "Epoch :  6\n"
     ]
    },
    {
     "name": "stderr",
     "output_type": "stream",
     "text": [
      "Training: 100%|██████████| 428/428 [00:08<00:00, 47.71it/s]\n",
      "Evaluate: 100%|██████████| 100/100 [00:00<00:00, 147.59it/s]\n"
     ]
    },
    {
     "name": "stdout",
     "output_type": "stream",
     "text": [
      "Train F1 Score (Micro) 0.8930730063372285\n",
      "Val F1 Score (Micro) 0.8625026347221247\n",
      "Train loss 0.11826362033487758\n",
      "Val loss 0.11375519271939993\n",
      "------------------------------------------------\n",
      "Epoch :  7\n"
     ]
    },
    {
     "name": "stderr",
     "output_type": "stream",
     "text": [
      "Training: 100%|██████████| 428/428 [00:08<00:00, 49.13it/s]\n",
      "Evaluate: 100%|██████████| 100/100 [00:00<00:00, 148.44it/s]\n"
     ]
    },
    {
     "name": "stdout",
     "output_type": "stream",
     "text": [
      "Train F1 Score (Micro) 0.9012808838705761\n",
      "Val F1 Score (Micro) 0.8707186973610331\n",
      "Train loss 0.10898405896656424\n",
      "Val loss 0.11307290790602564\n",
      "------------------------------------------------\n",
      "Epoch :  8\n"
     ]
    },
    {
     "name": "stderr",
     "output_type": "stream",
     "text": [
      "Training: 100%|██████████| 428/428 [00:08<00:00, 49.11it/s]\n",
      "Evaluate: 100%|██████████| 100/100 [00:00<00:00, 148.38it/s]\n"
     ]
    },
    {
     "name": "stdout",
     "output_type": "stream",
     "text": [
      "Train F1 Score (Micro) 0.9077771300884097\n",
      "Val F1 Score (Micro) 0.8590537876654463\n",
      "Train loss 0.10110469214687838\n",
      "Val loss 0.11735380422323942\n",
      "------------------------------------------------\n",
      "Epoch :  9\n"
     ]
    },
    {
     "name": "stderr",
     "output_type": "stream",
     "text": [
      "Training: 100%|██████████| 428/428 [00:08<00:00, 48.04it/s]\n",
      "Evaluate: 100%|██████████| 100/100 [00:00<00:00, 150.02it/s]\n"
     ]
    },
    {
     "name": "stdout",
     "output_type": "stream",
     "text": [
      "Train F1 Score (Micro) 0.9148568876226807\n",
      "Val F1 Score (Micro) 0.867588795440328\n",
      "Train loss 0.09091046236664335\n",
      "Val loss 0.13472941748797893\n",
      "------------------------------------------------\n",
      "Epoch :  10\n"
     ]
    },
    {
     "name": "stderr",
     "output_type": "stream",
     "text": [
      "Training: 100%|██████████| 428/428 [00:08<00:00, 49.26it/s]\n",
      "Evaluate: 100%|██████████| 100/100 [00:00<00:00, 148.92it/s]\n"
     ]
    },
    {
     "name": "stdout",
     "output_type": "stream",
     "text": [
      "Train F1 Score (Micro) 0.9248158191548079\n",
      "Val F1 Score (Micro) 0.8603546990643766\n",
      "Train loss 0.08166498626434357\n",
      "Val loss 0.15794408734887838\n",
      "------------------------------------------------\n",
      "Epoch :  11\n"
     ]
    },
    {
     "name": "stderr",
     "output_type": "stream",
     "text": [
      "Training: 100%|██████████| 428/428 [00:08<00:00, 49.21it/s]\n",
      "Evaluate: 100%|██████████| 100/100 [00:00<00:00, 149.89it/s]\n"
     ]
    },
    {
     "name": "stdout",
     "output_type": "stream",
     "text": [
      "Train F1 Score (Micro) 0.9322415361777523\n",
      "Val F1 Score (Micro) 0.8771684387241185\n",
      "Train loss 0.07376668952997321\n",
      "Val loss 0.14478576984256505\n",
      "------------------------------------------------\n",
      "Epoch :  12\n"
     ]
    },
    {
     "name": "stderr",
     "output_type": "stream",
     "text": [
      "Training: 100%|██████████| 428/428 [00:08<00:00, 47.96it/s]\n",
      "Evaluate: 100%|██████████| 100/100 [00:00<00:00, 148.73it/s]\n"
     ]
    },
    {
     "name": "stdout",
     "output_type": "stream",
     "text": [
      "Train F1 Score (Micro) 0.9389370478866503\n",
      "Val F1 Score (Micro) 0.832742686401223\n",
      "Train loss 0.06648449007874337\n",
      "Val loss 0.17719685170799493\n",
      "------------------------------------------------\n",
      "Epoch :  13\n"
     ]
    },
    {
     "name": "stderr",
     "output_type": "stream",
     "text": [
      "Training: 100%|██████████| 428/428 [00:08<00:00, 49.19it/s]\n",
      "Evaluate: 100%|██████████| 100/100 [00:00<00:00, 149.20it/s]\n"
     ]
    },
    {
     "name": "stdout",
     "output_type": "stream",
     "text": [
      "Train F1 Score (Micro) 0.9446687531356762\n",
      "Val F1 Score (Micro) 0.8530575414728951\n",
      "Train loss 0.06241398742509501\n",
      "Val loss 0.2014288343861699\n",
      "------------------------------------------------\n",
      "Epoch :  14\n"
     ]
    },
    {
     "name": "stderr",
     "output_type": "stream",
     "text": [
      "Training: 100%|██████████| 428/428 [00:08<00:00, 49.37it/s]\n",
      "Evaluate: 100%|██████████| 100/100 [00:00<00:00, 149.40it/s]\n"
     ]
    },
    {
     "name": "stdout",
     "output_type": "stream",
     "text": [
      "Train F1 Score (Micro) 0.9508294617157734\n",
      "Val F1 Score (Micro) 0.8457469024084645\n",
      "Train loss 0.054741106714148106\n",
      "Val loss 0.21225019671022893\n",
      "------------------------------------------------\n",
      "Epoch :  15\n"
     ]
    },
    {
     "name": "stderr",
     "output_type": "stream",
     "text": [
      "Training: 100%|██████████| 428/428 [00:08<00:00, 47.76it/s]\n",
      "Evaluate: 100%|██████████| 100/100 [00:00<00:00, 148.89it/s]\n"
     ]
    },
    {
     "name": "stdout",
     "output_type": "stream",
     "text": [
      "Train F1 Score (Micro) 0.9555632516092049\n",
      "Val F1 Score (Micro) 0.8647447030218826\n",
      "Train loss 0.04889839057697453\n",
      "Val loss 0.20835623264312744\n",
      "------------------------------------------------\n",
      "Epoch :  16\n"
     ]
    },
    {
     "name": "stderr",
     "output_type": "stream",
     "text": [
      "Training: 100%|██████████| 428/428 [00:08<00:00, 49.11it/s]\n",
      "Evaluate: 100%|██████████| 100/100 [00:00<00:00, 148.66it/s]\n"
     ]
    },
    {
     "name": "stdout",
     "output_type": "stream",
     "text": [
      "Train F1 Score (Micro) 0.9591113550403876\n",
      "Val F1 Score (Micro) 0.8564332528458088\n",
      "Train loss 0.04540312060842586\n",
      "Val loss 0.2327015844732523\n",
      "------------------------------------------------\n",
      "Epoch :  17\n"
     ]
    },
    {
     "name": "stderr",
     "output_type": "stream",
     "text": [
      "Training: 100%|██████████| 428/428 [00:08<00:00, 48.94it/s]\n",
      "Evaluate: 100%|██████████| 100/100 [00:00<00:00, 147.31it/s]\n"
     ]
    },
    {
     "name": "stdout",
     "output_type": "stream",
     "text": [
      "Train F1 Score (Micro) 0.9625946461575151\n",
      "Val F1 Score (Micro) 0.8555323590814197\n",
      "Train loss 0.04116626408725768\n",
      "Val loss 0.29026881158351897\n",
      "------------------------------------------------\n",
      "Epoch :  18\n"
     ]
    },
    {
     "name": "stderr",
     "output_type": "stream",
     "text": [
      "Training: 100%|██████████| 428/428 [00:08<00:00, 47.61it/s]\n",
      "Evaluate: 100%|██████████| 100/100 [00:00<00:00, 148.19it/s]\n"
     ]
    },
    {
     "name": "stdout",
     "output_type": "stream",
     "text": [
      "Train F1 Score (Micro) 0.9659622173456731\n",
      "Val F1 Score (Micro) 0.8526133610245761\n",
      "Train loss 0.03836847662438299\n",
      "Val loss 0.2629970908910036\n",
      "------------------------------------------------\n",
      "Epoch :  19\n"
     ]
    },
    {
     "name": "stderr",
     "output_type": "stream",
     "text": [
      "Training: 100%|██████████| 428/428 [00:08<00:00, 48.83it/s]\n",
      "Evaluate: 100%|██████████| 100/100 [00:00<00:00, 147.57it/s]\n"
     ]
    },
    {
     "name": "stdout",
     "output_type": "stream",
     "text": [
      "Train F1 Score (Micro) 0.9680794023377459\n",
      "Val F1 Score (Micro) 0.8615770060547011\n",
      "Train loss 0.03619554976467043\n",
      "Val loss 0.252457270771265\n",
      "------------------------------------------------\n",
      "Epoch :  20\n"
     ]
    },
    {
     "name": "stderr",
     "output_type": "stream",
     "text": [
      "Training: 100%|██████████| 428/428 [00:08<00:00, 48.96it/s]\n",
      "Evaluate: 100%|██████████| 100/100 [00:00<00:00, 149.76it/s]"
     ]
    },
    {
     "name": "stdout",
     "output_type": "stream",
     "text": [
      "Train F1 Score (Micro) 0.97133257077495\n",
      "Val F1 Score (Micro) 0.8387764965821998\n",
      "Train loss 0.03283778948178428\n",
      "Val loss 0.33306143641471864\n",
      "------------------------------------------------\n"
     ]
    },
    {
     "name": "stderr",
     "output_type": "stream",
     "text": [
      "\n"
     ]
    }
   ],
   "source": [
    "train_loss, val_loss, avg_epoch_time = train_model(model, loss_function, optimizer, epochs, device)"
   ]
  },
  {
   "attachments": {},
   "cell_type": "markdown",
   "metadata": {},
   "source": [
    "# Evaluation"
   ]
  },
  {
   "cell_type": "code",
   "execution_count": 30,
   "metadata": {},
   "outputs": [],
   "source": [
    "def test_scores(model, device):\n",
    "\n",
    "    model.eval()\n",
    "\n",
    "    y_true = []\n",
    "    y_pred = []\n",
    "    with torch.no_grad():\n",
    "        for batch in tqdm(dataloader_test, desc='Evaluate'):\n",
    "            sequence_in, output_label = batch\n",
    "            sequence_in, output_label = sequence_in.to(device), output_label.to(device)\n",
    "\n",
    "            pred_batch = model(sequence_in)\n",
    "            pred_batch = (pred_batch > 0.5).float()\n",
    "\n",
    "            y_true.extend(output_label.cpu().detach().numpy().tolist())\n",
    "            y_pred.extend(pred_batch.cpu().detach().numpy().tolist())\n",
    "\n",
    "\n",
    "    y_true = np.array(y_true)\n",
    "    y_pred = np.array(y_pred)\n",
    "\n",
    "    accuracy = metrics.accuracy_score(y_true, y_pred)\n",
    "    f1_score_micro = metrics.f1_score(y_true, y_pred, average='micro')\n",
    "\n",
    "    print('Test Accuracy', accuracy)\n",
    "    print('Test F1 Score (Micro)', f1_score_micro)\n",
    "\n",
    "    print('Classification report')\n",
    "    print(classification_report(y_true, y_pred, zero_division=0, target_names=['toxic', 'severe_toxic', 'obscene', 'threat', 'insult','identity_hate', 'good']))"
   ]
  },
  {
   "cell_type": "code",
   "execution_count": 31,
   "metadata": {},
   "outputs": [
    {
     "name": "stderr",
     "output_type": "stream",
     "text": [
      "Evaluate: 100%|██████████| 499/499 [00:03<00:00, 139.05it/s]\n"
     ]
    },
    {
     "name": "stdout",
     "output_type": "stream",
     "text": [
      "Test Accuracy 0.8816543944853518\n",
      "Test F1 Score (Micro) 0.9057599087539208\n",
      "Classification report\n",
      "               precision    recall  f1-score   support\n",
      "\n",
      "        toxic       0.60      0.88      0.72      3002\n",
      " severe_toxic       0.35      0.05      0.08       297\n",
      "      obscene       0.80      0.75      0.78      1612\n",
      "       threat       0.00      0.00      0.00        91\n",
      "       insult       0.69      0.68      0.68      1495\n",
      "identity_hate       0.00      0.00      0.00       277\n",
      "         good       0.99      0.94      0.96     28733\n",
      "\n",
      "    micro avg       0.92      0.89      0.91     35507\n",
      "    macro avg       0.49      0.47      0.46     35507\n",
      " weighted avg       0.92      0.89      0.90     35507\n",
      "  samples avg       0.92      0.91      0.91     35507\n",
      "\n"
     ]
    }
   ],
   "source": [
    "model = torch.load('TC_model/model.pth')\n",
    "test_scores(model, device)"
   ]
  },
  {
   "cell_type": "code",
   "execution_count": 32,
   "metadata": {},
   "outputs": [
    {
     "name": "stdout",
     "output_type": "stream",
     "text": [
      "BiLSTM_MLTC(\n",
      "  (embeddings): Embedding(57439, 200)\n",
      "  (dropout_embed): Dropout(p=0.2, inplace=False)\n",
      "  (lstm): LSTM(200, 128, batch_first=True, bidirectional=True)\n",
      "  (fc1): Linear(in_features=256, out_features=128, bias=True)\n",
      "  (fc2): Linear(in_features=128, out_features=64, bias=True)\n",
      "  (fc3): Linear(in_features=64, out_features=7, bias=True)\n",
      "  (dropout_fc1): Dropout(p=0.2, inplace=False)\n",
      "  (dropout_fc2): Dropout(p=0.2, inplace=False)\n",
      "  (sigmoid): Sigmoid()\n",
      ")\n",
      "The model has 11,867,327 trainable parameters\n"
     ]
    }
   ],
   "source": [
    "num_params = sum(p.numel() for p in model.parameters() if p.requires_grad) \n",
    "\n",
    "print(model)\n",
    "print(f'The model has {num_params:,} trainable parameters')"
   ]
  },
  {
   "cell_type": "code",
   "execution_count": 33,
   "metadata": {},
   "outputs": [
    {
     "name": "stdout",
     "output_type": "stream",
     "text": [
      "Train loss [0.38059291490745323, 0.20850197614005236, 0.1617058556457268, 0.14094892032792636, 0.12768937293091945, 0.11826362033487758, 0.10898405896656424, 0.10110469214687838, 0.09091046236664335, 0.08166498626434357, 0.07376668952997321, 0.06648449007874337, 0.06241398742509501, 0.054741106714148106, 0.04889839057697453, 0.04540312060842586, 0.04116626408725768, 0.03836847662438299, 0.03619554976467043, 0.03283778948178428]\n",
      "Val loss [0.1856930747628212, 0.0863259406760335, 0.07423855617642403, 0.08336635857820511, 0.10454413387924433, 0.11375519271939993, 0.11307290790602564, 0.11735380422323942, 0.13472941748797893, 0.15794408734887838, 0.14478576984256505, 0.17719685170799493, 0.2014288343861699, 0.21225019671022893, 0.20835623264312744, 0.2327015844732523, 0.29026881158351897, 0.2629970908910036, 0.252457270771265, 0.33306143641471864]\n"
     ]
    }
   ],
   "source": [
    "print('Train loss', train_loss)\n",
    "print('Val loss', val_loss)"
   ]
  },
  {
   "cell_type": "code",
   "execution_count": 34,
   "metadata": {},
   "outputs": [
    {
     "name": "stdout",
     "output_type": "stream",
     "text": [
      "Avg epoch time 9.97 secs\n"
     ]
    }
   ],
   "source": [
    "print('Avg epoch time', round(avg_epoch_time, 2), 'secs')"
   ]
  }
 ],
 "metadata": {
  "kernelspec": {
   "display_name": "Python 3",
   "language": "python",
   "name": "python3"
  },
  "language_info": {
   "codemirror_mode": {
    "name": "ipython",
    "version": 3
   },
   "file_extension": ".py",
   "mimetype": "text/x-python",
   "name": "python",
   "nbconvert_exporter": "python",
   "pygments_lexer": "ipython3",
   "version": "3.10.11"
  },
  "orig_nbformat": 4,
  "vscode": {
   "interpreter": {
    "hash": "7a755c3486a199bb280be05c1d30ef5249180d4344c9bdb63523ed58db47fcbc"
   }
  }
 },
 "nbformat": 4,
 "nbformat_minor": 2
}
