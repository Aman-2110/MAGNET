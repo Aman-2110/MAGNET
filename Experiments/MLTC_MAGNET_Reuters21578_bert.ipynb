{
  "cells": [
    {
      "cell_type": "code",
      "execution_count": 1,
      "metadata": {
        "colab": {
          "base_uri": "https://localhost:8080/"
        },
        "id": "WoY956zy54do",
        "outputId": "ee900521-87a6-43b7-9e70-4dba72a36326"
      },
      "outputs": [
        {
          "name": "stderr",
          "output_type": "stream",
          "text": [
            "[nltk_data] Downloading package punkt to\n",
            "[nltk_data]     C:\\Users\\biswa\\AppData\\Roaming\\nltk_data...\n",
            "[nltk_data]   Package punkt is already up-to-date!\n",
            "[nltk_data] Downloading package stopwords to\n",
            "[nltk_data]     C:\\Users\\biswa\\AppData\\Roaming\\nltk_data...\n",
            "[nltk_data]   Package stopwords is already up-to-date!\n",
            "[nltk_data] Downloading package wordnet to\n",
            "[nltk_data]     C:\\Users\\biswa\\AppData\\Roaming\\nltk_data...\n",
            "[nltk_data]   Package wordnet is already up-to-date!\n",
            "[nltk_data] Downloading package reuters to\n",
            "[nltk_data]     C:\\Users\\biswa\\AppData\\Roaming\\nltk_data...\n",
            "[nltk_data]   Package reuters is already up-to-date!\n",
            "C:\\Users\\biswa\\AppData\\Local\\Packages\\PythonSoftwareFoundation.Python.3.10_qbz5n2kfra8p0\\LocalCache\\local-packages\\Python310\\site-packages\\tqdm\\auto.py:22: TqdmWarning: IProgress not found. Please update jupyter and ipywidgets. See https://ipywidgets.readthedocs.io/en/stable/user_install.html\n",
            "  from .autonotebook import tqdm as notebook_tqdm\n"
          ]
        }
      ],
      "source": [
        "import os\n",
        "import csv\n",
        "import pandas as pd\n",
        "import numpy as np\n",
        "import matplotlib.pyplot as plt\n",
        "import seaborn as sns\n",
        "import nltk\n",
        "from nltk.corpus import stopwords\n",
        "from nltk.stem import WordNetLemmatizer\n",
        "from nltk.corpus import reuters\n",
        "nltk.download('punkt')\n",
        "nltk.download('stopwords')\n",
        "nltk.download('wordnet')\n",
        "import csv\n",
        "import math\n",
        "import gensim\n",
        "\n",
        "from torch.nn.utils import clip_grad_norm_\n",
        "import re\n",
        "import pickle\n",
        "import time\n",
        "from tqdm import tqdm\n",
        "from collections import Counter\n",
        "from sklearn import metrics\n",
        "from sklearn.model_selection import train_test_split\n",
        "from sklearn.metrics import classification_report, confusion_matrix, roc_curve, auc\n",
        "import nltk\n",
        "nltk.download('reuters')\n",
        "import torch\n",
        "import torch.nn as nn\n",
        "import torch.optim as optim\n",
        "from torch.utils.data import DataLoader, Dataset\n",
        "from transformers import BertModel, BertTokenizer"
      ]
    },
    {
      "cell_type": "code",
      "execution_count": 2,
      "metadata": {
        "colab": {
          "base_uri": "https://localhost:8080/"
        },
        "id": "XomKEfjN54ds",
        "outputId": "92a9bdbc-9809-44d9-e69e-25615f6aa970"
      },
      "outputs": [
        {
          "name": "stdout",
          "output_type": "stream",
          "text": [
            "Using cuda device\n"
          ]
        }
      ],
      "source": [
        "device = \"cuda\" if torch.cuda.is_available() else \"cpu\"\n",
        "print(f\"Using {device} device\")"
      ]
    },
    {
      "cell_type": "code",
      "execution_count": 3,
      "metadata": {
        "id": "Gvjjuxm554dt"
      },
      "outputs": [],
      "source": [
        "SEED = 1234\n",
        "\n",
        "np.random.seed(SEED)\n",
        "torch.manual_seed(SEED)\n",
        "torch.cuda.manual_seed(SEED)\n",
        "\n",
        "torch.backends.cudnn.deterministic = True"
      ]
    },
    {
      "cell_type": "code",
      "execution_count": 4,
      "metadata": {
        "id": "2G6Y9o9554du"
      },
      "outputs": [],
      "source": [
        "documents = reuters.fileids()\n",
        "categories = reuters.categories()\n",
        "\n",
        "train_docs = [doc for doc in documents if doc.startswith(\"training/\")]\n",
        "test_docs = [doc for doc in documents if doc.startswith(\"test/\")]"
      ]
    },
    {
      "cell_type": "code",
      "execution_count": 5,
      "metadata": {
        "id": "8bxKUZQI54dv"
      },
      "outputs": [],
      "source": [
        "train_sentences = [reuters.raw(doc_id) for doc_id in train_docs]\n",
        "train_labels = [reuters.categories(doc_id) for doc_id in train_docs]\n",
        "\n",
        "test_sentences = [reuters.raw(doc_id) for doc_id in test_docs]\n",
        "test_labels = [reuters.categories(doc_id) for doc_id in test_docs]"
      ]
    },
    {
      "cell_type": "code",
      "execution_count": 6,
      "metadata": {
        "id": "P4Og4aoV54dv"
      },
      "outputs": [],
      "source": [
        "train_sentences, val_sentences, train_labels, val_labels = train_test_split(train_sentences, train_labels, test_size = 0.2, random_state = 42)"
      ]
    },
    {
      "cell_type": "code",
      "execution_count": 7,
      "metadata": {
        "id": "drLbHJDI54dv"
      },
      "outputs": [],
      "source": [
        "def convert_to_labels(data_categories, unique_labels):\n",
        "    binary_vectors = []\n",
        "    for categories in data_categories:\n",
        "        binary_vector = np.zeros(len(unique_labels), dtype=int)\n",
        "        for category in categories:\n",
        "            binary_vector[np.where(unique_labels == category)] = 1\n",
        "        binary_vectors.append(binary_vector)\n",
        "\n",
        "    binary_vectors = np.array(binary_vectors)\n",
        "    return binary_vectors"
      ]
    },
    {
      "cell_type": "code",
      "execution_count": 8,
      "metadata": {
        "id": "HKjqbmGA54dw"
      },
      "outputs": [],
      "source": [
        "unique_labels = np.concatenate(train_labels)\n",
        "unique_labels = np.unique(unique_labels)"
      ]
    },
    {
      "cell_type": "code",
      "execution_count": 9,
      "metadata": {
        "colab": {
          "base_uri": "https://localhost:8080/"
        },
        "id": "4KzcwLMaw9v7",
        "outputId": "d78cc28d-4e3d-43ca-eba4-93f4e7d13f28"
      },
      "outputs": [
        {
          "data": {
            "text/plain": [
              "(90,)"
            ]
          },
          "execution_count": 9,
          "metadata": {},
          "output_type": "execute_result"
        }
      ],
      "source": [
        "unique_labels.shape"
      ]
    },
    {
      "cell_type": "code",
      "execution_count": 10,
      "metadata": {
        "id": "OlAtLfqd54dw"
      },
      "outputs": [],
      "source": [
        "train_labels = convert_to_labels(train_labels, unique_labels)\n",
        "val_labels = convert_to_labels(val_labels, unique_labels)\n",
        "test_labels = convert_to_labels(test_labels, unique_labels)"
      ]
    },
    {
      "cell_type": "code",
      "execution_count": 11,
      "metadata": {
        "colab": {
          "base_uri": "https://localhost:8080/",
          "height": 724
        },
        "id": "a-iOoWMj54dx",
        "outputId": "373caff2-255b-4ca7-99da-6fdee7ab2801"
      },
      "outputs": [
        {
          "data": {
            "image/png": "[encoded data removed]",
            "text/plain": [
              "<Figure size 1600x900 with 1 Axes>"
            ]
          },
          "metadata": {},
          "output_type": "display_data"
        }
      ],
      "source": [
        "labels_count = [0] * 90\n",
        "\n",
        "for label in train_labels:\n",
        "    for i in range(len(label)):\n",
        "        if label[i] == 1:\n",
        "            labels_count[i] += 1\n",
        "\n",
        "fig, ax = plt.subplots(figsize=(16, 9))\n",
        "ax.bar(unique_labels, labels_count)\n",
        "ax.tick_params(axis='x', labelrotation=90)\n",
        "plt.show()"
      ]
    },
    {
      "cell_type": "code",
      "execution_count": 12,
      "metadata": {
        "id": "2bmqWxN754dx"
      },
      "outputs": [],
      "source": [
        "def data_preprocessing(sentences):\n",
        "\n",
        "    tokenized_sentences = []\n",
        "    for sentence in tqdm(sentences, desc = 'Tokenize'):\n",
        "        sentence = sentence.lower()\n",
        "        cleanr = re.compile('<.*?>')\n",
        "        sentence = re.sub(cleanr, ' ', sentence)\n",
        "\n",
        "        sentence = re.sub(r'[?|!|\\'|\"|#]',r'',sentence)\n",
        "        sentence = re.sub(r'[.|,|)|(|\\|/]',r' ',sentence)\n",
        "        sentence = sentence.strip()\n",
        "        sentence = sentence.replace(\"\\n\",\" \")\n",
        "        sentence = re.sub(r'[^A-Za-z ]', '', sentence)\n",
        "        sentence = re.sub('\\s+', ' ', sentence)\n",
        "\n",
        "        tokenized_sentences.append(nltk.word_tokenize(sentence))\n",
        "\n",
        "    stop_words = set(stopwords.words('english'))\n",
        "\n",
        "    removed_stop_words = []\n",
        "    for sentence in tqdm(tokenized_sentences, desc = 'Stop_word_removal'):\n",
        "        curr_sentence = []\n",
        "        for token in sentence:\n",
        "            if not token in stop_words:\n",
        "                curr_sentence.append(token)\n",
        "        \n",
        "        removed_stop_words.append(curr_sentence)\n",
        "\n",
        "    lemmatizer = WordNetLemmatizer()\n",
        "\n",
        "    lemmatized_sentence = []\n",
        "    for sentence in tqdm(removed_stop_words, desc = 'Lemmatization'):\n",
        "        curr_sentence = []\n",
        "        for token in sentence:\n",
        "            curr_sentence.append(lemmatizer.lemmatize(token))\n",
        "\n",
        "        lemmatized_sentence.append(curr_sentence)\n",
        "\n",
        "    return lemmatized_sentence"
      ]
    },
    {
      "cell_type": "code",
      "execution_count": 13,
      "metadata": {
        "id": "5v38pkOJ54dy"
      },
      "outputs": [],
      "source": [
        "def vocab_builder(sentences):\n",
        "    # Word dictionary\n",
        "    word_vocab = {}\n",
        "    unique_id = 1\n",
        "    for sentence in sentences:\n",
        "        for word in sentence:\n",
        "            if word not in word_vocab:\n",
        "                word_vocab[word] = unique_id\n",
        "                unique_id += 1\n",
        "\n",
        "    word_vocab['<PAD>'] = 0\n",
        "    word_vocab['<OOV>'] = unique_id\n",
        "\n",
        "    return word_vocab"
      ]
    },
    {
      "cell_type": "code",
      "execution_count": 14,
      "metadata": {
        "id": "nemlcRzE54dy"
      },
      "outputs": [],
      "source": [
        "def text_to_sequence(sentences, word_vocab):\n",
        "\n",
        "    text_sequence = []\n",
        "    for sentence in sentences:\n",
        "        curr_sequence = []\n",
        "        for word in sentence:\n",
        "            if word in word_vocab:\n",
        "                curr_sequence.append(word_vocab[word])\n",
        "            else:\n",
        "                curr_sequence.append(word_vocab['<OOV>'])\n",
        "        text_sequence.append(curr_sequence)\n",
        "\n",
        "    return text_sequence\n",
        "\n",
        "def pad_sequences(seq, maxlen):\n",
        "    padded_seq = []\n",
        "    if len(seq) < maxlen:\n",
        "        padding_seq = [0] * (maxlen - len(seq))\n",
        "        padded_seq = padding_seq + seq\n",
        "    else:\n",
        "        padded_seq = seq\n",
        "        \n",
        "    return padded_seq\n",
        "\n",
        "\n",
        "def padding(sequence, max_length):\n",
        "    new_sequence = []\n",
        "    for i in range(len(sequence)):\n",
        "        if len(sequence[i]) <= max_length:\n",
        "            new_sequence.append(sequence[i])\n",
        "        else:\n",
        "            new_sequence.append(sequence[i][:max_length])\n",
        "            \n",
        "\n",
        "    sequence = new_sequence\n",
        "\n",
        "    X = []\n",
        "    for seq in tqdm(sequence, desc = 'Padding'):\n",
        "        X.append(pad_sequences(seq, maxlen = max_length))\n",
        "\n",
        "    return X"
      ]
    },
    {
      "cell_type": "code",
      "execution_count": 15,
      "metadata": {
        "id": "ri24sbVt54dz"
      },
      "outputs": [],
      "source": [
        "max_length = 200"
      ]
    },
    {
      "cell_type": "code",
      "execution_count": 16,
      "metadata": {
        "colab": {
          "base_uri": "https://localhost:8080/"
        },
        "id": "U_vl-3U754dz",
        "outputId": "f224202d-0955-4589-8faf-c5d99c65a6c0"
      },
      "outputs": [
        {
          "name": "stderr",
          "output_type": "stream",
          "text": [
            "Tokenize: 100%|██████████| 6215/6215 [00:01<00:00, 3595.00it/s]\n",
            "Stop_word_removal: 100%|██████████| 6215/6215 [00:00<00:00, 86379.77it/s]\n",
            "Lemmatization: 100%|██████████| 6215/6215 [00:01<00:00, 3261.08it/s]\n",
            "Padding: 100%|██████████| 6215/6215 [00:00<00:00, 534983.36it/s]\n"
          ]
        }
      ],
      "source": [
        "# Train data\n",
        "train_sentences = data_preprocessing(train_sentences)\n",
        "word_vocab = vocab_builder(train_sentences)\n",
        "vocab_size = len(word_vocab)\n",
        "train_sequence = text_to_sequence(train_sentences, word_vocab)\n",
        "train_sequence = padding(train_sequence, max_length)\n",
        "\n",
        "X_train = np.array(train_sequence)\n",
        "y_train = np.array(train_labels)"
      ]
    },
    {
      "cell_type": "code",
      "execution_count": 17,
      "metadata": {
        "colab": {
          "base_uri": "https://localhost:8080/"
        },
        "id": "cOkCFDa254d0",
        "outputId": "d0e634eb-b13d-4770-debb-e2da151aeb43"
      },
      "outputs": [
        {
          "name": "stderr",
          "output_type": "stream",
          "text": [
            "Tokenize: 100%|██████████| 1554/1554 [00:00<00:00, 3681.21it/s]\n",
            "Stop_word_removal: 100%|██████████| 1554/1554 [00:00<00:00, 80171.57it/s]\n",
            "Lemmatization: 100%|██████████| 1554/1554 [00:00<00:00, 6760.49it/s]\n",
            "Padding: 100%|██████████| 1554/1554 [00:00<00:00, 517133.32it/s]\n"
          ]
        }
      ],
      "source": [
        "# Val data\n",
        "val_sentences = data_preprocessing(val_sentences)\n",
        "val_sequence = text_to_sequence(val_sentences, word_vocab)\n",
        "val_sequence = padding(val_sequence, max_length)\n",
        "\n",
        "X_val = np.array(val_sequence)\n",
        "y_val = np.array(val_labels)"
      ]
    },
    {
      "cell_type": "code",
      "execution_count": 18,
      "metadata": {
        "colab": {
          "base_uri": "https://localhost:8080/"
        },
        "id": "m9SpYIHI54d1",
        "outputId": "bcdc45d0-d92f-4a41-c24f-23cbfb9dc9da"
      },
      "outputs": [
        {
          "name": "stderr",
          "output_type": "stream",
          "text": [
            "Tokenize: 100%|██████████| 3019/3019 [00:00<00:00, 3805.09it/s]\n",
            "Stop_word_removal: 100%|██████████| 3019/3019 [00:00<00:00, 69944.84it/s]\n",
            "Lemmatization: 100%|██████████| 3019/3019 [00:00<00:00, 6906.18it/s]\n",
            "Padding: 100%|██████████| 3019/3019 [00:00<00:00, 410736.77it/s]\n"
          ]
        }
      ],
      "source": [
        "# Test data\n",
        "test_sentences = data_preprocessing(test_sentences)\n",
        "test_sequence = text_to_sequence(test_sentences, word_vocab)\n",
        "test_sequence = padding(test_sequence, max_length)\n",
        "\n",
        "X_test = np.array(test_sequence)\n",
        "y_test = np.array(test_labels)"
      ]
    },
    {
      "cell_type": "code",
      "execution_count": 19,
      "metadata": {
        "colab": {
          "base_uri": "https://localhost:8080/"
        },
        "id": "7VjfjP6l54d1",
        "outputId": "f87f1358-6bdf-434e-81cd-4b6de91e7342"
      },
      "outputs": [
        {
          "name": "stdout",
          "output_type": "stream",
          "text": [
            "(6215, 200) (6215, 90)\n",
            "(1554, 200) (1554, 90)\n",
            "(3019, 200) (3019, 90)\n"
          ]
        }
      ],
      "source": [
        "print(X_train.shape, y_train.shape)\n",
        "print(X_val.shape, y_val.shape)\n",
        "print(X_test.shape, y_test.shape)"
      ]
    },
    {
      "cell_type": "code",
      "execution_count": 20,
      "metadata": {
        "colab": {
          "base_uri": "https://localhost:8080/"
        },
        "id": "rtkpnt3J54d2",
        "outputId": "613b4355-3fd5-4d4c-e842-3c64f82688e3"
      },
      "outputs": [
        {
          "name": "stdout",
          "output_type": "stream",
          "text": [
            "23423 200\n"
          ]
        }
      ],
      "source": [
        "print(vocab_size, max_length)"
      ]
    },
    {
      "cell_type": "code",
      "execution_count": 21,
      "metadata": {
        "id": "YAz99W0354d2"
      },
      "outputs": [],
      "source": [
        "# save word2idx, maxlength\n",
        "#change\n",
        "with open('Reuters-21578_bert_model/word2idx.pkl', 'wb') as f:\n",
        "    pickle.dump(word_vocab, f)\n",
        "\n",
        "with open('Reuters-21578_bert_model/maxlength.pkl', 'wb') as f:\n",
        "    pickle.dump(max_length, f)"
      ]
    },
    {
      "cell_type": "code",
      "execution_count": 22,
      "metadata": {
        "id": "6zwtyk5i54d2"
      },
      "outputs": [],
      "source": [
        "class CustomDataset(Dataset):\n",
        "    def __init__(self, sequence, labels):\n",
        "        self.sequence = sequence\n",
        "        self.labels = labels\n",
        "\n",
        "    def __len__(self):\n",
        "        return len(self.sequence)\n",
        "\n",
        "    def __getitem__(self, idx):\n",
        "        sequence_in = torch.tensor(self.sequence[idx])\n",
        "        output_label = torch.tensor(self.labels[idx]).float()\n",
        "        return sequence_in, output_label"
      ]
    },
    {
      "cell_type": "code",
      "execution_count": 23,
      "metadata": {
        "id": "RBs3Guep54d2"
      },
      "outputs": [],
      "source": [
        "batch_size = 64\n",
        "\n",
        "dataset_train = CustomDataset(X_train, y_train)\n",
        "dataloader_train = DataLoader(dataset_train, batch_size=batch_size, shuffle=True)\n",
        "\n",
        "dataset_val = CustomDataset(X_val, y_val)\n",
        "dataloader_val = DataLoader(dataset_val, batch_size=batch_size, shuffle=True)\n",
        "\n",
        "dataset_test = CustomDataset(X_test, y_test)\n",
        "dataloader_test = DataLoader(dataset_test, batch_size=batch_size, shuffle=True)"
      ]
    },
    {
      "cell_type": "code",
      "execution_count": 24,
      "metadata": {},
      "outputs": [
        {
          "name": "stderr",
          "output_type": "stream",
          "text": [
            "Some weights of the model checkpoint at bert-base-uncased were not used when initializing BertModel: ['cls.predictions.transform.LayerNorm.weight', 'cls.predictions.transform.dense.weight', 'cls.predictions.transform.LayerNorm.bias', 'cls.predictions.decoder.weight', 'cls.predictions.bias', 'cls.seq_relationship.weight', 'cls.seq_relationship.bias', 'cls.predictions.transform.dense.bias']\n",
            "- This IS expected if you are initializing BertModel from the checkpoint of a model trained on another task or with another architecture (e.g. initializing a BertForSequenceClassification model from a BertForPreTraining model).\n",
            "- This IS NOT expected if you are initializing BertModel from the checkpoint of a model that you expect to be exactly identical (initializing a BertForSequenceClassification model from a BertForSequenceClassification model).\n"
          ]
        }
      ],
      "source": [
        "bert_model = BertModel.from_pretrained('bert-base-uncased')\n",
        "tokenizer = BertTokenizer.from_pretrained('bert-base-uncased')"
      ]
    },
    {
      "cell_type": "code",
      "execution_count": 25,
      "metadata": {},
      "outputs": [
        {
          "name": "stderr",
          "output_type": "stream",
          "text": [
            "100%|██████████| 23423/23423 [07:31<00:00, 51.87it/s] \n"
          ]
        }
      ],
      "source": [
        "embeddings_dim = 768\n",
        "pretrained_embeddings = []\n",
        "\n",
        "for word in tqdm(word_vocab):\n",
        "    if word in tokenizer.vocab:\n",
        "        tokens = tokenizer.tokenize(word)\n",
        "        input_ids = tokenizer.convert_tokens_to_ids(tokens)\n",
        "        input_ids = [tokenizer.cls_token_id] + input_ids + [tokenizer.sep_token_id]\n",
        "        input_ids = torch.tensor(input_ids).unsqueeze(0)\n",
        "        outputs = bert_model(input_ids)\n",
        "        token_embedding = outputs[0][0][1:-1].detach().tolist()\n",
        "        token_embedding = np.array(token_embedding).reshape(embeddings_dim)\n",
        "        pretrained_embeddings.append(token_embedding)\n",
        "    else:\n",
        "        token_embedding = ([0] * embeddings_dim)\n",
        "        token_embedding = np.array(token_embedding)\n",
        "        pretrained_embeddings.append(token_embedding)"
      ]
    },
    {
      "cell_type": "code",
      "execution_count": 26,
      "metadata": {},
      "outputs": [
        {
          "name": "stdout",
          "output_type": "stream",
          "text": [
            "torch.Size([23423, 768])\n"
          ]
        },
        {
          "name": "stderr",
          "output_type": "stream",
          "text": [
            "C:\\Users\\biswa\\AppData\\Local\\Temp\\ipykernel_1224\\4288829487.py:1: UserWarning: Creating a tensor from a list of numpy.ndarrays is extremely slow. Please consider converting the list to a single numpy.ndarray with numpy.array() before converting to a tensor. (Triggered internally at ..\\torch\\csrc\\utils\\tensor_new.cpp:248.)\n",
            "  pretrained_embeddings = torch.Tensor(pretrained_embeddings)\n"
          ]
        }
      ],
      "source": [
        "pretrained_embeddings = torch.Tensor(pretrained_embeddings)\n",
        "print(pretrained_embeddings.shape)"
      ]
    },
    {
      "cell_type": "code",
      "execution_count": 27,
      "metadata": {
        "id": "3nSLcpSh54d3"
      },
      "outputs": [],
      "source": [
        "class GraphAttentionLayer(nn.Module):\n",
        "    def __init__(self, in_features, out_features, slope):\n",
        "        super(GraphAttentionLayer, self).__init__()\n",
        "        self.W = nn.Linear(in_features, out_features, bias=False)\n",
        "        self.a = nn.Linear(out_features * 2, 1, bias=False)\n",
        "        self.leakyrelu = nn.LeakyReLU(slope)\n",
        "        self.softmax = nn.Softmax(dim=1)\n",
        "\n",
        "    def forward(self, h, adj):\n",
        "        Wh = self.W(h)\n",
        "        num_nodes = Wh.size(0)\n",
        "        Whi = Wh.repeat_interleave(num_nodes, dim=0)\n",
        "        Whj = Wh.repeat(num_nodes, 1)\n",
        "        WhiWhj = torch.cat([Whi, Whj], dim=1)\n",
        "        Whcat = WhiWhj.view(num_nodes, num_nodes, Wh.size(1) * 2)\n",
        "        e = self.leakyrelu(self.a(Whcat).squeeze(2))\n",
        "        zero_vec = -9e15 * torch.ones_like(e)\n",
        "        attention = torch.where(adj > 0, e, zero_vec)\n",
        "        attention = self.softmax(attention)\n",
        "        h_hat = torch.mm(attention, Wh)\n",
        "        return h_hat\n",
        "\n",
        "\n",
        "class MAGNET(nn.Module):\n",
        "    def __init__(\n",
        "        self,\n",
        "        input_size,\n",
        "        hidden_size,\n",
        "        adjacency_matrix,\n",
        "        node_embeddings,\n",
        "        num_heads=4,\n",
        "        slope=0.01,\n",
        "        dropout=0.3,\n",
        "    ):\n",
        "\n",
        "        super(MAGNET, self).__init__()\n",
        "\n",
        "        self.node_embedding = nn.Embedding.from_pretrained(node_embeddings)\n",
        "\n",
        "        self.rnn = nn.LSTM(\n",
        "            input_size, hidden_size, batch_first=True, bidirectional=True\n",
        "        )\n",
        "\n",
        "        self.attentions1 = nn.ModuleList(\n",
        "            [\n",
        "                GraphAttentionLayer(input_size, hidden_size * 2, slope)\n",
        "                for _ in range(num_heads)\n",
        "            ]\n",
        "        )\n",
        "\n",
        "        self.tanh1 = nn.Tanh()\n",
        "\n",
        "        self.attentions2 = nn.ModuleList(\n",
        "            [\n",
        "                GraphAttentionLayer(hidden_size * 2, hidden_size * 2, slope)\n",
        "                for _ in range(num_heads)\n",
        "            ]\n",
        "        )\n",
        "\n",
        "        self.tanh2 = nn.Tanh()\n",
        "\n",
        "        self.adjacency_matrix = nn.Parameter(adjacency_matrix)\n",
        "\n",
        "        self.dropout = nn.Dropout(dropout)\n",
        "\n",
        "    def forward(self, tokens, label_embedding):\n",
        "\n",
        "        node_features = self.node_embedding(tokens).float()\n",
        "\n",
        "        lstm_output, (hidden, _) = self.rnn(node_features)\n",
        "\n",
        "        hidden_state = torch.cat([hidden[-2, :, :], hidden[-1, :, :]], dim=1)\n",
        "\n",
        "        hidden_state = self.dropout(hidden_state)\n",
        "\n",
        "        heads_out1 = [\n",
        "            att(label_embedding, self.adjacency_matrix) for att in self.attentions1\n",
        "        ]\n",
        "\n",
        "        head_out1_mean = self.tanh1(torch.stack(heads_out1, dim=0).mean(0))\n",
        "\n",
        "        heads_out2 = [\n",
        "            att(head_out1_mean, self.adjacency_matrix) for att in self.attentions2\n",
        "        ]\n",
        "\n",
        "        head_out2_mean = self.tanh2(torch.stack(heads_out2, dim=0).mean(0))\n",
        "\n",
        "        attention = self.dropout(head_out2_mean)\n",
        "\n",
        "        attention = attention.transpose(0, 1)\n",
        "\n",
        "        output = torch.mm(hidden_state, attention)\n",
        "\n",
        "        return output"
      ]
    },
    {
      "cell_type": "code",
      "execution_count": 28,
      "metadata": {
        "id": "ni6rSUO854d4"
      },
      "outputs": [],
      "source": [
        "def train_model(model, label_embedding, loss_function, optimizer, epochs, device, model_path):\n",
        "\n",
        "    train_loss, val_loss = [], []\n",
        "    total_time = 0\n",
        "    min_average_loss = float('inf')\n",
        "    \n",
        "    for epoch in range(epochs):\n",
        "        start_time = time.time()\n",
        "\n",
        "        print(\"Epoch : \", epoch + 1)\n",
        "\n",
        "        model.to(device)\n",
        "        model.train()\n",
        "        total_train_loss = 0\n",
        "        y_true_train, y_pred_train = [], []\n",
        "        for batch in tqdm(dataloader_train, desc='Training'):\n",
        "            sequence_in, output_label = batch\n",
        "            sequence_in, output_label = sequence_in.to(device), output_label.to(device)\n",
        "\n",
        "            model.zero_grad()\n",
        "            pred_batch = model(sequence_in, label_embedding)\n",
        "            loss = loss_function(pred_batch, output_label)\n",
        "            total_train_loss += loss.item()\n",
        "\n",
        "            y_true_train.extend(output_label.cpu().detach().numpy().tolist())\n",
        "            y_pred_train.extend(torch.sigmoid(pred_batch.cpu().detach()).numpy().tolist())\n",
        "\n",
        "            loss.backward()\n",
        "            \n",
        "            clip_grad_norm_(model.parameters(), max_norm=10)\n",
        "            optimizer.step()\n",
        "        \n",
        "\n",
        "        model.eval()        \n",
        "        total_val_loss = 0\n",
        "        y_true_val, y_pred_val = [], []\n",
        "        with torch.no_grad():\n",
        "            for batch in tqdm(dataloader_val, desc='Evaluate'):\n",
        "                sequence_in, output_label = batch\n",
        "                sequence_in, output_label = sequence_in.to(device), output_label.to(device)\n",
        "\n",
        "                pred_batch = model(sequence_in, label_embedding)\n",
        "                loss = loss_function(pred_batch, output_label)\n",
        "                total_val_loss += loss.item()\n",
        "\n",
        "                y_true_val.extend(output_label.cpu().detach().numpy().tolist())\n",
        "                y_pred_val.extend(torch.sigmoid(pred_batch.cpu().detach()).numpy().tolist())\n",
        "\n",
        "        y_true_train = np.array(y_true_train)\n",
        "        y_pred_train = np.array(y_pred_train)\n",
        "        y_true_val = np.array(y_true_val)\n",
        "        y_pred_val = np.array(y_pred_val)\n",
        "\n",
        "        y_pred_train = y_pred_train >= 0.5\n",
        "        y_pred_val = y_pred_val >= 0.5\n",
        "\n",
        "        train_f1_score_micro = metrics.f1_score(y_true_train, y_pred_train, average='micro')\n",
        "        val_f1_score_micro = metrics.f1_score(y_true_val, y_pred_val, average='micro')\n",
        "\n",
        "        average_train_loss = float(total_train_loss / len(dataloader_train))\n",
        "        average_val_loss = float(total_val_loss / len(dataloader_val))\n",
        "\n",
        "        print('Train F1 Score (Micro)', train_f1_score_micro)\n",
        "        print('Val F1 Score (Micro)', val_f1_score_micro)\n",
        "        print('Train loss', average_train_loss)\n",
        "        print('Val loss', average_val_loss)\n",
        "\n",
        "        train_loss.append(average_train_loss)\n",
        "        val_loss.append(average_val_loss)\n",
        "\n",
        "        if average_val_loss < min_average_loss:\n",
        "            min_average_loss = average_val_loss\n",
        "            #change\n",
        "            torch.save(model, \"Reuters-21578_bert_model/\" + model_path)\n",
        "            print(\"Best model saved\")\n",
        "            \n",
        "        print(\"------------------------------------------------\")\n",
        "\n",
        "        end_time = time.time()\n",
        "        epoch_time = end_time - start_time\n",
        "        total_time += epoch_time\n",
        "\n",
        "    avg_epoch_time = total_time / epochs\n",
        "    return train_loss, val_loss, avg_epoch_time"
      ]
    },
    {
      "cell_type": "code",
      "execution_count": 29,
      "metadata": {
        "id": "zAZiohgM7bYm"
      },
      "outputs": [],
      "source": [
        "def buildAdjacencyCOOC(data_label):\n",
        "  adj = data_label.T.dot(data_label).astype('float')\n",
        "  \n",
        "  for i in range(len(adj)):\n",
        "    adj[i] = adj[i] / adj[i,i]\n",
        "  \n",
        "  return torch.from_numpy(adj.astype('float32'))"
      ]
    },
    {
      "cell_type": "code",
      "execution_count": 30,
      "metadata": {
        "id": "CUVPHPkz7kTx"
      },
      "outputs": [],
      "source": [
        "adjacency = buildAdjacencyCOOC(y_train)"
      ]
    },
    {
      "cell_type": "code",
      "execution_count": 31,
      "metadata": {
        "colab": {
          "base_uri": "https://localhost:8080/"
        },
        "id": "n9xTU5-q7soF",
        "outputId": "a5e1f933-1ce9-4f2a-8629-861f3f5876df"
      },
      "outputs": [
        {
          "name": "stdout",
          "output_type": "stream",
          "text": [
            "tensor([[ 0.0000,  0.0000,  0.0000,  ...,  0.0000,  0.0000,  0.0000],\n",
            "        [ 0.0000,  0.0000,  0.0000,  ...,  0.0000,  0.0000,  0.0000],\n",
            "        [-0.3520, -0.0208, -0.5637,  ...,  0.3664, -0.2522, -0.4625],\n",
            "        ...,\n",
            "        [ 0.0000,  0.0000,  0.0000,  ...,  0.0000,  0.0000,  0.0000],\n",
            "        [-0.2010, -0.6140, -0.0010,  ...,  0.6233,  0.3900,  0.3414],\n",
            "        [-0.7552, -0.1527, -0.2775,  ..., -0.1342, -0.0843,  0.0384]],\n",
            "       device='cuda:0') torch.Size([90, 768])\n"
          ]
        }
      ],
      "source": [
        "label_embedding = torch.zeros(90, 768)\n",
        "\n",
        "defined_labels = ['acq', 'alum', 'barley', 'bop', 'carcass', 'castor-oil', 'cocoa',\n",
        "       'coconut', 'coconut-oil', 'coffee', 'copper', 'copra-cake', 'corn',\n",
        "       'cotton', 'cotton-oil', 'cpi', 'cpu', 'crude', 'dfl', 'dlr', 'dmk',\n",
        "       'earn', 'fuel', 'gas', 'gnp', 'gold', 'grain', 'groundnut',\n",
        "       'groundnut-oil', 'heat', 'hog', 'housing', 'income', 'instal-debt',\n",
        "       'interest', 'ipi', 'iron-steel', 'jet', 'jobs', 'l-cattle', 'lead',\n",
        "       'lei', 'lin-oil', 'livestock', 'lumber', 'meal-feed', 'money-fx',\n",
        "       'money-supply', 'naphtha', 'nat-gas', 'nickel', 'nkr', 'nz-dlr',\n",
        "       'oat', 'oilseed', 'orange', 'palladium', 'palm-oil', 'palm-kernel',\n",
        "       'pet-chem', 'platinum', 'potato', 'propane', 'rand', 'rape-oil',\n",
        "       'rapeseed', 'reserves', 'retail', 'rice', 'rubber', 'rye', 'ship',\n",
        "       'silver', 'sorghum', 'soy-meal', 'soy-oil', 'soybean',\n",
        "       'strategic-metal', 'sugar', 'sun-meal', 'sun-oil', 'sun-seed',\n",
        "       'tea', 'tin', 'trade', 'veg-oil', 'wheat', 'wpi', 'yen', 'zinc']\n",
        "\n",
        "for index, label in enumerate(defined_labels):\n",
        "  words = label.split('-')\n",
        "  num_of_words = len(words)\n",
        "  \n",
        "  for sublabel in words:\n",
        "      if sublabel in tokenizer.vocab:\n",
        "          tokens = tokenizer.tokenize(sublabel)\n",
        "          input_ids = tokenizer.convert_tokens_to_ids(tokens)\n",
        "          input_ids = [tokenizer.cls_token_id] + input_ids + [tokenizer.sep_token_id]\n",
        "          input_ids = torch.tensor(input_ids).unsqueeze(0)\n",
        "          outputs = bert_model(input_ids)\n",
        "          token_embedding = outputs[0][0][1:-1].detach().tolist()\n",
        "          token_embedding = np.array(token_embedding).reshape(embeddings_dim)\n",
        "          label_embedding[index] +=  torch.from_numpy(token_embedding)\n",
        "      \n",
        "  label_embedding[index] = label_embedding[index]/num_of_words\n",
        "\n",
        "label_embedding = label_embedding.float().to(device)\n",
        "print(label_embedding, label_embedding.shape)"
      ]
    },
    {
      "cell_type": "code",
      "execution_count": 32,
      "metadata": {
        "id": "frf2lM-9uT-2"
      },
      "outputs": [],
      "source": [
        "#change\n",
        "with open('Reuters-21578_bert_model/label_embedding.pkl', 'wb') as f:\n",
        "    pickle.dump(label_embedding, f)"
      ]
    },
    {
      "cell_type": "code",
      "execution_count": 33,
      "metadata": {
        "id": "vYqod93PH2nM"
      },
      "outputs": [
        {
          "name": "stdout",
          "output_type": "stream",
          "text": [
            "Zero Labelling Check\n",
            "Zero Labelling Check\n",
            "Zero Labelling Check\n",
            "Zero Labelling Check\n",
            "Zero Labelling Check\n",
            "Zero Labelling Check\n",
            "Zero Labelling Check\n",
            "Zero Labelling Check\n",
            "Zero Labelling Check\n",
            "Zero Labelling Check\n",
            "Zero Labelling Check\n",
            "Zero Labelling Check\n",
            "Zero Labelling Check\n",
            "Zero Labelling Check\n",
            "Zero Labelling Check\n",
            "Zero Labelling Check\n",
            "Zero Labelling Check\n",
            "Zero Labelling Check\n",
            "Zero Labelling Check\n"
          ]
        }
      ],
      "source": [
        "for word in label_embedding : \n",
        "    if(word[0] == 0) :\n",
        "        print(\"Zero Labelling Check\")"
      ]
    },
    {
      "cell_type": "code",
      "execution_count": 34,
      "metadata": {
        "colab": {
          "base_uri": "https://localhost:8080/"
        },
        "id": "jZeJOOYX54d3",
        "outputId": "3b5d7b74-3196-40ef-b06e-0861829d92b7"
      },
      "outputs": [
        {
          "name": "stdout",
          "output_type": "stream",
          "text": [
            "Epoch :  1\n"
          ]
        },
        {
          "name": "stderr",
          "output_type": "stream",
          "text": [
            "Training: 100%|██████████| 98/98 [00:08<00:00, 11.45it/s]\n",
            "Evaluate: 100%|██████████| 25/25 [00:00<00:00, 35.61it/s]\n"
          ]
        },
        {
          "name": "stdout",
          "output_type": "stream",
          "text": [
            "Train F1 Score (Micro) 0.01595408895265423\n",
            "Val F1 Score (Micro) 0.0\n",
            "Train loss 0.1395069908122627\n",
            "Val loss 0.06963658794760703\n",
            "Best model saved\n",
            "------------------------------------------------\n",
            "Epoch :  2\n"
          ]
        },
        {
          "name": "stderr",
          "output_type": "stream",
          "text": [
            "Training: 100%|██████████| 98/98 [00:06<00:00, 15.50it/s]\n",
            "Evaluate: 100%|██████████| 25/25 [00:00<00:00, 37.92it/s]\n"
          ]
        },
        {
          "name": "stdout",
          "output_type": "stream",
          "text": [
            "Train F1 Score (Micro) 0.0\n",
            "Val F1 Score (Micro) 0.0\n",
            "Train loss 0.06599076700453856\n",
            "Val loss 0.05849420875310898\n",
            "Best model saved\n",
            "------------------------------------------------\n",
            "Epoch :  3\n"
          ]
        },
        {
          "name": "stderr",
          "output_type": "stream",
          "text": [
            "Training: 100%|██████████| 98/98 [00:06<00:00, 15.59it/s]\n",
            "Evaluate: 100%|██████████| 25/25 [00:00<00:00, 40.10it/s]\n"
          ]
        },
        {
          "name": "stdout",
          "output_type": "stream",
          "text": [
            "Train F1 Score (Micro) 0.11291090995712245\n",
            "Val F1 Score (Micro) 0.30872483221476515\n",
            "Train loss 0.05494766978889096\n",
            "Val loss 0.05268735349178314\n",
            "Best model saved\n",
            "------------------------------------------------\n",
            "Epoch :  4\n"
          ]
        },
        {
          "name": "stderr",
          "output_type": "stream",
          "text": [
            "Training: 100%|██████████| 98/98 [00:06<00:00, 15.05it/s]\n",
            "Evaluate: 100%|██████████| 25/25 [00:00<00:00, 36.45it/s]\n"
          ]
        },
        {
          "name": "stdout",
          "output_type": "stream",
          "text": [
            "Train F1 Score (Micro) 0.32029365495542733\n",
            "Val F1 Score (Micro) 0.37663986457892507\n",
            "Train loss 0.050745062929178984\n",
            "Val loss 0.04821195423603058\n",
            "Best model saved\n",
            "------------------------------------------------\n",
            "Epoch :  5\n"
          ]
        },
        {
          "name": "stderr",
          "output_type": "stream",
          "text": [
            "Training: 100%|██████████| 98/98 [00:06<00:00, 15.42it/s]\n",
            "Evaluate: 100%|██████████| 25/25 [00:00<00:00, 39.25it/s]\n"
          ]
        },
        {
          "name": "stdout",
          "output_type": "stream",
          "text": [
            "Train F1 Score (Micro) 0.3764753764753765\n",
            "Val F1 Score (Micro) 0.40049958368026645\n",
            "Train loss 0.04794059116013196\n",
            "Val loss 0.04607490256428719\n",
            "Best model saved\n",
            "------------------------------------------------\n",
            "Epoch :  6\n"
          ]
        },
        {
          "name": "stderr",
          "output_type": "stream",
          "text": [
            "Training: 100%|██████████| 98/98 [00:06<00:00, 15.60it/s]\n",
            "Evaluate: 100%|██████████| 25/25 [00:00<00:00, 38.03it/s]\n"
          ]
        },
        {
          "name": "stdout",
          "output_type": "stream",
          "text": [
            "Train F1 Score (Micro) 0.401607232546459\n",
            "Val F1 Score (Micro) 0.4123298638911128\n",
            "Train loss 0.04515503573098353\n",
            "Val loss 0.043336213529109956\n",
            "Best model saved\n",
            "------------------------------------------------\n",
            "Epoch :  7\n"
          ]
        },
        {
          "name": "stderr",
          "output_type": "stream",
          "text": [
            "Training: 100%|██████████| 98/98 [00:06<00:00, 15.43it/s]\n",
            "Evaluate: 100%|██████████| 25/25 [00:00<00:00, 38.14it/s]\n"
          ]
        },
        {
          "name": "stdout",
          "output_type": "stream",
          "text": [
            "Train F1 Score (Micro) 0.3971602434077079\n",
            "Val F1 Score (Micro) 0.3885618166526492\n",
            "Train loss 0.04354848716484041\n",
            "Val loss 0.042999661341309545\n",
            "Best model saved\n",
            "------------------------------------------------\n",
            "Epoch :  8\n"
          ]
        },
        {
          "name": "stderr",
          "output_type": "stream",
          "text": [
            "Training: 100%|██████████| 98/98 [00:06<00:00, 15.52it/s]\n",
            "Evaluate: 100%|██████████| 25/25 [00:00<00:00, 39.89it/s]\n"
          ]
        },
        {
          "name": "stdout",
          "output_type": "stream",
          "text": [
            "Train F1 Score (Micro) 0.40388703310051627\n",
            "Val F1 Score (Micro) 0.42242400315831036\n",
            "Train loss 0.04184807361844851\n",
            "Val loss 0.040292797312140465\n",
            "Best model saved\n",
            "------------------------------------------------\n",
            "Epoch :  9\n"
          ]
        },
        {
          "name": "stderr",
          "output_type": "stream",
          "text": [
            "Training: 100%|██████████| 98/98 [00:06<00:00, 15.48it/s]\n",
            "Evaluate: 100%|██████████| 25/25 [00:00<00:00, 38.08it/s]\n"
          ]
        },
        {
          "name": "stdout",
          "output_type": "stream",
          "text": [
            "Train F1 Score (Micro) 0.42385411532774764\n",
            "Val F1 Score (Micro) 0.430622009569378\n",
            "Train loss 0.03993507029906827\n",
            "Val loss 0.041286502480506894\n",
            "------------------------------------------------\n",
            "Epoch :  10\n"
          ]
        },
        {
          "name": "stderr",
          "output_type": "stream",
          "text": [
            "Training: 100%|██████████| 98/98 [00:06<00:00, 15.52it/s]\n",
            "Evaluate: 100%|██████████| 25/25 [00:00<00:00, 36.75it/s]\n"
          ]
        },
        {
          "name": "stdout",
          "output_type": "stream",
          "text": [
            "Train F1 Score (Micro) 0.44625719769673705\n",
            "Val F1 Score (Micro) 0.4480961923847696\n",
            "Train loss 0.03887030885231738\n",
            "Val loss 0.037787533700466155\n",
            "Best model saved\n",
            "------------------------------------------------\n",
            "Epoch :  11\n"
          ]
        },
        {
          "name": "stderr",
          "output_type": "stream",
          "text": [
            "Training: 100%|██████████| 98/98 [00:06<00:00, 15.26it/s]\n",
            "Evaluate: 100%|██████████| 25/25 [00:00<00:00, 36.79it/s]\n"
          ]
        },
        {
          "name": "stdout",
          "output_type": "stream",
          "text": [
            "Train F1 Score (Micro) 0.4523764077113952\n",
            "Val F1 Score (Micro) 0.4180698151950719\n",
            "Train loss 0.0380088187259983\n",
            "Val loss 0.0374391458183527\n",
            "Best model saved\n",
            "------------------------------------------------\n",
            "Epoch :  12\n"
          ]
        },
        {
          "name": "stderr",
          "output_type": "stream",
          "text": [
            "Training: 100%|██████████| 98/98 [00:08<00:00, 11.28it/s]\n",
            "Evaluate: 100%|██████████| 25/25 [00:00<00:00, 35.37it/s]\n"
          ]
        },
        {
          "name": "stdout",
          "output_type": "stream",
          "text": [
            "Train F1 Score (Micro) 0.5029101491451438\n",
            "Val F1 Score (Micro) 0.5630457561997905\n",
            "Train loss 0.035253608960430234\n",
            "Val loss 0.03298423618078232\n",
            "Best model saved\n",
            "------------------------------------------------\n",
            "Epoch :  13\n"
          ]
        },
        {
          "name": "stderr",
          "output_type": "stream",
          "text": [
            "Training: 100%|██████████| 98/98 [00:06<00:00, 14.98it/s]\n",
            "Evaluate: 100%|██████████| 25/25 [00:00<00:00, 36.85it/s]\n"
          ]
        },
        {
          "name": "stdout",
          "output_type": "stream",
          "text": [
            "Train F1 Score (Micro) 0.528686327077748\n",
            "Val F1 Score (Micro) 0.5867486338797815\n",
            "Train loss 0.03419782937865476\n",
            "Val loss 0.032382102757692335\n",
            "Best model saved\n",
            "------------------------------------------------\n",
            "Epoch :  14\n"
          ]
        },
        {
          "name": "stderr",
          "output_type": "stream",
          "text": [
            "Training: 100%|██████████| 98/98 [00:06<00:00, 15.16it/s]\n",
            "Evaluate: 100%|██████████| 25/25 [00:00<00:00, 36.76it/s]\n"
          ]
        },
        {
          "name": "stdout",
          "output_type": "stream",
          "text": [
            "Train F1 Score (Micro) 0.5570440416776113\n",
            "Val F1 Score (Micro) 0.5832167832167833\n",
            "Train loss 0.03369424345770052\n",
            "Val loss 0.03251844979822636\n",
            "------------------------------------------------\n",
            "Epoch :  15\n"
          ]
        },
        {
          "name": "stderr",
          "output_type": "stream",
          "text": [
            "Training: 100%|██████████| 98/98 [00:06<00:00, 15.18it/s]\n",
            "Evaluate: 100%|██████████| 25/25 [00:00<00:00, 35.98it/s]\n"
          ]
        },
        {
          "name": "stdout",
          "output_type": "stream",
          "text": [
            "Train F1 Score (Micro) 0.5839909808342729\n",
            "Val F1 Score (Micro) 0.5748546511627907\n",
            "Train loss 0.03180210946165785\n",
            "Val loss 0.03034121632575989\n",
            "Best model saved\n",
            "------------------------------------------------\n",
            "Epoch :  16\n"
          ]
        },
        {
          "name": "stderr",
          "output_type": "stream",
          "text": [
            "Training: 100%|██████████| 98/98 [00:06<00:00, 15.09it/s]\n",
            "Evaluate: 100%|██████████| 25/25 [00:00<00:00, 35.46it/s]\n"
          ]
        },
        {
          "name": "stdout",
          "output_type": "stream",
          "text": [
            "Train F1 Score (Micro) 0.5917577217585822\n",
            "Val F1 Score (Micro) 0.5862068965517242\n",
            "Train loss 0.030626013856001045\n",
            "Val loss 0.03024536557495594\n",
            "Best model saved\n",
            "------------------------------------------------\n",
            "Epoch :  17\n"
          ]
        },
        {
          "name": "stderr",
          "output_type": "stream",
          "text": [
            "Training: 100%|██████████| 98/98 [00:06<00:00, 15.09it/s]\n",
            "Evaluate: 100%|██████████| 25/25 [00:00<00:00, 37.12it/s]\n"
          ]
        },
        {
          "name": "stdout",
          "output_type": "stream",
          "text": [
            "Train F1 Score (Micro) 0.5987402110997616\n",
            "Val F1 Score (Micro) 0.611344537815126\n",
            "Train loss 0.029861611418654115\n",
            "Val loss 0.028930883780121805\n",
            "Best model saved\n",
            "------------------------------------------------\n",
            "Epoch :  18\n"
          ]
        },
        {
          "name": "stderr",
          "output_type": "stream",
          "text": [
            "Training: 100%|██████████| 98/98 [00:06<00:00, 15.17it/s]\n",
            "Evaluate: 100%|██████████| 25/25 [00:00<00:00, 34.18it/s]\n"
          ]
        },
        {
          "name": "stdout",
          "output_type": "stream",
          "text": [
            "Train F1 Score (Micro) 0.6266599428475375\n",
            "Val F1 Score (Micro) 0.6042857142857143\n",
            "Train loss 0.028236579216484512\n",
            "Val loss 0.02978850722312927\n",
            "------------------------------------------------\n",
            "Epoch :  19\n"
          ]
        },
        {
          "name": "stderr",
          "output_type": "stream",
          "text": [
            "Training: 100%|██████████| 98/98 [00:06<00:00, 15.23it/s]\n",
            "Evaluate: 100%|██████████| 25/25 [00:00<00:00, 37.03it/s]\n"
          ]
        },
        {
          "name": "stdout",
          "output_type": "stream",
          "text": [
            "Train F1 Score (Micro) 0.6362801569413139\n",
            "Val F1 Score (Micro) 0.6273830155979202\n",
            "Train loss 0.027745963891549985\n",
            "Val loss 0.02915218226611614\n",
            "------------------------------------------------\n",
            "Epoch :  20\n"
          ]
        },
        {
          "name": "stderr",
          "output_type": "stream",
          "text": [
            "Training: 100%|██████████| 98/98 [00:06<00:00, 15.14it/s]\n",
            "Evaluate: 100%|██████████| 25/25 [00:00<00:00, 36.98it/s]\n"
          ]
        },
        {
          "name": "stdout",
          "output_type": "stream",
          "text": [
            "Train F1 Score (Micro) 0.6538049303322616\n",
            "Val F1 Score (Micro) 0.641008174386921\n",
            "Train loss 0.026843341533094645\n",
            "Val loss 0.0275480205565691\n",
            "Best model saved\n",
            "------------------------------------------------\n",
            "Epoch :  21\n"
          ]
        },
        {
          "name": "stderr",
          "output_type": "stream",
          "text": [
            "Training: 100%|██████████| 98/98 [00:06<00:00, 15.25it/s]\n",
            "Evaluate: 100%|██████████| 25/25 [00:00<00:00, 37.96it/s]\n"
          ]
        },
        {
          "name": "stdout",
          "output_type": "stream",
          "text": [
            "Train F1 Score (Micro) 0.666503308012742\n",
            "Val F1 Score (Micro) 0.6239436619718309\n",
            "Train loss 0.026017733250877688\n",
            "Val loss 0.028088097274303437\n",
            "------------------------------------------------\n",
            "Epoch :  22\n"
          ]
        },
        {
          "name": "stderr",
          "output_type": "stream",
          "text": [
            "Training: 100%|██████████| 98/98 [00:06<00:00, 14.88it/s]\n",
            "Evaluate: 100%|██████████| 25/25 [00:00<00:00, 36.73it/s]\n"
          ]
        },
        {
          "name": "stdout",
          "output_type": "stream",
          "text": [
            "Train F1 Score (Micro) 0.674499635361802\n",
            "Val F1 Score (Micro) 0.6564833672776645\n",
            "Train loss 0.02486779574989056\n",
            "Val loss 0.026155556738376617\n",
            "Best model saved\n",
            "------------------------------------------------\n",
            "Epoch :  23\n"
          ]
        },
        {
          "name": "stderr",
          "output_type": "stream",
          "text": [
            "Training: 100%|██████████| 98/98 [00:06<00:00, 15.27it/s]\n",
            "Evaluate: 100%|██████████| 25/25 [00:00<00:00, 36.96it/s]\n"
          ]
        },
        {
          "name": "stdout",
          "output_type": "stream",
          "text": [
            "Train F1 Score (Micro) 0.684323893099322\n",
            "Val F1 Score (Micro) 0.6736703873933026\n",
            "Train loss 0.02430154560894078\n",
            "Val loss 0.025677337087690832\n",
            "Best model saved\n",
            "------------------------------------------------\n",
            "Epoch :  24\n"
          ]
        },
        {
          "name": "stderr",
          "output_type": "stream",
          "text": [
            "Training: 100%|██████████| 98/98 [00:07<00:00, 12.45it/s]\n",
            "Evaluate: 100%|██████████| 25/25 [00:01<00:00, 22.71it/s]\n"
          ]
        },
        {
          "name": "stdout",
          "output_type": "stream",
          "text": [
            "Train F1 Score (Micro) 0.6947752898205495\n",
            "Val F1 Score (Micro) 0.6517857142857143\n",
            "Train loss 0.023329016210853447\n",
            "Val loss 0.026001819372177125\n",
            "------------------------------------------------\n",
            "Epoch :  25\n"
          ]
        },
        {
          "name": "stderr",
          "output_type": "stream",
          "text": [
            "Training: 100%|██████████| 98/98 [00:06<00:00, 14.85it/s]\n",
            "Evaluate: 100%|██████████| 25/25 [00:00<00:00, 37.02it/s]\n"
          ]
        },
        {
          "name": "stdout",
          "output_type": "stream",
          "text": [
            "Train F1 Score (Micro) 0.7060309441111461\n",
            "Val F1 Score (Micro) 0.7008871989860583\n",
            "Train loss 0.02235099226616475\n",
            "Val loss 0.024282368160784246\n",
            "Best model saved\n",
            "------------------------------------------------\n",
            "Epoch :  26\n"
          ]
        },
        {
          "name": "stderr",
          "output_type": "stream",
          "text": [
            "Training: 100%|██████████| 98/98 [00:06<00:00, 14.77it/s]\n",
            "Evaluate: 100%|██████████| 25/25 [00:00<00:00, 36.42it/s]\n"
          ]
        },
        {
          "name": "stdout",
          "output_type": "stream",
          "text": [
            "Train F1 Score (Micro) 0.7161089494163425\n",
            "Val F1 Score (Micro) 0.6784996651038179\n",
            "Train loss 0.021676393967045814\n",
            "Val loss 0.02656812809407711\n",
            "------------------------------------------------\n",
            "Epoch :  27\n"
          ]
        },
        {
          "name": "stderr",
          "output_type": "stream",
          "text": [
            "Training: 100%|██████████| 98/98 [00:06<00:00, 15.30it/s]\n",
            "Evaluate: 100%|██████████| 25/25 [00:00<00:00, 37.04it/s]\n"
          ]
        },
        {
          "name": "stdout",
          "output_type": "stream",
          "text": [
            "Train F1 Score (Micro) 0.7278632743020647\n",
            "Val F1 Score (Micro) 0.7046496398166339\n",
            "Train loss 0.02110170587251077\n",
            "Val loss 0.023308541029691696\n",
            "Best model saved\n",
            "------------------------------------------------\n",
            "Epoch :  28\n"
          ]
        },
        {
          "name": "stderr",
          "output_type": "stream",
          "text": [
            "Training: 100%|██████████| 98/98 [00:06<00:00, 15.28it/s]\n",
            "Evaluate: 100%|██████████| 25/25 [00:00<00:00, 36.62it/s]\n"
          ]
        },
        {
          "name": "stdout",
          "output_type": "stream",
          "text": [
            "Train F1 Score (Micro) 0.7413488836031612\n",
            "Val F1 Score (Micro) 0.7184713375796178\n",
            "Train loss 0.020040597827221285\n",
            "Val loss 0.02306264229118824\n",
            "Best model saved\n",
            "------------------------------------------------\n",
            "Epoch :  29\n"
          ]
        },
        {
          "name": "stderr",
          "output_type": "stream",
          "text": [
            "Training: 100%|██████████| 98/98 [00:06<00:00, 15.22it/s]\n",
            "Evaluate: 100%|██████████| 25/25 [00:00<00:00, 36.31it/s]\n"
          ]
        },
        {
          "name": "stdout",
          "output_type": "stream",
          "text": [
            "Train F1 Score (Micro) 0.7521626954014267\n",
            "Val F1 Score (Micro) 0.7012435547467396\n",
            "Train loss 0.019576188395446052\n",
            "Val loss 0.02459766447544098\n",
            "------------------------------------------------\n",
            "Epoch :  30\n"
          ]
        },
        {
          "name": "stderr",
          "output_type": "stream",
          "text": [
            "Training: 100%|██████████| 98/98 [00:06<00:00, 15.02it/s]\n",
            "Evaluate: 100%|██████████| 25/25 [00:00<00:00, 34.81it/s]\n"
          ]
        },
        {
          "name": "stdout",
          "output_type": "stream",
          "text": [
            "Train F1 Score (Micro) 0.7427747857088676\n",
            "Val F1 Score (Micro) 0.7291203556684661\n",
            "Train loss 0.020118937304965695\n",
            "Val loss 0.023463262543082238\n",
            "------------------------------------------------\n",
            "Epoch :  31\n"
          ]
        },
        {
          "name": "stderr",
          "output_type": "stream",
          "text": [
            "Training: 100%|██████████| 98/98 [00:06<00:00, 15.17it/s]\n",
            "Evaluate: 100%|██████████| 25/25 [00:00<00:00, 36.67it/s]\n"
          ]
        },
        {
          "name": "stdout",
          "output_type": "stream",
          "text": [
            "Train F1 Score (Micro) 0.7535359614805899\n",
            "Val F1 Score (Micro) 0.7377777777777778\n",
            "Train loss 0.019044579035241385\n",
            "Val loss 0.022534276396036147\n",
            "Best model saved\n",
            "------------------------------------------------\n",
            "Epoch :  32\n"
          ]
        },
        {
          "name": "stderr",
          "output_type": "stream",
          "text": [
            "Training: 100%|██████████| 98/98 [00:06<00:00, 15.13it/s]\n",
            "Evaluate: 100%|██████████| 25/25 [00:00<00:00, 35.98it/s]\n"
          ]
        },
        {
          "name": "stdout",
          "output_type": "stream",
          "text": [
            "Train F1 Score (Micro) 0.7593342330184435\n",
            "Val F1 Score (Micro) 0.7182823682498374\n",
            "Train loss 0.01855747041539574\n",
            "Val loss 0.024401883892714978\n",
            "------------------------------------------------\n",
            "Epoch :  33\n"
          ]
        },
        {
          "name": "stderr",
          "output_type": "stream",
          "text": [
            "Training: 100%|██████████| 98/98 [00:06<00:00, 15.11it/s]\n",
            "Evaluate: 100%|██████████| 25/25 [00:00<00:00, 37.12it/s]\n"
          ]
        },
        {
          "name": "stdout",
          "output_type": "stream",
          "text": [
            "Train F1 Score (Micro) 0.7706599286563615\n",
            "Val F1 Score (Micro) 0.7276843467011643\n",
            "Train loss 0.017360566858658378\n",
            "Val loss 0.02223866917192936\n",
            "Best model saved\n",
            "------------------------------------------------\n",
            "Epoch :  34\n"
          ]
        },
        {
          "name": "stderr",
          "output_type": "stream",
          "text": [
            "Training: 100%|██████████| 98/98 [00:06<00:00, 15.26it/s]\n",
            "Evaluate: 100%|██████████| 25/25 [00:00<00:00, 36.83it/s]\n"
          ]
        },
        {
          "name": "stdout",
          "output_type": "stream",
          "text": [
            "Train F1 Score (Micro) 0.7802311796087731\n",
            "Val F1 Score (Micro) 0.7430535663133774\n",
            "Train loss 0.0168099294663692\n",
            "Val loss 0.023885141722857953\n",
            "------------------------------------------------\n",
            "Epoch :  35\n"
          ]
        },
        {
          "name": "stderr",
          "output_type": "stream",
          "text": [
            "Training: 100%|██████████| 98/98 [00:06<00:00, 15.26it/s]\n",
            "Evaluate: 100%|██████████| 25/25 [00:00<00:00, 37.73it/s]\n"
          ]
        },
        {
          "name": "stdout",
          "output_type": "stream",
          "text": [
            "Train F1 Score (Micro) 0.7842847647884204\n",
            "Val F1 Score (Micro) 0.7532710280373831\n",
            "Train loss 0.016811490092160448\n",
            "Val loss 0.02349475644528866\n",
            "------------------------------------------------\n",
            "Epoch :  36\n"
          ]
        },
        {
          "name": "stderr",
          "output_type": "stream",
          "text": [
            "Training: 100%|██████████| 98/98 [00:06<00:00, 15.07it/s]\n",
            "Evaluate: 100%|██████████| 25/25 [00:00<00:00, 35.96it/s]\n"
          ]
        },
        {
          "name": "stdout",
          "output_type": "stream",
          "text": [
            "Train F1 Score (Micro) 0.7573682643643942\n",
            "Val F1 Score (Micro) 0.7586837294332723\n",
            "Train loss 0.018360639808281343\n",
            "Val loss 0.02179818131029606\n",
            "Best model saved\n",
            "------------------------------------------------\n",
            "Epoch :  37\n"
          ]
        },
        {
          "name": "stderr",
          "output_type": "stream",
          "text": [
            "Training: 100%|██████████| 98/98 [00:06<00:00, 15.21it/s]\n",
            "Evaluate: 100%|██████████| 25/25 [00:00<00:00, 36.90it/s]\n"
          ]
        },
        {
          "name": "stdout",
          "output_type": "stream",
          "text": [
            "Train F1 Score (Micro) 0.7843715444157758\n",
            "Val F1 Score (Micro) 0.7513161969650045\n",
            "Train loss 0.016919303172248965\n",
            "Val loss 0.022301214560866357\n",
            "------------------------------------------------\n",
            "Epoch :  38\n"
          ]
        },
        {
          "name": "stderr",
          "output_type": "stream",
          "text": [
            "Training: 100%|██████████| 98/98 [00:06<00:00, 15.04it/s]\n",
            "Evaluate: 100%|██████████| 25/25 [00:00<00:00, 35.23it/s]\n"
          ]
        },
        {
          "name": "stdout",
          "output_type": "stream",
          "text": [
            "Train F1 Score (Micro) 0.7840458351696783\n",
            "Val F1 Score (Micro) 0.7551333129022372\n",
            "Train loss 0.01621015969787401\n",
            "Val loss 0.02314817424863577\n",
            "------------------------------------------------\n",
            "Epoch :  39\n"
          ]
        },
        {
          "name": "stderr",
          "output_type": "stream",
          "text": [
            "Training: 100%|██████████| 98/98 [00:07<00:00, 13.85it/s]\n",
            "Evaluate: 100%|██████████| 25/25 [00:00<00:00, 34.89it/s]\n"
          ]
        },
        {
          "name": "stdout",
          "output_type": "stream",
          "text": [
            "Train F1 Score (Micro) 0.7968510824404111\n",
            "Val F1 Score (Micro) 0.7409061901723037\n",
            "Train loss 0.01573643332575353\n",
            "Val loss 0.023566458858549594\n",
            "------------------------------------------------\n",
            "Epoch :  40\n"
          ]
        },
        {
          "name": "stderr",
          "output_type": "stream",
          "text": [
            "Training: 100%|██████████| 98/98 [00:06<00:00, 14.46it/s]\n",
            "Evaluate: 100%|██████████| 25/25 [00:00<00:00, 34.74it/s]\n"
          ]
        },
        {
          "name": "stdout",
          "output_type": "stream",
          "text": [
            "Train F1 Score (Micro) 0.7988088320743754\n",
            "Val F1 Score (Micro) 0.7478152309612983\n",
            "Train loss 0.015129418929620666\n",
            "Val loss 0.022683213166892528\n",
            "------------------------------------------------\n",
            "Epoch :  41\n"
          ]
        },
        {
          "name": "stderr",
          "output_type": "stream",
          "text": [
            "Training: 100%|██████████| 98/98 [00:06<00:00, 14.61it/s]\n",
            "Evaluate: 100%|██████████| 25/25 [00:00<00:00, 34.71it/s]\n"
          ]
        },
        {
          "name": "stdout",
          "output_type": "stream",
          "text": [
            "Train F1 Score (Micro) 0.8063303945656888\n",
            "Val F1 Score (Micro) 0.7504643962848297\n",
            "Train loss 0.01473245366799588\n",
            "Val loss 0.024395090490579606\n",
            "------------------------------------------------\n",
            "Epoch :  42\n"
          ]
        },
        {
          "name": "stderr",
          "output_type": "stream",
          "text": [
            "Training: 100%|██████████| 98/98 [00:06<00:00, 14.48it/s]\n",
            "Evaluate: 100%|██████████| 25/25 [00:00<00:00, 35.93it/s]\n"
          ]
        },
        {
          "name": "stdout",
          "output_type": "stream",
          "text": [
            "Train F1 Score (Micro) 0.8087170576310455\n",
            "Val F1 Score (Micro) 0.7408829174664108\n",
            "Train loss 0.014368223263977133\n",
            "Val loss 0.023177969753742218\n",
            "------------------------------------------------\n",
            "Epoch :  43\n"
          ]
        },
        {
          "name": "stderr",
          "output_type": "stream",
          "text": [
            "Training: 100%|██████████| 98/98 [00:06<00:00, 14.63it/s]\n",
            "Evaluate: 100%|██████████| 25/25 [00:00<00:00, 34.33it/s]\n"
          ]
        },
        {
          "name": "stdout",
          "output_type": "stream",
          "text": [
            "Train F1 Score (Micro) 0.8036218761318362\n",
            "Val F1 Score (Micro) 0.760928549894483\n",
            "Train loss 0.014672164448860044\n",
            "Val loss 0.02241160620003939\n",
            "------------------------------------------------\n",
            "Epoch :  44\n"
          ]
        },
        {
          "name": "stderr",
          "output_type": "stream",
          "text": [
            "Training: 100%|██████████| 98/98 [00:06<00:00, 14.61it/s]\n",
            "Evaluate: 100%|██████████| 25/25 [00:00<00:00, 30.53it/s]\n"
          ]
        },
        {
          "name": "stdout",
          "output_type": "stream",
          "text": [
            "Train F1 Score (Micro) 0.8157403418066926\n",
            "Val F1 Score (Micro) 0.7651048088779284\n",
            "Train loss 0.01386563175319865\n",
            "Val loss 0.02155107893049717\n",
            "Best model saved\n",
            "------------------------------------------------\n",
            "Epoch :  45\n"
          ]
        },
        {
          "name": "stderr",
          "output_type": "stream",
          "text": [
            "Training: 100%|██████████| 98/98 [00:06<00:00, 14.54it/s]\n",
            "Evaluate: 100%|██████████| 25/25 [00:00<00:00, 33.83it/s]\n"
          ]
        },
        {
          "name": "stdout",
          "output_type": "stream",
          "text": [
            "Train F1 Score (Micro) 0.8213978802635348\n",
            "Val F1 Score (Micro) 0.7759626604434072\n",
            "Train loss 0.013222793739631164\n",
            "Val loss 0.020706232488155365\n",
            "Best model saved\n",
            "------------------------------------------------\n",
            "Epoch :  46\n"
          ]
        },
        {
          "name": "stderr",
          "output_type": "stream",
          "text": [
            "Training: 100%|██████████| 98/98 [00:07<00:00, 13.92it/s]\n",
            "Evaluate: 100%|██████████| 25/25 [00:00<00:00, 31.51it/s]\n"
          ]
        },
        {
          "name": "stdout",
          "output_type": "stream",
          "text": [
            "Train F1 Score (Micro) 0.824759871931697\n",
            "Val F1 Score (Micro) 0.7679708826205641\n",
            "Train loss 0.012721329100658091\n",
            "Val loss 0.021493065375834702\n",
            "------------------------------------------------\n",
            "Epoch :  47\n"
          ]
        },
        {
          "name": "stderr",
          "output_type": "stream",
          "text": [
            "Training: 100%|██████████| 98/98 [00:07<00:00, 13.58it/s]\n",
            "Evaluate: 100%|██████████| 25/25 [00:01<00:00, 21.96it/s]\n"
          ]
        },
        {
          "name": "stdout",
          "output_type": "stream",
          "text": [
            "Train F1 Score (Micro) 0.8203524729960205\n",
            "Val F1 Score (Micro) 0.7663663663663665\n",
            "Train loss 0.012985811716097653\n",
            "Val loss 0.02151215322315693\n",
            "------------------------------------------------\n",
            "Epoch :  48\n"
          ]
        },
        {
          "name": "stderr",
          "output_type": "stream",
          "text": [
            "Training: 100%|██████████| 98/98 [00:06<00:00, 14.09it/s]\n",
            "Evaluate: 100%|██████████| 25/25 [00:00<00:00, 32.46it/s]\n"
          ]
        },
        {
          "name": "stdout",
          "output_type": "stream",
          "text": [
            "Train F1 Score (Micro) 0.8246202125383354\n",
            "Val F1 Score (Micro) 0.7642965204236005\n",
            "Train loss 0.01305872917042247\n",
            "Val loss 0.022934587113559245\n",
            "------------------------------------------------\n",
            "Epoch :  49\n"
          ]
        },
        {
          "name": "stderr",
          "output_type": "stream",
          "text": [
            "Training: 100%|██████████| 98/98 [00:11<00:00,  8.33it/s]\n",
            "Evaluate: 100%|██████████| 25/25 [00:01<00:00, 14.32it/s]\n"
          ]
        },
        {
          "name": "stdout",
          "output_type": "stream",
          "text": [
            "Train F1 Score (Micro) 0.8285916489738147\n",
            "Val F1 Score (Micro) 0.7725218439288943\n",
            "Train loss 0.012559860127464849\n",
            "Val loss 0.022573303282260895\n",
            "------------------------------------------------\n",
            "Epoch :  50\n"
          ]
        },
        {
          "name": "stderr",
          "output_type": "stream",
          "text": [
            "Training: 100%|██████████| 98/98 [00:11<00:00,  8.35it/s]\n",
            "Evaluate: 100%|██████████| 25/25 [00:01<00:00, 22.73it/s]\n"
          ]
        },
        {
          "name": "stdout",
          "output_type": "stream",
          "text": [
            "Train F1 Score (Micro) 0.8326980093180856\n",
            "Val F1 Score (Micro) 0.7809633027522935\n",
            "Train loss 0.012091905177970017\n",
            "Val loss 0.022059663385152816\n",
            "------------------------------------------------\n",
            "Epoch :  51\n"
          ]
        },
        {
          "name": "stderr",
          "output_type": "stream",
          "text": [
            "Training: 100%|██████████| 98/98 [00:10<00:00,  9.28it/s]\n",
            "Evaluate: 100%|██████████| 25/25 [00:01<00:00, 18.53it/s]\n"
          ]
        },
        {
          "name": "stdout",
          "output_type": "stream",
          "text": [
            "Train F1 Score (Micro) 0.8365674255691768\n",
            "Val F1 Score (Micro) 0.7882660470519895\n",
            "Train loss 0.011785031327198506\n",
            "Val loss 0.022299713268876076\n",
            "------------------------------------------------\n",
            "Epoch :  52\n"
          ]
        },
        {
          "name": "stderr",
          "output_type": "stream",
          "text": [
            "Training: 100%|██████████| 98/98 [00:10<00:00,  9.31it/s]\n",
            "Evaluate: 100%|██████████| 25/25 [00:01<00:00, 22.12it/s]\n"
          ]
        },
        {
          "name": "stdout",
          "output_type": "stream",
          "text": [
            "Train F1 Score (Micro) 0.8449504120687247\n",
            "Val F1 Score (Micro) 0.747141041931385\n",
            "Train loss 0.011450633763012533\n",
            "Val loss 0.02564084157347679\n",
            "------------------------------------------------\n",
            "Epoch :  53\n"
          ]
        },
        {
          "name": "stderr",
          "output_type": "stream",
          "text": [
            "Training: 100%|██████████| 98/98 [00:10<00:00,  9.45it/s]\n",
            "Evaluate: 100%|██████████| 25/25 [00:01<00:00, 21.91it/s]\n"
          ]
        },
        {
          "name": "stdout",
          "output_type": "stream",
          "text": [
            "Train F1 Score (Micro) 0.8351339974743931\n",
            "Val F1 Score (Micro) 0.7706478354313786\n",
            "Train loss 0.01200622656829275\n",
            "Val loss 0.022959116399288177\n",
            "------------------------------------------------\n",
            "Epoch :  54\n"
          ]
        },
        {
          "name": "stderr",
          "output_type": "stream",
          "text": [
            "Training: 100%|██████████| 98/98 [00:06<00:00, 14.12it/s]\n",
            "Evaluate: 100%|██████████| 25/25 [00:00<00:00, 39.12it/s]\n"
          ]
        },
        {
          "name": "stdout",
          "output_type": "stream",
          "text": [
            "Train F1 Score (Micro) 0.8447964429623455\n",
            "Val F1 Score (Micro) 0.785692816351067\n",
            "Train loss 0.011202311665960113\n",
            "Val loss 0.02212223917245865\n",
            "------------------------------------------------\n",
            "Epoch :  55\n"
          ]
        },
        {
          "name": "stderr",
          "output_type": "stream",
          "text": [
            "Training: 100%|██████████| 98/98 [00:06<00:00, 14.08it/s]\n",
            "Evaluate: 100%|██████████| 25/25 [00:00<00:00, 37.34it/s]\n"
          ]
        },
        {
          "name": "stdout",
          "output_type": "stream",
          "text": [
            "Train F1 Score (Micro) 0.8409977703455964\n",
            "Val F1 Score (Micro) 0.7900146842878121\n",
            "Train loss 0.011498145991936326\n",
            "Val loss 0.02134871942922473\n",
            "------------------------------------------------\n",
            "Epoch :  56\n"
          ]
        },
        {
          "name": "stderr",
          "output_type": "stream",
          "text": [
            "Training: 100%|██████████| 98/98 [00:06<00:00, 14.73it/s]\n",
            "Evaluate: 100%|██████████| 25/25 [00:00<00:00, 38.00it/s]\n"
          ]
        },
        {
          "name": "stdout",
          "output_type": "stream",
          "text": [
            "Train F1 Score (Micro) 0.8512230614649019\n",
            "Val F1 Score (Micro) 0.7737804878048782\n",
            "Train loss 0.01080205241142183\n",
            "Val loss 0.0224250278249383\n",
            "------------------------------------------------\n",
            "Epoch :  57\n"
          ]
        },
        {
          "name": "stderr",
          "output_type": "stream",
          "text": [
            "Training: 100%|██████████| 98/98 [00:06<00:00, 14.92it/s]\n",
            "Evaluate: 100%|██████████| 25/25 [00:00<00:00, 35.68it/s]\n"
          ]
        },
        {
          "name": "stdout",
          "output_type": "stream",
          "text": [
            "Train F1 Score (Micro) 0.849065777592554\n",
            "Val F1 Score (Micro) 0.7868755542417972\n",
            "Train loss 0.010870250393351426\n",
            "Val loss 0.021578704938292503\n",
            "------------------------------------------------\n",
            "Epoch :  58\n"
          ]
        },
        {
          "name": "stderr",
          "output_type": "stream",
          "text": [
            "Training: 100%|██████████| 98/98 [00:06<00:00, 14.22it/s]\n",
            "Evaluate: 100%|██████████| 25/25 [00:00<00:00, 34.76it/s]\n"
          ]
        },
        {
          "name": "stdout",
          "output_type": "stream",
          "text": [
            "Train F1 Score (Micro) 0.8509814763616257\n",
            "Val F1 Score (Micro) 0.7796215429403203\n",
            "Train loss 0.010625527734507104\n",
            "Val loss 0.022839270494878293\n",
            "------------------------------------------------\n",
            "Epoch :  59\n"
          ]
        },
        {
          "name": "stderr",
          "output_type": "stream",
          "text": [
            "Training: 100%|██████████| 98/98 [00:06<00:00, 14.52it/s]\n",
            "Evaluate: 100%|██████████| 25/25 [00:00<00:00, 36.37it/s]\n"
          ]
        },
        {
          "name": "stdout",
          "output_type": "stream",
          "text": [
            "Train F1 Score (Micro) 0.8547643618851049\n",
            "Val F1 Score (Micro) 0.7892785856857714\n",
            "Train loss 0.010632764780893922\n",
            "Val loss 0.022167311683297157\n",
            "------------------------------------------------\n",
            "Epoch :  60\n"
          ]
        },
        {
          "name": "stderr",
          "output_type": "stream",
          "text": [
            "Training: 100%|██████████| 98/98 [00:06<00:00, 14.68it/s]\n",
            "Evaluate: 100%|██████████| 25/25 [00:00<00:00, 35.83it/s]\n"
          ]
        },
        {
          "name": "stdout",
          "output_type": "stream",
          "text": [
            "Train F1 Score (Micro) 0.8561822423493893\n",
            "Val F1 Score (Micro) 0.7557489123679304\n",
            "Train loss 0.010492972924483332\n",
            "Val loss 0.025109561011195183\n",
            "------------------------------------------------\n",
            "Epoch :  61\n"
          ]
        },
        {
          "name": "stderr",
          "output_type": "stream",
          "text": [
            "Training: 100%|██████████| 98/98 [00:06<00:00, 14.90it/s]\n",
            "Evaluate: 100%|██████████| 25/25 [00:00<00:00, 33.16it/s]\n"
          ]
        },
        {
          "name": "stdout",
          "output_type": "stream",
          "text": [
            "Train F1 Score (Micro) 0.8625991037573251\n",
            "Val F1 Score (Micro) 0.7861870503597121\n",
            "Train loss 0.009974895437172025\n",
            "Val loss 0.023210490718483925\n",
            "------------------------------------------------\n",
            "Epoch :  62\n"
          ]
        },
        {
          "name": "stderr",
          "output_type": "stream",
          "text": [
            "Training: 100%|██████████| 98/98 [00:06<00:00, 14.00it/s]\n",
            "Evaluate: 100%|██████████| 25/25 [00:00<00:00, 37.39it/s]\n"
          ]
        },
        {
          "name": "stdout",
          "output_type": "stream",
          "text": [
            "Train F1 Score (Micro) 0.8637549787117155\n",
            "Val F1 Score (Micro) 0.7918751839858699\n",
            "Train loss 0.009844163161873514\n",
            "Val loss 0.022606834694743158\n",
            "------------------------------------------------\n",
            "Epoch :  63\n"
          ]
        },
        {
          "name": "stderr",
          "output_type": "stream",
          "text": [
            "Training: 100%|██████████| 98/98 [00:06<00:00, 14.78it/s]\n",
            "Evaluate: 100%|██████████| 25/25 [00:00<00:00, 36.77it/s]\n"
          ]
        },
        {
          "name": "stdout",
          "output_type": "stream",
          "text": [
            "Train F1 Score (Micro) 0.8706236323851204\n",
            "Val F1 Score (Micro) 0.7851677457327838\n",
            "Train loss 0.0095118982527329\n",
            "Val loss 0.023943505622446536\n",
            "------------------------------------------------\n",
            "Epoch :  64\n"
          ]
        },
        {
          "name": "stderr",
          "output_type": "stream",
          "text": [
            "Training: 100%|██████████| 98/98 [00:07<00:00, 13.23it/s]\n",
            "Evaluate: 100%|██████████| 25/25 [00:00<00:00, 30.94it/s]\n"
          ]
        },
        {
          "name": "stdout",
          "output_type": "stream",
          "text": [
            "Train F1 Score (Micro) 0.8664205633032541\n",
            "Val F1 Score (Micro) 0.7888987304399172\n",
            "Train loss 0.009747208117469385\n",
            "Val loss 0.023048294782638548\n",
            "------------------------------------------------\n",
            "Epoch :  65\n"
          ]
        },
        {
          "name": "stderr",
          "output_type": "stream",
          "text": [
            "Training: 100%|██████████| 98/98 [00:06<00:00, 14.20it/s]\n",
            "Evaluate: 100%|██████████| 25/25 [00:00<00:00, 36.36it/s]\n"
          ]
        },
        {
          "name": "stdout",
          "output_type": "stream",
          "text": [
            "Train F1 Score (Micro) 0.8737850787132101\n",
            "Val F1 Score (Micro) 0.7906020558002937\n",
            "Train loss 0.008955591468720183\n",
            "Val loss 0.02300532229244709\n",
            "------------------------------------------------\n",
            "Epoch :  66\n"
          ]
        },
        {
          "name": "stderr",
          "output_type": "stream",
          "text": [
            "Training: 100%|██████████| 98/98 [00:06<00:00, 15.12it/s]\n",
            "Evaluate: 100%|██████████| 25/25 [00:00<00:00, 38.01it/s]\n"
          ]
        },
        {
          "name": "stdout",
          "output_type": "stream",
          "text": [
            "Train F1 Score (Micro) 0.8740852198892005\n",
            "Val F1 Score (Micro) 0.7887405687753918\n",
            "Train loss 0.008951019442566594\n",
            "Val loss 0.022622840497642755\n",
            "------------------------------------------------\n",
            "Epoch :  67\n"
          ]
        },
        {
          "name": "stderr",
          "output_type": "stream",
          "text": [
            "Training: 100%|██████████| 98/98 [00:06<00:00, 15.09it/s]\n",
            "Evaluate: 100%|██████████| 25/25 [00:00<00:00, 37.23it/s]\n"
          ]
        },
        {
          "name": "stdout",
          "output_type": "stream",
          "text": [
            "Train F1 Score (Micro) 0.8843832643927579\n",
            "Val F1 Score (Micro) 0.7990762124711316\n",
            "Train loss 0.00841160812557732\n",
            "Val loss 0.02417994100600481\n",
            "------------------------------------------------\n",
            "Epoch :  68\n"
          ]
        },
        {
          "name": "stderr",
          "output_type": "stream",
          "text": [
            "Training: 100%|██████████| 98/98 [00:06<00:00, 14.33it/s]\n",
            "Evaluate: 100%|██████████| 25/25 [00:00<00:00, 37.90it/s]\n"
          ]
        },
        {
          "name": "stdout",
          "output_type": "stream",
          "text": [
            "Train F1 Score (Micro) 0.8830658812377277\n",
            "Val F1 Score (Micro) 0.7946635730858469\n",
            "Train loss 0.008630770820487594\n",
            "Val loss 0.023793033845722674\n",
            "------------------------------------------------\n",
            "Epoch :  69\n"
          ]
        },
        {
          "name": "stderr",
          "output_type": "stream",
          "text": [
            "Training: 100%|██████████| 98/98 [00:06<00:00, 14.46it/s]\n",
            "Evaluate: 100%|██████████| 25/25 [00:00<00:00, 36.34it/s]\n"
          ]
        },
        {
          "name": "stdout",
          "output_type": "stream",
          "text": [
            "Train F1 Score (Micro) 0.8847195881874831\n",
            "Val F1 Score (Micro) 0.7905727923627686\n",
            "Train loss 0.008434938510395206\n",
            "Val loss 0.02462572608143091\n",
            "------------------------------------------------\n",
            "Epoch :  70\n"
          ]
        },
        {
          "name": "stderr",
          "output_type": "stream",
          "text": [
            "Training: 100%|██████████| 98/98 [00:06<00:00, 14.53it/s]\n",
            "Evaluate: 100%|██████████| 25/25 [00:00<00:00, 31.40it/s]\n"
          ]
        },
        {
          "name": "stdout",
          "output_type": "stream",
          "text": [
            "Train F1 Score (Micro) 0.8805909460558417\n",
            "Val F1 Score (Micro) 0.7893054344667247\n",
            "Train loss 0.008535909176595052\n",
            "Val loss 0.02473763030022383\n",
            "------------------------------------------------\n"
          ]
        }
      ],
      "source": [
        "epochs = 70\n",
        "learning_rate = 0.001\n",
        "\n",
        "magnet_model_head_4 = MAGNET(768, 250, adjacency.to(device), pretrained_embeddings.to(device), num_heads = 4)\n",
        "loss_function = nn.BCEWithLogitsLoss()\n",
        "optimizer = optim.Adam(magnet_model_head_4.parameters(), lr = learning_rate)\n",
        "train_loss_4, val_loss_4, avg_epoch_time_4 = train_model(magnet_model_head_4, label_embedding, loss_function, optimizer, epochs, device, \"reuters_bert.pth\")"
      ]
    },
    {
      "cell_type": "markdown",
      "metadata": {
        "id": "L-WDlBYW54d4"
      },
      "source": [
        "# Evaluation"
      ]
    },
    {
      "cell_type": "code",
      "execution_count": 35,
      "metadata": {
        "id": "Duw7ioxD54d5"
      },
      "outputs": [],
      "source": [
        "def test_scores(model, device):\n",
        "\n",
        "    model.eval()\n",
        "\n",
        "    y_true = []\n",
        "    y_pred = []\n",
        "    with torch.no_grad():\n",
        "        for batch in tqdm(dataloader_test, desc='Evaluate'):\n",
        "            sequence_in, output_label = batch\n",
        "            sequence_in, output_label = sequence_in.to(device), output_label.to(device)\n",
        "\n",
        "            pred_batch = model(sequence_in, label_embedding)\n",
        "            pred_batch = (pred_batch > 0.5).float()\n",
        "\n",
        "            y_true.extend(output_label.cpu().detach().numpy().tolist())\n",
        "            y_pred.extend(pred_batch.cpu().detach().numpy().tolist())\n",
        "\n",
        "\n",
        "    y_true = np.array(y_true)\n",
        "    y_pred = np.array(y_pred)\n",
        "\n",
        "    accuracy = metrics.accuracy_score(y_true, y_pred)\n",
        "    f1_score_micro = metrics.f1_score(y_true, y_pred, average='micro')\n",
        "\n",
        "    print('Test Accuracy', accuracy)\n",
        "    print('Test F1 Score (Micro)', f1_score_micro)\n",
        "\n",
        "    print('Classification report')\n",
        "    print(classification_report(y_true, y_pred, zero_division=0))"
      ]
    },
    {
      "cell_type": "code",
      "execution_count": 36,
      "metadata": {
        "colab": {
          "base_uri": "https://localhost:8080/"
        },
        "id": "OV0q50AStWIU",
        "outputId": "9b8eed9f-1f9f-4c15-dd8a-f86726e97d44"
      },
      "outputs": [
        {
          "name": "stderr",
          "output_type": "stream",
          "text": [
            "Evaluate: 100%|██████████| 48/48 [00:01<00:00, 34.11it/s]\n"
          ]
        },
        {
          "name": "stdout",
          "output_type": "stream",
          "text": [
            "Test Accuracy 0.6813514408744618\n",
            "Test F1 Score (Micro) 0.7534516765285996\n",
            "Classification report\n",
            "              precision    recall  f1-score   support\n",
            "\n",
            "           0       0.94      0.94      0.94       719\n",
            "           1       0.00      0.00      0.00        23\n",
            "           2       0.50      0.07      0.12        14\n",
            "           3       0.46      0.20      0.28        30\n",
            "           4       0.00      0.00      0.00        18\n",
            "           5       0.00      0.00      0.00         1\n",
            "           6       0.00      0.00      0.00        18\n",
            "           7       0.00      0.00      0.00         2\n",
            "           8       0.00      0.00      0.00         3\n",
            "           9       0.00      0.00      0.00        28\n",
            "          10       0.00      0.00      0.00        18\n",
            "          11       0.00      0.00      0.00         1\n",
            "          12       0.47      0.71      0.56        56\n",
            "          13       0.00      0.00      0.00        20\n",
            "          14       0.00      0.00      0.00         2\n",
            "          15       0.33      0.04      0.06        28\n",
            "          16       0.00      0.00      0.00         1\n",
            "          17       0.84      0.86      0.85       189\n",
            "          18       0.00      0.00      0.00         1\n",
            "          19       0.68      0.30      0.41        44\n",
            "          20       0.00      0.00      0.00         4\n",
            "          21       0.98      0.98      0.98      1087\n",
            "          22       0.00      0.00      0.00        10\n",
            "          23       0.00      0.00      0.00        17\n",
            "          24       0.75      0.26      0.38        35\n",
            "          25       0.90      0.30      0.45        30\n",
            "          26       0.81      0.72      0.76       149\n",
            "          27       0.00      0.00      0.00         4\n",
            "          28       0.00      0.00      0.00         1\n",
            "          29       0.00      0.00      0.00         5\n",
            "          30       0.00      0.00      0.00         6\n",
            "          31       0.00      0.00      0.00         4\n",
            "          32       0.00      0.00      0.00         7\n",
            "          33       0.00      0.00      0.00         1\n",
            "          34       0.77      0.63      0.69       131\n",
            "          35       0.00      0.00      0.00        12\n",
            "          36       0.00      0.00      0.00        14\n",
            "          37       0.00      0.00      0.00         1\n",
            "          38       0.00      0.00      0.00        21\n",
            "          39       0.00      0.00      0.00         2\n",
            "          40       0.00      0.00      0.00        14\n",
            "          41       0.00      0.00      0.00         3\n",
            "          42       0.00      0.00      0.00         1\n",
            "          43       0.00      0.00      0.00        24\n",
            "          44       0.00      0.00      0.00         6\n",
            "          45       0.00      0.00      0.00        19\n",
            "          46       0.81      0.68      0.74       179\n",
            "          47       0.62      0.59      0.61        34\n",
            "          48       0.00      0.00      0.00         4\n",
            "          49       0.33      0.03      0.06        30\n",
            "          50       0.00      0.00      0.00         1\n",
            "          51       0.00      0.00      0.00         2\n",
            "          52       0.00      0.00      0.00         2\n",
            "          53       0.00      0.00      0.00         6\n",
            "          54       0.37      0.28      0.32        47\n",
            "          55       0.00      0.00      0.00        11\n",
            "          56       0.00      0.00      0.00         1\n",
            "          57       0.00      0.00      0.00        10\n",
            "          58       0.00      0.00      0.00         1\n",
            "          59       0.00      0.00      0.00        12\n",
            "          60       0.00      0.00      0.00         7\n",
            "          61       0.00      0.00      0.00         3\n",
            "          62       0.00      0.00      0.00         3\n",
            "          63       0.00      0.00      0.00         1\n",
            "          64       0.00      0.00      0.00         3\n",
            "          65       0.00      0.00      0.00         9\n",
            "          66       1.00      0.33      0.50        18\n",
            "          67       0.00      0.00      0.00         2\n",
            "          68       0.00      0.00      0.00        24\n",
            "          69       0.00      0.00      0.00        12\n",
            "          70       0.00      0.00      0.00         1\n",
            "          71       0.83      0.06      0.11        89\n",
            "          72       0.00      0.00      0.00         8\n",
            "          73       0.00      0.00      0.00        10\n",
            "          74       0.00      0.00      0.00        13\n",
            "          75       0.00      0.00      0.00        11\n",
            "          76       1.00      0.06      0.11        33\n",
            "          77       0.00      0.00      0.00        11\n",
            "          78       0.00      0.00      0.00        36\n",
            "          79       0.00      0.00      0.00         1\n",
            "          80       0.00      0.00      0.00         2\n",
            "          81       0.00      0.00      0.00         5\n",
            "          82       0.00      0.00      0.00         4\n",
            "          83       0.00      0.00      0.00        12\n",
            "          84       0.74      0.74      0.74       117\n",
            "          85       1.00      0.14      0.24        37\n",
            "          86       0.48      0.65      0.55        71\n",
            "          87       0.00      0.00      0.00        10\n",
            "          88       0.00      0.00      0.00        14\n",
            "          89       0.00      0.00      0.00        13\n",
            "\n",
            "   micro avg       0.87      0.66      0.75      3744\n",
            "   macro avg       0.17      0.11      0.12      3744\n",
            "weighted avg       0.73      0.66      0.67      3744\n",
            " samples avg       0.76      0.74      0.74      3744\n",
            "\n"
          ]
        }
      ],
      "source": [
        "best_model_4 = torch.load(\"Reuters-21578_bert_model/reuters_bert.pth\")\n",
        "test_scores(best_model_4, device)"
      ]
    },
    {
      "cell_type": "code",
      "execution_count": 37,
      "metadata": {
        "colab": {
          "base_uri": "https://localhost:8080/"
        },
        "id": "zls3pKXo54d6",
        "outputId": "7377c2f0-4fc3-4495-ee3b-d21c3ec590b2"
      },
      "outputs": [
        {
          "name": "stdout",
          "output_type": "stream",
          "text": [
            "MAGNET(\n",
            "  (node_embedding): Embedding(23423, 768)\n",
            "  (rnn): LSTM(768, 250, batch_first=True, bidirectional=True)\n",
            "  (attentions1): ModuleList(\n",
            "    (0-3): 4 x GraphAttentionLayer(\n",
            "      (W): Linear(in_features=768, out_features=500, bias=False)\n",
            "      (a): Linear(in_features=1000, out_features=1, bias=False)\n",
            "      (leakyrelu): LeakyReLU(negative_slope=0.01)\n",
            "      (softmax): Softmax(dim=1)\n",
            "    )\n",
            "  )\n",
            "  (tanh1): Tanh()\n",
            "  (attentions2): ModuleList(\n",
            "    (0-3): 4 x GraphAttentionLayer(\n",
            "      (W): Linear(in_features=500, out_features=500, bias=False)\n",
            "      (a): Linear(in_features=1000, out_features=1, bias=False)\n",
            "      (leakyrelu): LeakyReLU(negative_slope=0.01)\n",
            "      (softmax): Softmax(dim=1)\n",
            "    )\n",
            "  )\n",
            "  (tanh2): Tanh()\n",
            "  (dropout): Dropout(p=0.3, inplace=False)\n",
            ")\n",
            "The model has 4,592,100 trainable parameters\n"
          ]
        }
      ],
      "source": [
        "num_params = sum(p.numel() for p in best_model_4.parameters() if p.requires_grad) \n",
        "\n",
        "print(best_model_4)\n",
        "print(f'The model has {num_params:,} trainable parameters')"
      ]
    },
    {
      "cell_type": "code",
      "execution_count": 38,
      "metadata": {
        "id": "VDAPDUYV54d6"
      },
      "outputs": [
        {
          "name": "stdout",
          "output_type": "stream",
          "text": [
            "Train loss [0.1395069908122627, 0.06599076700453856, 0.05494766978889096, 0.050745062929178984, 0.04794059116013196, 0.04515503573098353, 0.04354848716484041, 0.04184807361844851, 0.03993507029906827, 0.03887030885231738, 0.0380088187259983, 0.035253608960430234, 0.03419782937865476, 0.03369424345770052, 0.03180210946165785, 0.030626013856001045, 0.029861611418654115, 0.028236579216484512, 0.027745963891549985, 0.026843341533094645, 0.026017733250877688, 0.02486779574989056, 0.02430154560894078, 0.023329016210853447, 0.02235099226616475, 0.021676393967045814, 0.02110170587251077, 0.020040597827221285, 0.019576188395446052, 0.020118937304965695, 0.019044579035241385, 0.01855747041539574, 0.017360566858658378, 0.0168099294663692, 0.016811490092160448, 0.018360639808281343, 0.016919303172248965, 0.01621015969787401, 0.01573643332575353, 0.015129418929620666, 0.01473245366799588, 0.014368223263977133, 0.014672164448860044, 0.01386563175319865, 0.013222793739631164, 0.012721329100658091, 0.012985811716097653, 0.01305872917042247, 0.012559860127464849, 0.012091905177970017, 0.011785031327198506, 0.011450633763012533, 0.01200622656829275, 0.011202311665960113, 0.011498145991936326, 0.01080205241142183, 0.010870250393351426, 0.010625527734507104, 0.010632764780893922, 0.010492972924483332, 0.009974895437172025, 0.009844163161873514, 0.0095118982527329, 0.009747208117469385, 0.008955591468720183, 0.008951019442566594, 0.00841160812557732, 0.008630770820487594, 0.008434938510395206, 0.008535909176595052]\n",
            "Val loss [0.06963658794760703, 0.05849420875310898, 0.05268735349178314, 0.04821195423603058, 0.04607490256428719, 0.043336213529109956, 0.042999661341309545, 0.040292797312140465, 0.041286502480506894, 0.037787533700466155, 0.0374391458183527, 0.03298423618078232, 0.032382102757692335, 0.03251844979822636, 0.03034121632575989, 0.03024536557495594, 0.028930883780121805, 0.02978850722312927, 0.02915218226611614, 0.0275480205565691, 0.028088097274303437, 0.026155556738376617, 0.025677337087690832, 0.026001819372177125, 0.024282368160784246, 0.02656812809407711, 0.023308541029691696, 0.02306264229118824, 0.02459766447544098, 0.023463262543082238, 0.022534276396036147, 0.024401883892714978, 0.02223866917192936, 0.023885141722857953, 0.02349475644528866, 0.02179818131029606, 0.022301214560866357, 0.02314817424863577, 0.023566458858549594, 0.022683213166892528, 0.024395090490579606, 0.023177969753742218, 0.02241160620003939, 0.02155107893049717, 0.020706232488155365, 0.021493065375834702, 0.02151215322315693, 0.022934587113559245, 0.022573303282260895, 0.022059663385152816, 0.022299713268876076, 0.02564084157347679, 0.022959116399288177, 0.02212223917245865, 0.02134871942922473, 0.0224250278249383, 0.021578704938292503, 0.022839270494878293, 0.022167311683297157, 0.025109561011195183, 0.023210490718483925, 0.022606834694743158, 0.023943505622446536, 0.023048294782638548, 0.02300532229244709, 0.022622840497642755, 0.02417994100600481, 0.023793033845722674, 0.02462572608143091, 0.02473763030022383]\n"
          ]
        }
      ],
      "source": [
        "print('Train loss', train_loss_4)\n",
        "print('Val loss', val_loss_4)"
      ]
    },
    {
      "cell_type": "code",
      "execution_count": null,
      "metadata": {
        "id": "FODMavm-54d6"
      },
      "outputs": [],
      "source": [
        "print('Avg epoch time', round(avg_epoch_time_4, 2), 'secs')"
      ]
    }
  ],
  "metadata": {
    "accelerator": "GPU",
    "colab": {
      "provenance": []
    },
    "gpuClass": "standard",
    "kernelspec": {
      "display_name": "Python 3",
      "language": "python",
      "name": "python3"
    },
    "language_info": {
      "codemirror_mode": {
        "name": "ipython",
        "version": 3
      },
      "file_extension": ".py",
      "mimetype": "text/x-python",
      "name": "python",
      "nbconvert_exporter": "python",
      "pygments_lexer": "ipython3",
      "version": "3.10.11"
    },
    "orig_nbformat": 4,
    "vscode": {
      "interpreter": {
        "hash": "7a755c3486a199bb280be05c1d30ef5249180d4344c9bdb63523ed58db47fcbc"
      }
    }
  },
  "nbformat": 4,
  "nbformat_minor": 0
}
