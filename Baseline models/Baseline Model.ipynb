{
  "cells": [
    {
      "cell_type": "code",
      "execution_count": 1,
      "metadata": {
        "colab": {
          "base_uri": "https://localhost:8080/"
        },
        "id": "tUUoQfZb_T78",
        "outputId": "804b9d03-6ab4-4ad1-9e39-64e7e6f31e26"
      },
      "outputs": [
        {
          "output_type": "stream",
          "name": "stderr",
          "text": [
            "[nltk_data] Downloading package punkt to /root/nltk_data...\n",
            "[nltk_data]   Package punkt is already up-to-date!\n",
            "[nltk_data] Downloading package stopwords to /root/nltk_data...\n",
            "[nltk_data]   Package stopwords is already up-to-date!\n",
            "[nltk_data] Downloading package wordnet to /root/nltk_data...\n",
            "[nltk_data]   Package wordnet is already up-to-date!\n"
          ]
        },
        {
          "output_type": "stream",
          "name": "stdout",
          "text": [
            "Looking in indexes: https://pypi.org/simple, https://us-python.pkg.dev/colab-wheels/public/simple/\n",
            "Requirement already satisfied: scikit-multilearn in /usr/local/lib/python3.9/dist-packages (0.2.0)\n"
          ]
        }
      ],
      "source": [
        "import csv\n",
        "import numpy as np\n",
        "import pandas as pd\n",
        "import nltk\n",
        "from nltk.corpus import stopwords\n",
        "from nltk.stem import WordNetLemmatizer\n",
        "nltk.download('punkt')\n",
        "nltk.download('stopwords')\n",
        "nltk.download('wordnet')\n",
        "\n",
        "import re\n",
        "from tqdm import tqdm\n",
        "\n",
        "from sklearn.decomposition import PCA\n",
        "from sklearn.feature_extraction.text import TfidfVectorizer\n",
        "\n",
        "from sklearn.linear_model import LogisticRegression\n",
        "from sklearn.pipeline import Pipeline\n",
        "from sklearn.multiclass import OneVsRestClassifier\n",
        "\n",
        "!pip install scikit-multilearn\n",
        "\n",
        "from skmultilearn.problem_transform import BinaryRelevance\n",
        "from sklearn.naive_bayes import GaussianNB\n",
        "\n",
        "from skmultilearn.problem_transform import ClassifierChain\n",
        "from sklearn.linear_model import LogisticRegression\n",
        "\n",
        "from skmultilearn.problem_transform import LabelPowerset\n",
        "\n",
        "from skmultilearn.adapt import MLkNN\n",
        "from scipy.sparse import csr_matrix, lil_matrix"
      ]
    },
    {
      "cell_type": "code",
      "source": [
        "from google.colab import drive\n",
        "drive.mount('/content/drive')"
      ],
      "metadata": {
        "id": "KVTlPnqyC6t5",
        "colab": {
          "base_uri": "https://localhost:8080/"
        },
        "outputId": "d619cef0-6b7a-4246-f34a-36f290d867da"
      },
      "execution_count": 2,
      "outputs": [
        {
          "output_type": "stream",
          "name": "stdout",
          "text": [
            "Drive already mounted at /content/drive; to attempt to forcibly remount, call drive.mount(\"/content/drive\", force_remount=True).\n"
          ]
        }
      ]
    },
    {
      "cell_type": "code",
      "execution_count": 3,
      "metadata": {
        "id": "h2l0MbZl_T7_",
        "colab": {
          "base_uri": "https://localhost:8080/"
        },
        "outputId": "0c2b2871-f5be-4843-896b-3bd543f29bee"
      },
      "outputs": [
        {
          "output_type": "stream",
          "name": "stdout",
          "text": [
            "(159571, 8)\n"
          ]
        }
      ],
      "source": [
        "train_data_path = \"/content/drive/MyDrive/train.csv\"\n",
        "train_data_raw = pd.read_csv(train_data_path)\n",
        "print(train_data_raw.shape)"
      ]
    },
    {
      "cell_type": "code",
      "execution_count": 4,
      "metadata": {
        "id": "ADgQEwOp_T7_"
      },
      "outputs": [],
      "source": [
        "train_sentences = train_data_raw['comment_text'].values\n",
        "cols = ['toxic', 'severe_toxic', 'obscene', 'threat', 'insult', 'identity_hate']\n",
        "train_labels = train_data_raw[cols].values"
      ]
    },
    {
      "cell_type": "code",
      "execution_count": 5,
      "metadata": {
        "id": "W6Z3H3oP_T8A",
        "colab": {
          "base_uri": "https://localhost:8080/"
        },
        "outputId": "50ff5d3d-817d-4962-87bf-ef745c93cd50"
      },
      "outputs": [
        {
          "output_type": "execute_result",
          "data": {
            "text/plain": [
              "((159571,), (159571, 6))"
            ]
          },
          "metadata": {},
          "execution_count": 5
        }
      ],
      "source": [
        "train_sentences.shape, train_labels.shape"
      ]
    },
    {
      "cell_type": "code",
      "source": [
        "test_data_path = \"/content/drive/MyDrive/test.csv\"\n",
        "test_data_raw = pd.read_csv(test_data_path)\n",
        "print(test_data_raw.shape)"
      ],
      "metadata": {
        "colab": {
          "base_uri": "https://localhost:8080/"
        },
        "id": "_-xZeoegYzxH",
        "outputId": "4eb90374-26e3-40a6-ed4e-0bb2bc22ab8c"
      },
      "execution_count": 6,
      "outputs": [
        {
          "output_type": "stream",
          "name": "stdout",
          "text": [
            "(153164, 2)\n"
          ]
        }
      ]
    },
    {
      "cell_type": "code",
      "source": [
        "test_sentences = test_data_raw['comment_text'].values\n",
        "test_id = test_data_raw['id'].values"
      ],
      "metadata": {
        "id": "Uh8IP0isaYZx"
      },
      "execution_count": 7,
      "outputs": []
    },
    {
      "cell_type": "code",
      "source": [
        "test_sentences.shape, test_id.shape"
      ],
      "metadata": {
        "colab": {
          "base_uri": "https://localhost:8080/"
        },
        "id": "6eaoCBXuabJV",
        "outputId": "302eb349-1c6e-46fc-b0ad-254307d32bb2"
      },
      "execution_count": 8,
      "outputs": [
        {
          "output_type": "execute_result",
          "data": {
            "text/plain": [
              "((153164,), (153164,))"
            ]
          },
          "metadata": {},
          "execution_count": 8
        }
      ]
    },
    {
      "cell_type": "code",
      "execution_count": 9,
      "metadata": {
        "id": "LmMRT2fW_T8A"
      },
      "outputs": [],
      "source": [
        "def data_preprocessing(sentences):\n",
        "\n",
        "    tokenized_sentences = []\n",
        "    for sentence in tqdm(sentences, desc = 'Tokenize'):\n",
        "        sentence = sentence.lower()\n",
        "        cleanr = re.compile('<.*?>')\n",
        "        sentence = re.sub(cleanr, ' ', sentence)\n",
        "\n",
        "        sentence = re.sub(r'[?|!|\\'|\"|#]',r'',sentence)\n",
        "        sentence = re.sub(r'[.|,|)|(|\\|/]',r' ',sentence)\n",
        "        sentence = sentence.strip()\n",
        "        sentence = sentence.replace(\"\\n\",\" \")\n",
        "        sentence = re.sub(r'[^A-Za-z ]', '', sentence)\n",
        "        sentence = re.sub('\\s+', ' ', sentence)\n",
        "\n",
        "        tokenized_sentences.append(nltk.word_tokenize(sentence))\n",
        "\n",
        "    stop_words = set(stopwords.words('english'))\n",
        "\n",
        "    removed_stop_words = []\n",
        "    for sentence in tqdm(tokenized_sentences, desc = 'Stop_word_removal'):\n",
        "        curr_sentence = []\n",
        "        for token in sentence:\n",
        "            if not token in stop_words:\n",
        "                curr_sentence.append(token)\n",
        "        \n",
        "        removed_stop_words.append(curr_sentence)\n",
        "\n",
        "    lemmatizer = WordNetLemmatizer()\n",
        "\n",
        "    lemmatized_sentence = []\n",
        "    for sentence in tqdm(removed_stop_words, desc = 'Lemmatization'):\n",
        "        curr_sentence = \"\"\n",
        "        for token in sentence:\n",
        "            curr_sentence += lemmatizer.lemmatize(token) + \" \"\n",
        "\n",
        "        lemmatized_sentence.append(curr_sentence)\n",
        "\n",
        "    return lemmatized_sentence"
      ]
    },
    {
      "cell_type": "code",
      "execution_count": 10,
      "metadata": {
        "id": "T3QGCz3f_T8A",
        "colab": {
          "base_uri": "https://localhost:8080/"
        },
        "outputId": "0d9e7adb-2155-4774-9478-d719139c3f8b"
      },
      "outputs": [
        {
          "output_type": "stream",
          "name": "stderr",
          "text": [
            "Tokenize: 100%|██████████| 159571/159571 [01:24<00:00, 1888.52it/s]\n",
            "Stop_word_removal: 100%|██████████| 159571/159571 [00:02<00:00, 63943.52it/s]\n",
            "Lemmatization: 100%|██████████| 159571/159571 [00:32<00:00, 4938.59it/s]\n"
          ]
        }
      ],
      "source": [
        "train_sentences = data_preprocessing(train_sentences)"
      ]
    },
    {
      "cell_type": "code",
      "source": [
        "test_sentences = data_preprocessing(test_sentences)"
      ],
      "metadata": {
        "colab": {
          "base_uri": "https://localhost:8080/"
        },
        "id": "X1QKecg9a8H4",
        "outputId": "91044dc5-4f90-4fae-ac41-bd9bb04dd3b8"
      },
      "execution_count": 11,
      "outputs": [
        {
          "output_type": "stream",
          "name": "stderr",
          "text": [
            "Tokenize: 100%|██████████| 153164/153164 [00:59<00:00, 2556.91it/s]\n",
            "Stop_word_removal: 100%|██████████| 153164/153164 [00:07<00:00, 19876.56it/s]\n",
            "Lemmatization: 100%|██████████| 153164/153164 [00:30<00:00, 5024.48it/s]\n"
          ]
        }
      ]
    },
    {
      "cell_type": "code",
      "execution_count": 12,
      "metadata": {
        "id": "r2ERHHHK_T8B",
        "colab": {
          "base_uri": "https://localhost:8080/",
          "height": 74
        },
        "outputId": "9a397dcc-455b-4c01-b7b5-df3fe5f19070"
      },
      "outputs": [
        {
          "output_type": "execute_result",
          "data": {
            "text/plain": [
              "TfidfVectorizer(max_features=10000, ngram_range=(1, 3), strip_accents='unicode')"
            ],
            "text/html": [
              "<style>#sk-container-id-1 {color: black;background-color: white;}#sk-container-id-1 pre{padding: 0;}#sk-container-id-1 div.sk-toggleable {background-color: white;}#sk-container-id-1 label.sk-toggleable__label {cursor: pointer;display: block;width: 100%;margin-bottom: 0;padding: 0.3em;box-sizing: border-box;text-align: center;}#sk-container-id-1 label.sk-toggleable__label-arrow:before {content: \"▸\";float: left;margin-right: 0.25em;color: #696969;}#sk-container-id-1 label.sk-toggleable__label-arrow:hover:before {color: black;}#sk-container-id-1 div.sk-estimator:hover label.sk-toggleable__label-arrow:before {color: black;}#sk-container-id-1 div.sk-toggleable__content {max-height: 0;max-width: 0;overflow: hidden;text-align: left;background-color: #f0f8ff;}#sk-container-id-1 div.sk-toggleable__content pre {margin: 0.2em;color: black;border-radius: 0.25em;background-color: #f0f8ff;}#sk-container-id-1 input.sk-toggleable__control:checked~div.sk-toggleable__content {max-height: 200px;max-width: 100%;overflow: auto;}#sk-container-id-1 input.sk-toggleable__control:checked~label.sk-toggleable__label-arrow:before {content: \"▾\";}#sk-container-id-1 div.sk-estimator input.sk-toggleable__control:checked~label.sk-toggleable__label {background-color: #d4ebff;}#sk-container-id-1 div.sk-label input.sk-toggleable__control:checked~label.sk-toggleable__label {background-color: #d4ebff;}#sk-container-id-1 input.sk-hidden--visually {border: 0;clip: rect(1px 1px 1px 1px);clip: rect(1px, 1px, 1px, 1px);height: 1px;margin: -1px;overflow: hidden;padding: 0;position: absolute;width: 1px;}#sk-container-id-1 div.sk-estimator {font-family: monospace;background-color: #f0f8ff;border: 1px dotted black;border-radius: 0.25em;box-sizing: border-box;margin-bottom: 0.5em;}#sk-container-id-1 div.sk-estimator:hover {background-color: #d4ebff;}#sk-container-id-1 div.sk-parallel-item::after {content: \"\";width: 100%;border-bottom: 1px solid gray;flex-grow: 1;}#sk-container-id-1 div.sk-label:hover label.sk-toggleable__label {background-color: #d4ebff;}#sk-container-id-1 div.sk-serial::before {content: \"\";position: absolute;border-left: 1px solid gray;box-sizing: border-box;top: 0;bottom: 0;left: 50%;z-index: 0;}#sk-container-id-1 div.sk-serial {display: flex;flex-direction: column;align-items: center;background-color: white;padding-right: 0.2em;padding-left: 0.2em;position: relative;}#sk-container-id-1 div.sk-item {position: relative;z-index: 1;}#sk-container-id-1 div.sk-parallel {display: flex;align-items: stretch;justify-content: center;background-color: white;position: relative;}#sk-container-id-1 div.sk-item::before, #sk-container-id-1 div.sk-parallel-item::before {content: \"\";position: absolute;border-left: 1px solid gray;box-sizing: border-box;top: 0;bottom: 0;left: 50%;z-index: -1;}#sk-container-id-1 div.sk-parallel-item {display: flex;flex-direction: column;z-index: 1;position: relative;background-color: white;}#sk-container-id-1 div.sk-parallel-item:first-child::after {align-self: flex-end;width: 50%;}#sk-container-id-1 div.sk-parallel-item:last-child::after {align-self: flex-start;width: 50%;}#sk-container-id-1 div.sk-parallel-item:only-child::after {width: 0;}#sk-container-id-1 div.sk-dashed-wrapped {border: 1px dashed gray;margin: 0 0.4em 0.5em 0.4em;box-sizing: border-box;padding-bottom: 0.4em;background-color: white;}#sk-container-id-1 div.sk-label label {font-family: monospace;font-weight: bold;display: inline-block;line-height: 1.2em;}#sk-container-id-1 div.sk-label-container {text-align: center;}#sk-container-id-1 div.sk-container {/* jupyter's `normalize.less` sets `[hidden] { display: none; }` but bootstrap.min.css set `[hidden] { display: none !important; }` so we also need the `!important` here to be able to override the default hidden behavior on the sphinx rendered scikit-learn.org. See: https://github.com/scikit-learn/scikit-learn/issues/21755 */display: inline-block !important;position: relative;}#sk-container-id-1 div.sk-text-repr-fallback {display: none;}</style><div id=\"sk-container-id-1\" class=\"sk-top-container\"><div class=\"sk-text-repr-fallback\"><pre>TfidfVectorizer(max_features=10000, ngram_range=(1, 3), strip_accents=&#x27;unicode&#x27;)</pre><b>In a Jupyter environment, please rerun this cell to show the HTML representation or trust the notebook. <br />On GitHub, the HTML representation is unable to render, please try loading this page with nbviewer.org.</b></div><div class=\"sk-container\" hidden><div class=\"sk-item\"><div class=\"sk-estimator sk-toggleable\"><input class=\"sk-toggleable__control sk-hidden--visually\" id=\"sk-estimator-id-1\" type=\"checkbox\" checked><label for=\"sk-estimator-id-1\" class=\"sk-toggleable__label sk-toggleable__label-arrow\">TfidfVectorizer</label><div class=\"sk-toggleable__content\"><pre>TfidfVectorizer(max_features=10000, ngram_range=(1, 3), strip_accents=&#x27;unicode&#x27;)</pre></div></div></div></div></div>"
            ]
          },
          "metadata": {},
          "execution_count": 12
        }
      ],
      "source": [
        "vectorizer = TfidfVectorizer(strip_accents='unicode', analyzer='word', ngram_range=(1,3), norm='l2', max_features=10000)\n",
        "vectorizer.fit(train_sentences)\n",
        "vectorizer.fit(test_sentences)"
      ]
    },
    {
      "cell_type": "code",
      "source": [
        "x_train = vectorizer.transform(train_sentences)\n",
        "y_train = train_labels\n",
        "\n",
        "x_test = vectorizer.transform(test_sentences)"
      ],
      "metadata": {
        "id": "LcGka_brdcH4"
      },
      "execution_count": 13,
      "outputs": []
    },
    {
      "cell_type": "code",
      "source": [
        "# x_train = pd.DataFrame(x_train)\n",
        "# x_test = pd.DataFrame(x_test)"
      ],
      "metadata": {
        "id": "fFALx9tmrhvP"
      },
      "execution_count": 14,
      "outputs": []
    },
    {
      "cell_type": "code",
      "source": [
        "# pca = PCA(n_components=10000)\n",
        "# x_train = pca.fit_transform(x_train)\n",
        "# x_test = pca.fit_transform(x_test)"
      ],
      "metadata": {
        "id": "bZTtgd-MoRMM"
      },
      "execution_count": 15,
      "outputs": []
    },
    {
      "cell_type": "code",
      "source": [
        "x_train.shape, y_train.shape, x_test.shape"
      ],
      "metadata": {
        "colab": {
          "base_uri": "https://localhost:8080/"
        },
        "id": "dtiqps2FpsYH",
        "outputId": "0a1ee488-80ce-4c78-9dd6-1bb91b6448b2"
      },
      "execution_count": 16,
      "outputs": [
        {
          "output_type": "execute_result",
          "data": {
            "text/plain": [
              "((159571, 10000), (159571, 6), (153164, 10000))"
            ]
          },
          "metadata": {},
          "execution_count": 16
        }
      ]
    },
    {
      "cell_type": "code",
      "source": [
        "def save_csv(file_name, y_pred, test_id) :\n",
        "    header = ['id', 'toxic', 'severe_toxic', 'obscene', 'threat', 'insult', 'identity_hate']\n",
        "\n",
        "    with open(file_name, 'w', newline='') as file:\n",
        "        writer = csv.writer(file)\n",
        "        writer.writerow(header)\n",
        "        for i in tqdm(range(len(y_pred))):\n",
        "            row = [test_id[i], y_pred[i][0], y_pred[i][1], y_pred[i][2], y_pred[i][3], y_pred[i][4], y_pred[i][5]]\n",
        "            writer.writerow(row)"
      ],
      "metadata": {
        "id": "p3qOB2pxmEUk"
      },
      "execution_count": 17,
      "outputs": []
    },
    {
      "cell_type": "code",
      "source": [
        "LogReg_pipeline = Pipeline([\n",
        "                ('clf', OneVsRestClassifier(LogisticRegression(solver='sag'), n_jobs=-1)),\n",
        "            ])\n",
        "\n",
        "y_pred_one_vs_rest = np.empty((x_test.shape[0], 0))\n",
        "\n",
        "for ind in range(6):\n",
        "    LogReg_pipeline.fit(x_train, y_train[:, ind])\n",
        "    y_pred = LogReg_pipeline.predict(x_test)\n",
        "    y_pred_one_vs_rest = np.concatenate((y_pred_one_vs_rest, y_pred[:, np.newaxis]), axis=1)\n",
        "\n",
        "save_csv(\"one_vs_rest.csv\", y_pred_one_vs_rest, test_id)"
      ],
      "metadata": {
        "colab": {
          "base_uri": "https://localhost:8080/"
        },
        "id": "eFEJ1YUOgrK7",
        "outputId": "2b1cf431-5ba8-4e32-ccf0-0ba23f6c57ee"
      },
      "execution_count": 18,
      "outputs": [
        {
          "output_type": "stream",
          "name": "stderr",
          "text": [
            "100%|██████████| 153164/153164 [00:02<00:00, 61136.50it/s]\n"
          ]
        }
      ]
    },
    {
      "cell_type": "code",
      "source": [
        "classifier = BinaryRelevance(GaussianNB())\n",
        "\n",
        "classifier.fit(x_train, y_train)\n",
        "\n",
        "y_pred_br = classifier.predict(x_test)\n",
        "\n",
        "save_csv(\"BinaryRelevance.csv\", y_pred_br, test_id)"
      ],
      "metadata": {
        "id": "vsM6ypTAkFTj"
      },
      "execution_count": null,
      "outputs": []
    },
    {
      "cell_type": "code",
      "source": [
        "classifier = ClassifierChain(LogisticRegression())\n",
        "\n",
        "classifier.fit(x_train, y_train)\n",
        "\n",
        "y_pred_classifier_chain = classifier.predict(x_test)\n",
        "\n",
        "save_csv(\"classifier_chain.csv\", y_pred_classifier_chain, test_id)"
      ],
      "metadata": {
        "id": "RJTPbDAWlGPR"
      },
      "execution_count": null,
      "outputs": []
    },
    {
      "cell_type": "code",
      "source": [
        "classifier = LabelPowerset(LogisticRegression())\n",
        "\n",
        "classifier.fit(x_train, y_train)\n",
        "\n",
        "y_pred_label_powerset = classifier.predict(x_test)\n",
        "\n",
        "save_csv(\"LabelPowerset.csv\", y_pred_label_powerset, test_id)"
      ],
      "metadata": {
        "id": "TagP-cyGlfSF"
      },
      "execution_count": null,
      "outputs": []
    },
    {
      "cell_type": "code",
      "source": [
        "classifier_new = MLkNN(k=10)\n",
        "\n",
        "x_train = lil_matrix(x_train).toarray()\n",
        "y_train = lil_matrix(y_train).toarray()\n",
        "x_test = lil_matrix(x_test).toarray()\n",
        "\n",
        "classifier_new.fit(x_train, y_train)\n",
        "\n",
        "y_pred_adapted_algo = classifier_new.predict(x_test)\n",
        "\n",
        "save_csv(\"Adapted_Algo.csv\", y_pred_adapted_algo, test_id)"
      ],
      "metadata": {
        "id": "WQA0nqoWlrI6"
      },
      "execution_count": null,
      "outputs": []
    }
  ],
  "metadata": {
    "kernelspec": {
      "display_name": "Python 3",
      "language": "python",
      "name": "python3"
    },
    "language_info": {
      "codemirror_mode": {
        "name": "ipython",
        "version": 3
      },
      "file_extension": ".py",
      "mimetype": "text/x-python",
      "name": "python",
      "nbconvert_exporter": "python",
      "pygments_lexer": "ipython3",
      "version": "3.10.11"
    },
    "orig_nbformat": 4,
    "colab": {
      "provenance": []
    },
    "gpuClass": "standard"
  },
  "nbformat": 4,
  "nbformat_minor": 0
}